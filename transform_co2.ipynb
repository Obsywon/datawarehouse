{
 "cells": [
  {
   "cell_type": "code",
   "outputs": [
    {
     "data": {
      "text/plain": "                  Country Name        1960        1961        1962  \\\n0                        Aruba  204.631696  208.837879  226.081890   \n1  Africa Eastern and Southern    0.906060    0.922474    0.930816   \n2                  Afghanistan    0.046057    0.053589    0.073721   \n3   Africa Western and Central    0.090880    0.095283    0.096612   \n4                       Angola    0.100835    0.082204    0.210533   \n\n         1963        1964        1965        1966        1967        1968  \\\n0  214.785217  207.626699  185.213644  172.158729  210.819017  194.917536   \n1    0.940570    0.996033    1.047280    1.033908    1.052204    1.079727   \n2    0.074161    0.086174    0.101285    0.107399    0.123409    0.115142   \n3    0.112376    0.133258    0.184803    0.193676    0.189305    0.143989   \n4    0.202739    0.213562    0.205891    0.268937    0.172096    0.289702   \n\n   ...      2009      2010      2011      2012      2013      2014      2015  \\\n0  ...       NaN       NaN       NaN       NaN       NaN       NaN       NaN   \n1  ...  1.021954  1.048876  1.005338  1.021646  1.031833  1.041145  0.987393   \n2  ...  0.211306  0.297065  0.407074  0.335351  0.263716  0.234037  0.232176   \n3  ...  0.426770  0.472819  0.497023  0.490867  0.504655  0.507671  0.480743   \n4  ...  1.205902  1.221515  1.216317  1.204799  1.261542  1.285365  1.260921   \n\n       2016      2017      2018  \n0       NaN       NaN       NaN  \n1  0.971016  0.959978  0.933541  \n2  0.208857  0.203328  0.200151  \n3  0.472959  0.476438  0.515544  \n4  1.227703  1.034317  0.887380  \n\n[5 rows x 60 columns]",
      "text/html": "<div>\n<style scoped>\n    .dataframe tbody tr th:only-of-type {\n        vertical-align: middle;\n    }\n\n    .dataframe tbody tr th {\n        vertical-align: top;\n    }\n\n    .dataframe thead th {\n        text-align: right;\n    }\n</style>\n<table border=\"1\" class=\"dataframe\">\n  <thead>\n    <tr style=\"text-align: right;\">\n      <th></th>\n      <th>Country Name</th>\n      <th>1960</th>\n      <th>1961</th>\n      <th>1962</th>\n      <th>1963</th>\n      <th>1964</th>\n      <th>1965</th>\n      <th>1966</th>\n      <th>1967</th>\n      <th>1968</th>\n      <th>...</th>\n      <th>2009</th>\n      <th>2010</th>\n      <th>2011</th>\n      <th>2012</th>\n      <th>2013</th>\n      <th>2014</th>\n      <th>2015</th>\n      <th>2016</th>\n      <th>2017</th>\n      <th>2018</th>\n    </tr>\n  </thead>\n  <tbody>\n    <tr>\n      <th>0</th>\n      <td>Aruba</td>\n      <td>204.631696</td>\n      <td>208.837879</td>\n      <td>226.081890</td>\n      <td>214.785217</td>\n      <td>207.626699</td>\n      <td>185.213644</td>\n      <td>172.158729</td>\n      <td>210.819017</td>\n      <td>194.917536</td>\n      <td>...</td>\n      <td>NaN</td>\n      <td>NaN</td>\n      <td>NaN</td>\n      <td>NaN</td>\n      <td>NaN</td>\n      <td>NaN</td>\n      <td>NaN</td>\n      <td>NaN</td>\n      <td>NaN</td>\n      <td>NaN</td>\n    </tr>\n    <tr>\n      <th>1</th>\n      <td>Africa Eastern and Southern</td>\n      <td>0.906060</td>\n      <td>0.922474</td>\n      <td>0.930816</td>\n      <td>0.940570</td>\n      <td>0.996033</td>\n      <td>1.047280</td>\n      <td>1.033908</td>\n      <td>1.052204</td>\n      <td>1.079727</td>\n      <td>...</td>\n      <td>1.021954</td>\n      <td>1.048876</td>\n      <td>1.005338</td>\n      <td>1.021646</td>\n      <td>1.031833</td>\n      <td>1.041145</td>\n      <td>0.987393</td>\n      <td>0.971016</td>\n      <td>0.959978</td>\n      <td>0.933541</td>\n    </tr>\n    <tr>\n      <th>2</th>\n      <td>Afghanistan</td>\n      <td>0.046057</td>\n      <td>0.053589</td>\n      <td>0.073721</td>\n      <td>0.074161</td>\n      <td>0.086174</td>\n      <td>0.101285</td>\n      <td>0.107399</td>\n      <td>0.123409</td>\n      <td>0.115142</td>\n      <td>...</td>\n      <td>0.211306</td>\n      <td>0.297065</td>\n      <td>0.407074</td>\n      <td>0.335351</td>\n      <td>0.263716</td>\n      <td>0.234037</td>\n      <td>0.232176</td>\n      <td>0.208857</td>\n      <td>0.203328</td>\n      <td>0.200151</td>\n    </tr>\n    <tr>\n      <th>3</th>\n      <td>Africa Western and Central</td>\n      <td>0.090880</td>\n      <td>0.095283</td>\n      <td>0.096612</td>\n      <td>0.112376</td>\n      <td>0.133258</td>\n      <td>0.184803</td>\n      <td>0.193676</td>\n      <td>0.189305</td>\n      <td>0.143989</td>\n      <td>...</td>\n      <td>0.426770</td>\n      <td>0.472819</td>\n      <td>0.497023</td>\n      <td>0.490867</td>\n      <td>0.504655</td>\n      <td>0.507671</td>\n      <td>0.480743</td>\n      <td>0.472959</td>\n      <td>0.476438</td>\n      <td>0.515544</td>\n    </tr>\n    <tr>\n      <th>4</th>\n      <td>Angola</td>\n      <td>0.100835</td>\n      <td>0.082204</td>\n      <td>0.210533</td>\n      <td>0.202739</td>\n      <td>0.213562</td>\n      <td>0.205891</td>\n      <td>0.268937</td>\n      <td>0.172096</td>\n      <td>0.289702</td>\n      <td>...</td>\n      <td>1.205902</td>\n      <td>1.221515</td>\n      <td>1.216317</td>\n      <td>1.204799</td>\n      <td>1.261542</td>\n      <td>1.285365</td>\n      <td>1.260921</td>\n      <td>1.227703</td>\n      <td>1.034317</td>\n      <td>0.887380</td>\n    </tr>\n  </tbody>\n</table>\n<p>5 rows × 60 columns</p>\n</div>"
     },
     "execution_count": 229,
     "metadata": {},
     "output_type": "execute_result"
    }
   ],
   "source": [
    "import pandas as pd\n",
    "from matplotlib import pyplot as plt\n",
    "\n",
    "data = pd.DataFrame(columns = ['country', 'year', 'pollution_co2'])\n",
    "df = pd.read_csv('./assets/CO2_Emissions_1960-2018.csv')\n",
    "\n",
    "# Pays gardés\n",
    "kept_countries = ['France', 'Italy', 'Spain', 'Germany', 'Portugal', 'United Kingdom']\n",
    "limit_to_kept_countries = False\n",
    "\n",
    "df.head(5)"
   ],
   "metadata": {
    "collapsed": false,
    "ExecuteTime": {
     "end_time": "2024-03-03T22:18:52.514531Z",
     "start_time": "2024-03-03T22:18:52.501402Z"
    }
   },
   "id": "7c4ea059d9bacda4",
   "execution_count": 229
  },
  {
   "cell_type": "code",
   "outputs": [
    {
     "name": "stdout",
     "output_type": "stream",
     "text": [
      "['Aruba', 'Africa Eastern and Southern', 'Afghanistan', 'Africa Western and Central', 'Angola', 'Albania', 'Andorra', 'Arab World', 'United Arab Emirates', 'Argentina', 'Armenia', 'American Samoa', 'Antigua and Barbuda', 'Australia', 'Austria', 'Azerbaijan', 'Burundi', 'Belgium', 'Benin', 'Burkina Faso', 'Bangladesh', 'Bulgaria', 'Bahrain', 'Bahamas, The', 'Bosnia and Herzegovina', 'Belarus', 'Belize', 'Bermuda', 'Bolivia', 'Brazil', 'Barbados', 'Brunei Darussalam', 'Bhutan', 'Botswana', 'Central African Republic', 'Canada', 'Central Europe and the Baltics', 'Switzerland', 'Channel Islands', 'Chile', 'China', \"Cote d'Ivoire\", 'Cameroon', 'Congo, Dem. Rep.', 'Congo, Rep.', 'Colombia', 'Comoros', 'Cabo Verde', 'Costa Rica', 'Caribbean small states', 'Cuba', 'Curacao', 'Cayman Islands', 'Cyprus', 'Czech Republic', 'Germany', 'Djibouti', 'Dominica', 'Denmark', 'Dominican Republic', 'Algeria', 'East Asia & Pacific (excluding high income)', 'Early-demographic dividend', 'East Asia & Pacific', 'Europe & Central Asia (excluding high income)', 'Europe & Central Asia', 'Ecuador', 'Egypt, Arab Rep.', 'Euro area', 'Eritrea', 'Spain', 'Estonia', 'Ethiopia', 'European Union', 'Fragile and conflict affected situations', 'Finland', 'Fiji', 'France', 'Faroe Islands', 'Micronesia, Fed. Sts.', 'Gabon', 'United Kingdom', 'Georgia', 'Ghana', 'Gibraltar', 'Guinea', 'Gambia, The', 'Guinea-Bissau', 'Equatorial Guinea', 'Greece', 'Grenada', 'Greenland', 'Guatemala', 'Guam', 'Guyana', 'High income', 'Hong Kong SAR, China', 'Honduras', 'Heavily indebted poor countries (HIPC)', 'Croatia', 'Haiti', 'Hungary', 'IBRD only', 'IDA & IBRD total', 'IDA total', 'IDA blend', 'Indonesia', 'IDA only', 'Isle of Man', 'India', 'Not classified', 'Ireland', 'Iran, Islamic Rep.', 'Iraq', 'Iceland', 'Israel', 'Italy', 'Jamaica', 'Jordan', 'Japan', 'Kazakhstan', 'Kenya', 'Kyrgyz Republic', 'Cambodia', 'Kiribati', 'St. Kitts and Nevis', 'Korea, Rep.', 'Kuwait', 'Latin America & Caribbean (excluding high income)', 'Lao PDR', 'Lebanon', 'Liberia', 'Libya', 'St. Lucia', 'Latin America & Caribbean', 'Least developed countries: UN classification', 'Low income', 'Liechtenstein', 'Sri Lanka', 'Lower middle income', 'Low & middle income', 'Lesotho', 'Late-demographic dividend', 'Lithuania', 'Luxembourg', 'Latvia', 'Macao SAR, China', 'St. Martin (French part)', 'Morocco', 'Monaco', 'Moldova', 'Madagascar', 'Maldives', 'Middle East & North Africa', 'Mexico', 'Marshall Islands', 'Middle income', 'North Macedonia', 'Mali', 'Malta', 'Myanmar', 'Middle East & North Africa (excluding high income)', 'Montenegro', 'Mongolia', 'Northern Mariana Islands', 'Mozambique', 'Mauritania', 'Mauritius', 'Malawi', 'Malaysia', 'North America', 'Namibia', 'New Caledonia', 'Niger', 'Nigeria', 'Nicaragua', 'Netherlands', 'Norway', 'Nepal', 'Nauru', 'New Zealand', 'OECD members', 'Oman', 'Other small states', 'Pakistan', 'Panama', 'Peru', 'Philippines', 'Palau', 'Papua New Guinea', 'Poland', 'Pre-demographic dividend', 'Puerto Rico', \"Korea, Dem. People's Rep.\", 'Portugal', 'Paraguay', 'West Bank and Gaza', 'Pacific island small states', 'Post-demographic dividend', 'French Polynesia', 'Qatar', 'Romania', 'Russian Federation', 'Rwanda', 'South Asia', 'Saudi Arabia', 'Sudan', 'Senegal', 'Singapore', 'Solomon Islands', 'Sierra Leone', 'El Salvador', 'San Marino', 'Somalia', 'Serbia', 'Sub-Saharan Africa (excluding high income)', 'South Sudan', 'Sub-Saharan Africa', 'Small states', 'Sao Tome and Principe', 'Suriname', 'Slovak Republic', 'Slovenia', 'Sweden', 'Eswatini', 'Sint Maarten (Dutch part)', 'Seychelles', 'Syrian Arab Republic', 'Turks and Caicos Islands', 'Chad', 'East Asia & Pacific (IDA & IBRD countries)', 'Europe & Central Asia (IDA & IBRD countries)', 'Togo', 'Thailand', 'Tajikistan', 'Turkmenistan', 'Latin America & the Caribbean (IDA & IBRD countries)', 'Timor-Leste', 'Middle East & North Africa (IDA & IBRD countries)', 'Tonga', 'South Asia (IDA & IBRD)', 'Sub-Saharan Africa (IDA & IBRD countries)', 'Trinidad and Tobago', 'Tunisia', 'Turkey', 'Tuvalu', 'Tanzania', 'Uganda', 'Ukraine', 'Upper middle income', 'Uruguay', 'United States', 'Uzbekistan', 'St. Vincent and the Grenadines', 'Venezuela, RB', 'British Virgin Islands', 'Virgin Islands (U.S.)', 'Vietnam', 'Vanuatu', 'World', 'Samoa', 'Kosovo', 'Yemen, Rep.', 'South Africa', 'Zambia', 'Zimbabwe']\n"
     ]
    }
   ],
   "source": [
    "# Récupération de la liste des pays\n",
    "countries = df['Country Name'].unique().tolist()\n",
    "print(countries)\n",
    "df.set_index('Country Name', inplace=True)"
   ],
   "metadata": {
    "collapsed": false,
    "ExecuteTime": {
     "end_time": "2024-03-03T22:18:52.558842Z",
     "start_time": "2024-03-03T22:18:52.554531Z"
    }
   },
   "id": "958e6dfec7895a1e",
   "execution_count": 230
  },
  {
   "cell_type": "markdown",
   "source": [],
   "metadata": {
    "collapsed": false
   },
   "id": "9c1b64cfae64748f"
  },
  {
   "cell_type": "code",
   "outputs": [
    {
     "name": "stdout",
     "output_type": "stream",
     "text": [
      "['1961', '1962', '1963', '1964', '1965', '1966', '1967', '1968', '1969', '1970', '1971', '1972', '1973', '1974', '1975', '1976', '1977', '1978', '1979', '1980', '1981', '1982', '1983', '1984', '1985', '1986', '1987', '1988', '1989', '1990', '1991', '1992', '1993', '1994', '1995', '1996', '1997', '1998', '1999', '2000', '2001', '2002', '2003', '2004', '2005', '2006', '2007', '2008', '2009', '2010', '2011', '2012', '2013', '2014', '2015', '2016', '2017', '2018']\n"
     ]
    }
   ],
   "source": [
    "# Récupération de la liste des années\n",
    "columns = df.columns\n",
    "years = columns[1:].tolist()\n",
    "print(years)"
   ],
   "metadata": {
    "collapsed": false,
    "ExecuteTime": {
     "end_time": "2024-03-03T22:18:52.632192Z",
     "start_time": "2024-03-03T22:18:52.629358Z"
    }
   },
   "id": "16dafa8f6432cf5c",
   "execution_count": 231
  },
  {
   "cell_type": "code",
   "outputs": [
    {
     "data": {
      "text/plain": "  country  year  pollution_co2\n0   Aruba  1961     208.837879\n1   Aruba  1962     226.081890\n2   Aruba  1963     214.785217\n3   Aruba  1964     207.626699\n4   Aruba  1965     185.213644",
      "text/html": "<div>\n<style scoped>\n    .dataframe tbody tr th:only-of-type {\n        vertical-align: middle;\n    }\n\n    .dataframe tbody tr th {\n        vertical-align: top;\n    }\n\n    .dataframe thead th {\n        text-align: right;\n    }\n</style>\n<table border=\"1\" class=\"dataframe\">\n  <thead>\n    <tr style=\"text-align: right;\">\n      <th></th>\n      <th>country</th>\n      <th>year</th>\n      <th>pollution_co2</th>\n    </tr>\n  </thead>\n  <tbody>\n    <tr>\n      <th>0</th>\n      <td>Aruba</td>\n      <td>1961</td>\n      <td>208.837879</td>\n    </tr>\n    <tr>\n      <th>1</th>\n      <td>Aruba</td>\n      <td>1962</td>\n      <td>226.081890</td>\n    </tr>\n    <tr>\n      <th>2</th>\n      <td>Aruba</td>\n      <td>1963</td>\n      <td>214.785217</td>\n    </tr>\n    <tr>\n      <th>3</th>\n      <td>Aruba</td>\n      <td>1964</td>\n      <td>207.626699</td>\n    </tr>\n    <tr>\n      <th>4</th>\n      <td>Aruba</td>\n      <td>1965</td>\n      <td>185.213644</td>\n    </tr>\n  </tbody>\n</table>\n</div>"
     },
     "execution_count": 232,
     "metadata": {},
     "output_type": "execute_result"
    }
   ],
   "source": [
    "# Création nouveau dataframe organisé par pays puis années\n",
    "data_list = []\n",
    "\n",
    "for country in countries:\n",
    "    #values = df[df['Country Name'] == country]\n",
    "    for year in years:\n",
    "        value = df.loc[country, year]\n",
    "        #print(value)\n",
    "        data_list.append({'country': country, 'year': year, 'pollution_co2': value})\n",
    "data = pd.DataFrame(data_list, columns=['country', 'year', 'pollution_co2'])\n",
    "data.head(5)"
   ],
   "metadata": {
    "collapsed": false,
    "ExecuteTime": {
     "end_time": "2024-03-03T22:18:52.722752Z",
     "start_time": "2024-03-03T22:18:52.659195Z"
    }
   },
   "id": "51c50d982ef15ef",
   "execution_count": 232
  },
  {
   "cell_type": "code",
   "outputs": [
    {
     "data": {
      "text/plain": "country           object\nyear              object\npollution_co2    float64\ndtype: object"
     },
     "execution_count": 233,
     "metadata": {},
     "output_type": "execute_result"
    }
   ],
   "source": [
    "data.dtypes"
   ],
   "metadata": {
    "collapsed": false,
    "ExecuteTime": {
     "end_time": "2024-03-03T22:18:52.726265Z",
     "start_time": "2024-03-03T22:18:52.722752Z"
    }
   },
   "id": "e139d43ddd14f1fd",
   "execution_count": 233
  },
  {
   "cell_type": "code",
   "outputs": [
    {
     "data": {
      "text/plain": "(15428, 3)"
     },
     "execution_count": 234,
     "metadata": {},
     "output_type": "execute_result"
    }
   ],
   "source": [
    "data.shape"
   ],
   "metadata": {
    "collapsed": false,
    "ExecuteTime": {
     "end_time": "2024-03-03T22:18:52.741624Z",
     "start_time": "2024-03-03T22:18:52.738269Z"
    }
   },
   "id": "2b5b70fd948a1f3",
   "execution_count": 234
  },
  {
   "cell_type": "code",
   "outputs": [
    {
     "name": "stdout",
     "output_type": "stream",
     "text": [
      "Nombre de valeurs invalides ou nulls: 2289\n"
     ]
    },
    {
     "data": {
      "text/plain": "(13139, 3)"
     },
     "execution_count": 235,
     "metadata": {},
     "output_type": "execute_result"
    }
   ],
   "source": [
    "# Suppression des valeurs inutiles si nécessaires\n",
    "nb_na = data['pollution_co2'].isna().sum()\n",
    "print(\"Nombre de valeurs invalides ou nulls: \" + str(nb_na))\n",
    "if nb_na > 0:\n",
    "    data.dropna(subset=['pollution_co2'], inplace=True)\n",
    "data.shape"
   ],
   "metadata": {
    "collapsed": false,
    "ExecuteTime": {
     "end_time": "2024-03-03T22:18:52.785351Z",
     "start_time": "2024-03-03T22:18:52.779630Z"
    }
   },
   "id": "86b0a5de0446ff4b",
   "execution_count": 235
  },
  {
   "cell_type": "code",
   "outputs": [],
   "source": [
    "data.to_csv('./output/CO2_Emissions_sortedByYearAndCountry.csv', index=False)"
   ],
   "metadata": {
    "collapsed": false,
    "ExecuteTime": {
     "end_time": "2024-03-03T22:18:52.828503Z",
     "start_time": "2024-03-03T22:18:52.812424Z"
    }
   },
   "id": "3eb51ea8b229437d",
   "execution_count": 236
  },
  {
   "cell_type": "code",
   "outputs": [],
   "source": [
    "# Retirer les valeurs des pays différents de cette liste et exporter le fichier\n",
    "if limit_to_kept_countries:\n",
    "    data = data[data.country.isin(kept_countries)]\n",
    "data.to_csv('./output/CO2_Emissions_sortedByYearAndCountry.csv', index=False)\n"
   ],
   "metadata": {
    "collapsed": false,
    "ExecuteTime": {
     "end_time": "2024-03-03T22:18:52.894817Z",
     "start_time": "2024-03-03T22:18:52.878511Z"
    }
   },
   "id": "3a82d312e31856d4",
   "execution_count": 237
  },
  {
   "cell_type": "code",
   "outputs": [],
   "source": [
    "# Charger le fichier World Energy Consumption\n",
    "wec = pd.read_csv('./assets/World Energy Consumption.csv')\n",
    "if limit_to_kept_countries:\n",
    "    wec = wec[wec.country.isin(kept_countries)]\n",
    "wec.to_csv('./output/World Energy Consumption (limited).csv', index=False)"
   ],
   "metadata": {
    "collapsed": false,
    "ExecuteTime": {
     "end_time": "2024-03-03T22:18:53.649162Z",
     "start_time": "2024-03-03T22:18:52.899819Z"
    }
   },
   "id": "c1e55230a741056d",
   "execution_count": 238
  },
  {
   "cell_type": "code",
   "outputs": [],
   "source": [
    "# Changement de types\n",
    "data['year'] = data['year'].astype(int)\n",
    "wec['year'] = wec['year'].astype(int)\n",
    "\n",
    "wec['country'] = wec['country'].astype(str)\n",
    "data['country'] = data['country'].astype(str)\n",
    "\n",
    "# Fusion des valeurs de Co2\n",
    "wec = pd.merge(wec, data, on=[\"country\", \"year\"])\n",
    "            \n",
    "# Supprimer la colonne 'population'\n",
    "# wec = wec.drop('population', axis=1, errors='ignore')\n",
    "# wec = wec.drop('iso_code', axis=1, errors='ignore')\n",
    "# wec = wec.drop('gdp', axis=1, errors='ignore')\n",
    "\n",
    "wec = wec[wec['year'] >= 1960]\n",
    "\n",
    "# Valeurs enregistrés\n",
    "wec.to_csv('./output/World Energy Consumption (limited).csv', index=False)"
   ],
   "metadata": {
    "collapsed": false,
    "ExecuteTime": {
     "end_time": "2024-03-03T22:18:53.918335Z",
     "start_time": "2024-03-03T22:18:53.650166Z"
    }
   },
   "id": "e9aa89e010168301",
   "execution_count": 239
  },
  {
   "cell_type": "code",
   "outputs": [],
   "source": [
    "#Dataset Taxes sur les énergies"
   ],
   "metadata": {
    "collapsed": false,
    "ExecuteTime": {
     "end_time": "2024-03-03T22:18:53.921300Z",
     "start_time": "2024-03-03T22:18:53.918335Z"
    }
   },
   "id": "c7989c017d83fb05",
   "execution_count": 240
  },
  {
   "cell_type": "code",
   "outputs": [
    {
     "data": {
      "text/plain": "   ObjectId  Country ISO2 ISO3  \\\n0         1  Albania   AL  ALB   \n1         2  Albania   AL  ALB   \n2         3  Albania   AL  ALB   \n3         4  Albania   AL  ALB   \n4         5  Albania   AL  ALB   \n\n                                        Indicator  \\\n0                             Environmental Taxes   \n1                             Environmental Taxes   \n2  Taxes on Energy (including fuel for transport)   \n3  Taxes on Energy (including fuel for transport)   \n4                              Taxes on Pollution   \n\n                                              Source CTS Code  \\\n0  Organisation for Economic Co-operation and Dev...    ECGTE   \n1  Organisation for Economic Co-operation and Dev...    ECGTE   \n2  Organisation for Economic Co-operation and Dev...   ECGTEN   \n3  Organisation for Economic Co-operation and Dev...   ECGTEN   \n4  Organisation for Economic Co-operation and Dev...   ECGTEP   \n\n                                         CTS Name  \\\n0                             Environmental Taxes   \n1                             Environmental Taxes   \n2  Taxes on Energy (Including Fuel for Transport)   \n3  Taxes on Energy (Including Fuel for Transport)   \n4                              Taxes on Pollution   \n\n                                 CTS Full Descriptor               Unit  ...  \\\n0  Environment, Climate Change, Government Policy...  Domestic Currency  ...   \n1  Environment, Climate Change, Government Policy...     Percent of GDP  ...   \n2  Environment, Climate Change, Government Policy...  Domestic Currency  ...   \n3  Environment, Climate Change, Government Policy...     Percent of GDP  ...   \n4  Environment, Climate Change, Government Policy...  Domestic Currency  ...   \n\n   2012  2013  2014          2015          2016          2017          2018  \\\n0   NaN   NaN   NaN  4.399314e+10  4.781379e+10  4.754858e+10  5.114559e+10   \n1   NaN   NaN   NaN  3.067206e+00  3.247163e+00  3.066373e+00  3.124865e+00   \n2   NaN   NaN   NaN  3.774111e+10  4.094562e+10  4.040004e+10  4.352182e+10   \n3   NaN   NaN   NaN  2.631314e+00  2.780726e+00  2.605369e+00  2.659072e+00   \n4   NaN   NaN   NaN  1.782069e+09  1.879970e+09  1.941324e+09  2.226251e+09   \n\n           2019  2020  2021  \n0  5.341565e+10   NaN   NaN  \n1  3.157133e+00   NaN   NaN  \n2  4.516530e+10   NaN   NaN  \n3  2.669496e+00   NaN   NaN  \n4  2.625011e+09   NaN   NaN  \n\n[5 rows x 37 columns]",
      "text/html": "<div>\n<style scoped>\n    .dataframe tbody tr th:only-of-type {\n        vertical-align: middle;\n    }\n\n    .dataframe tbody tr th {\n        vertical-align: top;\n    }\n\n    .dataframe thead th {\n        text-align: right;\n    }\n</style>\n<table border=\"1\" class=\"dataframe\">\n  <thead>\n    <tr style=\"text-align: right;\">\n      <th></th>\n      <th>ObjectId</th>\n      <th>Country</th>\n      <th>ISO2</th>\n      <th>ISO3</th>\n      <th>Indicator</th>\n      <th>Source</th>\n      <th>CTS Code</th>\n      <th>CTS Name</th>\n      <th>CTS Full Descriptor</th>\n      <th>Unit</th>\n      <th>...</th>\n      <th>2012</th>\n      <th>2013</th>\n      <th>2014</th>\n      <th>2015</th>\n      <th>2016</th>\n      <th>2017</th>\n      <th>2018</th>\n      <th>2019</th>\n      <th>2020</th>\n      <th>2021</th>\n    </tr>\n  </thead>\n  <tbody>\n    <tr>\n      <th>0</th>\n      <td>1</td>\n      <td>Albania</td>\n      <td>AL</td>\n      <td>ALB</td>\n      <td>Environmental Taxes</td>\n      <td>Organisation for Economic Co-operation and Dev...</td>\n      <td>ECGTE</td>\n      <td>Environmental Taxes</td>\n      <td>Environment, Climate Change, Government Policy...</td>\n      <td>Domestic Currency</td>\n      <td>...</td>\n      <td>NaN</td>\n      <td>NaN</td>\n      <td>NaN</td>\n      <td>4.399314e+10</td>\n      <td>4.781379e+10</td>\n      <td>4.754858e+10</td>\n      <td>5.114559e+10</td>\n      <td>5.341565e+10</td>\n      <td>NaN</td>\n      <td>NaN</td>\n    </tr>\n    <tr>\n      <th>1</th>\n      <td>2</td>\n      <td>Albania</td>\n      <td>AL</td>\n      <td>ALB</td>\n      <td>Environmental Taxes</td>\n      <td>Organisation for Economic Co-operation and Dev...</td>\n      <td>ECGTE</td>\n      <td>Environmental Taxes</td>\n      <td>Environment, Climate Change, Government Policy...</td>\n      <td>Percent of GDP</td>\n      <td>...</td>\n      <td>NaN</td>\n      <td>NaN</td>\n      <td>NaN</td>\n      <td>3.067206e+00</td>\n      <td>3.247163e+00</td>\n      <td>3.066373e+00</td>\n      <td>3.124865e+00</td>\n      <td>3.157133e+00</td>\n      <td>NaN</td>\n      <td>NaN</td>\n    </tr>\n    <tr>\n      <th>2</th>\n      <td>3</td>\n      <td>Albania</td>\n      <td>AL</td>\n      <td>ALB</td>\n      <td>Taxes on Energy (including fuel for transport)</td>\n      <td>Organisation for Economic Co-operation and Dev...</td>\n      <td>ECGTEN</td>\n      <td>Taxes on Energy (Including Fuel for Transport)</td>\n      <td>Environment, Climate Change, Government Policy...</td>\n      <td>Domestic Currency</td>\n      <td>...</td>\n      <td>NaN</td>\n      <td>NaN</td>\n      <td>NaN</td>\n      <td>3.774111e+10</td>\n      <td>4.094562e+10</td>\n      <td>4.040004e+10</td>\n      <td>4.352182e+10</td>\n      <td>4.516530e+10</td>\n      <td>NaN</td>\n      <td>NaN</td>\n    </tr>\n    <tr>\n      <th>3</th>\n      <td>4</td>\n      <td>Albania</td>\n      <td>AL</td>\n      <td>ALB</td>\n      <td>Taxes on Energy (including fuel for transport)</td>\n      <td>Organisation for Economic Co-operation and Dev...</td>\n      <td>ECGTEN</td>\n      <td>Taxes on Energy (Including Fuel for Transport)</td>\n      <td>Environment, Climate Change, Government Policy...</td>\n      <td>Percent of GDP</td>\n      <td>...</td>\n      <td>NaN</td>\n      <td>NaN</td>\n      <td>NaN</td>\n      <td>2.631314e+00</td>\n      <td>2.780726e+00</td>\n      <td>2.605369e+00</td>\n      <td>2.659072e+00</td>\n      <td>2.669496e+00</td>\n      <td>NaN</td>\n      <td>NaN</td>\n    </tr>\n    <tr>\n      <th>4</th>\n      <td>5</td>\n      <td>Albania</td>\n      <td>AL</td>\n      <td>ALB</td>\n      <td>Taxes on Pollution</td>\n      <td>Organisation for Economic Co-operation and Dev...</td>\n      <td>ECGTEP</td>\n      <td>Taxes on Pollution</td>\n      <td>Environment, Climate Change, Government Policy...</td>\n      <td>Domestic Currency</td>\n      <td>...</td>\n      <td>NaN</td>\n      <td>NaN</td>\n      <td>NaN</td>\n      <td>1.782069e+09</td>\n      <td>1.879970e+09</td>\n      <td>1.941324e+09</td>\n      <td>2.226251e+09</td>\n      <td>2.625011e+09</td>\n      <td>NaN</td>\n      <td>NaN</td>\n    </tr>\n  </tbody>\n</table>\n<p>5 rows × 37 columns</p>\n</div>"
     },
     "execution_count": 241,
     "metadata": {},
     "output_type": "execute_result"
    }
   ],
   "source": [
    "# Charger le dataset des taxes sur les énergies\n",
    "tax = pd.read_csv('./assets/Tax_Energy.csv')\n",
    "tax.head(5)"
   ],
   "metadata": {
    "collapsed": false,
    "ExecuteTime": {
     "end_time": "2024-03-03T22:18:53.938447Z",
     "start_time": "2024-03-03T22:18:53.922305Z"
    }
   },
   "id": "4f04a70dfc46c7d7",
   "execution_count": 241
  },
  {
   "cell_type": "code",
   "outputs": [
    {
     "name": "stdout",
     "output_type": "stream",
     "text": [
      "    ObjectId                   Country ISO2 ISO3  \\\n",
      "10        11  Andorra, Principality of   AD  AND   \n",
      "11        12  Andorra, Principality of   AD  AND   \n",
      "12        13  Andorra, Principality of   AD  AND   \n",
      "13        14  Andorra, Principality of   AD  AND   \n",
      "14        15  Andorra, Principality of   AD  AND   \n",
      "\n",
      "                                            Indicator  \\\n",
      "10                                Environmental Taxes   \n",
      "11     Taxes on Energy (including fuel for transport)   \n",
      "12                                 Taxes on Pollution   \n",
      "13                                 Taxes on Resources   \n",
      "14  Taxes on Transport (excluding fuel for transport)   \n",
      "\n",
      "                                               Source CTS Code  \\\n",
      "10  Organisation for Economic Co-operation and Dev...    ECGTE   \n",
      "11  Organisation for Economic Co-operation and Dev...   ECGTEN   \n",
      "12  Organisation for Economic Co-operation and Dev...   ECGTEP   \n",
      "13  Organisation for Economic Co-operation and Dev...   ECGTER   \n",
      "14  Organisation for Economic Co-operation and Dev...   ECGTET   \n",
      "\n",
      "                                             CTS Name  \\\n",
      "10                                Environmental Taxes   \n",
      "11     Taxes on Energy (Including Fuel for Transport)   \n",
      "12                                 Taxes on Pollution   \n",
      "13                                 Taxes on Resources   \n",
      "14  Taxes on Transport (Excluding Fuel for Transport)   \n",
      "\n",
      "                                  CTS Full Descriptor               Unit  ...  \\\n",
      "10  Environment, Climate Change, Government Policy...  Domestic Currency  ...   \n",
      "11  Environment, Climate Change, Government Policy...  Domestic Currency  ...   \n",
      "12  Environment, Climate Change, Government Policy...  Domestic Currency  ...   \n",
      "13  Environment, Climate Change, Government Policy...  Domestic Currency  ...   \n",
      "14  Environment, Climate Change, Government Policy...  Domestic Currency  ...   \n",
      "\n",
      "    2012  2013  2014          2015          2016          2017          2018  \\\n",
      "10   NaN   NaN   NaN  4.600367e+12  4.616889e+12  5.043869e+12  5.283535e+12   \n",
      "11   NaN   NaN   NaN  0.000000e+00  0.000000e+00  0.000000e+00  0.000000e+00   \n",
      "12   NaN   NaN   NaN  0.000000e+00  0.000000e+00  0.000000e+00  0.000000e+00   \n",
      "13   NaN   NaN   NaN  0.000000e+00  0.000000e+00  0.000000e+00  0.000000e+00   \n",
      "14   NaN   NaN   NaN  4.600367e+12  4.616889e+12  5.043869e+12  5.283535e+12   \n",
      "\n",
      "            2019          2020  2021  \n",
      "10  5.675649e+12  6.462285e+12   NaN  \n",
      "11  0.000000e+00  0.000000e+00   NaN  \n",
      "12  0.000000e+00  0.000000e+00   NaN  \n",
      "13  0.000000e+00  0.000000e+00   NaN  \n",
      "14  5.675649e+12  6.462285e+12   NaN  \n",
      "\n",
      "[5 rows x 37 columns]\n"
     ]
    }
   ],
   "source": [
    "tax_country = tax[tax[\"Country\"] == \"Andorra, Principality of\"]\n",
    "print(tax_country)"
   ],
   "metadata": {
    "collapsed": false,
    "ExecuteTime": {
     "end_time": "2024-03-03T22:18:53.944825Z",
     "start_time": "2024-03-03T22:18:53.938447Z"
    }
   },
   "id": "f9f8d1ba56366c4d",
   "execution_count": 242
  },
  {
   "cell_type": "code",
   "outputs": [
    {
     "name": "stdout",
     "output_type": "stream",
     "text": [
      "Nombre de NaN dans les colonnes : ObjectId                 0\n",
      "Country                  0\n",
      "ISO2                    10\n",
      "ISO3                     8\n",
      "Indicator                0\n",
      "Source                   0\n",
      "CTS Code                 0\n",
      "CTS Name                 0\n",
      "CTS Full Descriptor      0\n",
      "Unit                     0\n",
      "1995                   495\n",
      "1996                   491\n",
      "1997                   491\n",
      "1998                   483\n",
      "1999                   481\n",
      "2000                   431\n",
      "2001                   415\n",
      "2002                   411\n",
      "2003                   403\n",
      "2004                   403\n",
      "2005                   369\n",
      "2006                   359\n",
      "2007                   351\n",
      "2008                   321\n",
      "2009                   321\n",
      "2010                   295\n",
      "2011                   303\n",
      "2012                   307\n",
      "2013                   309\n",
      "2014                   305\n",
      "2015                    44\n",
      "2016                    46\n",
      "2017                    50\n",
      "2018                    68\n",
      "2019                   100\n",
      "2020                   192\n",
      "2021                   579\n",
      "dtype: int64\n",
      "Nombre de NaN dans le dataset : 8841\n"
     ]
    }
   ],
   "source": [
    "# Compter le nombre de valeurs \"NaN\" dans les colonnes\n",
    "nb_nan_colTax = tax.isna().sum()\n",
    "\n",
    "print(\"Nombre de NaN dans les colonnes :\", nb_nan_colTax)\n",
    "\n",
    "# Compter le nombre de valeurs \"NaN\" dans le dataset\n",
    "nb_nan_dataset = tax.isna().sum().sum()\n",
    "\n",
    "print(\"Nombre de NaN dans le dataset :\", nb_nan_dataset)"
   ],
   "metadata": {
    "collapsed": false,
    "ExecuteTime": {
     "end_time": "2024-03-03T22:18:53.949253Z",
     "start_time": "2024-03-03T22:18:53.944825Z"
    }
   },
   "id": "e2037e2d2e093dab",
   "execution_count": 243
  },
  {
   "cell_type": "code",
   "outputs": [
    {
     "data": {
      "text/plain": "   ObjectId  Country ISO2 ISO3  \\\n0         1  Albania   AL  ALB   \n1         2  Albania   AL  ALB   \n2         3  Albania   AL  ALB   \n3         4  Albania   AL  ALB   \n4         5  Albania   AL  ALB   \n\n                                        Indicator  \\\n0                             Environmental Taxes   \n1                             Environmental Taxes   \n2  Taxes on Energy (including fuel for transport)   \n3  Taxes on Energy (including fuel for transport)   \n4                              Taxes on Pollution   \n\n                                              Source CTS Code  \\\n0  Organisation for Economic Co-operation and Dev...    ECGTE   \n1  Organisation for Economic Co-operation and Dev...    ECGTE   \n2  Organisation for Economic Co-operation and Dev...   ECGTEN   \n3  Organisation for Economic Co-operation and Dev...   ECGTEN   \n4  Organisation for Economic Co-operation and Dev...   ECGTEP   \n\n                                         CTS Name  \\\n0                             Environmental Taxes   \n1                             Environmental Taxes   \n2  Taxes on Energy (Including Fuel for Transport)   \n3  Taxes on Energy (Including Fuel for Transport)   \n4                              Taxes on Pollution   \n\n                                 CTS Full Descriptor               Unit Année  \\\n0  Environment, Climate Change, Government Policy...  Domestic Currency  1995   \n1  Environment, Climate Change, Government Policy...     Percent of GDP  1995   \n2  Environment, Climate Change, Government Policy...  Domestic Currency  1995   \n3  Environment, Climate Change, Government Policy...     Percent of GDP  1995   \n4  Environment, Climate Change, Government Policy...  Domestic Currency  1995   \n\n   Taxe  \n0   NaN  \n1   NaN  \n2   NaN  \n3   NaN  \n4   NaN  ",
      "text/html": "<div>\n<style scoped>\n    .dataframe tbody tr th:only-of-type {\n        vertical-align: middle;\n    }\n\n    .dataframe tbody tr th {\n        vertical-align: top;\n    }\n\n    .dataframe thead th {\n        text-align: right;\n    }\n</style>\n<table border=\"1\" class=\"dataframe\">\n  <thead>\n    <tr style=\"text-align: right;\">\n      <th></th>\n      <th>ObjectId</th>\n      <th>Country</th>\n      <th>ISO2</th>\n      <th>ISO3</th>\n      <th>Indicator</th>\n      <th>Source</th>\n      <th>CTS Code</th>\n      <th>CTS Name</th>\n      <th>CTS Full Descriptor</th>\n      <th>Unit</th>\n      <th>Année</th>\n      <th>Taxe</th>\n    </tr>\n  </thead>\n  <tbody>\n    <tr>\n      <th>0</th>\n      <td>1</td>\n      <td>Albania</td>\n      <td>AL</td>\n      <td>ALB</td>\n      <td>Environmental Taxes</td>\n      <td>Organisation for Economic Co-operation and Dev...</td>\n      <td>ECGTE</td>\n      <td>Environmental Taxes</td>\n      <td>Environment, Climate Change, Government Policy...</td>\n      <td>Domestic Currency</td>\n      <td>1995</td>\n      <td>NaN</td>\n    </tr>\n    <tr>\n      <th>1</th>\n      <td>2</td>\n      <td>Albania</td>\n      <td>AL</td>\n      <td>ALB</td>\n      <td>Environmental Taxes</td>\n      <td>Organisation for Economic Co-operation and Dev...</td>\n      <td>ECGTE</td>\n      <td>Environmental Taxes</td>\n      <td>Environment, Climate Change, Government Policy...</td>\n      <td>Percent of GDP</td>\n      <td>1995</td>\n      <td>NaN</td>\n    </tr>\n    <tr>\n      <th>2</th>\n      <td>3</td>\n      <td>Albania</td>\n      <td>AL</td>\n      <td>ALB</td>\n      <td>Taxes on Energy (including fuel for transport)</td>\n      <td>Organisation for Economic Co-operation and Dev...</td>\n      <td>ECGTEN</td>\n      <td>Taxes on Energy (Including Fuel for Transport)</td>\n      <td>Environment, Climate Change, Government Policy...</td>\n      <td>Domestic Currency</td>\n      <td>1995</td>\n      <td>NaN</td>\n    </tr>\n    <tr>\n      <th>3</th>\n      <td>4</td>\n      <td>Albania</td>\n      <td>AL</td>\n      <td>ALB</td>\n      <td>Taxes on Energy (including fuel for transport)</td>\n      <td>Organisation for Economic Co-operation and Dev...</td>\n      <td>ECGTEN</td>\n      <td>Taxes on Energy (Including Fuel for Transport)</td>\n      <td>Environment, Climate Change, Government Policy...</td>\n      <td>Percent of GDP</td>\n      <td>1995</td>\n      <td>NaN</td>\n    </tr>\n    <tr>\n      <th>4</th>\n      <td>5</td>\n      <td>Albania</td>\n      <td>AL</td>\n      <td>ALB</td>\n      <td>Taxes on Pollution</td>\n      <td>Organisation for Economic Co-operation and Dev...</td>\n      <td>ECGTEP</td>\n      <td>Taxes on Pollution</td>\n      <td>Environment, Climate Change, Government Policy...</td>\n      <td>Domestic Currency</td>\n      <td>1995</td>\n      <td>NaN</td>\n    </tr>\n  </tbody>\n</table>\n</div>"
     },
     "execution_count": 244,
     "metadata": {},
     "output_type": "execute_result"
    }
   ],
   "source": [
    "# Regrouper les années dans une seule colonne\n",
    "tax = pd.melt(tax, id_vars=[\"ObjectId\", \"Country\", \"ISO2\", \"ISO3\", \"Indicator\", \"Source\", \"CTS Code\", \"CTS Name\", \"CTS Full Descriptor\", \"Unit\"], \n",
    "                    var_name=\"Année\", value_name=\"Taxe\")\n",
    "tax.head(5)"
   ],
   "metadata": {
    "collapsed": false,
    "ExecuteTime": {
     "end_time": "2024-03-03T22:18:53.960544Z",
     "start_time": "2024-03-03T22:18:53.949253Z"
    }
   },
   "id": "3d1dcb149c0501c9",
   "execution_count": 244
  },
  {
   "cell_type": "code",
   "outputs": [
    {
     "data": {
      "text/plain": "   Country ISO3                                           CTS Name  \\\n0  Albania  ALB                        ECGTE - Environmental Taxes   \n1  Albania  ALB                        ECGTE - Environmental Taxes   \n2  Albania  ALB  ECGTEN - Taxes on Energy (Including Fuel for T...   \n3  Albania  ALB  ECGTEN - Taxes on Energy (Including Fuel for T...   \n4  Albania  ALB                        ECGTEP - Taxes on Pollution   \n\n                Unit Année  Taxe  \n0  Domestic Currency  1995   NaN  \n1     Percent of GDP  1995   NaN  \n2  Domestic Currency  1995   NaN  \n3     Percent of GDP  1995   NaN  \n4  Domestic Currency  1995   NaN  ",
      "text/html": "<div>\n<style scoped>\n    .dataframe tbody tr th:only-of-type {\n        vertical-align: middle;\n    }\n\n    .dataframe tbody tr th {\n        vertical-align: top;\n    }\n\n    .dataframe thead th {\n        text-align: right;\n    }\n</style>\n<table border=\"1\" class=\"dataframe\">\n  <thead>\n    <tr style=\"text-align: right;\">\n      <th></th>\n      <th>Country</th>\n      <th>ISO3</th>\n      <th>CTS Name</th>\n      <th>Unit</th>\n      <th>Année</th>\n      <th>Taxe</th>\n    </tr>\n  </thead>\n  <tbody>\n    <tr>\n      <th>0</th>\n      <td>Albania</td>\n      <td>ALB</td>\n      <td>ECGTE - Environmental Taxes</td>\n      <td>Domestic Currency</td>\n      <td>1995</td>\n      <td>NaN</td>\n    </tr>\n    <tr>\n      <th>1</th>\n      <td>Albania</td>\n      <td>ALB</td>\n      <td>ECGTE - Environmental Taxes</td>\n      <td>Percent of GDP</td>\n      <td>1995</td>\n      <td>NaN</td>\n    </tr>\n    <tr>\n      <th>2</th>\n      <td>Albania</td>\n      <td>ALB</td>\n      <td>ECGTEN - Taxes on Energy (Including Fuel for T...</td>\n      <td>Domestic Currency</td>\n      <td>1995</td>\n      <td>NaN</td>\n    </tr>\n    <tr>\n      <th>3</th>\n      <td>Albania</td>\n      <td>ALB</td>\n      <td>ECGTEN - Taxes on Energy (Including Fuel for T...</td>\n      <td>Percent of GDP</td>\n      <td>1995</td>\n      <td>NaN</td>\n    </tr>\n    <tr>\n      <th>4</th>\n      <td>Albania</td>\n      <td>ALB</td>\n      <td>ECGTEP - Taxes on Pollution</td>\n      <td>Domestic Currency</td>\n      <td>1995</td>\n      <td>NaN</td>\n    </tr>\n  </tbody>\n</table>\n</div>"
     },
     "execution_count": 245,
     "metadata": {},
     "output_type": "execute_result"
    }
   ],
   "source": [
    "# Concaténer les valeurs de \"CTS Code\" et \"CTS Name\" avec un séparateur \"-\"\n",
    "tax[\"CTS Name\"] = tax[\"CTS Code\"] + \" - \" + tax[\"CTS Name\"]\n",
    "\n",
    "# Supprimer la colonne \"CTS Code\" puisque ses valeurs ont été concaténées avec \"CTS Name\"\n",
    "# Supprimer les colonnes inutiles \"ObjectId\", \"ISO2\", \"Indicator\", \"Source\", \"CTS Full Descriptor\"\n",
    "tax.drop(columns=[\"CTS Code\", \"ObjectId\", \"ISO2\", \"Indicator\", \"Source\", \"CTS Full Descriptor\"], inplace=True)\n",
    "\n",
    "tax.head(5)"
   ],
   "metadata": {
    "collapsed": false,
    "ExecuteTime": {
     "end_time": "2024-03-03T22:18:53.971026Z",
     "start_time": "2024-03-03T22:18:53.960544Z"
    }
   },
   "id": "edf013563881f364",
   "execution_count": 245
  },
  {
   "cell_type": "code",
   "outputs": [
    {
     "data": {
      "text/plain": "Index(['Country', 'ISO3', 'CTS Name', 'Unit', 'Année', 'Taxe'], dtype='object')"
     },
     "execution_count": 246,
     "metadata": {},
     "output_type": "execute_result"
    }
   ],
   "source": [
    "tax.columns"
   ],
   "metadata": {
    "collapsed": false,
    "ExecuteTime": {
     "end_time": "2024-03-03T22:18:53.974302Z",
     "start_time": "2024-03-03T22:18:53.971026Z"
    }
   },
   "id": "ac84fe82e2aa0a88",
   "execution_count": 246
  },
  {
   "cell_type": "code",
   "outputs": [
    {
     "data": {
      "text/plain": "dtype('O')"
     },
     "execution_count": 247,
     "metadata": {},
     "output_type": "execute_result"
    }
   ],
   "source": [
    "tax.columns.dtype"
   ],
   "metadata": {
    "collapsed": false,
    "ExecuteTime": {
     "end_time": "2024-03-03T22:18:53.978315Z",
     "start_time": "2024-03-03T22:18:53.975306Z"
    }
   },
   "id": "68d4bca572413c51",
   "execution_count": 247
  },
  {
   "cell_type": "code",
   "outputs": [
    {
     "data": {
      "text/plain": "Country      object\nISO3         object\nCTS Name     object\nUnit         object\nAnnée        object\nTaxe        float64\ndtype: object"
     },
     "execution_count": 248,
     "metadata": {},
     "output_type": "execute_result"
    }
   ],
   "source": [
    "tax.dtypes"
   ],
   "metadata": {
    "collapsed": false,
    "ExecuteTime": {
     "end_time": "2024-03-03T22:18:53.981663Z",
     "start_time": "2024-03-03T22:18:53.978315Z"
    }
   },
   "id": "4f58ba6830437503",
   "execution_count": 248
  },
  {
   "cell_type": "code",
   "outputs": [
    {
     "data": {
      "text/plain": "(33453, 6)"
     },
     "execution_count": 249,
     "metadata": {},
     "output_type": "execute_result"
    }
   ],
   "source": [
    "tax.shape"
   ],
   "metadata": {
    "collapsed": false,
    "ExecuteTime": {
     "end_time": "2024-03-03T22:18:53.984952Z",
     "start_time": "2024-03-03T22:18:53.981663Z"
    }
   },
   "id": "f4159dfbb81301d6",
   "execution_count": 249
  },
  {
   "cell_type": "code",
   "outputs": [
    {
     "name": "stdout",
     "output_type": "stream",
     "text": [
      "Valeurs nulles dans le DataFrame :\n",
      "       Country   ISO3  CTS Name   Unit  Année  Taxe\n",
      "0        False  False     False  False  False  True\n",
      "1        False  False     False  False  False  True\n",
      "2        False  False     False  False  False  True\n",
      "3        False  False     False  False  False  True\n",
      "4        False  False     False  False  False  True\n",
      "...        ...    ...       ...    ...    ...   ...\n",
      "33448    False  False     False  False  False  True\n",
      "33449    False  False     False  False  False  True\n",
      "33450    False  False     False  False  False  True\n",
      "33451    False  False     False  False  False  True\n",
      "33452    False  False     False  False  False  True\n",
      "\n",
      "[33453 rows x 6 columns]\n",
      "\n",
      "Le DataFrame est vide : False\n"
     ]
    }
   ],
   "source": [
    "# Vérifier les valeurs nulles dans le DataFrame\n",
    "null_values = tax.isnull()\n",
    "\n",
    "# Vérifier si le DataFrame est vide\n",
    "is_empty = tax.empty\n",
    "\n",
    "# Afficher les valeurs nulles\n",
    "print(\"Valeurs nulles dans le DataFrame :\")\n",
    "print(null_values)\n",
    "\n",
    "# Afficher si le DataFrame est vide\n",
    "print(\"\\nLe DataFrame est vide :\", is_empty)"
   ],
   "metadata": {
    "collapsed": false,
    "ExecuteTime": {
     "end_time": "2024-03-03T22:18:53.993458Z",
     "start_time": "2024-03-03T22:18:53.984952Z"
    }
   },
   "id": "36c1705c06c68f01",
   "execution_count": 250
  },
  {
   "cell_type": "code",
   "outputs": [
    {
     "name": "stdout",
     "output_type": "stream",
     "text": [
      "Valeurs nan ou null dans la colonne 'Taxe': True\n"
     ]
    }
   ],
   "source": [
    "# Vérifier s'il y a des valeurs \"nan\" ou \"null\" dans la colonne 'Taxe'\n",
    "nan_colTaxe = tax['Taxe'].isna().any()\n",
    "\n",
    "print(\"Valeurs nan ou null dans la colonne 'Taxe':\", nan_colTaxe)"
   ],
   "metadata": {
    "collapsed": false,
    "ExecuteTime": {
     "end_time": "2024-03-03T22:18:53.996272Z",
     "start_time": "2024-03-03T22:18:53.993458Z"
    }
   },
   "id": "a7bf64f2388587fd",
   "execution_count": 251
  },
  {
   "cell_type": "code",
   "outputs": [
    {
     "name": "stdout",
     "output_type": "stream",
     "text": [
      "Nombre de NaN dans la colonne 'Taxe': 8823\n"
     ]
    }
   ],
   "source": [
    "# Compter le nombre de valeurs \"NaN\" dans la colonne 'Taxe'\n",
    "nb_nan_colTax = tax['Taxe'].isna().sum()\n",
    "\n",
    "print(\"Nombre de NaN dans la colonne 'Taxe':\", nb_nan_colTax)"
   ],
   "metadata": {
    "collapsed": false,
    "ExecuteTime": {
     "end_time": "2024-03-03T22:18:53.999453Z",
     "start_time": "2024-03-03T22:18:53.996272Z"
    }
   },
   "id": "dca3d8ea08001251",
   "execution_count": 252
  },
  {
   "cell_type": "code",
   "outputs": [
    {
     "name": "stdout",
     "output_type": "stream",
     "text": [
      "Lignes contenant des valeurs NaN :\n",
      "                  Country ISO3  \\\n",
      "0                 Albania  ALB   \n",
      "1                 Albania  ALB   \n",
      "2                 Albania  ALB   \n",
      "3                 Albania  ALB   \n",
      "4                 Albania  ALB   \n",
      "...                   ...  ...   \n",
      "33448  West Bank and Gaza  PSE   \n",
      "33449  West Bank and Gaza  PSE   \n",
      "33450  West Bank and Gaza  PSE   \n",
      "33451  West Bank and Gaza  PSE   \n",
      "33452  West Bank and Gaza  PSE   \n",
      "\n",
      "                                                CTS Name               Unit  \\\n",
      "0                            ECGTE - Environmental Taxes  Domestic Currency   \n",
      "1                            ECGTE - Environmental Taxes     Percent of GDP   \n",
      "2      ECGTEN - Taxes on Energy (Including Fuel for T...  Domestic Currency   \n",
      "3      ECGTEN - Taxes on Energy (Including Fuel for T...     Percent of GDP   \n",
      "4                            ECGTEP - Taxes on Pollution  Domestic Currency   \n",
      "...                                                  ...                ...   \n",
      "33448                        ECGTEP - Taxes on Pollution     Percent of GDP   \n",
      "33449                        ECGTER - Taxes on Resources  Domestic Currency   \n",
      "33450                        ECGTER - Taxes on Resources     Percent of GDP   \n",
      "33451  ECGTET - Taxes on Transport (Excluding Fuel fo...  Domestic Currency   \n",
      "33452  ECGTET - Taxes on Transport (Excluding Fuel fo...     Percent of GDP   \n",
      "\n",
      "      Année  Taxe  \n",
      "0      1995   NaN  \n",
      "1      1995   NaN  \n",
      "2      1995   NaN  \n",
      "3      1995   NaN  \n",
      "4      1995   NaN  \n",
      "...     ...   ...  \n",
      "33448  2021   NaN  \n",
      "33449  2021   NaN  \n",
      "33450  2021   NaN  \n",
      "33451  2021   NaN  \n",
      "33452  2021   NaN  \n",
      "\n",
      "[8863 rows x 6 columns]\n"
     ]
    }
   ],
   "source": [
    "# Filtrer les lignes avec des valeurs  puis les afficher\n",
    "nan_rows = tax[tax.isna().any(axis=1)]\n",
    "\n",
    "print(\"Lignes contenant des valeurs NaN :\")\n",
    "print(nan_rows)"
   ],
   "metadata": {
    "collapsed": false,
    "ExecuteTime": {
     "end_time": "2024-03-03T22:18:54.011157Z",
     "start_time": "2024-03-03T22:18:54.000457Z"
    }
   },
   "id": "ab7e32da77089d0a",
   "execution_count": 253
  },
  {
   "cell_type": "code",
   "outputs": [
    {
     "name": "stdout",
     "output_type": "stream",
     "text": [
      "Nombre de NaN dans les colonnes : Country        0\n",
      "ISO3         216\n",
      "CTS Name       0\n",
      "Unit           0\n",
      "Année          0\n",
      "Taxe        8823\n",
      "dtype: int64\n",
      "Nombre de NaN dans le dataset : 9039\n"
     ]
    }
   ],
   "source": [
    "# Compter le nombre de valeurs \"NaN\" dans les colonnes\n",
    "nb_nan_colTax = tax.isna().sum()\n",
    "\n",
    "print(\"Nombre de NaN dans les colonnes :\", nb_nan_colTax)\n",
    "\n",
    "# Compter le nombre de valeurs \"NaN\" dans le dataset\n",
    "nb_nan_dataset = tax.isna().sum().sum()\n",
    "\n",
    "print(\"Nombre de NaN dans le dataset :\", nb_nan_dataset)"
   ],
   "metadata": {
    "collapsed": false,
    "ExecuteTime": {
     "end_time": "2024-03-03T22:18:54.023774Z",
     "start_time": "2024-03-03T22:18:54.012161Z"
    }
   },
   "id": "417fb059a0c19605",
   "execution_count": 254
  },
  {
   "cell_type": "code",
   "outputs": [
    {
     "name": "stdout",
     "output_type": "stream",
     "text": [
      "Index(['Country', 'ISO3', 'CTS Name', 'Unit', 'Année', 'Taxe'], dtype='object')\n"
     ]
    }
   ],
   "source": [
    "print(tax.columns)"
   ],
   "metadata": {
    "collapsed": false,
    "ExecuteTime": {
     "end_time": "2024-03-03T22:18:54.026616Z",
     "start_time": "2024-03-03T22:18:54.023774Z"
    }
   },
   "id": "cc484073af48b8b1",
   "execution_count": 255
  },
  {
   "cell_type": "code",
   "outputs": [
    {
     "data": {
      "text/plain": "CTS Name  Country ISO3 Année ECGTE - Environmental Taxes                 \\\nUnit                                   Domestic Currency Percent of GDP   \n0         Albania  ALB  2015                4.399314e+10       3.067206   \n1         Albania  ALB  2016                4.781379e+10       3.247163   \n2         Albania  ALB  2017                4.754858e+10       3.066373   \n3         Albania  ALB  2018                5.114559e+10       3.124865   \n4         Albania  ALB  2019                5.341565e+10       3.157133   \n\nCTS Name ECGTEN - Taxes on Energy (Including Fuel for Transport)  \\\nUnit                                           Domestic Currency   \n0                                              3.774111e+10        \n1                                              4.094562e+10        \n2                                              4.040004e+10        \n3                                              4.352182e+10        \n4                                              4.516530e+10        \n\nCTS Name                ECGTEP - Taxes on Pollution                 \\\nUnit     Percent of GDP           Domestic Currency Percent of GDP   \n0              2.631314                1.782069e+09       0.124246   \n1              2.780726                1.879970e+09       0.127674   \n2              2.605369                1.941324e+09       0.125195   \n3              2.659072                2.226251e+09       0.136018   \n4              2.669496                2.625011e+09       0.155151   \n\nCTS Name ECGTER - Taxes on Resources                 \\\nUnit               Domestic Currency Percent of GDP   \n0                        32546493.00       0.002269   \n1                        52524339.00       0.003567   \n2                        61861356.38       0.003989   \n3                        56011991.00       0.003422   \n4                        58777099.50       0.003474   \n\nCTS Name ECGTET - Taxes on Transport (Excluding Fuel for Transport)  \\\nUnit                                              Domestic Currency   \n0                                              4.437413e+09           \n1                                              4.935684e+09           \n2                                              5.145347e+09           \n3                                              5.341506e+09           \n4                                              5.566564e+09           \n\nCTS Name                 \nUnit     Percent of GDP  \n0              0.309377  \n1              0.335195  \n2              0.331820  \n3              0.326352  \n4              0.329012  ",
      "text/html": "<div>\n<style scoped>\n    .dataframe tbody tr th:only-of-type {\n        vertical-align: middle;\n    }\n\n    .dataframe tbody tr th {\n        vertical-align: top;\n    }\n\n    .dataframe thead tr th {\n        text-align: left;\n    }\n</style>\n<table border=\"1\" class=\"dataframe\">\n  <thead>\n    <tr>\n      <th>CTS Name</th>\n      <th>Country</th>\n      <th>ISO3</th>\n      <th>Année</th>\n      <th colspan=\"2\" halign=\"left\">ECGTE - Environmental Taxes</th>\n      <th colspan=\"2\" halign=\"left\">ECGTEN - Taxes on Energy (Including Fuel for Transport)</th>\n      <th colspan=\"2\" halign=\"left\">ECGTEP - Taxes on Pollution</th>\n      <th colspan=\"2\" halign=\"left\">ECGTER - Taxes on Resources</th>\n      <th colspan=\"2\" halign=\"left\">ECGTET - Taxes on Transport (Excluding Fuel for Transport)</th>\n    </tr>\n    <tr>\n      <th>Unit</th>\n      <th></th>\n      <th></th>\n      <th></th>\n      <th>Domestic Currency</th>\n      <th>Percent of GDP</th>\n      <th>Domestic Currency</th>\n      <th>Percent of GDP</th>\n      <th>Domestic Currency</th>\n      <th>Percent of GDP</th>\n      <th>Domestic Currency</th>\n      <th>Percent of GDP</th>\n      <th>Domestic Currency</th>\n      <th>Percent of GDP</th>\n    </tr>\n  </thead>\n  <tbody>\n    <tr>\n      <th>0</th>\n      <td>Albania</td>\n      <td>ALB</td>\n      <td>2015</td>\n      <td>4.399314e+10</td>\n      <td>3.067206</td>\n      <td>3.774111e+10</td>\n      <td>2.631314</td>\n      <td>1.782069e+09</td>\n      <td>0.124246</td>\n      <td>32546493.00</td>\n      <td>0.002269</td>\n      <td>4.437413e+09</td>\n      <td>0.309377</td>\n    </tr>\n    <tr>\n      <th>1</th>\n      <td>Albania</td>\n      <td>ALB</td>\n      <td>2016</td>\n      <td>4.781379e+10</td>\n      <td>3.247163</td>\n      <td>4.094562e+10</td>\n      <td>2.780726</td>\n      <td>1.879970e+09</td>\n      <td>0.127674</td>\n      <td>52524339.00</td>\n      <td>0.003567</td>\n      <td>4.935684e+09</td>\n      <td>0.335195</td>\n    </tr>\n    <tr>\n      <th>2</th>\n      <td>Albania</td>\n      <td>ALB</td>\n      <td>2017</td>\n      <td>4.754858e+10</td>\n      <td>3.066373</td>\n      <td>4.040004e+10</td>\n      <td>2.605369</td>\n      <td>1.941324e+09</td>\n      <td>0.125195</td>\n      <td>61861356.38</td>\n      <td>0.003989</td>\n      <td>5.145347e+09</td>\n      <td>0.331820</td>\n    </tr>\n    <tr>\n      <th>3</th>\n      <td>Albania</td>\n      <td>ALB</td>\n      <td>2018</td>\n      <td>5.114559e+10</td>\n      <td>3.124865</td>\n      <td>4.352182e+10</td>\n      <td>2.659072</td>\n      <td>2.226251e+09</td>\n      <td>0.136018</td>\n      <td>56011991.00</td>\n      <td>0.003422</td>\n      <td>5.341506e+09</td>\n      <td>0.326352</td>\n    </tr>\n    <tr>\n      <th>4</th>\n      <td>Albania</td>\n      <td>ALB</td>\n      <td>2019</td>\n      <td>5.341565e+10</td>\n      <td>3.157133</td>\n      <td>4.516530e+10</td>\n      <td>2.669496</td>\n      <td>2.625011e+09</td>\n      <td>0.155151</td>\n      <td>58777099.50</td>\n      <td>0.003474</td>\n      <td>5.566564e+09</td>\n      <td>0.329012</td>\n    </tr>\n  </tbody>\n</table>\n</div>"
     },
     "execution_count": 256,
     "metadata": {},
     "output_type": "execute_result"
    }
   ],
   "source": [
    "# Pivoter les données pour mettre les catégories des taxes de la colonne \"CTS Name\" en colonnes et pour mettre les unités des taxes de la colonne \"Unit\" en colonnes\n",
    "taxE = tax.pivot_table(index=['Country', 'ISO3', 'Année'],\n",
    "                               columns=['CTS Name', 'Unit'],\n",
    "                               values='Taxe').reset_index()\n",
    "\n",
    "taxE.head(5)"
   ],
   "metadata": {
    "collapsed": false,
    "ExecuteTime": {
     "end_time": "2024-03-03T22:18:54.052040Z",
     "start_time": "2024-03-03T22:18:54.026616Z"
    }
   },
   "id": "a0aa256cc75e4e71",
   "execution_count": 256
  },
  {
   "cell_type": "code",
   "outputs": [
    {
     "name": "stdout",
     "output_type": "stream",
     "text": [
      "Index(['country', 'ISO3', 'year', 'ECGTE_EnvTaxes_DomCCY',\n",
      "       'ECGTE_EnvTaxes_PctGDP', 'ECGTEN_TaxesEnergy_InclFuelTrans_DomCCY',\n",
      "       'ECGTEN_TaxesEnergy_InclFuelTrans_PctGDP',\n",
      "       'ECGTEP_TaxesPollution_DomCCY', 'ECGTEP_TaxesPollution_PctGDP',\n",
      "       'ECGTER_TaxesResources_DomCCY', 'ECGTER_TaxesResources_PctGDP',\n",
      "       'ECGTET_TaxesTrans_ExclFuelTrans_DomCCY',\n",
      "       'ECGTET_TaxesTrans_ExclFuelTrans_PctGDP'],\n",
      "      dtype='object')\n"
     ]
    }
   ],
   "source": [
    "# Renommer les colonnes\n",
    "taxE.columns = [\n",
    "    'country',\n",
    "    'ISO3',\n",
    "    'year',\n",
    "    'ECGTE_EnvTaxes_DomCCY',\n",
    "    'ECGTE_EnvTaxes_PctGDP',\n",
    "    'ECGTEN_TaxesEnergy_InclFuelTrans_DomCCY',\n",
    "    'ECGTEN_TaxesEnergy_InclFuelTrans_PctGDP',\n",
    "    'ECGTEP_TaxesPollution_DomCCY',\n",
    "    'ECGTEP_TaxesPollution_PctGDP',\n",
    "    'ECGTER_TaxesResources_DomCCY',\n",
    "    'ECGTER_TaxesResources_PctGDP',\n",
    "    'ECGTET_TaxesTrans_ExclFuelTrans_DomCCY',\n",
    "    'ECGTET_TaxesTrans_ExclFuelTrans_PctGDP'\n",
    "]\n",
    "# Afficher les nouvelles colonnes\n",
    "print(taxE.columns)"
   ],
   "metadata": {
    "collapsed": false,
    "ExecuteTime": {
     "end_time": "2024-03-03T22:18:54.055736Z",
     "start_time": "2024-03-03T22:18:54.052040Z"
    }
   },
   "id": "537a72b6339daa38",
   "execution_count": 257
  },
  {
   "cell_type": "code",
   "outputs": [
    {
     "name": "stdout",
     "output_type": "stream",
     "text": [
      "Nombre de NaN dans les colonnes : country                                      0\n",
      "ISO3                                         0\n",
      "year                                         0\n",
      "ECGTE_EnvTaxes_DomCCY                      460\n",
      "ECGTE_EnvTaxes_PctGDP                      477\n",
      "ECGTEN_TaxesEnergy_InclFuelTrans_DomCCY    339\n",
      "ECGTEN_TaxesEnergy_InclFuelTrans_PctGDP    345\n",
      "ECGTEP_TaxesPollution_DomCCY               134\n",
      "ECGTEP_TaxesPollution_PctGDP               140\n",
      "ECGTER_TaxesResources_DomCCY               146\n",
      "ECGTER_TaxesResources_PctGDP               152\n",
      "ECGTET_TaxesTrans_ExclFuelTrans_DomCCY     350\n",
      "ECGTET_TaxesTrans_ExclFuelTrans_PctGDP     367\n",
      "dtype: int64\n",
      "Nombre de NaN dans le dataset : 2910\n"
     ]
    }
   ],
   "source": [
    "# Compter le nombre de valeurs \"NaN\" dans les colonnes\n",
    "nb_nan_colTax_taxE = taxE.isna().sum()\n",
    "\n",
    "print(\"Nombre de NaN dans les colonnes :\", nb_nan_colTax_taxE)\n",
    "\n",
    "# Compter le nombre de valeurs \"NaN\" dans le dataset\n",
    "nb_nan_dataset_taxE = taxE.isna().sum().sum()\n",
    "\n",
    "print(\"Nombre de NaN dans le dataset :\", nb_nan_dataset_taxE)"
   ],
   "metadata": {
    "collapsed": false,
    "ExecuteTime": {
     "end_time": "2024-03-03T22:18:54.060789Z",
     "start_time": "2024-03-03T22:18:54.055736Z"
    }
   },
   "id": "efaa8c744c23cef4",
   "execution_count": 258
  },
  {
   "cell_type": "code",
   "outputs": [
    {
     "name": "stdout",
     "output_type": "stream",
     "text": [
      "Lignes contenant des valeurs NaN :\n",
      "                       country ISO3  year  ECGTE_EnvTaxes_DomCCY  \\\n",
      "5     Andorra, Principality of  AND  2015           4.600367e+12   \n",
      "6     Andorra, Principality of  AND  2016           4.616889e+12   \n",
      "7     Andorra, Principality of  AND  2017           5.043869e+12   \n",
      "8     Andorra, Principality of  AND  2018           5.283535e+12   \n",
      "9     Andorra, Principality of  AND  2019           5.675649e+12   \n",
      "...                        ...  ...   ...                    ...   \n",
      "2721                   Vietnam  VNM  1999                    NaN   \n",
      "2722                   Vietnam  VNM  2000                    NaN   \n",
      "2723                   Vietnam  VNM  2001                    NaN   \n",
      "2724                   Vietnam  VNM  2002                    NaN   \n",
      "2743                   Vietnam  VNM  2021                    NaN   \n",
      "\n",
      "      ECGTE_EnvTaxes_PctGDP  ECGTEN_TaxesEnergy_InclFuelTrans_DomCCY  \\\n",
      "5                       NaN                                      0.0   \n",
      "6                       NaN                                      0.0   \n",
      "7                       NaN                                      0.0   \n",
      "8                       NaN                                      0.0   \n",
      "9                       NaN                                      0.0   \n",
      "...                     ...                                      ...   \n",
      "2721                    NaN                                      NaN   \n",
      "2722                    NaN                                      NaN   \n",
      "2723                    NaN                                      NaN   \n",
      "2724                    NaN                                      NaN   \n",
      "2743                    NaN                                      NaN   \n",
      "\n",
      "      ECGTEN_TaxesEnergy_InclFuelTrans_PctGDP  ECGTEP_TaxesPollution_DomCCY  \\\n",
      "5                                         NaN                           0.0   \n",
      "6                                         NaN                           0.0   \n",
      "7                                         NaN                           0.0   \n",
      "8                                         NaN                           0.0   \n",
      "9                                         NaN                           0.0   \n",
      "...                                       ...                           ...   \n",
      "2721                                      NaN                           0.0   \n",
      "2722                                      NaN                           0.0   \n",
      "2723                                      NaN                           0.0   \n",
      "2724                                      NaN                           0.0   \n",
      "2743                                      NaN                           0.0   \n",
      "\n",
      "      ECGTEP_TaxesPollution_PctGDP  ECGTER_TaxesResources_DomCCY  \\\n",
      "5                              NaN                           0.0   \n",
      "6                              NaN                           0.0   \n",
      "7                              NaN                           0.0   \n",
      "8                              NaN                           0.0   \n",
      "9                              NaN                           0.0   \n",
      "...                            ...                           ...   \n",
      "2721                           0.0                           0.0   \n",
      "2722                           0.0                           0.0   \n",
      "2723                           0.0                           0.0   \n",
      "2724                           0.0                           0.0   \n",
      "2743                           0.0                           0.0   \n",
      "\n",
      "      ECGTER_TaxesResources_PctGDP  ECGTET_TaxesTrans_ExclFuelTrans_DomCCY  \\\n",
      "5                              NaN                            4.600367e+12   \n",
      "6                              NaN                            4.616889e+12   \n",
      "7                              NaN                            5.043869e+12   \n",
      "8                              NaN                            5.283535e+12   \n",
      "9                              NaN                            5.675649e+12   \n",
      "...                            ...                                     ...   \n",
      "2721                           0.0                            0.000000e+00   \n",
      "2722                           0.0                            0.000000e+00   \n",
      "2723                           0.0                            0.000000e+00   \n",
      "2724                           0.0                            0.000000e+00   \n",
      "2743                           0.0                            0.000000e+00   \n",
      "\n",
      "      ECGTET_TaxesTrans_ExclFuelTrans_PctGDP  \n",
      "5                                        NaN  \n",
      "6                                        NaN  \n",
      "7                                        NaN  \n",
      "8                                        NaN  \n",
      "9                                        NaN  \n",
      "...                                      ...  \n",
      "2721                                     0.0  \n",
      "2722                                     0.0  \n",
      "2723                                     0.0  \n",
      "2724                                     0.0  \n",
      "2743                                     0.0  \n",
      "\n",
      "[635 rows x 13 columns]\n"
     ]
    }
   ],
   "source": [
    "# Filtrer les lignes avec des valeurs nan puis les afficher\n",
    "nan_rows_taxE = taxE[taxE.isna().any(axis=1)]\n",
    "\n",
    "print(\"Lignes contenant des valeurs NaN :\")\n",
    "print(nan_rows_taxE)"
   ],
   "metadata": {
    "collapsed": false,
    "ExecuteTime": {
     "end_time": "2024-03-03T22:18:54.067924Z",
     "start_time": "2024-03-03T22:18:54.060789Z"
    }
   },
   "id": "f072cd40cfcf11b7",
   "execution_count": 259
  },
  {
   "cell_type": "code",
   "outputs": [
    {
     "data": {
      "text/plain": "country                                     object\nISO3                                        object\nyear                                        object\nECGTE_EnvTaxes_DomCCY                      float64\nECGTE_EnvTaxes_PctGDP                      float64\nECGTEN_TaxesEnergy_InclFuelTrans_DomCCY    float64\nECGTEN_TaxesEnergy_InclFuelTrans_PctGDP    float64\nECGTEP_TaxesPollution_DomCCY               float64\nECGTEP_TaxesPollution_PctGDP               float64\nECGTER_TaxesResources_DomCCY               float64\nECGTER_TaxesResources_PctGDP               float64\nECGTET_TaxesTrans_ExclFuelTrans_DomCCY     float64\nECGTET_TaxesTrans_ExclFuelTrans_PctGDP     float64\ndtype: object"
     },
     "execution_count": 260,
     "metadata": {},
     "output_type": "execute_result"
    }
   ],
   "source": [
    "taxE.dtypes"
   ],
   "metadata": {
    "collapsed": false,
    "ExecuteTime": {
     "end_time": "2024-03-03T22:18:54.071918Z",
     "start_time": "2024-03-03T22:18:54.067924Z"
    }
   },
   "id": "57211c18b57425aa",
   "execution_count": 260
  },
  {
   "cell_type": "code",
   "outputs": [
    {
     "data": {
      "text/plain": "(2750, 13)"
     },
     "execution_count": 261,
     "metadata": {},
     "output_type": "execute_result"
    }
   ],
   "source": [
    "taxE.shape"
   ],
   "metadata": {
    "collapsed": false,
    "ExecuteTime": {
     "end_time": "2024-03-03T22:18:54.075181Z",
     "start_time": "2024-03-03T22:18:54.071918Z"
    }
   },
   "id": "c85743b2736dac64",
   "execution_count": 261
  },
  {
   "cell_type": "code",
   "outputs": [
    {
     "name": "stdout",
     "output_type": "stream",
     "text": [
      "Valeurs nulles dans le DataFrame :\n",
      "      country   ISO3   year  ECGTE_EnvTaxes_DomCCY  ECGTE_EnvTaxes_PctGDP  \\\n",
      "0       False  False  False                  False                  False   \n",
      "1       False  False  False                  False                  False   \n",
      "2       False  False  False                  False                  False   \n",
      "3       False  False  False                  False                  False   \n",
      "4       False  False  False                  False                  False   \n",
      "...       ...    ...    ...                    ...                    ...   \n",
      "2745    False  False  False                  False                  False   \n",
      "2746    False  False  False                  False                  False   \n",
      "2747    False  False  False                  False                  False   \n",
      "2748    False  False  False                  False                  False   \n",
      "2749    False  False  False                  False                  False   \n",
      "\n",
      "      ECGTEN_TaxesEnergy_InclFuelTrans_DomCCY  \\\n",
      "0                                       False   \n",
      "1                                       False   \n",
      "2                                       False   \n",
      "3                                       False   \n",
      "4                                       False   \n",
      "...                                       ...   \n",
      "2745                                    False   \n",
      "2746                                    False   \n",
      "2747                                    False   \n",
      "2748                                    False   \n",
      "2749                                    False   \n",
      "\n",
      "      ECGTEN_TaxesEnergy_InclFuelTrans_PctGDP  ECGTEP_TaxesPollution_DomCCY  \\\n",
      "0                                       False                         False   \n",
      "1                                       False                         False   \n",
      "2                                       False                         False   \n",
      "3                                       False                         False   \n",
      "4                                       False                         False   \n",
      "...                                       ...                           ...   \n",
      "2745                                    False                         False   \n",
      "2746                                    False                         False   \n",
      "2747                                    False                         False   \n",
      "2748                                    False                         False   \n",
      "2749                                    False                         False   \n",
      "\n",
      "      ECGTEP_TaxesPollution_PctGDP  ECGTER_TaxesResources_DomCCY  \\\n",
      "0                            False                         False   \n",
      "1                            False                         False   \n",
      "2                            False                         False   \n",
      "3                            False                         False   \n",
      "4                            False                         False   \n",
      "...                            ...                           ...   \n",
      "2745                         False                         False   \n",
      "2746                         False                         False   \n",
      "2747                         False                         False   \n",
      "2748                         False                         False   \n",
      "2749                         False                         False   \n",
      "\n",
      "      ECGTER_TaxesResources_PctGDP  ECGTET_TaxesTrans_ExclFuelTrans_DomCCY  \\\n",
      "0                            False                                   False   \n",
      "1                            False                                   False   \n",
      "2                            False                                   False   \n",
      "3                            False                                   False   \n",
      "4                            False                                   False   \n",
      "...                            ...                                     ...   \n",
      "2745                         False                                   False   \n",
      "2746                         False                                   False   \n",
      "2747                         False                                   False   \n",
      "2748                         False                                   False   \n",
      "2749                         False                                   False   \n",
      "\n",
      "      ECGTET_TaxesTrans_ExclFuelTrans_PctGDP  \n",
      "0                                      False  \n",
      "1                                      False  \n",
      "2                                      False  \n",
      "3                                      False  \n",
      "4                                      False  \n",
      "...                                      ...  \n",
      "2745                                   False  \n",
      "2746                                   False  \n",
      "2747                                   False  \n",
      "2748                                   False  \n",
      "2749                                   False  \n",
      "\n",
      "[2750 rows x 13 columns]\n",
      "\n",
      "Le DataFrame est vide : False\n"
     ]
    }
   ],
   "source": [
    "# Vérifier les valeurs nulles dans le DataFrame\n",
    "null_values = taxE.isnull()\n",
    "\n",
    "# Vérifier si le DataFrame est vide\n",
    "is_empty = taxE.empty\n",
    "\n",
    "# Afficher les valeurs nulles\n",
    "print(\"Valeurs nulles dans le DataFrame :\")\n",
    "print(null_values)\n",
    "\n",
    "# Afficher si le DataFrame est vide\n",
    "print(\"\\nLe DataFrame est vide :\", is_empty)\n"
   ],
   "metadata": {
    "collapsed": false,
    "ExecuteTime": {
     "end_time": "2024-03-03T22:18:54.080738Z",
     "start_time": "2024-03-03T22:18:54.075181Z"
    }
   },
   "id": "5e70da78b1d026f4",
   "execution_count": 262
  },
  {
   "cell_type": "code",
   "outputs": [
    {
     "name": "stdout",
     "output_type": "stream",
     "text": [
      "         country ISO3  year  ECGTE_EnvTaxes_DomCCY  ECGTE_EnvTaxes_PctGDP  \\\n",
      "152   Bangladesh  BGD  1995                    NaN                    NaN   \n",
      "153   Bangladesh  BGD  1996                    NaN                    NaN   \n",
      "154   Bangladesh  BGD  1997                    NaN                    NaN   \n",
      "155   Bangladesh  BGD  1998                    NaN                    NaN   \n",
      "156   Bangladesh  BGD  1999                    NaN                    NaN   \n",
      "...          ...  ...   ...                    ...                    ...   \n",
      "2721     Vietnam  VNM  1999                    NaN                    NaN   \n",
      "2722     Vietnam  VNM  2000                    NaN                    NaN   \n",
      "2723     Vietnam  VNM  2001                    NaN                    NaN   \n",
      "2724     Vietnam  VNM  2002                    NaN                    NaN   \n",
      "2743     Vietnam  VNM  2021                    NaN                    NaN   \n",
      "\n",
      "      ECGTEN_TaxesEnergy_InclFuelTrans_DomCCY  \\\n",
      "152                                       0.0   \n",
      "153                                       0.0   \n",
      "154                                       0.0   \n",
      "155                                       0.0   \n",
      "156                                       0.0   \n",
      "...                                       ...   \n",
      "2721                                      NaN   \n",
      "2722                                      NaN   \n",
      "2723                                      NaN   \n",
      "2724                                      NaN   \n",
      "2743                                      NaN   \n",
      "\n",
      "      ECGTEN_TaxesEnergy_InclFuelTrans_PctGDP  ECGTEP_TaxesPollution_DomCCY  \\\n",
      "152                                       0.0                           0.0   \n",
      "153                                       0.0                           0.0   \n",
      "154                                       0.0                           0.0   \n",
      "155                                       0.0                           0.0   \n",
      "156                                       0.0                           0.0   \n",
      "...                                       ...                           ...   \n",
      "2721                                      NaN                           0.0   \n",
      "2722                                      NaN                           0.0   \n",
      "2723                                      NaN                           0.0   \n",
      "2724                                      NaN                           0.0   \n",
      "2743                                      NaN                           0.0   \n",
      "\n",
      "      ECGTEP_TaxesPollution_PctGDP  ECGTER_TaxesResources_DomCCY  \\\n",
      "152                            0.0                           0.0   \n",
      "153                            0.0                           0.0   \n",
      "154                            0.0                           0.0   \n",
      "155                            0.0                           0.0   \n",
      "156                            0.0                           0.0   \n",
      "...                            ...                           ...   \n",
      "2721                           0.0                           0.0   \n",
      "2722                           0.0                           0.0   \n",
      "2723                           0.0                           0.0   \n",
      "2724                           0.0                           0.0   \n",
      "2743                           0.0                           0.0   \n",
      "\n",
      "      ECGTER_TaxesResources_PctGDP  ECGTET_TaxesTrans_ExclFuelTrans_DomCCY  \\\n",
      "152                            0.0                                     NaN   \n",
      "153                            0.0                                     NaN   \n",
      "154                            0.0                                     NaN   \n",
      "155                            0.0                                     NaN   \n",
      "156                            0.0                                     NaN   \n",
      "...                            ...                                     ...   \n",
      "2721                           0.0                                     0.0   \n",
      "2722                           0.0                                     0.0   \n",
      "2723                           0.0                                     0.0   \n",
      "2724                           0.0                                     0.0   \n",
      "2743                           0.0                                     0.0   \n",
      "\n",
      "      ECGTET_TaxesTrans_ExclFuelTrans_PctGDP  \n",
      "152                                      NaN  \n",
      "153                                      NaN  \n",
      "154                                      NaN  \n",
      "155                                      NaN  \n",
      "156                                      NaN  \n",
      "...                                      ...  \n",
      "2721                                     0.0  \n",
      "2722                                     0.0  \n",
      "2723                                     0.0  \n",
      "2724                                     0.0  \n",
      "2743                                     0.0  \n",
      "\n",
      "[451 rows x 13 columns]\n"
     ]
    }
   ],
   "source": [
    "# (Titres anglais) Sélectionner les lignes avec NaN ou 0 dans les 10 colonnes spécifiées\n",
    "lignes_nan_zero = taxE.loc[(taxE['ECGTE_EnvTaxes_DomCCY'].isna() | (taxE['ECGTE_EnvTaxes_DomCCY'] == 0)) & (taxE['ECGTE_EnvTaxes_PctGDP'].isna() | (taxE['ECGTE_EnvTaxes_PctGDP'] == 0)) &                                (taxE['ECGTEN_TaxesEnergy_InclFuelTrans_DomCCY'].isna() | (taxE['ECGTEN_TaxesEnergy_InclFuelTrans_DomCCY'] == 0)) & (taxE['ECGTEN_TaxesEnergy_InclFuelTrans_PctGDP'].isna() | (taxE['ECGTEN_TaxesEnergy_InclFuelTrans_PctGDP'] == 0)) & (taxE['ECGTEP_TaxesPollution_DomCCY'].isna() | (taxE['ECGTEP_TaxesPollution_DomCCY'] == 0)) & (taxE['ECGTEP_TaxesPollution_PctGDP'].isna() | (taxE['ECGTEP_TaxesPollution_PctGDP'] == 0)) & (taxE['ECGTER_TaxesResources_DomCCY'].isna() | (taxE['ECGTER_TaxesResources_DomCCY'] == 0)) & (taxE['ECGTER_TaxesResources_PctGDP'].isna() | (taxE['ECGTER_TaxesResources_PctGDP'] == 0)) & (taxE['ECGTET_TaxesTrans_ExclFuelTrans_DomCCY'].isna() | (taxE['ECGTET_TaxesTrans_ExclFuelTrans_DomCCY'] == 0)) & (taxE['ECGTET_TaxesTrans_ExclFuelTrans_PctGDP'].isna() | (taxE['ECGTET_TaxesTrans_ExclFuelTrans_PctGDP'] == 0))]\n",
    "\n",
    "# Afficher les lignes sélectionnées\n",
    "print(lignes_nan_zero)"
   ],
   "metadata": {
    "collapsed": false,
    "ExecuteTime": {
     "end_time": "2024-03-03T22:18:54.089191Z",
     "start_time": "2024-03-03T22:18:54.080738Z"
    }
   },
   "id": "8c624b38e7efc9c7",
   "execution_count": 263
  },
  {
   "cell_type": "code",
   "outputs": [
    {
     "data": {
      "text/plain": "   country ISO3  year  ECGTE_EnvTaxes_DomCCY  ECGTE_EnvTaxes_PctGDP  \\\n0  Albania  ALB  2015           4.399314e+10               3.067206   \n1  Albania  ALB  2016           4.781379e+10               3.247163   \n2  Albania  ALB  2017           4.754858e+10               3.066373   \n3  Albania  ALB  2018           5.114559e+10               3.124865   \n4  Albania  ALB  2019           5.341565e+10               3.157133   \n\n   ECGTEN_TaxesEnergy_InclFuelTrans_DomCCY  \\\n0                             3.774111e+10   \n1                             4.094562e+10   \n2                             4.040004e+10   \n3                             4.352182e+10   \n4                             4.516530e+10   \n\n   ECGTEN_TaxesEnergy_InclFuelTrans_PctGDP  ECGTEP_TaxesPollution_DomCCY  \\\n0                                 2.631314                  1.782069e+09   \n1                                 2.780726                  1.879970e+09   \n2                                 2.605369                  1.941324e+09   \n3                                 2.659072                  2.226251e+09   \n4                                 2.669496                  2.625011e+09   \n\n   ECGTEP_TaxesPollution_PctGDP  ECGTER_TaxesResources_DomCCY  \\\n0                      0.124246                   32546493.00   \n1                      0.127674                   52524339.00   \n2                      0.125195                   61861356.38   \n3                      0.136018                   56011991.00   \n4                      0.155151                   58777099.50   \n\n   ECGTER_TaxesResources_PctGDP  ECGTET_TaxesTrans_ExclFuelTrans_DomCCY  \\\n0                      0.002269                            4.437413e+09   \n1                      0.003567                            4.935684e+09   \n2                      0.003989                            5.145347e+09   \n3                      0.003422                            5.341506e+09   \n4                      0.003474                            5.566564e+09   \n\n   ECGTET_TaxesTrans_ExclFuelTrans_PctGDP  \n0                                0.309377  \n1                                0.335195  \n2                                0.331820  \n3                                0.326352  \n4                                0.329012  ",
      "text/html": "<div>\n<style scoped>\n    .dataframe tbody tr th:only-of-type {\n        vertical-align: middle;\n    }\n\n    .dataframe tbody tr th {\n        vertical-align: top;\n    }\n\n    .dataframe thead th {\n        text-align: right;\n    }\n</style>\n<table border=\"1\" class=\"dataframe\">\n  <thead>\n    <tr style=\"text-align: right;\">\n      <th></th>\n      <th>country</th>\n      <th>ISO3</th>\n      <th>year</th>\n      <th>ECGTE_EnvTaxes_DomCCY</th>\n      <th>ECGTE_EnvTaxes_PctGDP</th>\n      <th>ECGTEN_TaxesEnergy_InclFuelTrans_DomCCY</th>\n      <th>ECGTEN_TaxesEnergy_InclFuelTrans_PctGDP</th>\n      <th>ECGTEP_TaxesPollution_DomCCY</th>\n      <th>ECGTEP_TaxesPollution_PctGDP</th>\n      <th>ECGTER_TaxesResources_DomCCY</th>\n      <th>ECGTER_TaxesResources_PctGDP</th>\n      <th>ECGTET_TaxesTrans_ExclFuelTrans_DomCCY</th>\n      <th>ECGTET_TaxesTrans_ExclFuelTrans_PctGDP</th>\n    </tr>\n  </thead>\n  <tbody>\n    <tr>\n      <th>0</th>\n      <td>Albania</td>\n      <td>ALB</td>\n      <td>2015</td>\n      <td>4.399314e+10</td>\n      <td>3.067206</td>\n      <td>3.774111e+10</td>\n      <td>2.631314</td>\n      <td>1.782069e+09</td>\n      <td>0.124246</td>\n      <td>32546493.00</td>\n      <td>0.002269</td>\n      <td>4.437413e+09</td>\n      <td>0.309377</td>\n    </tr>\n    <tr>\n      <th>1</th>\n      <td>Albania</td>\n      <td>ALB</td>\n      <td>2016</td>\n      <td>4.781379e+10</td>\n      <td>3.247163</td>\n      <td>4.094562e+10</td>\n      <td>2.780726</td>\n      <td>1.879970e+09</td>\n      <td>0.127674</td>\n      <td>52524339.00</td>\n      <td>0.003567</td>\n      <td>4.935684e+09</td>\n      <td>0.335195</td>\n    </tr>\n    <tr>\n      <th>2</th>\n      <td>Albania</td>\n      <td>ALB</td>\n      <td>2017</td>\n      <td>4.754858e+10</td>\n      <td>3.066373</td>\n      <td>4.040004e+10</td>\n      <td>2.605369</td>\n      <td>1.941324e+09</td>\n      <td>0.125195</td>\n      <td>61861356.38</td>\n      <td>0.003989</td>\n      <td>5.145347e+09</td>\n      <td>0.331820</td>\n    </tr>\n    <tr>\n      <th>3</th>\n      <td>Albania</td>\n      <td>ALB</td>\n      <td>2018</td>\n      <td>5.114559e+10</td>\n      <td>3.124865</td>\n      <td>4.352182e+10</td>\n      <td>2.659072</td>\n      <td>2.226251e+09</td>\n      <td>0.136018</td>\n      <td>56011991.00</td>\n      <td>0.003422</td>\n      <td>5.341506e+09</td>\n      <td>0.326352</td>\n    </tr>\n    <tr>\n      <th>4</th>\n      <td>Albania</td>\n      <td>ALB</td>\n      <td>2019</td>\n      <td>5.341565e+10</td>\n      <td>3.157133</td>\n      <td>4.516530e+10</td>\n      <td>2.669496</td>\n      <td>2.625011e+09</td>\n      <td>0.155151</td>\n      <td>58777099.50</td>\n      <td>0.003474</td>\n      <td>5.566564e+09</td>\n      <td>0.329012</td>\n    </tr>\n  </tbody>\n</table>\n</div>"
     },
     "execution_count": 264,
     "metadata": {},
     "output_type": "execute_result"
    }
   ],
   "source": [
    "# (Titres anglais) Supprimer les lignes avec NaN ou 0 dans les 10 colonnes spécifiées\n",
    "taxE = taxE.drop(taxE[(taxE['ECGTE_EnvTaxes_DomCCY'].isna() | (taxE['ECGTE_EnvTaxes_DomCCY'] == 0)) & (taxE['ECGTE_EnvTaxes_PctGDP'].isna() | (taxE['ECGTE_EnvTaxes_PctGDP'] == 0)) & (taxE['ECGTEN_TaxesEnergy_InclFuelTrans_DomCCY'].isna() | (taxE['ECGTEN_TaxesEnergy_InclFuelTrans_DomCCY'] == 0)) & (taxE['ECGTEN_TaxesEnergy_InclFuelTrans_PctGDP'].isna() | (taxE['ECGTEN_TaxesEnergy_InclFuelTrans_PctGDP'] == 0)) & (taxE['ECGTEP_TaxesPollution_DomCCY'].isna() | (taxE['ECGTEP_TaxesPollution_DomCCY'] == 0)) & (taxE['ECGTEP_TaxesPollution_PctGDP'].isna() | (taxE['ECGTEP_TaxesPollution_PctGDP'] == 0)) & (taxE['ECGTER_TaxesResources_DomCCY'].isna() | (taxE['ECGTER_TaxesResources_DomCCY'] == 0)) & (taxE['ECGTER_TaxesResources_PctGDP'].isna() | (taxE['ECGTER_TaxesResources_PctGDP'] == 0)) & (taxE['ECGTET_TaxesTrans_ExclFuelTrans_DomCCY'].isna() | (taxE['ECGTET_TaxesTrans_ExclFuelTrans_DomCCY'] == 0)) & (taxE['ECGTET_TaxesTrans_ExclFuelTrans_PctGDP'].isna() | (taxE['ECGTET_TaxesTrans_ExclFuelTrans_PctGDP'] == 0))].index)\n",
    "\n",
    "# Réinitialiser les index après la suppression des lignes\n",
    "taxE = taxE.reset_index(drop=True)\n",
    "\n",
    "# Afficher le dataframe après suppression\n",
    "taxE.head(5)"
   ],
   "metadata": {
    "collapsed": false,
    "ExecuteTime": {
     "end_time": "2024-03-03T22:18:54.099730Z",
     "start_time": "2024-03-03T22:18:54.089191Z"
    }
   },
   "id": "420629a6220ad8a5",
   "execution_count": 264
  },
  {
   "cell_type": "code",
   "outputs": [],
   "source": [
    "taxE = taxE.fillna(0)"
   ],
   "metadata": {
    "collapsed": false,
    "ExecuteTime": {
     "end_time": "2024-03-03T22:18:54.103282Z",
     "start_time": "2024-03-03T22:18:54.100734Z"
    }
   },
   "id": "13c054cfb81c76b7",
   "execution_count": 265
  },
  {
   "cell_type": "code",
   "outputs": [],
   "source": [
    "taxE.to_csv('./output/Tax_Energy.csv', index=False)"
   ],
   "metadata": {
    "collapsed": false,
    "ExecuteTime": {
     "end_time": "2024-03-03T22:18:54.115919Z",
     "start_time": "2024-03-03T22:18:54.103282Z"
    }
   },
   "id": "f16bf5453b05c128",
   "execution_count": 266
  },
  {
   "cell_type": "code",
   "outputs": [],
   "source": [
    "# Changement de types\n",
    "wec['year'] = wec['year'].astype(int)\n",
    "data['year'] = data['year'].astype(int)\n",
    "taxE['year'] = taxE['year'].astype(int)\n",
    "\n",
    "wec['country'] = wec['country'].astype(str)\n",
    "data['country'] = data['country'].astype(str)\n",
    "taxE['country'] = taxE['country'].astype(str)\n",
    "\n",
    "# Fusion des valeurs de Co2\n",
    "wec = pd.merge(wec, taxE, on=[\"country\", \"year\"], how='left')\n",
    "\n",
    "# Valeurs enregistrés\n",
    "wec.to_csv('./output/World_Energy_Consumption_Full.csv', index=False)"
   ],
   "metadata": {
    "collapsed": false,
    "ExecuteTime": {
     "end_time": "2024-03-03T22:18:54.409557Z",
     "start_time": "2024-03-03T22:18:54.115919Z"
    }
   },
   "id": "9bbdc521affc357a",
   "execution_count": 267
  },
  {
   "cell_type": "code",
   "outputs": [
    {
     "data": {
      "text/plain": "   year  price_crude_oil  price_coal  price_natural_gas\n0  1960             1.63         0.0               0.14\n1  1961             1.57         0.0               0.15\n2  1962             1.52         0.0               0.16\n3  1963             1.50         0.0               0.16\n4  1964             1.45         0.0               0.15\n5  1965             1.42         0.0               0.16\n6  1966             1.36         0.0               0.16\n7  1967             1.33         0.0               0.16\n8  1968             1.32         0.0               0.16\n9  1969             1.27         0.0               0.17",
      "text/html": "<div>\n<style scoped>\n    .dataframe tbody tr th:only-of-type {\n        vertical-align: middle;\n    }\n\n    .dataframe tbody tr th {\n        vertical-align: top;\n    }\n\n    .dataframe thead th {\n        text-align: right;\n    }\n</style>\n<table border=\"1\" class=\"dataframe\">\n  <thead>\n    <tr style=\"text-align: right;\">\n      <th></th>\n      <th>year</th>\n      <th>price_crude_oil</th>\n      <th>price_coal</th>\n      <th>price_natural_gas</th>\n    </tr>\n  </thead>\n  <tbody>\n    <tr>\n      <th>0</th>\n      <td>1960</td>\n      <td>1.63</td>\n      <td>0.0</td>\n      <td>0.14</td>\n    </tr>\n    <tr>\n      <th>1</th>\n      <td>1961</td>\n      <td>1.57</td>\n      <td>0.0</td>\n      <td>0.15</td>\n    </tr>\n    <tr>\n      <th>2</th>\n      <td>1962</td>\n      <td>1.52</td>\n      <td>0.0</td>\n      <td>0.16</td>\n    </tr>\n    <tr>\n      <th>3</th>\n      <td>1963</td>\n      <td>1.50</td>\n      <td>0.0</td>\n      <td>0.16</td>\n    </tr>\n    <tr>\n      <th>4</th>\n      <td>1964</td>\n      <td>1.45</td>\n      <td>0.0</td>\n      <td>0.15</td>\n    </tr>\n    <tr>\n      <th>5</th>\n      <td>1965</td>\n      <td>1.42</td>\n      <td>0.0</td>\n      <td>0.16</td>\n    </tr>\n    <tr>\n      <th>6</th>\n      <td>1966</td>\n      <td>1.36</td>\n      <td>0.0</td>\n      <td>0.16</td>\n    </tr>\n    <tr>\n      <th>7</th>\n      <td>1967</td>\n      <td>1.33</td>\n      <td>0.0</td>\n      <td>0.16</td>\n    </tr>\n    <tr>\n      <th>8</th>\n      <td>1968</td>\n      <td>1.32</td>\n      <td>0.0</td>\n      <td>0.16</td>\n    </tr>\n    <tr>\n      <th>9</th>\n      <td>1969</td>\n      <td>1.27</td>\n      <td>0.0</td>\n      <td>0.17</td>\n    </tr>\n  </tbody>\n</table>\n</div>"
     },
     "execution_count": 268,
     "metadata": {},
     "output_type": "execute_result"
    }
   ],
   "source": [
    "# Charger le fichier CSV dans un DataFrame\n",
    "df_price = pd.read_csv('./assets/energy_prices.csv')\n",
    "\n",
    "# Définir les nouveaux noms de colonnes\n",
    "nouveaux_noms = {\n",
    "    'Crude Oil': 'price_crude_oil',\n",
    "    'Coal': 'price_coal',\n",
    "    'Natural Gas': 'price_natural_gas',\n",
    "    'Year': 'year'\n",
    "}\n",
    "\n",
    "# Renommer les colonnes\n",
    "df_price.rename(columns=nouveaux_noms, inplace=True)\n",
    "\n",
    "df_price = df_price.fillna(0)\n",
    "\n",
    "df_price['price_crude_oil'] = df_price['price_crude_oil'].astype(float)\n",
    "df_price['price_coal'] = df_price['price_coal'].astype(float)\n",
    "df_price['price_natural_gas'] = df_price['price_natural_gas'].astype(float)\n",
    "df_price['year'] = df_price['year'].astype(int)\n",
    "\n",
    "df_price.head(10)\n",
    "\n"
   ],
   "metadata": {
    "collapsed": false,
    "ExecuteTime": {
     "end_time": "2024-03-03T22:18:54.418523Z",
     "start_time": "2024-03-03T22:18:54.409557Z"
    }
   },
   "id": "c88c7a5df390d2e0",
   "execution_count": 268
  },
  {
   "cell_type": "code",
   "outputs": [],
   "source": [],
   "metadata": {
    "collapsed": false,
    "ExecuteTime": {
     "end_time": "2024-03-03T22:18:54.420667Z",
     "start_time": "2024-03-03T22:18:54.418523Z"
    }
   },
   "id": "e54df2b6e8031bf7",
   "execution_count": 268
  },
  {
   "cell_type": "code",
   "outputs": [],
   "source": [
    "# Fusion des valeurs pour les prix des energies fossiles dans pour le monde\n",
    "wec = pd.merge(wec, df_price[df_price['year'].isin(wec[wec['country'] == 'World']['year'])], on=[\"year\"], how='left')\n",
    "wec.to_csv('./output/World_Energy_Consumption_Full.csv', index=False)\n"
   ],
   "metadata": {
    "collapsed": false,
    "ExecuteTime": {
     "end_time": "2024-03-03T22:18:54.732595Z",
     "start_time": "2024-03-03T22:18:54.420667Z"
    }
   },
   "id": "eeabdbdb322246b1",
   "execution_count": 269
  },
  {
   "cell_type": "code",
   "outputs": [
    {
     "data": {
      "text/plain": "     country  year iso_code    population           gdp  \\\n7710   World  1961      NaN  3.068371e+09           NaN   \n7711   World  1962      NaN  3.126687e+09           NaN   \n7712   World  1963      NaN  3.195779e+09           NaN   \n7713   World  1964      NaN  3.267212e+09           NaN   \n7714   World  1965      NaN  3.337112e+09           NaN   \n7715   World  1966      NaN  3.406417e+09           NaN   \n7716   World  1967      NaN  3.475448e+09           NaN   \n7717   World  1968      NaN  3.546811e+09           NaN   \n7718   World  1969      NaN  3.620655e+09           NaN   \n7719   World  1970      NaN  3.695390e+09  2.181445e+13   \n7720   World  1971      NaN  3.770163e+09           NaN   \n7721   World  1972      NaN  3.844801e+09           NaN   \n7722   World  1973      NaN  3.920251e+09           NaN   \n7723   World  1974      NaN  3.995517e+09           NaN   \n7724   World  1975      NaN  4.069437e+09           NaN   \n7725   World  1976      NaN  4.142506e+09           NaN   \n7726   World  1977      NaN  4.215772e+09           NaN   \n7727   World  1978      NaN  4.289658e+09           NaN   \n7728   World  1979      NaN  4.365583e+09           NaN   \n7729   World  1980      NaN  4.444008e+09  3.188098e+13   \n7730   World  1981      NaN  4.524627e+09           NaN   \n7731   World  1982      NaN  4.607985e+09           NaN   \n7732   World  1983      NaN  4.691884e+09           NaN   \n7733   World  1984      NaN  4.775836e+09           NaN   \n7734   World  1985      NaN  4.861731e+09           NaN   \n7735   World  1986      NaN  4.950063e+09           NaN   \n7736   World  1987      NaN  5.040985e+09           NaN   \n7737   World  1988      NaN  5.132294e+09           NaN   \n7738   World  1989      NaN  5.223704e+09           NaN   \n7739   World  1990      NaN  5.316176e+09  4.301825e+13   \n7740   World  1991      NaN  5.406246e+09           NaN   \n7741   World  1992      NaN  5.492686e+09           NaN   \n7742   World  1993      NaN  5.577434e+09           NaN   \n7743   World  1994      NaN  5.660728e+09           NaN   \n7744   World  1995      NaN  5.743220e+09           NaN   \n7745   World  1996      NaN  5.825145e+09           NaN   \n7746   World  1997      NaN  5.906481e+09           NaN   \n7747   World  1998      NaN  5.987313e+09           NaN   \n7748   World  1999      NaN  6.067759e+09           NaN   \n7749   World  2000      NaN  6.148899e+09  5.986666e+13   \n7750   World  2001      NaN  6.230747e+09           NaN   \n7751   World  2002      NaN  6.312408e+09           NaN   \n7752   World  2003      NaN  6.393898e+09           NaN   \n7753   World  2004      NaN  6.475751e+09           NaN   \n7754   World  2005      NaN  6.558176e+09           NaN   \n7755   World  2006      NaN  6.641416e+09           NaN   \n7756   World  2007      NaN  6.725948e+09           NaN   \n7757   World  2008      NaN  6.811597e+09           NaN   \n7758   World  2009      NaN  6.898306e+09           NaN   \n7759   World  2010      NaN  6.985603e+09  8.980730e+13   \n\n      biofuel_cons_change_pct  biofuel_cons_change_twh  \\\n7710                      NaN                      NaN   \n7711                      NaN                      NaN   \n7712                      NaN                      NaN   \n7713                      NaN                      NaN   \n7714                      NaN                      NaN   \n7715                    1.993                    0.180   \n7716                    1.888                    0.174   \n7717                    1.813                    0.170   \n7718                    1.781                    0.170   \n7719                   38.847                    3.778   \n7720                    0.449                    0.061   \n7721                    9.298                    1.261   \n7722                   -3.863                   -0.573   \n7723                    0.591                    0.084   \n7724                   -4.509                   -0.646   \n7725                    0.459                    0.063   \n7726                   33.214                    4.567   \n7727                   26.532                    4.860   \n7728                   20.900                    4.844   \n7729                   16.996                    4.763   \n7730                   -9.267                   -3.038   \n7731                   26.248                    7.808   \n7732                   30.522                   11.463   \n7733                   17.926                    8.787   \n7734                   18.343                   10.604   \n7735                   23.086                   15.793   \n7736                    1.339                    1.127   \n7737                    4.957                    4.230   \n7738                    6.843                    6.129   \n7739                   11.447                   10.954   \n7740                    3.831                    4.086   \n7741                   -1.745                   -1.932   \n7742                    5.191                    5.648   \n7743                    8.503                    9.731   \n7744                    5.658                    7.026   \n7745                   -4.031                   -5.288   \n7746                    3.391                    4.270   \n7747                    2.579                    3.357   \n7748                    1.416                    1.891   \n7749                   -1.856                   -2.513   \n7750                   -1.176                   -1.564   \n7751                   21.048                   27.648   \n7752                   12.154                   19.325   \n7753                   17.883                   31.890   \n7754                   17.272                   36.308   \n7755                   24.336                   59.994   \n7756                   29.628                   90.816   \n7757                   35.519                  141.131   \n7758                   13.406                   72.186   \n7759                   14.593                   89.110   \n\n      biofuel_cons_per_capita  biofuel_consumption  biofuel_elec_per_capita  \\\n7710                      NaN                  NaN                      NaN   \n7711                      NaN                  NaN                      NaN   \n7712                      NaN                  NaN                      NaN   \n7713                      NaN                  NaN                      NaN   \n7714                    2.706                9.030                      NaN   \n7715                    2.704                9.210                      NaN   \n7716                    2.700                9.384                      NaN   \n7717                    2.694                9.554                      NaN   \n7718                    2.686                9.724                      NaN   \n7719                    3.654               13.501                      NaN   \n7720                    3.597               13.562                      NaN   \n7721                    3.855               14.823                      NaN   \n7722                    3.635               14.251                      NaN   \n7723                    3.588               14.335                      NaN   \n7724                    3.364               13.688                      NaN   \n7725                    3.320               13.751                      NaN   \n7726                    4.345               18.319                      NaN   \n7727                    5.403               23.179                      NaN   \n7728                    6.419               28.023                      NaN   \n7729                    7.378               32.786                      NaN   \n7730                    6.575               29.748                      NaN   \n7731                    8.150               37.556                      NaN   \n7732                   10.448               49.019                      NaN   \n7733                   12.104               57.806                      NaN   \n7734                   14.071               68.410                      NaN   \n7735                   17.010               84.203                      NaN   \n7736                   16.927               85.330                      NaN   \n7737                   17.450               89.560                      NaN   \n7738                   18.318               95.689                      NaN   \n7739                   20.060              106.643                      NaN   \n7740                   20.482              110.729                      NaN   \n7741                   19.807              108.796                      NaN   \n7742                   20.519              114.444                      NaN   \n7743                   21.936              124.175                      NaN   \n7744                   22.845              131.202                      NaN   \n7745                   21.615              125.913                      NaN   \n7746                   22.041              130.183                      NaN   \n7747                   22.304              133.540                      NaN   \n7748                   22.320              135.431                      NaN   \n7749                   21.617              132.918                   24.175   \n7750                   21.082              131.354                   22.967   \n7751                   25.189              159.002                   24.810   \n7752                   27.890              178.327                   26.261   \n7753                   32.462              210.217                   28.497   \n7754                   37.591              246.526                   31.783   \n7755                   46.153              306.519                   33.270   \n7756                   59.075              397.336                   36.150   \n7757                   79.052              538.467                   37.941   \n7758                   88.522              610.654                   40.524   \n7759                  100.172              699.763                   46.126   \n\n      ...  ECGTEN_TaxesEnergy_InclFuelTrans_PctGDP  \\\n7710  ...                                      NaN   \n7711  ...                                      NaN   \n7712  ...                                      NaN   \n7713  ...                                      NaN   \n7714  ...                                      NaN   \n7715  ...                                      NaN   \n7716  ...                                      NaN   \n7717  ...                                      NaN   \n7718  ...                                      NaN   \n7719  ...                                      NaN   \n7720  ...                                      NaN   \n7721  ...                                      NaN   \n7722  ...                                      NaN   \n7723  ...                                      NaN   \n7724  ...                                      NaN   \n7725  ...                                      NaN   \n7726  ...                                      NaN   \n7727  ...                                      NaN   \n7728  ...                                      NaN   \n7729  ...                                      NaN   \n7730  ...                                      NaN   \n7731  ...                                      NaN   \n7732  ...                                      NaN   \n7733  ...                                      NaN   \n7734  ...                                      NaN   \n7735  ...                                      NaN   \n7736  ...                                      NaN   \n7737  ...                                      NaN   \n7738  ...                                      NaN   \n7739  ...                                      NaN   \n7740  ...                                      NaN   \n7741  ...                                      NaN   \n7742  ...                                      NaN   \n7743  ...                                      NaN   \n7744  ...                                      NaN   \n7745  ...                                      NaN   \n7746  ...                                      NaN   \n7747  ...                                      NaN   \n7748  ...                                      NaN   \n7749  ...                                      NaN   \n7750  ...                                      NaN   \n7751  ...                                      NaN   \n7752  ...                                      NaN   \n7753  ...                                      NaN   \n7754  ...                                      NaN   \n7755  ...                                      NaN   \n7756  ...                                      NaN   \n7757  ...                                      NaN   \n7758  ...                                      NaN   \n7759  ...                                      NaN   \n\n      ECGTEP_TaxesPollution_DomCCY  ECGTEP_TaxesPollution_PctGDP  \\\n7710                           NaN                           NaN   \n7711                           NaN                           NaN   \n7712                           NaN                           NaN   \n7713                           NaN                           NaN   \n7714                           NaN                           NaN   \n7715                           NaN                           NaN   \n7716                           NaN                           NaN   \n7717                           NaN                           NaN   \n7718                           NaN                           NaN   \n7719                           NaN                           NaN   \n7720                           NaN                           NaN   \n7721                           NaN                           NaN   \n7722                           NaN                           NaN   \n7723                           NaN                           NaN   \n7724                           NaN                           NaN   \n7725                           NaN                           NaN   \n7726                           NaN                           NaN   \n7727                           NaN                           NaN   \n7728                           NaN                           NaN   \n7729                           NaN                           NaN   \n7730                           NaN                           NaN   \n7731                           NaN                           NaN   \n7732                           NaN                           NaN   \n7733                           NaN                           NaN   \n7734                           NaN                           NaN   \n7735                           NaN                           NaN   \n7736                           NaN                           NaN   \n7737                           NaN                           NaN   \n7738                           NaN                           NaN   \n7739                           NaN                           NaN   \n7740                           NaN                           NaN   \n7741                           NaN                           NaN   \n7742                           NaN                           NaN   \n7743                           NaN                           NaN   \n7744                           NaN                           NaN   \n7745                           NaN                           NaN   \n7746                           NaN                           NaN   \n7747                           NaN                           NaN   \n7748                           NaN                           NaN   \n7749                           NaN                           NaN   \n7750                           NaN                           NaN   \n7751                           NaN                           NaN   \n7752                           NaN                           NaN   \n7753                           NaN                           NaN   \n7754                           NaN                           NaN   \n7755                           NaN                           NaN   \n7756                           NaN                           NaN   \n7757                           NaN                           NaN   \n7758                           NaN                           NaN   \n7759                           NaN                           NaN   \n\n      ECGTER_TaxesResources_DomCCY  ECGTER_TaxesResources_PctGDP  \\\n7710                           NaN                           NaN   \n7711                           NaN                           NaN   \n7712                           NaN                           NaN   \n7713                           NaN                           NaN   \n7714                           NaN                           NaN   \n7715                           NaN                           NaN   \n7716                           NaN                           NaN   \n7717                           NaN                           NaN   \n7718                           NaN                           NaN   \n7719                           NaN                           NaN   \n7720                           NaN                           NaN   \n7721                           NaN                           NaN   \n7722                           NaN                           NaN   \n7723                           NaN                           NaN   \n7724                           NaN                           NaN   \n7725                           NaN                           NaN   \n7726                           NaN                           NaN   \n7727                           NaN                           NaN   \n7728                           NaN                           NaN   \n7729                           NaN                           NaN   \n7730                           NaN                           NaN   \n7731                           NaN                           NaN   \n7732                           NaN                           NaN   \n7733                           NaN                           NaN   \n7734                           NaN                           NaN   \n7735                           NaN                           NaN   \n7736                           NaN                           NaN   \n7737                           NaN                           NaN   \n7738                           NaN                           NaN   \n7739                           NaN                           NaN   \n7740                           NaN                           NaN   \n7741                           NaN                           NaN   \n7742                           NaN                           NaN   \n7743                           NaN                           NaN   \n7744                           NaN                           NaN   \n7745                           NaN                           NaN   \n7746                           NaN                           NaN   \n7747                           NaN                           NaN   \n7748                           NaN                           NaN   \n7749                           NaN                           NaN   \n7750                           NaN                           NaN   \n7751                           NaN                           NaN   \n7752                           NaN                           NaN   \n7753                           NaN                           NaN   \n7754                           NaN                           NaN   \n7755                           NaN                           NaN   \n7756                           NaN                           NaN   \n7757                           NaN                           NaN   \n7758                           NaN                           NaN   \n7759                           NaN                           NaN   \n\n      ECGTET_TaxesTrans_ExclFuelTrans_DomCCY  \\\n7710                                     NaN   \n7711                                     NaN   \n7712                                     NaN   \n7713                                     NaN   \n7714                                     NaN   \n7715                                     NaN   \n7716                                     NaN   \n7717                                     NaN   \n7718                                     NaN   \n7719                                     NaN   \n7720                                     NaN   \n7721                                     NaN   \n7722                                     NaN   \n7723                                     NaN   \n7724                                     NaN   \n7725                                     NaN   \n7726                                     NaN   \n7727                                     NaN   \n7728                                     NaN   \n7729                                     NaN   \n7730                                     NaN   \n7731                                     NaN   \n7732                                     NaN   \n7733                                     NaN   \n7734                                     NaN   \n7735                                     NaN   \n7736                                     NaN   \n7737                                     NaN   \n7738                                     NaN   \n7739                                     NaN   \n7740                                     NaN   \n7741                                     NaN   \n7742                                     NaN   \n7743                                     NaN   \n7744                                     NaN   \n7745                                     NaN   \n7746                                     NaN   \n7747                                     NaN   \n7748                                     NaN   \n7749                                     NaN   \n7750                                     NaN   \n7751                                     NaN   \n7752                                     NaN   \n7753                                     NaN   \n7754                                     NaN   \n7755                                     NaN   \n7756                                     NaN   \n7757                                     NaN   \n7758                                     NaN   \n7759                                     NaN   \n\n      ECGTET_TaxesTrans_ExclFuelTrans_PctGDP  price_crude_oil  price_coal  \\\n7710                                     NaN             1.57        0.00   \n7711                                     NaN             1.52        0.00   \n7712                                     NaN             1.50        0.00   \n7713                                     NaN             1.45        0.00   \n7714                                     NaN             1.42        0.00   \n7715                                     NaN             1.36        0.00   \n7716                                     NaN             1.33        0.00   \n7717                                     NaN             1.32        0.00   \n7718                                     NaN             1.27        0.00   \n7719                                     NaN             1.21        7.80   \n7720                                     NaN             1.69        8.68   \n7721                                     NaN             1.82        9.60   \n7722                                     NaN             2.81       11.48   \n7723                                     NaN            10.97       16.89   \n7724                                     NaN            10.43       26.84   \n7725                                     NaN            11.63       27.16   \n7726                                     NaN            12.57       28.68   \n7727                                     NaN            12.92       29.06   \n7728                                     NaN            30.96       30.89   \n7729                                     NaN            36.87       40.14   \n7730                                     NaN            35.48       53.62   \n7731                                     NaN            32.65       54.77   \n7732                                     NaN            29.66       38.19   \n7733                                     NaN            28.56       30.96   \n7734                                     NaN            27.18       33.75   \n7735                                     NaN            14.35       31.13   \n7736                                     NaN            18.15       27.50   \n7737                                     NaN            14.72       34.88   \n7738                                     NaN            17.84       38.00   \n7739                                     NaN            22.88       39.67   \n7740                                     NaN            19.37       39.67   \n7741                                     NaN            19.02       38.56   \n7742                                     NaN            16.84       31.33   \n7743                                     NaN            15.89       32.30   \n7744                                     NaN            17.18       39.37   \n7745                                     NaN            20.42       38.07   \n7746                                     NaN            19.17       35.10   \n7747                                     NaN            13.06       29.23   \n7748                                     NaN            18.07       25.89   \n7749                                     NaN            28.23       26.25   \n7750                                     NaN            24.35       32.31   \n7751                                     NaN            24.93       25.31   \n7752                                     NaN            28.90       26.09   \n7753                                     NaN            37.73       52.95   \n7754                                     NaN            53.39       47.62   \n7755                                     NaN            64.29       49.09   \n7756                                     NaN            71.12       65.73   \n7757                                     NaN            96.99      127.10   \n7758                                     NaN            61.76       71.84   \n7759                                     NaN            79.04       98.97   \n\n      price_natural_gas  \n7710               0.15  \n7711               0.16  \n7712               0.16  \n7713               0.15  \n7714               0.16  \n7715               0.16  \n7716               0.16  \n7717               0.16  \n7718               0.17  \n7719               0.17  \n7720               0.18  \n7721               0.19  \n7722               0.21  \n7723               0.29  \n7724               0.43  \n7725               0.58  \n7726               0.79  \n7727               0.91  \n7728               1.18  \n7729               1.59  \n7730               1.98  \n7731               2.47  \n7732               2.59  \n7733               2.66  \n7734               2.51  \n7735               1.94  \n7736               1.66  \n7737               1.68  \n7738               1.70  \n7739               1.70  \n7740               1.49  \n7741               1.77  \n7742               2.12  \n7743               1.92  \n7744               1.72  \n7745               2.73  \n7746               2.48  \n7747               2.09  \n7748               2.27  \n7749               4.31  \n7750               3.96  \n7751               3.36  \n7752               5.49  \n7753               5.89  \n7754               8.92  \n7755               6.72  \n7756               6.98  \n7757               8.86  \n7758               3.95  \n7759               4.39  \n\n[50 rows x 144 columns]",
      "text/html": "<div>\n<style scoped>\n    .dataframe tbody tr th:only-of-type {\n        vertical-align: middle;\n    }\n\n    .dataframe tbody tr th {\n        vertical-align: top;\n    }\n\n    .dataframe thead th {\n        text-align: right;\n    }\n</style>\n<table border=\"1\" class=\"dataframe\">\n  <thead>\n    <tr style=\"text-align: right;\">\n      <th></th>\n      <th>country</th>\n      <th>year</th>\n      <th>iso_code</th>\n      <th>population</th>\n      <th>gdp</th>\n      <th>biofuel_cons_change_pct</th>\n      <th>biofuel_cons_change_twh</th>\n      <th>biofuel_cons_per_capita</th>\n      <th>biofuel_consumption</th>\n      <th>biofuel_elec_per_capita</th>\n      <th>...</th>\n      <th>ECGTEN_TaxesEnergy_InclFuelTrans_PctGDP</th>\n      <th>ECGTEP_TaxesPollution_DomCCY</th>\n      <th>ECGTEP_TaxesPollution_PctGDP</th>\n      <th>ECGTER_TaxesResources_DomCCY</th>\n      <th>ECGTER_TaxesResources_PctGDP</th>\n      <th>ECGTET_TaxesTrans_ExclFuelTrans_DomCCY</th>\n      <th>ECGTET_TaxesTrans_ExclFuelTrans_PctGDP</th>\n      <th>price_crude_oil</th>\n      <th>price_coal</th>\n      <th>price_natural_gas</th>\n    </tr>\n  </thead>\n  <tbody>\n    <tr>\n      <th>7710</th>\n      <td>World</td>\n      <td>1961</td>\n      <td>NaN</td>\n      <td>3.068371e+09</td>\n      <td>NaN</td>\n      <td>NaN</td>\n      <td>NaN</td>\n      <td>NaN</td>\n      <td>NaN</td>\n      <td>NaN</td>\n      <td>...</td>\n      <td>NaN</td>\n      <td>NaN</td>\n      <td>NaN</td>\n      <td>NaN</td>\n      <td>NaN</td>\n      <td>NaN</td>\n      <td>NaN</td>\n      <td>1.57</td>\n      <td>0.00</td>\n      <td>0.15</td>\n    </tr>\n    <tr>\n      <th>7711</th>\n      <td>World</td>\n      <td>1962</td>\n      <td>NaN</td>\n      <td>3.126687e+09</td>\n      <td>NaN</td>\n      <td>NaN</td>\n      <td>NaN</td>\n      <td>NaN</td>\n      <td>NaN</td>\n      <td>NaN</td>\n      <td>...</td>\n      <td>NaN</td>\n      <td>NaN</td>\n      <td>NaN</td>\n      <td>NaN</td>\n      <td>NaN</td>\n      <td>NaN</td>\n      <td>NaN</td>\n      <td>1.52</td>\n      <td>0.00</td>\n      <td>0.16</td>\n    </tr>\n    <tr>\n      <th>7712</th>\n      <td>World</td>\n      <td>1963</td>\n      <td>NaN</td>\n      <td>3.195779e+09</td>\n      <td>NaN</td>\n      <td>NaN</td>\n      <td>NaN</td>\n      <td>NaN</td>\n      <td>NaN</td>\n      <td>NaN</td>\n      <td>...</td>\n      <td>NaN</td>\n      <td>NaN</td>\n      <td>NaN</td>\n      <td>NaN</td>\n      <td>NaN</td>\n      <td>NaN</td>\n      <td>NaN</td>\n      <td>1.50</td>\n      <td>0.00</td>\n      <td>0.16</td>\n    </tr>\n    <tr>\n      <th>7713</th>\n      <td>World</td>\n      <td>1964</td>\n      <td>NaN</td>\n      <td>3.267212e+09</td>\n      <td>NaN</td>\n      <td>NaN</td>\n      <td>NaN</td>\n      <td>NaN</td>\n      <td>NaN</td>\n      <td>NaN</td>\n      <td>...</td>\n      <td>NaN</td>\n      <td>NaN</td>\n      <td>NaN</td>\n      <td>NaN</td>\n      <td>NaN</td>\n      <td>NaN</td>\n      <td>NaN</td>\n      <td>1.45</td>\n      <td>0.00</td>\n      <td>0.15</td>\n    </tr>\n    <tr>\n      <th>7714</th>\n      <td>World</td>\n      <td>1965</td>\n      <td>NaN</td>\n      <td>3.337112e+09</td>\n      <td>NaN</td>\n      <td>NaN</td>\n      <td>NaN</td>\n      <td>2.706</td>\n      <td>9.030</td>\n      <td>NaN</td>\n      <td>...</td>\n      <td>NaN</td>\n      <td>NaN</td>\n      <td>NaN</td>\n      <td>NaN</td>\n      <td>NaN</td>\n      <td>NaN</td>\n      <td>NaN</td>\n      <td>1.42</td>\n      <td>0.00</td>\n      <td>0.16</td>\n    </tr>\n    <tr>\n      <th>7715</th>\n      <td>World</td>\n      <td>1966</td>\n      <td>NaN</td>\n      <td>3.406417e+09</td>\n      <td>NaN</td>\n      <td>1.993</td>\n      <td>0.180</td>\n      <td>2.704</td>\n      <td>9.210</td>\n      <td>NaN</td>\n      <td>...</td>\n      <td>NaN</td>\n      <td>NaN</td>\n      <td>NaN</td>\n      <td>NaN</td>\n      <td>NaN</td>\n      <td>NaN</td>\n      <td>NaN</td>\n      <td>1.36</td>\n      <td>0.00</td>\n      <td>0.16</td>\n    </tr>\n    <tr>\n      <th>7716</th>\n      <td>World</td>\n      <td>1967</td>\n      <td>NaN</td>\n      <td>3.475448e+09</td>\n      <td>NaN</td>\n      <td>1.888</td>\n      <td>0.174</td>\n      <td>2.700</td>\n      <td>9.384</td>\n      <td>NaN</td>\n      <td>...</td>\n      <td>NaN</td>\n      <td>NaN</td>\n      <td>NaN</td>\n      <td>NaN</td>\n      <td>NaN</td>\n      <td>NaN</td>\n      <td>NaN</td>\n      <td>1.33</td>\n      <td>0.00</td>\n      <td>0.16</td>\n    </tr>\n    <tr>\n      <th>7717</th>\n      <td>World</td>\n      <td>1968</td>\n      <td>NaN</td>\n      <td>3.546811e+09</td>\n      <td>NaN</td>\n      <td>1.813</td>\n      <td>0.170</td>\n      <td>2.694</td>\n      <td>9.554</td>\n      <td>NaN</td>\n      <td>...</td>\n      <td>NaN</td>\n      <td>NaN</td>\n      <td>NaN</td>\n      <td>NaN</td>\n      <td>NaN</td>\n      <td>NaN</td>\n      <td>NaN</td>\n      <td>1.32</td>\n      <td>0.00</td>\n      <td>0.16</td>\n    </tr>\n    <tr>\n      <th>7718</th>\n      <td>World</td>\n      <td>1969</td>\n      <td>NaN</td>\n      <td>3.620655e+09</td>\n      <td>NaN</td>\n      <td>1.781</td>\n      <td>0.170</td>\n      <td>2.686</td>\n      <td>9.724</td>\n      <td>NaN</td>\n      <td>...</td>\n      <td>NaN</td>\n      <td>NaN</td>\n      <td>NaN</td>\n      <td>NaN</td>\n      <td>NaN</td>\n      <td>NaN</td>\n      <td>NaN</td>\n      <td>1.27</td>\n      <td>0.00</td>\n      <td>0.17</td>\n    </tr>\n    <tr>\n      <th>7719</th>\n      <td>World</td>\n      <td>1970</td>\n      <td>NaN</td>\n      <td>3.695390e+09</td>\n      <td>2.181445e+13</td>\n      <td>38.847</td>\n      <td>3.778</td>\n      <td>3.654</td>\n      <td>13.501</td>\n      <td>NaN</td>\n      <td>...</td>\n      <td>NaN</td>\n      <td>NaN</td>\n      <td>NaN</td>\n      <td>NaN</td>\n      <td>NaN</td>\n      <td>NaN</td>\n      <td>NaN</td>\n      <td>1.21</td>\n      <td>7.80</td>\n      <td>0.17</td>\n    </tr>\n    <tr>\n      <th>7720</th>\n      <td>World</td>\n      <td>1971</td>\n      <td>NaN</td>\n      <td>3.770163e+09</td>\n      <td>NaN</td>\n      <td>0.449</td>\n      <td>0.061</td>\n      <td>3.597</td>\n      <td>13.562</td>\n      <td>NaN</td>\n      <td>...</td>\n      <td>NaN</td>\n      <td>NaN</td>\n      <td>NaN</td>\n      <td>NaN</td>\n      <td>NaN</td>\n      <td>NaN</td>\n      <td>NaN</td>\n      <td>1.69</td>\n      <td>8.68</td>\n      <td>0.18</td>\n    </tr>\n    <tr>\n      <th>7721</th>\n      <td>World</td>\n      <td>1972</td>\n      <td>NaN</td>\n      <td>3.844801e+09</td>\n      <td>NaN</td>\n      <td>9.298</td>\n      <td>1.261</td>\n      <td>3.855</td>\n      <td>14.823</td>\n      <td>NaN</td>\n      <td>...</td>\n      <td>NaN</td>\n      <td>NaN</td>\n      <td>NaN</td>\n      <td>NaN</td>\n      <td>NaN</td>\n      <td>NaN</td>\n      <td>NaN</td>\n      <td>1.82</td>\n      <td>9.60</td>\n      <td>0.19</td>\n    </tr>\n    <tr>\n      <th>7722</th>\n      <td>World</td>\n      <td>1973</td>\n      <td>NaN</td>\n      <td>3.920251e+09</td>\n      <td>NaN</td>\n      <td>-3.863</td>\n      <td>-0.573</td>\n      <td>3.635</td>\n      <td>14.251</td>\n      <td>NaN</td>\n      <td>...</td>\n      <td>NaN</td>\n      <td>NaN</td>\n      <td>NaN</td>\n      <td>NaN</td>\n      <td>NaN</td>\n      <td>NaN</td>\n      <td>NaN</td>\n      <td>2.81</td>\n      <td>11.48</td>\n      <td>0.21</td>\n    </tr>\n    <tr>\n      <th>7723</th>\n      <td>World</td>\n      <td>1974</td>\n      <td>NaN</td>\n      <td>3.995517e+09</td>\n      <td>NaN</td>\n      <td>0.591</td>\n      <td>0.084</td>\n      <td>3.588</td>\n      <td>14.335</td>\n      <td>NaN</td>\n      <td>...</td>\n      <td>NaN</td>\n      <td>NaN</td>\n      <td>NaN</td>\n      <td>NaN</td>\n      <td>NaN</td>\n      <td>NaN</td>\n      <td>NaN</td>\n      <td>10.97</td>\n      <td>16.89</td>\n      <td>0.29</td>\n    </tr>\n    <tr>\n      <th>7724</th>\n      <td>World</td>\n      <td>1975</td>\n      <td>NaN</td>\n      <td>4.069437e+09</td>\n      <td>NaN</td>\n      <td>-4.509</td>\n      <td>-0.646</td>\n      <td>3.364</td>\n      <td>13.688</td>\n      <td>NaN</td>\n      <td>...</td>\n      <td>NaN</td>\n      <td>NaN</td>\n      <td>NaN</td>\n      <td>NaN</td>\n      <td>NaN</td>\n      <td>NaN</td>\n      <td>NaN</td>\n      <td>10.43</td>\n      <td>26.84</td>\n      <td>0.43</td>\n    </tr>\n    <tr>\n      <th>7725</th>\n      <td>World</td>\n      <td>1976</td>\n      <td>NaN</td>\n      <td>4.142506e+09</td>\n      <td>NaN</td>\n      <td>0.459</td>\n      <td>0.063</td>\n      <td>3.320</td>\n      <td>13.751</td>\n      <td>NaN</td>\n      <td>...</td>\n      <td>NaN</td>\n      <td>NaN</td>\n      <td>NaN</td>\n      <td>NaN</td>\n      <td>NaN</td>\n      <td>NaN</td>\n      <td>NaN</td>\n      <td>11.63</td>\n      <td>27.16</td>\n      <td>0.58</td>\n    </tr>\n    <tr>\n      <th>7726</th>\n      <td>World</td>\n      <td>1977</td>\n      <td>NaN</td>\n      <td>4.215772e+09</td>\n      <td>NaN</td>\n      <td>33.214</td>\n      <td>4.567</td>\n      <td>4.345</td>\n      <td>18.319</td>\n      <td>NaN</td>\n      <td>...</td>\n      <td>NaN</td>\n      <td>NaN</td>\n      <td>NaN</td>\n      <td>NaN</td>\n      <td>NaN</td>\n      <td>NaN</td>\n      <td>NaN</td>\n      <td>12.57</td>\n      <td>28.68</td>\n      <td>0.79</td>\n    </tr>\n    <tr>\n      <th>7727</th>\n      <td>World</td>\n      <td>1978</td>\n      <td>NaN</td>\n      <td>4.289658e+09</td>\n      <td>NaN</td>\n      <td>26.532</td>\n      <td>4.860</td>\n      <td>5.403</td>\n      <td>23.179</td>\n      <td>NaN</td>\n      <td>...</td>\n      <td>NaN</td>\n      <td>NaN</td>\n      <td>NaN</td>\n      <td>NaN</td>\n      <td>NaN</td>\n      <td>NaN</td>\n      <td>NaN</td>\n      <td>12.92</td>\n      <td>29.06</td>\n      <td>0.91</td>\n    </tr>\n    <tr>\n      <th>7728</th>\n      <td>World</td>\n      <td>1979</td>\n      <td>NaN</td>\n      <td>4.365583e+09</td>\n      <td>NaN</td>\n      <td>20.900</td>\n      <td>4.844</td>\n      <td>6.419</td>\n      <td>28.023</td>\n      <td>NaN</td>\n      <td>...</td>\n      <td>NaN</td>\n      <td>NaN</td>\n      <td>NaN</td>\n      <td>NaN</td>\n      <td>NaN</td>\n      <td>NaN</td>\n      <td>NaN</td>\n      <td>30.96</td>\n      <td>30.89</td>\n      <td>1.18</td>\n    </tr>\n    <tr>\n      <th>7729</th>\n      <td>World</td>\n      <td>1980</td>\n      <td>NaN</td>\n      <td>4.444008e+09</td>\n      <td>3.188098e+13</td>\n      <td>16.996</td>\n      <td>4.763</td>\n      <td>7.378</td>\n      <td>32.786</td>\n      <td>NaN</td>\n      <td>...</td>\n      <td>NaN</td>\n      <td>NaN</td>\n      <td>NaN</td>\n      <td>NaN</td>\n      <td>NaN</td>\n      <td>NaN</td>\n      <td>NaN</td>\n      <td>36.87</td>\n      <td>40.14</td>\n      <td>1.59</td>\n    </tr>\n    <tr>\n      <th>7730</th>\n      <td>World</td>\n      <td>1981</td>\n      <td>NaN</td>\n      <td>4.524627e+09</td>\n      <td>NaN</td>\n      <td>-9.267</td>\n      <td>-3.038</td>\n      <td>6.575</td>\n      <td>29.748</td>\n      <td>NaN</td>\n      <td>...</td>\n      <td>NaN</td>\n      <td>NaN</td>\n      <td>NaN</td>\n      <td>NaN</td>\n      <td>NaN</td>\n      <td>NaN</td>\n      <td>NaN</td>\n      <td>35.48</td>\n      <td>53.62</td>\n      <td>1.98</td>\n    </tr>\n    <tr>\n      <th>7731</th>\n      <td>World</td>\n      <td>1982</td>\n      <td>NaN</td>\n      <td>4.607985e+09</td>\n      <td>NaN</td>\n      <td>26.248</td>\n      <td>7.808</td>\n      <td>8.150</td>\n      <td>37.556</td>\n      <td>NaN</td>\n      <td>...</td>\n      <td>NaN</td>\n      <td>NaN</td>\n      <td>NaN</td>\n      <td>NaN</td>\n      <td>NaN</td>\n      <td>NaN</td>\n      <td>NaN</td>\n      <td>32.65</td>\n      <td>54.77</td>\n      <td>2.47</td>\n    </tr>\n    <tr>\n      <th>7732</th>\n      <td>World</td>\n      <td>1983</td>\n      <td>NaN</td>\n      <td>4.691884e+09</td>\n      <td>NaN</td>\n      <td>30.522</td>\n      <td>11.463</td>\n      <td>10.448</td>\n      <td>49.019</td>\n      <td>NaN</td>\n      <td>...</td>\n      <td>NaN</td>\n      <td>NaN</td>\n      <td>NaN</td>\n      <td>NaN</td>\n      <td>NaN</td>\n      <td>NaN</td>\n      <td>NaN</td>\n      <td>29.66</td>\n      <td>38.19</td>\n      <td>2.59</td>\n    </tr>\n    <tr>\n      <th>7733</th>\n      <td>World</td>\n      <td>1984</td>\n      <td>NaN</td>\n      <td>4.775836e+09</td>\n      <td>NaN</td>\n      <td>17.926</td>\n      <td>8.787</td>\n      <td>12.104</td>\n      <td>57.806</td>\n      <td>NaN</td>\n      <td>...</td>\n      <td>NaN</td>\n      <td>NaN</td>\n      <td>NaN</td>\n      <td>NaN</td>\n      <td>NaN</td>\n      <td>NaN</td>\n      <td>NaN</td>\n      <td>28.56</td>\n      <td>30.96</td>\n      <td>2.66</td>\n    </tr>\n    <tr>\n      <th>7734</th>\n      <td>World</td>\n      <td>1985</td>\n      <td>NaN</td>\n      <td>4.861731e+09</td>\n      <td>NaN</td>\n      <td>18.343</td>\n      <td>10.604</td>\n      <td>14.071</td>\n      <td>68.410</td>\n      <td>NaN</td>\n      <td>...</td>\n      <td>NaN</td>\n      <td>NaN</td>\n      <td>NaN</td>\n      <td>NaN</td>\n      <td>NaN</td>\n      <td>NaN</td>\n      <td>NaN</td>\n      <td>27.18</td>\n      <td>33.75</td>\n      <td>2.51</td>\n    </tr>\n    <tr>\n      <th>7735</th>\n      <td>World</td>\n      <td>1986</td>\n      <td>NaN</td>\n      <td>4.950063e+09</td>\n      <td>NaN</td>\n      <td>23.086</td>\n      <td>15.793</td>\n      <td>17.010</td>\n      <td>84.203</td>\n      <td>NaN</td>\n      <td>...</td>\n      <td>NaN</td>\n      <td>NaN</td>\n      <td>NaN</td>\n      <td>NaN</td>\n      <td>NaN</td>\n      <td>NaN</td>\n      <td>NaN</td>\n      <td>14.35</td>\n      <td>31.13</td>\n      <td>1.94</td>\n    </tr>\n    <tr>\n      <th>7736</th>\n      <td>World</td>\n      <td>1987</td>\n      <td>NaN</td>\n      <td>5.040985e+09</td>\n      <td>NaN</td>\n      <td>1.339</td>\n      <td>1.127</td>\n      <td>16.927</td>\n      <td>85.330</td>\n      <td>NaN</td>\n      <td>...</td>\n      <td>NaN</td>\n      <td>NaN</td>\n      <td>NaN</td>\n      <td>NaN</td>\n      <td>NaN</td>\n      <td>NaN</td>\n      <td>NaN</td>\n      <td>18.15</td>\n      <td>27.50</td>\n      <td>1.66</td>\n    </tr>\n    <tr>\n      <th>7737</th>\n      <td>World</td>\n      <td>1988</td>\n      <td>NaN</td>\n      <td>5.132294e+09</td>\n      <td>NaN</td>\n      <td>4.957</td>\n      <td>4.230</td>\n      <td>17.450</td>\n      <td>89.560</td>\n      <td>NaN</td>\n      <td>...</td>\n      <td>NaN</td>\n      <td>NaN</td>\n      <td>NaN</td>\n      <td>NaN</td>\n      <td>NaN</td>\n      <td>NaN</td>\n      <td>NaN</td>\n      <td>14.72</td>\n      <td>34.88</td>\n      <td>1.68</td>\n    </tr>\n    <tr>\n      <th>7738</th>\n      <td>World</td>\n      <td>1989</td>\n      <td>NaN</td>\n      <td>5.223704e+09</td>\n      <td>NaN</td>\n      <td>6.843</td>\n      <td>6.129</td>\n      <td>18.318</td>\n      <td>95.689</td>\n      <td>NaN</td>\n      <td>...</td>\n      <td>NaN</td>\n      <td>NaN</td>\n      <td>NaN</td>\n      <td>NaN</td>\n      <td>NaN</td>\n      <td>NaN</td>\n      <td>NaN</td>\n      <td>17.84</td>\n      <td>38.00</td>\n      <td>1.70</td>\n    </tr>\n    <tr>\n      <th>7739</th>\n      <td>World</td>\n      <td>1990</td>\n      <td>NaN</td>\n      <td>5.316176e+09</td>\n      <td>4.301825e+13</td>\n      <td>11.447</td>\n      <td>10.954</td>\n      <td>20.060</td>\n      <td>106.643</td>\n      <td>NaN</td>\n      <td>...</td>\n      <td>NaN</td>\n      <td>NaN</td>\n      <td>NaN</td>\n      <td>NaN</td>\n      <td>NaN</td>\n      <td>NaN</td>\n      <td>NaN</td>\n      <td>22.88</td>\n      <td>39.67</td>\n      <td>1.70</td>\n    </tr>\n    <tr>\n      <th>7740</th>\n      <td>World</td>\n      <td>1991</td>\n      <td>NaN</td>\n      <td>5.406246e+09</td>\n      <td>NaN</td>\n      <td>3.831</td>\n      <td>4.086</td>\n      <td>20.482</td>\n      <td>110.729</td>\n      <td>NaN</td>\n      <td>...</td>\n      <td>NaN</td>\n      <td>NaN</td>\n      <td>NaN</td>\n      <td>NaN</td>\n      <td>NaN</td>\n      <td>NaN</td>\n      <td>NaN</td>\n      <td>19.37</td>\n      <td>39.67</td>\n      <td>1.49</td>\n    </tr>\n    <tr>\n      <th>7741</th>\n      <td>World</td>\n      <td>1992</td>\n      <td>NaN</td>\n      <td>5.492686e+09</td>\n      <td>NaN</td>\n      <td>-1.745</td>\n      <td>-1.932</td>\n      <td>19.807</td>\n      <td>108.796</td>\n      <td>NaN</td>\n      <td>...</td>\n      <td>NaN</td>\n      <td>NaN</td>\n      <td>NaN</td>\n      <td>NaN</td>\n      <td>NaN</td>\n      <td>NaN</td>\n      <td>NaN</td>\n      <td>19.02</td>\n      <td>38.56</td>\n      <td>1.77</td>\n    </tr>\n    <tr>\n      <th>7742</th>\n      <td>World</td>\n      <td>1993</td>\n      <td>NaN</td>\n      <td>5.577434e+09</td>\n      <td>NaN</td>\n      <td>5.191</td>\n      <td>5.648</td>\n      <td>20.519</td>\n      <td>114.444</td>\n      <td>NaN</td>\n      <td>...</td>\n      <td>NaN</td>\n      <td>NaN</td>\n      <td>NaN</td>\n      <td>NaN</td>\n      <td>NaN</td>\n      <td>NaN</td>\n      <td>NaN</td>\n      <td>16.84</td>\n      <td>31.33</td>\n      <td>2.12</td>\n    </tr>\n    <tr>\n      <th>7743</th>\n      <td>World</td>\n      <td>1994</td>\n      <td>NaN</td>\n      <td>5.660728e+09</td>\n      <td>NaN</td>\n      <td>8.503</td>\n      <td>9.731</td>\n      <td>21.936</td>\n      <td>124.175</td>\n      <td>NaN</td>\n      <td>...</td>\n      <td>NaN</td>\n      <td>NaN</td>\n      <td>NaN</td>\n      <td>NaN</td>\n      <td>NaN</td>\n      <td>NaN</td>\n      <td>NaN</td>\n      <td>15.89</td>\n      <td>32.30</td>\n      <td>1.92</td>\n    </tr>\n    <tr>\n      <th>7744</th>\n      <td>World</td>\n      <td>1995</td>\n      <td>NaN</td>\n      <td>5.743220e+09</td>\n      <td>NaN</td>\n      <td>5.658</td>\n      <td>7.026</td>\n      <td>22.845</td>\n      <td>131.202</td>\n      <td>NaN</td>\n      <td>...</td>\n      <td>NaN</td>\n      <td>NaN</td>\n      <td>NaN</td>\n      <td>NaN</td>\n      <td>NaN</td>\n      <td>NaN</td>\n      <td>NaN</td>\n      <td>17.18</td>\n      <td>39.37</td>\n      <td>1.72</td>\n    </tr>\n    <tr>\n      <th>7745</th>\n      <td>World</td>\n      <td>1996</td>\n      <td>NaN</td>\n      <td>5.825145e+09</td>\n      <td>NaN</td>\n      <td>-4.031</td>\n      <td>-5.288</td>\n      <td>21.615</td>\n      <td>125.913</td>\n      <td>NaN</td>\n      <td>...</td>\n      <td>NaN</td>\n      <td>NaN</td>\n      <td>NaN</td>\n      <td>NaN</td>\n      <td>NaN</td>\n      <td>NaN</td>\n      <td>NaN</td>\n      <td>20.42</td>\n      <td>38.07</td>\n      <td>2.73</td>\n    </tr>\n    <tr>\n      <th>7746</th>\n      <td>World</td>\n      <td>1997</td>\n      <td>NaN</td>\n      <td>5.906481e+09</td>\n      <td>NaN</td>\n      <td>3.391</td>\n      <td>4.270</td>\n      <td>22.041</td>\n      <td>130.183</td>\n      <td>NaN</td>\n      <td>...</td>\n      <td>NaN</td>\n      <td>NaN</td>\n      <td>NaN</td>\n      <td>NaN</td>\n      <td>NaN</td>\n      <td>NaN</td>\n      <td>NaN</td>\n      <td>19.17</td>\n      <td>35.10</td>\n      <td>2.48</td>\n    </tr>\n    <tr>\n      <th>7747</th>\n      <td>World</td>\n      <td>1998</td>\n      <td>NaN</td>\n      <td>5.987313e+09</td>\n      <td>NaN</td>\n      <td>2.579</td>\n      <td>3.357</td>\n      <td>22.304</td>\n      <td>133.540</td>\n      <td>NaN</td>\n      <td>...</td>\n      <td>NaN</td>\n      <td>NaN</td>\n      <td>NaN</td>\n      <td>NaN</td>\n      <td>NaN</td>\n      <td>NaN</td>\n      <td>NaN</td>\n      <td>13.06</td>\n      <td>29.23</td>\n      <td>2.09</td>\n    </tr>\n    <tr>\n      <th>7748</th>\n      <td>World</td>\n      <td>1999</td>\n      <td>NaN</td>\n      <td>6.067759e+09</td>\n      <td>NaN</td>\n      <td>1.416</td>\n      <td>1.891</td>\n      <td>22.320</td>\n      <td>135.431</td>\n      <td>NaN</td>\n      <td>...</td>\n      <td>NaN</td>\n      <td>NaN</td>\n      <td>NaN</td>\n      <td>NaN</td>\n      <td>NaN</td>\n      <td>NaN</td>\n      <td>NaN</td>\n      <td>18.07</td>\n      <td>25.89</td>\n      <td>2.27</td>\n    </tr>\n    <tr>\n      <th>7749</th>\n      <td>World</td>\n      <td>2000</td>\n      <td>NaN</td>\n      <td>6.148899e+09</td>\n      <td>5.986666e+13</td>\n      <td>-1.856</td>\n      <td>-2.513</td>\n      <td>21.617</td>\n      <td>132.918</td>\n      <td>24.175</td>\n      <td>...</td>\n      <td>NaN</td>\n      <td>NaN</td>\n      <td>NaN</td>\n      <td>NaN</td>\n      <td>NaN</td>\n      <td>NaN</td>\n      <td>NaN</td>\n      <td>28.23</td>\n      <td>26.25</td>\n      <td>4.31</td>\n    </tr>\n    <tr>\n      <th>7750</th>\n      <td>World</td>\n      <td>2001</td>\n      <td>NaN</td>\n      <td>6.230747e+09</td>\n      <td>NaN</td>\n      <td>-1.176</td>\n      <td>-1.564</td>\n      <td>21.082</td>\n      <td>131.354</td>\n      <td>22.967</td>\n      <td>...</td>\n      <td>NaN</td>\n      <td>NaN</td>\n      <td>NaN</td>\n      <td>NaN</td>\n      <td>NaN</td>\n      <td>NaN</td>\n      <td>NaN</td>\n      <td>24.35</td>\n      <td>32.31</td>\n      <td>3.96</td>\n    </tr>\n    <tr>\n      <th>7751</th>\n      <td>World</td>\n      <td>2002</td>\n      <td>NaN</td>\n      <td>6.312408e+09</td>\n      <td>NaN</td>\n      <td>21.048</td>\n      <td>27.648</td>\n      <td>25.189</td>\n      <td>159.002</td>\n      <td>24.810</td>\n      <td>...</td>\n      <td>NaN</td>\n      <td>NaN</td>\n      <td>NaN</td>\n      <td>NaN</td>\n      <td>NaN</td>\n      <td>NaN</td>\n      <td>NaN</td>\n      <td>24.93</td>\n      <td>25.31</td>\n      <td>3.36</td>\n    </tr>\n    <tr>\n      <th>7752</th>\n      <td>World</td>\n      <td>2003</td>\n      <td>NaN</td>\n      <td>6.393898e+09</td>\n      <td>NaN</td>\n      <td>12.154</td>\n      <td>19.325</td>\n      <td>27.890</td>\n      <td>178.327</td>\n      <td>26.261</td>\n      <td>...</td>\n      <td>NaN</td>\n      <td>NaN</td>\n      <td>NaN</td>\n      <td>NaN</td>\n      <td>NaN</td>\n      <td>NaN</td>\n      <td>NaN</td>\n      <td>28.90</td>\n      <td>26.09</td>\n      <td>5.49</td>\n    </tr>\n    <tr>\n      <th>7753</th>\n      <td>World</td>\n      <td>2004</td>\n      <td>NaN</td>\n      <td>6.475751e+09</td>\n      <td>NaN</td>\n      <td>17.883</td>\n      <td>31.890</td>\n      <td>32.462</td>\n      <td>210.217</td>\n      <td>28.497</td>\n      <td>...</td>\n      <td>NaN</td>\n      <td>NaN</td>\n      <td>NaN</td>\n      <td>NaN</td>\n      <td>NaN</td>\n      <td>NaN</td>\n      <td>NaN</td>\n      <td>37.73</td>\n      <td>52.95</td>\n      <td>5.89</td>\n    </tr>\n    <tr>\n      <th>7754</th>\n      <td>World</td>\n      <td>2005</td>\n      <td>NaN</td>\n      <td>6.558176e+09</td>\n      <td>NaN</td>\n      <td>17.272</td>\n      <td>36.308</td>\n      <td>37.591</td>\n      <td>246.526</td>\n      <td>31.783</td>\n      <td>...</td>\n      <td>NaN</td>\n      <td>NaN</td>\n      <td>NaN</td>\n      <td>NaN</td>\n      <td>NaN</td>\n      <td>NaN</td>\n      <td>NaN</td>\n      <td>53.39</td>\n      <td>47.62</td>\n      <td>8.92</td>\n    </tr>\n    <tr>\n      <th>7755</th>\n      <td>World</td>\n      <td>2006</td>\n      <td>NaN</td>\n      <td>6.641416e+09</td>\n      <td>NaN</td>\n      <td>24.336</td>\n      <td>59.994</td>\n      <td>46.153</td>\n      <td>306.519</td>\n      <td>33.270</td>\n      <td>...</td>\n      <td>NaN</td>\n      <td>NaN</td>\n      <td>NaN</td>\n      <td>NaN</td>\n      <td>NaN</td>\n      <td>NaN</td>\n      <td>NaN</td>\n      <td>64.29</td>\n      <td>49.09</td>\n      <td>6.72</td>\n    </tr>\n    <tr>\n      <th>7756</th>\n      <td>World</td>\n      <td>2007</td>\n      <td>NaN</td>\n      <td>6.725948e+09</td>\n      <td>NaN</td>\n      <td>29.628</td>\n      <td>90.816</td>\n      <td>59.075</td>\n      <td>397.336</td>\n      <td>36.150</td>\n      <td>...</td>\n      <td>NaN</td>\n      <td>NaN</td>\n      <td>NaN</td>\n      <td>NaN</td>\n      <td>NaN</td>\n      <td>NaN</td>\n      <td>NaN</td>\n      <td>71.12</td>\n      <td>65.73</td>\n      <td>6.98</td>\n    </tr>\n    <tr>\n      <th>7757</th>\n      <td>World</td>\n      <td>2008</td>\n      <td>NaN</td>\n      <td>6.811597e+09</td>\n      <td>NaN</td>\n      <td>35.519</td>\n      <td>141.131</td>\n      <td>79.052</td>\n      <td>538.467</td>\n      <td>37.941</td>\n      <td>...</td>\n      <td>NaN</td>\n      <td>NaN</td>\n      <td>NaN</td>\n      <td>NaN</td>\n      <td>NaN</td>\n      <td>NaN</td>\n      <td>NaN</td>\n      <td>96.99</td>\n      <td>127.10</td>\n      <td>8.86</td>\n    </tr>\n    <tr>\n      <th>7758</th>\n      <td>World</td>\n      <td>2009</td>\n      <td>NaN</td>\n      <td>6.898306e+09</td>\n      <td>NaN</td>\n      <td>13.406</td>\n      <td>72.186</td>\n      <td>88.522</td>\n      <td>610.654</td>\n      <td>40.524</td>\n      <td>...</td>\n      <td>NaN</td>\n      <td>NaN</td>\n      <td>NaN</td>\n      <td>NaN</td>\n      <td>NaN</td>\n      <td>NaN</td>\n      <td>NaN</td>\n      <td>61.76</td>\n      <td>71.84</td>\n      <td>3.95</td>\n    </tr>\n    <tr>\n      <th>7759</th>\n      <td>World</td>\n      <td>2010</td>\n      <td>NaN</td>\n      <td>6.985603e+09</td>\n      <td>8.980730e+13</td>\n      <td>14.593</td>\n      <td>89.110</td>\n      <td>100.172</td>\n      <td>699.763</td>\n      <td>46.126</td>\n      <td>...</td>\n      <td>NaN</td>\n      <td>NaN</td>\n      <td>NaN</td>\n      <td>NaN</td>\n      <td>NaN</td>\n      <td>NaN</td>\n      <td>NaN</td>\n      <td>79.04</td>\n      <td>98.97</td>\n      <td>4.39</td>\n    </tr>\n  </tbody>\n</table>\n<p>50 rows × 144 columns</p>\n</div>"
     },
     "execution_count": 270,
     "metadata": {},
     "output_type": "execute_result"
    }
   ],
   "source": [
    "# Charger le dataset World_Energy_Consumption_Full.csv\n",
    "price = pd.read_csv('./output/World_Energy_Consumption_Full.csv')\n",
    "price.head(5)"
   ],
   "metadata": {
    "collapsed": false,
    "ExecuteTime": {
     "end_time": "2024-03-03T22:18:54.807626Z",
     "start_time": "2024-03-03T22:18:54.733600Z"
    }
   },
   "id": "75fcfbcb5dde6cc9",
   "execution_count": 270
  },
  {
   "cell_type": "code",
   "outputs": [],
   "source": [],
   "metadata": {
    "collapsed": false,
    "ExecuteTime": {
     "end_time": "2024-03-03T22:18:54.809548Z",
     "start_time": "2024-03-03T22:18:54.807626Z"
    }
   },
   "id": "72f1ee922be3d09c",
   "execution_count": 270
  }
 ],
 "metadata": {
  "kernelspec": {
   "display_name": "Python 3",
   "language": "python",
   "name": "python3"
  },
  "language_info": {
   "codemirror_mode": {
    "name": "ipython",
    "version": 2
   },
   "file_extension": ".py",
   "mimetype": "text/x-python",
   "name": "python",
   "nbconvert_exporter": "python",
   "pygments_lexer": "ipython2",
   "version": "2.7.6"
  }
 },
 "nbformat": 4,
 "nbformat_minor": 5
}
