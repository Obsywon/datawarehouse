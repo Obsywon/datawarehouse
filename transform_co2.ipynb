{
 "cells": [
  {
   "cell_type": "code",
   "execution_count": 2,
   "id": "initial_id",
   "metadata": {
    "collapsed": true,
    "ExecuteTime": {
     "end_time": "2024-02-29T10:46:48.673021100Z",
     "start_time": "2024-02-29T10:46:48.146839700Z"
    }
   },
   "outputs": [
    {
     "data": {
      "text/plain": "                  Country Name        1960        1961        1962  \\\n0                        Aruba  204.631696  208.837879  226.081890   \n1  Africa Eastern and Southern    0.906060    0.922474    0.930816   \n2                  Afghanistan    0.046057    0.053589    0.073721   \n3   Africa Western and Central    0.090880    0.095283    0.096612   \n4                       Angola    0.100835    0.082204    0.210533   \n\n         1963        1964        1965        1966        1967        1968  \\\n0  214.785217  207.626699  185.213644  172.158729  210.819017  194.917536   \n1    0.940570    0.996033    1.047280    1.033908    1.052204    1.079727   \n2    0.074161    0.086174    0.101285    0.107399    0.123409    0.115142   \n3    0.112376    0.133258    0.184803    0.193676    0.189305    0.143989   \n4    0.202739    0.213562    0.205891    0.268937    0.172096    0.289702   \n\n   ...      2009      2010      2011      2012      2013      2014      2015  \\\n0  ...       NaN       NaN       NaN       NaN       NaN       NaN       NaN   \n1  ...  1.021954  1.048876  1.005338  1.021646  1.031833  1.041145  0.987393   \n2  ...  0.211306  0.297065  0.407074  0.335351  0.263716  0.234037  0.232176   \n3  ...  0.426770  0.472819  0.497023  0.490867  0.504655  0.507671  0.480743   \n4  ...  1.205902  1.221515  1.216317  1.204799  1.261542  1.285365  1.260921   \n\n       2016      2017      2018  \n0       NaN       NaN       NaN  \n1  0.971016  0.959978  0.933541  \n2  0.208857  0.203328  0.200151  \n3  0.472959  0.476438  0.515544  \n4  1.227703  1.034317  0.887380  \n\n[5 rows x 60 columns]",
      "text/html": "<div>\n<style scoped>\n    .dataframe tbody tr th:only-of-type {\n        vertical-align: middle;\n    }\n\n    .dataframe tbody tr th {\n        vertical-align: top;\n    }\n\n    .dataframe thead th {\n        text-align: right;\n    }\n</style>\n<table border=\"1\" class=\"dataframe\">\n  <thead>\n    <tr style=\"text-align: right;\">\n      <th></th>\n      <th>Country Name</th>\n      <th>1960</th>\n      <th>1961</th>\n      <th>1962</th>\n      <th>1963</th>\n      <th>1964</th>\n      <th>1965</th>\n      <th>1966</th>\n      <th>1967</th>\n      <th>1968</th>\n      <th>...</th>\n      <th>2009</th>\n      <th>2010</th>\n      <th>2011</th>\n      <th>2012</th>\n      <th>2013</th>\n      <th>2014</th>\n      <th>2015</th>\n      <th>2016</th>\n      <th>2017</th>\n      <th>2018</th>\n    </tr>\n  </thead>\n  <tbody>\n    <tr>\n      <th>0</th>\n      <td>Aruba</td>\n      <td>204.631696</td>\n      <td>208.837879</td>\n      <td>226.081890</td>\n      <td>214.785217</td>\n      <td>207.626699</td>\n      <td>185.213644</td>\n      <td>172.158729</td>\n      <td>210.819017</td>\n      <td>194.917536</td>\n      <td>...</td>\n      <td>NaN</td>\n      <td>NaN</td>\n      <td>NaN</td>\n      <td>NaN</td>\n      <td>NaN</td>\n      <td>NaN</td>\n      <td>NaN</td>\n      <td>NaN</td>\n      <td>NaN</td>\n      <td>NaN</td>\n    </tr>\n    <tr>\n      <th>1</th>\n      <td>Africa Eastern and Southern</td>\n      <td>0.906060</td>\n      <td>0.922474</td>\n      <td>0.930816</td>\n      <td>0.940570</td>\n      <td>0.996033</td>\n      <td>1.047280</td>\n      <td>1.033908</td>\n      <td>1.052204</td>\n      <td>1.079727</td>\n      <td>...</td>\n      <td>1.021954</td>\n      <td>1.048876</td>\n      <td>1.005338</td>\n      <td>1.021646</td>\n      <td>1.031833</td>\n      <td>1.041145</td>\n      <td>0.987393</td>\n      <td>0.971016</td>\n      <td>0.959978</td>\n      <td>0.933541</td>\n    </tr>\n    <tr>\n      <th>2</th>\n      <td>Afghanistan</td>\n      <td>0.046057</td>\n      <td>0.053589</td>\n      <td>0.073721</td>\n      <td>0.074161</td>\n      <td>0.086174</td>\n      <td>0.101285</td>\n      <td>0.107399</td>\n      <td>0.123409</td>\n      <td>0.115142</td>\n      <td>...</td>\n      <td>0.211306</td>\n      <td>0.297065</td>\n      <td>0.407074</td>\n      <td>0.335351</td>\n      <td>0.263716</td>\n      <td>0.234037</td>\n      <td>0.232176</td>\n      <td>0.208857</td>\n      <td>0.203328</td>\n      <td>0.200151</td>\n    </tr>\n    <tr>\n      <th>3</th>\n      <td>Africa Western and Central</td>\n      <td>0.090880</td>\n      <td>0.095283</td>\n      <td>0.096612</td>\n      <td>0.112376</td>\n      <td>0.133258</td>\n      <td>0.184803</td>\n      <td>0.193676</td>\n      <td>0.189305</td>\n      <td>0.143989</td>\n      <td>...</td>\n      <td>0.426770</td>\n      <td>0.472819</td>\n      <td>0.497023</td>\n      <td>0.490867</td>\n      <td>0.504655</td>\n      <td>0.507671</td>\n      <td>0.480743</td>\n      <td>0.472959</td>\n      <td>0.476438</td>\n      <td>0.515544</td>\n    </tr>\n    <tr>\n      <th>4</th>\n      <td>Angola</td>\n      <td>0.100835</td>\n      <td>0.082204</td>\n      <td>0.210533</td>\n      <td>0.202739</td>\n      <td>0.213562</td>\n      <td>0.205891</td>\n      <td>0.268937</td>\n      <td>0.172096</td>\n      <td>0.289702</td>\n      <td>...</td>\n      <td>1.205902</td>\n      <td>1.221515</td>\n      <td>1.216317</td>\n      <td>1.204799</td>\n      <td>1.261542</td>\n      <td>1.285365</td>\n      <td>1.260921</td>\n      <td>1.227703</td>\n      <td>1.034317</td>\n      <td>0.887380</td>\n    </tr>\n  </tbody>\n</table>\n<p>5 rows × 60 columns</p>\n</div>"
     },
     "execution_count": 2,
     "metadata": {},
     "output_type": "execute_result"
    }
   ],
   "source": [
    "import pandas as pd\n",
    "\n",
    "data = pd.DataFrame(columns = ['Country', 'Year', 'Value'])\n",
    "df = pd.read_csv('./assets/CO2_Emissions_1960-2018.csv')\n",
    "\n",
    "# Pays gardés\n",
    "kept_countries = ['France', 'Italy', 'Spain', 'Germany', 'Portugal', 'United Kingdom']\n",
    "limit_to_kept_countries = True\n",
    "\n",
    "df.head(5)"
   ]
  },
  {
   "cell_type": "code",
   "outputs": [
    {
     "name": "stdout",
     "output_type": "stream",
     "text": [
      "['Aruba', 'Africa Eastern and Southern', 'Afghanistan', 'Africa Western and Central', 'Angola', 'Albania', 'Andorra', 'Arab World', 'United Arab Emirates', 'Argentina', 'Armenia', 'American Samoa', 'Antigua and Barbuda', 'Australia', 'Austria', 'Azerbaijan', 'Burundi', 'Belgium', 'Benin', 'Burkina Faso', 'Bangladesh', 'Bulgaria', 'Bahrain', 'Bahamas, The', 'Bosnia and Herzegovina', 'Belarus', 'Belize', 'Bermuda', 'Bolivia', 'Brazil', 'Barbados', 'Brunei Darussalam', 'Bhutan', 'Botswana', 'Central African Republic', 'Canada', 'Central Europe and the Baltics', 'Switzerland', 'Channel Islands', 'Chile', 'China', \"Cote d'Ivoire\", 'Cameroon', 'Congo, Dem. Rep.', 'Congo, Rep.', 'Colombia', 'Comoros', 'Cabo Verde', 'Costa Rica', 'Caribbean small states', 'Cuba', 'Curacao', 'Cayman Islands', 'Cyprus', 'Czech Republic', 'Germany', 'Djibouti', 'Dominica', 'Denmark', 'Dominican Republic', 'Algeria', 'East Asia & Pacific (excluding high income)', 'Early-demographic dividend', 'East Asia & Pacific', 'Europe & Central Asia (excluding high income)', 'Europe & Central Asia', 'Ecuador', 'Egypt, Arab Rep.', 'Euro area', 'Eritrea', 'Spain', 'Estonia', 'Ethiopia', 'European Union', 'Fragile and conflict affected situations', 'Finland', 'Fiji', 'France', 'Faroe Islands', 'Micronesia, Fed. Sts.', 'Gabon', 'United Kingdom', 'Georgia', 'Ghana', 'Gibraltar', 'Guinea', 'Gambia, The', 'Guinea-Bissau', 'Equatorial Guinea', 'Greece', 'Grenada', 'Greenland', 'Guatemala', 'Guam', 'Guyana', 'High income', 'Hong Kong SAR, China', 'Honduras', 'Heavily indebted poor countries (HIPC)', 'Croatia', 'Haiti', 'Hungary', 'IBRD only', 'IDA & IBRD total', 'IDA total', 'IDA blend', 'Indonesia', 'IDA only', 'Isle of Man', 'India', 'Not classified', 'Ireland', 'Iran, Islamic Rep.', 'Iraq', 'Iceland', 'Israel', 'Italy', 'Jamaica', 'Jordan', 'Japan', 'Kazakhstan', 'Kenya', 'Kyrgyz Republic', 'Cambodia', 'Kiribati', 'St. Kitts and Nevis', 'Korea, Rep.', 'Kuwait', 'Latin America & Caribbean (excluding high income)', 'Lao PDR', 'Lebanon', 'Liberia', 'Libya', 'St. Lucia', 'Latin America & Caribbean', 'Least developed countries: UN classification', 'Low income', 'Liechtenstein', 'Sri Lanka', 'Lower middle income', 'Low & middle income', 'Lesotho', 'Late-demographic dividend', 'Lithuania', 'Luxembourg', 'Latvia', 'Macao SAR, China', 'St. Martin (French part)', 'Morocco', 'Monaco', 'Moldova', 'Madagascar', 'Maldives', 'Middle East & North Africa', 'Mexico', 'Marshall Islands', 'Middle income', 'North Macedonia', 'Mali', 'Malta', 'Myanmar', 'Middle East & North Africa (excluding high income)', 'Montenegro', 'Mongolia', 'Northern Mariana Islands', 'Mozambique', 'Mauritania', 'Mauritius', 'Malawi', 'Malaysia', 'North America', 'Namibia', 'New Caledonia', 'Niger', 'Nigeria', 'Nicaragua', 'Netherlands', 'Norway', 'Nepal', 'Nauru', 'New Zealand', 'OECD members', 'Oman', 'Other small states', 'Pakistan', 'Panama', 'Peru', 'Philippines', 'Palau', 'Papua New Guinea', 'Poland', 'Pre-demographic dividend', 'Puerto Rico', \"Korea, Dem. People's Rep.\", 'Portugal', 'Paraguay', 'West Bank and Gaza', 'Pacific island small states', 'Post-demographic dividend', 'French Polynesia', 'Qatar', 'Romania', 'Russian Federation', 'Rwanda', 'South Asia', 'Saudi Arabia', 'Sudan', 'Senegal', 'Singapore', 'Solomon Islands', 'Sierra Leone', 'El Salvador', 'San Marino', 'Somalia', 'Serbia', 'Sub-Saharan Africa (excluding high income)', 'South Sudan', 'Sub-Saharan Africa', 'Small states', 'Sao Tome and Principe', 'Suriname', 'Slovak Republic', 'Slovenia', 'Sweden', 'Eswatini', 'Sint Maarten (Dutch part)', 'Seychelles', 'Syrian Arab Republic', 'Turks and Caicos Islands', 'Chad', 'East Asia & Pacific (IDA & IBRD countries)', 'Europe & Central Asia (IDA & IBRD countries)', 'Togo', 'Thailand', 'Tajikistan', 'Turkmenistan', 'Latin America & the Caribbean (IDA & IBRD countries)', 'Timor-Leste', 'Middle East & North Africa (IDA & IBRD countries)', 'Tonga', 'South Asia (IDA & IBRD)', 'Sub-Saharan Africa (IDA & IBRD countries)', 'Trinidad and Tobago', 'Tunisia', 'Turkey', 'Tuvalu', 'Tanzania', 'Uganda', 'Ukraine', 'Upper middle income', 'Uruguay', 'United States', 'Uzbekistan', 'St. Vincent and the Grenadines', 'Venezuela, RB', 'British Virgin Islands', 'Virgin Islands (U.S.)', 'Vietnam', 'Vanuatu', 'World', 'Samoa', 'Kosovo', 'Yemen, Rep.', 'South Africa', 'Zambia', 'Zimbabwe']\n"
     ]
    }
   ],
   "source": [
    "# Récupération de la liste des pays\n",
    "countries = df['Country Name'].unique().tolist()\n",
    "print(countries)\n",
    "df.set_index('Country Name', inplace=True)"
   ],
   "metadata": {
    "collapsed": false,
    "ExecuteTime": {
     "end_time": "2024-02-29T10:46:52.237060100Z",
     "start_time": "2024-02-29T10:46:52.187063600Z"
    }
   },
   "id": "958e6dfec7895a1e",
   "execution_count": 3
  },
  {
   "cell_type": "markdown",
   "source": [],
   "metadata": {
    "collapsed": false
   },
   "id": "9c1b64cfae64748f"
  },
  {
   "cell_type": "code",
   "outputs": [
    {
     "name": "stdout",
     "output_type": "stream",
     "text": [
      "['1961', '1962', '1963', '1964', '1965', '1966', '1967', '1968', '1969', '1970', '1971', '1972', '1973', '1974', '1975', '1976', '1977', '1978', '1979', '1980', '1981', '1982', '1983', '1984', '1985', '1986', '1987', '1988', '1989', '1990', '1991', '1992', '1993', '1994', '1995', '1996', '1997', '1998', '1999', '2000', '2001', '2002', '2003', '2004', '2005', '2006', '2007', '2008', '2009', '2010', '2011', '2012', '2013', '2014', '2015', '2016', '2017', '2018']\n"
     ]
    }
   ],
   "source": [
    "# Récupération de la liste des années\n",
    "columns = df.columns\n",
    "years = columns[1:].tolist()\n",
    "print(years)"
   ],
   "metadata": {
    "collapsed": false,
    "ExecuteTime": {
     "end_time": "2024-02-29T10:47:09.466460300Z",
     "start_time": "2024-02-29T10:47:09.445315900Z"
    }
   },
   "id": "16dafa8f6432cf5c",
   "execution_count": 4
  },
  {
   "cell_type": "code",
   "outputs": [
    {
     "data": {
      "text/plain": "  Country  Year       Value\n0   Aruba  1961  208.837879\n1   Aruba  1962  226.081890\n2   Aruba  1963  214.785217\n3   Aruba  1964  207.626699\n4   Aruba  1965  185.213644",
      "text/html": "<div>\n<style scoped>\n    .dataframe tbody tr th:only-of-type {\n        vertical-align: middle;\n    }\n\n    .dataframe tbody tr th {\n        vertical-align: top;\n    }\n\n    .dataframe thead th {\n        text-align: right;\n    }\n</style>\n<table border=\"1\" class=\"dataframe\">\n  <thead>\n    <tr style=\"text-align: right;\">\n      <th></th>\n      <th>Country</th>\n      <th>Year</th>\n      <th>Value</th>\n    </tr>\n  </thead>\n  <tbody>\n    <tr>\n      <th>0</th>\n      <td>Aruba</td>\n      <td>1961</td>\n      <td>208.837879</td>\n    </tr>\n    <tr>\n      <th>1</th>\n      <td>Aruba</td>\n      <td>1962</td>\n      <td>226.081890</td>\n    </tr>\n    <tr>\n      <th>2</th>\n      <td>Aruba</td>\n      <td>1963</td>\n      <td>214.785217</td>\n    </tr>\n    <tr>\n      <th>3</th>\n      <td>Aruba</td>\n      <td>1964</td>\n      <td>207.626699</td>\n    </tr>\n    <tr>\n      <th>4</th>\n      <td>Aruba</td>\n      <td>1965</td>\n      <td>185.213644</td>\n    </tr>\n  </tbody>\n</table>\n</div>"
     },
     "execution_count": 5,
     "metadata": {},
     "output_type": "execute_result"
    }
   ],
   "source": [
    "# Création nouveau dataframe organisé par pays puis années\n",
    "data_list = []\n",
    "\n",
    "for country in countries:\n",
    "    #values = df[df['Country Name'] == country]\n",
    "    for year in years:\n",
    "        value = df.loc[country, year]\n",
    "        #print(value)\n",
    "        data_list.append({'Country': country, 'Year': year, 'Value': value})\n",
    "data = pd.DataFrame(data_list, columns=[\"Country\", \"Year\", \"Value\"])\n",
    "data.head(5)"
   ],
   "metadata": {
    "collapsed": false,
    "ExecuteTime": {
     "end_time": "2024-02-29T10:47:11.979598500Z",
     "start_time": "2024-02-29T10:47:11.758094200Z"
    }
   },
   "id": "51c50d982ef15ef",
   "execution_count": 5
  },
  {
   "cell_type": "code",
   "outputs": [
    {
     "data": {
      "text/plain": "(15428, 3)"
     },
     "execution_count": 6,
     "metadata": {},
     "output_type": "execute_result"
    }
   ],
   "source": [
    "data.shape"
   ],
   "metadata": {
    "collapsed": false,
    "ExecuteTime": {
     "end_time": "2024-02-29T10:47:13.028008Z",
     "start_time": "2024-02-29T10:47:13.011924300Z"
    }
   },
   "id": "2b5b70fd948a1f3",
   "execution_count": 6
  },
  {
   "cell_type": "code",
   "outputs": [
    {
     "name": "stdout",
     "output_type": "stream",
     "text": [
      "Nombre de valeurs invalides ou nulls: 2289\n"
     ]
    },
    {
     "data": {
      "text/plain": "(13139, 3)"
     },
     "execution_count": 7,
     "metadata": {},
     "output_type": "execute_result"
    }
   ],
   "source": [
    "# Suppression des valeurs inutiles si nécessaires\n",
    "nb_na = data['Value'].isna().sum()\n",
    "print(\"Nombre de valeurs invalides ou nulls: \" + str(nb_na))\n",
    "if nb_na > 0:\n",
    "    data.dropna(subset=['Value'], inplace=True)\n",
    "data.shape"
   ],
   "metadata": {
    "collapsed": false,
    "ExecuteTime": {
     "end_time": "2024-02-29T10:47:13.685749600Z",
     "start_time": "2024-02-29T10:47:13.654156100Z"
    }
   },
   "id": "86b0a5de0446ff4b",
   "execution_count": 7
  },
  {
   "cell_type": "code",
   "outputs": [],
   "source": [
    "data.to_csv('./output/CO2_Emissions_sortedByYearAndCountry.csv', index=False)"
   ],
   "metadata": {
    "collapsed": false,
    "ExecuteTime": {
     "end_time": "2024-02-29T10:47:15.969184500Z",
     "start_time": "2024-02-29T10:47:15.911664400Z"
    }
   },
   "id": "3eb51ea8b229437d",
   "execution_count": 8
  },
  {
   "cell_type": "code",
   "outputs": [],
   "source": [
    "# Retirer les valeurs des pays différents de cette liste et exporter le fichier\n",
    "if limit_to_kept_countries:\n",
    "    data = data[data.Country.isin(kept_countries)]\n",
    "data.to_csv('./output/CO2_Emissions_sortedByYearAndCountry.csv', index=False)\n"
   ],
   "metadata": {
    "collapsed": false,
    "ExecuteTime": {
     "end_time": "2024-02-29T10:47:16.576818500Z",
     "start_time": "2024-02-29T10:47:16.539693500Z"
    }
   },
   "id": "3a82d312e31856d4",
   "execution_count": 9
  },
  {
   "cell_type": "code",
   "outputs": [],
   "source": [
    "# Charger le fichier World Energy Consumption\n",
    "wec = pd.read_csv('./assets/World Energy Consumption.csv')\n",
    "if limit_to_kept_countries:\n",
    "    wec = wec[wec.country.isin(kept_countries)]\n",
    "wec.to_csv('./output/World Energy Consumption (limited).csv', index=False)"
   ],
   "metadata": {
    "collapsed": false,
    "ExecuteTime": {
     "end_time": "2024-02-29T10:47:17.406983300Z",
     "start_time": "2024-02-29T10:47:17.164855100Z"
    }
   },
   "id": "c1e55230a741056d",
   "execution_count": 10
  },
  {
   "cell_type": "code",
   "outputs": [],
   "source": [
    "# Ajouter une colonne pour insérer les valeurs des émissions de Co2 en métrique tonne\n",
    "wec['pollution_co2'] = [float(\"NaN\")] * wec.shape[0]\n",
    "for (i, r) in data.iterrows():\n",
    "    for (idx, row) in wec.iterrows():\n",
    "        if row.country == r.Country and int(row.year) == int(r.Year):\n",
    "            wec.at[idx, 'pollution_co2'] = r.Value\n",
    "            \n",
    "# Supprimer la colonne 'population'\n",
    "wec = wec.drop('population', axis=1, errors='ignore')\n",
    "wec = wec.drop('iso_code', axis=1, errors='ignore')\n",
    "wec = wec.drop('gdp', axis=1, errors='ignore')\n",
    "\n",
    "wec = wec[wec['year'] >= 1960]\n",
    "\n",
    "# Valeurs enregistrés\n",
    "wec.to_csv('./output/World Energy Consumption (limited).csv', index=False)"
   ],
   "metadata": {
    "collapsed": false,
    "ExecuteTime": {
     "end_time": "2024-02-29T10:47:30.407026700Z",
     "start_time": "2024-02-29T10:47:17.723645200Z"
    }
   },
   "id": "e9aa89e010168301",
   "execution_count": 11
  },
  {
   "cell_type": "code",
   "outputs": [],
   "source": [
    "import pandas as pd\n",
    "from matplotlib import pyplot as plt\n",
    "# Charger le dataset des taxes sur les énergies\n",
    "tax = pd.read_csv('./assets/Tax_Energy.csv')"
   ],
   "metadata": {
    "collapsed": false,
    "ExecuteTime": {
     "end_time": "2024-02-29T17:56:13.096204Z",
     "start_time": "2024-02-29T17:56:13.000744100Z"
    }
   },
   "id": "4f04a70dfc46c7d7",
   "execution_count": 204
  },
  {
   "cell_type": "code",
   "outputs": [
    {
     "data": {
      "text/plain": "   ObjectId  Country ISO2 ISO3  \\\n0         1  Albania   AL  ALB   \n1         2  Albania   AL  ALB   \n2         3  Albania   AL  ALB   \n3         4  Albania   AL  ALB   \n4         5  Albania   AL  ALB   \n\n                                        Indicator  \\\n0                             Environmental Taxes   \n1                             Environmental Taxes   \n2  Taxes on Energy (including fuel for transport)   \n3  Taxes on Energy (including fuel for transport)   \n4                              Taxes on Pollution   \n\n                                              Source CTS Code  \\\n0  Organisation for Economic Co-operation and Dev...    ECGTE   \n1  Organisation for Economic Co-operation and Dev...    ECGTE   \n2  Organisation for Economic Co-operation and Dev...   ECGTEN   \n3  Organisation for Economic Co-operation and Dev...   ECGTEN   \n4  Organisation for Economic Co-operation and Dev...   ECGTEP   \n\n                                         CTS Name  \\\n0                             Environmental Taxes   \n1                             Environmental Taxes   \n2  Taxes on Energy (Including Fuel for Transport)   \n3  Taxes on Energy (Including Fuel for Transport)   \n4                              Taxes on Pollution   \n\n                                 CTS Full Descriptor               Unit  ...  \\\n0  Environment, Climate Change, Government Policy...  Domestic Currency  ...   \n1  Environment, Climate Change, Government Policy...     Percent of GDP  ...   \n2  Environment, Climate Change, Government Policy...  Domestic Currency  ...   \n3  Environment, Climate Change, Government Policy...     Percent of GDP  ...   \n4  Environment, Climate Change, Government Policy...  Domestic Currency  ...   \n\n   2012  2013  2014          2015          2016          2017          2018  \\\n0   NaN   NaN   NaN  4.399314e+10  4.781379e+10  4.754858e+10  5.114559e+10   \n1   NaN   NaN   NaN  3.067206e+00  3.247163e+00  3.066373e+00  3.124865e+00   \n2   NaN   NaN   NaN  3.774111e+10  4.094562e+10  4.040004e+10  4.352182e+10   \n3   NaN   NaN   NaN  2.631314e+00  2.780726e+00  2.605369e+00  2.659072e+00   \n4   NaN   NaN   NaN  1.782069e+09  1.879970e+09  1.941324e+09  2.226251e+09   \n\n           2019  2020  2021  \n0  5.341565e+10   NaN   NaN  \n1  3.157133e+00   NaN   NaN  \n2  4.516530e+10   NaN   NaN  \n3  2.669496e+00   NaN   NaN  \n4  2.625011e+09   NaN   NaN  \n\n[5 rows x 37 columns]",
      "text/html": "<div>\n<style scoped>\n    .dataframe tbody tr th:only-of-type {\n        vertical-align: middle;\n    }\n\n    .dataframe tbody tr th {\n        vertical-align: top;\n    }\n\n    .dataframe thead th {\n        text-align: right;\n    }\n</style>\n<table border=\"1\" class=\"dataframe\">\n  <thead>\n    <tr style=\"text-align: right;\">\n      <th></th>\n      <th>ObjectId</th>\n      <th>Country</th>\n      <th>ISO2</th>\n      <th>ISO3</th>\n      <th>Indicator</th>\n      <th>Source</th>\n      <th>CTS Code</th>\n      <th>CTS Name</th>\n      <th>CTS Full Descriptor</th>\n      <th>Unit</th>\n      <th>...</th>\n      <th>2012</th>\n      <th>2013</th>\n      <th>2014</th>\n      <th>2015</th>\n      <th>2016</th>\n      <th>2017</th>\n      <th>2018</th>\n      <th>2019</th>\n      <th>2020</th>\n      <th>2021</th>\n    </tr>\n  </thead>\n  <tbody>\n    <tr>\n      <th>0</th>\n      <td>1</td>\n      <td>Albania</td>\n      <td>AL</td>\n      <td>ALB</td>\n      <td>Environmental Taxes</td>\n      <td>Organisation for Economic Co-operation and Dev...</td>\n      <td>ECGTE</td>\n      <td>Environmental Taxes</td>\n      <td>Environment, Climate Change, Government Policy...</td>\n      <td>Domestic Currency</td>\n      <td>...</td>\n      <td>NaN</td>\n      <td>NaN</td>\n      <td>NaN</td>\n      <td>4.399314e+10</td>\n      <td>4.781379e+10</td>\n      <td>4.754858e+10</td>\n      <td>5.114559e+10</td>\n      <td>5.341565e+10</td>\n      <td>NaN</td>\n      <td>NaN</td>\n    </tr>\n    <tr>\n      <th>1</th>\n      <td>2</td>\n      <td>Albania</td>\n      <td>AL</td>\n      <td>ALB</td>\n      <td>Environmental Taxes</td>\n      <td>Organisation for Economic Co-operation and Dev...</td>\n      <td>ECGTE</td>\n      <td>Environmental Taxes</td>\n      <td>Environment, Climate Change, Government Policy...</td>\n      <td>Percent of GDP</td>\n      <td>...</td>\n      <td>NaN</td>\n      <td>NaN</td>\n      <td>NaN</td>\n      <td>3.067206e+00</td>\n      <td>3.247163e+00</td>\n      <td>3.066373e+00</td>\n      <td>3.124865e+00</td>\n      <td>3.157133e+00</td>\n      <td>NaN</td>\n      <td>NaN</td>\n    </tr>\n    <tr>\n      <th>2</th>\n      <td>3</td>\n      <td>Albania</td>\n      <td>AL</td>\n      <td>ALB</td>\n      <td>Taxes on Energy (including fuel for transport)</td>\n      <td>Organisation for Economic Co-operation and Dev...</td>\n      <td>ECGTEN</td>\n      <td>Taxes on Energy (Including Fuel for Transport)</td>\n      <td>Environment, Climate Change, Government Policy...</td>\n      <td>Domestic Currency</td>\n      <td>...</td>\n      <td>NaN</td>\n      <td>NaN</td>\n      <td>NaN</td>\n      <td>3.774111e+10</td>\n      <td>4.094562e+10</td>\n      <td>4.040004e+10</td>\n      <td>4.352182e+10</td>\n      <td>4.516530e+10</td>\n      <td>NaN</td>\n      <td>NaN</td>\n    </tr>\n    <tr>\n      <th>3</th>\n      <td>4</td>\n      <td>Albania</td>\n      <td>AL</td>\n      <td>ALB</td>\n      <td>Taxes on Energy (including fuel for transport)</td>\n      <td>Organisation for Economic Co-operation and Dev...</td>\n      <td>ECGTEN</td>\n      <td>Taxes on Energy (Including Fuel for Transport)</td>\n      <td>Environment, Climate Change, Government Policy...</td>\n      <td>Percent of GDP</td>\n      <td>...</td>\n      <td>NaN</td>\n      <td>NaN</td>\n      <td>NaN</td>\n      <td>2.631314e+00</td>\n      <td>2.780726e+00</td>\n      <td>2.605369e+00</td>\n      <td>2.659072e+00</td>\n      <td>2.669496e+00</td>\n      <td>NaN</td>\n      <td>NaN</td>\n    </tr>\n    <tr>\n      <th>4</th>\n      <td>5</td>\n      <td>Albania</td>\n      <td>AL</td>\n      <td>ALB</td>\n      <td>Taxes on Pollution</td>\n      <td>Organisation for Economic Co-operation and Dev...</td>\n      <td>ECGTEP</td>\n      <td>Taxes on Pollution</td>\n      <td>Environment, Climate Change, Government Policy...</td>\n      <td>Domestic Currency</td>\n      <td>...</td>\n      <td>NaN</td>\n      <td>NaN</td>\n      <td>NaN</td>\n      <td>1.782069e+09</td>\n      <td>1.879970e+09</td>\n      <td>1.941324e+09</td>\n      <td>2.226251e+09</td>\n      <td>2.625011e+09</td>\n      <td>NaN</td>\n      <td>NaN</td>\n    </tr>\n  </tbody>\n</table>\n<p>5 rows × 37 columns</p>\n</div>"
     },
     "execution_count": 205,
     "metadata": {},
     "output_type": "execute_result"
    }
   ],
   "source": [
    "tax.head(5)"
   ],
   "metadata": {
    "collapsed": false,
    "ExecuteTime": {
     "end_time": "2024-02-29T17:56:13.813795400Z",
     "start_time": "2024-02-29T17:56:13.673278500Z"
    }
   },
   "id": "6a2d09ab5647a736",
   "execution_count": 205
  },
  {
   "cell_type": "code",
   "outputs": [],
   "source": [
    "# Regrouper les années dans une seule colonne\n",
    "tax = pd.melt(tax, id_vars=[\"ObjectId\", \"Country\", \"ISO2\", \"ISO3\", \"Indicator\", \"Source\", \"CTS Code\", \"CTS Name\", \"CTS Full Descriptor\", \"Unit\"], \n",
    "                    var_name=\"Année\", value_name=\"Taxe\")\n"
   ],
   "metadata": {
    "collapsed": false,
    "ExecuteTime": {
     "end_time": "2024-02-29T17:56:15.673499900Z",
     "start_time": "2024-02-29T17:56:15.488078100Z"
    }
   },
   "id": "3d1dcb149c0501c9",
   "execution_count": 206
  },
  {
   "cell_type": "code",
   "outputs": [
    {
     "data": {
      "text/plain": "   ObjectId  Country ISO2 ISO3  \\\n0         1  Albania   AL  ALB   \n1         2  Albania   AL  ALB   \n2         3  Albania   AL  ALB   \n3         4  Albania   AL  ALB   \n4         5  Albania   AL  ALB   \n\n                                        Indicator  \\\n0                             Environmental Taxes   \n1                             Environmental Taxes   \n2  Taxes on Energy (including fuel for transport)   \n3  Taxes on Energy (including fuel for transport)   \n4                              Taxes on Pollution   \n\n                                              Source CTS Code  \\\n0  Organisation for Economic Co-operation and Dev...    ECGTE   \n1  Organisation for Economic Co-operation and Dev...    ECGTE   \n2  Organisation for Economic Co-operation and Dev...   ECGTEN   \n3  Organisation for Economic Co-operation and Dev...   ECGTEN   \n4  Organisation for Economic Co-operation and Dev...   ECGTEP   \n\n                                         CTS Name  \\\n0                             Environmental Taxes   \n1                             Environmental Taxes   \n2  Taxes on Energy (Including Fuel for Transport)   \n3  Taxes on Energy (Including Fuel for Transport)   \n4                              Taxes on Pollution   \n\n                                 CTS Full Descriptor               Unit Année  \\\n0  Environment, Climate Change, Government Policy...  Domestic Currency  1995   \n1  Environment, Climate Change, Government Policy...     Percent of GDP  1995   \n2  Environment, Climate Change, Government Policy...  Domestic Currency  1995   \n3  Environment, Climate Change, Government Policy...     Percent of GDP  1995   \n4  Environment, Climate Change, Government Policy...  Domestic Currency  1995   \n\n   Taxe  \n0   NaN  \n1   NaN  \n2   NaN  \n3   NaN  \n4   NaN  ",
      "text/html": "<div>\n<style scoped>\n    .dataframe tbody tr th:only-of-type {\n        vertical-align: middle;\n    }\n\n    .dataframe tbody tr th {\n        vertical-align: top;\n    }\n\n    .dataframe thead th {\n        text-align: right;\n    }\n</style>\n<table border=\"1\" class=\"dataframe\">\n  <thead>\n    <tr style=\"text-align: right;\">\n      <th></th>\n      <th>ObjectId</th>\n      <th>Country</th>\n      <th>ISO2</th>\n      <th>ISO3</th>\n      <th>Indicator</th>\n      <th>Source</th>\n      <th>CTS Code</th>\n      <th>CTS Name</th>\n      <th>CTS Full Descriptor</th>\n      <th>Unit</th>\n      <th>Année</th>\n      <th>Taxe</th>\n    </tr>\n  </thead>\n  <tbody>\n    <tr>\n      <th>0</th>\n      <td>1</td>\n      <td>Albania</td>\n      <td>AL</td>\n      <td>ALB</td>\n      <td>Environmental Taxes</td>\n      <td>Organisation for Economic Co-operation and Dev...</td>\n      <td>ECGTE</td>\n      <td>Environmental Taxes</td>\n      <td>Environment, Climate Change, Government Policy...</td>\n      <td>Domestic Currency</td>\n      <td>1995</td>\n      <td>NaN</td>\n    </tr>\n    <tr>\n      <th>1</th>\n      <td>2</td>\n      <td>Albania</td>\n      <td>AL</td>\n      <td>ALB</td>\n      <td>Environmental Taxes</td>\n      <td>Organisation for Economic Co-operation and Dev...</td>\n      <td>ECGTE</td>\n      <td>Environmental Taxes</td>\n      <td>Environment, Climate Change, Government Policy...</td>\n      <td>Percent of GDP</td>\n      <td>1995</td>\n      <td>NaN</td>\n    </tr>\n    <tr>\n      <th>2</th>\n      <td>3</td>\n      <td>Albania</td>\n      <td>AL</td>\n      <td>ALB</td>\n      <td>Taxes on Energy (including fuel for transport)</td>\n      <td>Organisation for Economic Co-operation and Dev...</td>\n      <td>ECGTEN</td>\n      <td>Taxes on Energy (Including Fuel for Transport)</td>\n      <td>Environment, Climate Change, Government Policy...</td>\n      <td>Domestic Currency</td>\n      <td>1995</td>\n      <td>NaN</td>\n    </tr>\n    <tr>\n      <th>3</th>\n      <td>4</td>\n      <td>Albania</td>\n      <td>AL</td>\n      <td>ALB</td>\n      <td>Taxes on Energy (including fuel for transport)</td>\n      <td>Organisation for Economic Co-operation and Dev...</td>\n      <td>ECGTEN</td>\n      <td>Taxes on Energy (Including Fuel for Transport)</td>\n      <td>Environment, Climate Change, Government Policy...</td>\n      <td>Percent of GDP</td>\n      <td>1995</td>\n      <td>NaN</td>\n    </tr>\n    <tr>\n      <th>4</th>\n      <td>5</td>\n      <td>Albania</td>\n      <td>AL</td>\n      <td>ALB</td>\n      <td>Taxes on Pollution</td>\n      <td>Organisation for Economic Co-operation and Dev...</td>\n      <td>ECGTEP</td>\n      <td>Taxes on Pollution</td>\n      <td>Environment, Climate Change, Government Policy...</td>\n      <td>Domestic Currency</td>\n      <td>1995</td>\n      <td>NaN</td>\n    </tr>\n  </tbody>\n</table>\n</div>"
     },
     "execution_count": 207,
     "metadata": {},
     "output_type": "execute_result"
    }
   ],
   "source": [
    "tax.head(5)"
   ],
   "metadata": {
    "collapsed": false,
    "ExecuteTime": {
     "end_time": "2024-02-29T17:56:16.319144300Z",
     "start_time": "2024-02-29T17:56:16.039263300Z"
    }
   },
   "id": "f0a692138ab1ed4d",
   "execution_count": 207
  },
  {
   "cell_type": "code",
   "outputs": [],
   "source": [
    "# Concaténer les valeurs de \"CTS Code\" et \"CTS Name\" avec un séparateur \"-\"\n",
    "tax[\"CTS Name\"] = tax[\"CTS Code\"] + \" - \" + tax[\"CTS Name\"]"
   ],
   "metadata": {
    "collapsed": false,
    "ExecuteTime": {
     "end_time": "2024-02-29T17:56:18.268904500Z",
     "start_time": "2024-02-29T17:56:18.149196300Z"
    }
   },
   "id": "edf013563881f364",
   "execution_count": 208
  },
  {
   "cell_type": "code",
   "outputs": [],
   "source": [
    "# Supprimer la colonne \"CTS Code\" puisque ses valeurs ont été concaténées avec \"CTS Name\"\n",
    "# Supprimer les colonnes \"ObjectId\", \"ISO2\", \"Indicator\", \"Source\", \"CTS Full Descriptor\"\n",
    "tax.drop(columns=[\"CTS Code\", \"ObjectId\", \"ISO2\", \"Indicator\", \"Source\", \"CTS Full Descriptor\"], inplace=True)"
   ],
   "metadata": {
    "collapsed": false,
    "ExecuteTime": {
     "end_time": "2024-02-29T17:56:19.281273200Z",
     "start_time": "2024-02-29T17:56:19.218282900Z"
    }
   },
   "id": "4ad040d44c85e735",
   "execution_count": 209
  },
  {
   "cell_type": "code",
   "outputs": [
    {
     "data": {
      "text/plain": "   Country ISO3                                           CTS Name  \\\n0  Albania  ALB                        ECGTE - Environmental Taxes   \n1  Albania  ALB                        ECGTE - Environmental Taxes   \n2  Albania  ALB  ECGTEN - Taxes on Energy (Including Fuel for T...   \n3  Albania  ALB  ECGTEN - Taxes on Energy (Including Fuel for T...   \n4  Albania  ALB                        ECGTEP - Taxes on Pollution   \n\n                Unit Année  Taxe  \n0  Domestic Currency  1995   NaN  \n1     Percent of GDP  1995   NaN  \n2  Domestic Currency  1995   NaN  \n3     Percent of GDP  1995   NaN  \n4  Domestic Currency  1995   NaN  ",
      "text/html": "<div>\n<style scoped>\n    .dataframe tbody tr th:only-of-type {\n        vertical-align: middle;\n    }\n\n    .dataframe tbody tr th {\n        vertical-align: top;\n    }\n\n    .dataframe thead th {\n        text-align: right;\n    }\n</style>\n<table border=\"1\" class=\"dataframe\">\n  <thead>\n    <tr style=\"text-align: right;\">\n      <th></th>\n      <th>Country</th>\n      <th>ISO3</th>\n      <th>CTS Name</th>\n      <th>Unit</th>\n      <th>Année</th>\n      <th>Taxe</th>\n    </tr>\n  </thead>\n  <tbody>\n    <tr>\n      <th>0</th>\n      <td>Albania</td>\n      <td>ALB</td>\n      <td>ECGTE - Environmental Taxes</td>\n      <td>Domestic Currency</td>\n      <td>1995</td>\n      <td>NaN</td>\n    </tr>\n    <tr>\n      <th>1</th>\n      <td>Albania</td>\n      <td>ALB</td>\n      <td>ECGTE - Environmental Taxes</td>\n      <td>Percent of GDP</td>\n      <td>1995</td>\n      <td>NaN</td>\n    </tr>\n    <tr>\n      <th>2</th>\n      <td>Albania</td>\n      <td>ALB</td>\n      <td>ECGTEN - Taxes on Energy (Including Fuel for T...</td>\n      <td>Domestic Currency</td>\n      <td>1995</td>\n      <td>NaN</td>\n    </tr>\n    <tr>\n      <th>3</th>\n      <td>Albania</td>\n      <td>ALB</td>\n      <td>ECGTEN - Taxes on Energy (Including Fuel for T...</td>\n      <td>Percent of GDP</td>\n      <td>1995</td>\n      <td>NaN</td>\n    </tr>\n    <tr>\n      <th>4</th>\n      <td>Albania</td>\n      <td>ALB</td>\n      <td>ECGTEP - Taxes on Pollution</td>\n      <td>Domestic Currency</td>\n      <td>1995</td>\n      <td>NaN</td>\n    </tr>\n  </tbody>\n</table>\n</div>"
     },
     "execution_count": 210,
     "metadata": {},
     "output_type": "execute_result"
    }
   ],
   "source": [
    "tax.head(5)"
   ],
   "metadata": {
    "collapsed": false,
    "ExecuteTime": {
     "end_time": "2024-02-29T17:56:20.222735400Z",
     "start_time": "2024-02-29T17:56:20.067246200Z"
    }
   },
   "id": "df87e3954071b59e",
   "execution_count": 210
  },
  {
   "cell_type": "code",
   "outputs": [],
   "source": [
    "# Mettre les valeurs de la colonne \"Unit\" en colonnes distinctes\n",
    "#tax = tax.pivot_table(index=[\"Country\", \"ISO3\", \"CTS Name\", \"Année\"], columns=\"Unit\", values=\"Taxe\").reset_index()\n",
    "#tax.head(5)"
   ],
   "metadata": {
    "collapsed": false,
    "ExecuteTime": {
     "end_time": "2024-02-29T17:56:21.757948300Z",
     "start_time": "2024-02-29T17:56:21.700815700Z"
    }
   },
   "id": "8bf7ba68d907dd42",
   "execution_count": 211
  },
  {
   "cell_type": "code",
   "outputs": [],
   "source": [
    "# Mettre les valeurs de la colonne \"CTS Name\" en colonnes distinctes\n",
    "tax = tax.pivot_table(index=[\"Country\", \"ISO3\", \"Année\", \"Unit\"], columns=\"CTS Name\", values=\"Taxe\").reset_index()"
   ],
   "metadata": {
    "collapsed": false,
    "ExecuteTime": {
     "end_time": "2024-02-29T17:56:23.499627900Z",
     "start_time": "2024-02-29T17:56:23.378566200Z"
    }
   },
   "id": "6cc0afd4237364d2",
   "execution_count": 212
  },
  {
   "cell_type": "code",
   "outputs": [
    {
     "data": {
      "text/plain": "CTS Name  Country ISO3 Année               Unit  ECGTE - Environmental Taxes  \\\n0         Albania  ALB  2015  Domestic Currency                 4.399314e+10   \n1         Albania  ALB  2015     Percent of GDP                 3.067206e+00   \n2         Albania  ALB  2016  Domestic Currency                 4.781379e+10   \n3         Albania  ALB  2016     Percent of GDP                 3.247163e+00   \n4         Albania  ALB  2017  Domestic Currency                 4.754858e+10   \n\nCTS Name  ECGTEN - Taxes on Energy (Including Fuel for Transport)  \\\n0                                              3.774111e+10         \n1                                              2.631314e+00         \n2                                              4.094562e+10         \n3                                              2.780726e+00         \n4                                              4.040004e+10         \n\nCTS Name  ECGTEP - Taxes on Pollution  ECGTER - Taxes on Resources  \\\n0                        1.782069e+09                 3.254649e+07   \n1                        1.242460e-01                 2.269145e-03   \n2                        1.879970e+09                 5.252434e+07   \n3                        1.276738e-01                 3.567068e-03   \n4                        1.941324e+09                 6.186136e+07   \n\nCTS Name  ECGTET - Taxes on Transport (Excluding Fuel for Transport)  \n0                                              4.437413e+09           \n1                                              3.093769e-01           \n2                                              4.935684e+09           \n3                                              3.351955e-01           \n4                                              5.145347e+09           ",
      "text/html": "<div>\n<style scoped>\n    .dataframe tbody tr th:only-of-type {\n        vertical-align: middle;\n    }\n\n    .dataframe tbody tr th {\n        vertical-align: top;\n    }\n\n    .dataframe thead th {\n        text-align: right;\n    }\n</style>\n<table border=\"1\" class=\"dataframe\">\n  <thead>\n    <tr style=\"text-align: right;\">\n      <th>CTS Name</th>\n      <th>Country</th>\n      <th>ISO3</th>\n      <th>Année</th>\n      <th>Unit</th>\n      <th>ECGTE - Environmental Taxes</th>\n      <th>ECGTEN - Taxes on Energy (Including Fuel for Transport)</th>\n      <th>ECGTEP - Taxes on Pollution</th>\n      <th>ECGTER - Taxes on Resources</th>\n      <th>ECGTET - Taxes on Transport (Excluding Fuel for Transport)</th>\n    </tr>\n  </thead>\n  <tbody>\n    <tr>\n      <th>0</th>\n      <td>Albania</td>\n      <td>ALB</td>\n      <td>2015</td>\n      <td>Domestic Currency</td>\n      <td>4.399314e+10</td>\n      <td>3.774111e+10</td>\n      <td>1.782069e+09</td>\n      <td>3.254649e+07</td>\n      <td>4.437413e+09</td>\n    </tr>\n    <tr>\n      <th>1</th>\n      <td>Albania</td>\n      <td>ALB</td>\n      <td>2015</td>\n      <td>Percent of GDP</td>\n      <td>3.067206e+00</td>\n      <td>2.631314e+00</td>\n      <td>1.242460e-01</td>\n      <td>2.269145e-03</td>\n      <td>3.093769e-01</td>\n    </tr>\n    <tr>\n      <th>2</th>\n      <td>Albania</td>\n      <td>ALB</td>\n      <td>2016</td>\n      <td>Domestic Currency</td>\n      <td>4.781379e+10</td>\n      <td>4.094562e+10</td>\n      <td>1.879970e+09</td>\n      <td>5.252434e+07</td>\n      <td>4.935684e+09</td>\n    </tr>\n    <tr>\n      <th>3</th>\n      <td>Albania</td>\n      <td>ALB</td>\n      <td>2016</td>\n      <td>Percent of GDP</td>\n      <td>3.247163e+00</td>\n      <td>2.780726e+00</td>\n      <td>1.276738e-01</td>\n      <td>3.567068e-03</td>\n      <td>3.351955e-01</td>\n    </tr>\n    <tr>\n      <th>4</th>\n      <td>Albania</td>\n      <td>ALB</td>\n      <td>2017</td>\n      <td>Domestic Currency</td>\n      <td>4.754858e+10</td>\n      <td>4.040004e+10</td>\n      <td>1.941324e+09</td>\n      <td>6.186136e+07</td>\n      <td>5.145347e+09</td>\n    </tr>\n  </tbody>\n</table>\n</div>"
     },
     "execution_count": 213,
     "metadata": {},
     "output_type": "execute_result"
    }
   ],
   "source": [
    "tax.head(5)"
   ],
   "metadata": {
    "collapsed": false,
    "ExecuteTime": {
     "end_time": "2024-02-29T17:56:24.705222600Z",
     "start_time": "2024-02-29T17:56:24.630991700Z"
    }
   },
   "id": "4876f081e472db5a",
   "execution_count": 213
  },
  {
   "cell_type": "code",
   "outputs": [
    {
     "data": {
      "text/plain": "CTS Name           ECGTE - Environmental Taxes                 \\\nUnit                         Domestic Currency Percent of GDP   \nCountry ISO3 Année                                              \nAlbania ALB  2015                 4.399314e+10       3.067206   \n             2016                 4.781379e+10       3.247163   \n             2017                 4.754858e+10       3.066373   \n             2018                 5.114559e+10       3.124865   \n             2019                 5.341565e+10       3.157133   \n\nCTS Name           ECGTEN - Taxes on Energy (Including Fuel for Transport)  \\\nUnit                                                     Domestic Currency   \nCountry ISO3 Année                                                           \nAlbania ALB  2015                                        3.774111e+10        \n             2016                                        4.094562e+10        \n             2017                                        4.040004e+10        \n             2018                                        4.352182e+10        \n             2019                                        4.516530e+10        \n\nCTS Name                          ECGTEP - Taxes on Pollution                 \\\nUnit               Percent of GDP           Domestic Currency Percent of GDP   \nCountry ISO3 Année                                                             \nAlbania ALB  2015        2.631314                1.782069e+09       0.124246   \n             2016        2.780726                1.879970e+09       0.127674   \n             2017        2.605369                1.941324e+09       0.125195   \n             2018        2.659072                2.226251e+09       0.136018   \n             2019        2.669496                2.625011e+09       0.155151   \n\nCTS Name           ECGTER - Taxes on Resources                 \\\nUnit                         Domestic Currency Percent of GDP   \nCountry ISO3 Année                                              \nAlbania ALB  2015                  32546493.00       0.002269   \n             2016                  52524339.00       0.003567   \n             2017                  61861356.38       0.003989   \n             2018                  56011991.00       0.003422   \n             2019                  58777099.50       0.003474   \n\nCTS Name           ECGTET - Taxes on Transport (Excluding Fuel for Transport)  \\\nUnit                                                        Domestic Currency   \nCountry ISO3 Année                                                              \nAlbania ALB  2015                                        4.437413e+09           \n             2016                                        4.935684e+09           \n             2017                                        5.145347e+09           \n             2018                                        5.341506e+09           \n             2019                                        5.566564e+09           \n\nCTS Name                           \nUnit               Percent of GDP  \nCountry ISO3 Année                 \nAlbania ALB  2015        0.309377  \n             2016        0.335195  \n             2017        0.331820  \n             2018        0.326352  \n             2019        0.329012  ",
      "text/html": "<div>\n<style scoped>\n    .dataframe tbody tr th:only-of-type {\n        vertical-align: middle;\n    }\n\n    .dataframe tbody tr th {\n        vertical-align: top;\n    }\n\n    .dataframe thead tr th {\n        text-align: left;\n    }\n\n    .dataframe thead tr:last-of-type th {\n        text-align: right;\n    }\n</style>\n<table border=\"1\" class=\"dataframe\">\n  <thead>\n    <tr>\n      <th></th>\n      <th></th>\n      <th>CTS Name</th>\n      <th colspan=\"2\" halign=\"left\">ECGTE - Environmental Taxes</th>\n      <th colspan=\"2\" halign=\"left\">ECGTEN - Taxes on Energy (Including Fuel for Transport)</th>\n      <th colspan=\"2\" halign=\"left\">ECGTEP - Taxes on Pollution</th>\n      <th colspan=\"2\" halign=\"left\">ECGTER - Taxes on Resources</th>\n      <th colspan=\"2\" halign=\"left\">ECGTET - Taxes on Transport (Excluding Fuel for Transport)</th>\n    </tr>\n    <tr>\n      <th></th>\n      <th></th>\n      <th>Unit</th>\n      <th>Domestic Currency</th>\n      <th>Percent of GDP</th>\n      <th>Domestic Currency</th>\n      <th>Percent of GDP</th>\n      <th>Domestic Currency</th>\n      <th>Percent of GDP</th>\n      <th>Domestic Currency</th>\n      <th>Percent of GDP</th>\n      <th>Domestic Currency</th>\n      <th>Percent of GDP</th>\n    </tr>\n    <tr>\n      <th>Country</th>\n      <th>ISO3</th>\n      <th>Année</th>\n      <th></th>\n      <th></th>\n      <th></th>\n      <th></th>\n      <th></th>\n      <th></th>\n      <th></th>\n      <th></th>\n      <th></th>\n      <th></th>\n    </tr>\n  </thead>\n  <tbody>\n    <tr>\n      <th rowspan=\"5\" valign=\"top\">Albania</th>\n      <th rowspan=\"5\" valign=\"top\">ALB</th>\n      <th>2015</th>\n      <td>4.399314e+10</td>\n      <td>3.067206</td>\n      <td>3.774111e+10</td>\n      <td>2.631314</td>\n      <td>1.782069e+09</td>\n      <td>0.124246</td>\n      <td>32546493.00</td>\n      <td>0.002269</td>\n      <td>4.437413e+09</td>\n      <td>0.309377</td>\n    </tr>\n    <tr>\n      <th>2016</th>\n      <td>4.781379e+10</td>\n      <td>3.247163</td>\n      <td>4.094562e+10</td>\n      <td>2.780726</td>\n      <td>1.879970e+09</td>\n      <td>0.127674</td>\n      <td>52524339.00</td>\n      <td>0.003567</td>\n      <td>4.935684e+09</td>\n      <td>0.335195</td>\n    </tr>\n    <tr>\n      <th>2017</th>\n      <td>4.754858e+10</td>\n      <td>3.066373</td>\n      <td>4.040004e+10</td>\n      <td>2.605369</td>\n      <td>1.941324e+09</td>\n      <td>0.125195</td>\n      <td>61861356.38</td>\n      <td>0.003989</td>\n      <td>5.145347e+09</td>\n      <td>0.331820</td>\n    </tr>\n    <tr>\n      <th>2018</th>\n      <td>5.114559e+10</td>\n      <td>3.124865</td>\n      <td>4.352182e+10</td>\n      <td>2.659072</td>\n      <td>2.226251e+09</td>\n      <td>0.136018</td>\n      <td>56011991.00</td>\n      <td>0.003422</td>\n      <td>5.341506e+09</td>\n      <td>0.326352</td>\n    </tr>\n    <tr>\n      <th>2019</th>\n      <td>5.341565e+10</td>\n      <td>3.157133</td>\n      <td>4.516530e+10</td>\n      <td>2.669496</td>\n      <td>2.625011e+09</td>\n      <td>0.155151</td>\n      <td>58777099.50</td>\n      <td>0.003474</td>\n      <td>5.566564e+09</td>\n      <td>0.329012</td>\n    </tr>\n  </tbody>\n</table>\n</div>"
     },
     "execution_count": 214,
     "metadata": {},
     "output_type": "execute_result"
    }
   ],
   "source": [
    "# Pivoter les données pour séparer les valeurs par type d'unité\n",
    "tax = tax.pivot_table(index=['Country', 'ISO3', 'Année'], columns='Unit')\n",
    "\n",
    "tax.head(5)"
   ],
   "metadata": {
    "collapsed": false,
    "ExecuteTime": {
     "end_time": "2024-02-29T17:56:29.929949Z",
     "start_time": "2024-02-29T17:56:29.873525600Z"
    }
   },
   "id": "9dcc995bb1fede02",
   "execution_count": 214
  },
  {
   "cell_type": "code",
   "outputs": [
    {
     "data": {
      "text/plain": "CTS Name           ECGTE - Environmental Taxes                 \\\nUnit                         Domestic Currency Percent of GDP   \nCountry ISO3 Année                                              \nAlbania ALB  2015            43 993 138 348.27        3.0672%   \n             2016            47 813 792 742.97        3.2472%   \n             2017            47 548 576 614.95        3.0664%   \n             2018            51 145 591 824.17        3.1249%   \n             2019            53 415 648 050.56        3.1571%   \n\nCTS Name           ECGTEN - Taxes on Energy (Including Fuel for Transport)  \\\nUnit                                                     Domestic Currency   \nCountry ISO3 Année                                                           \nAlbania ALB  2015                                   37 741 109 827.00        \n             2016                                   40 945 615 341.00        \n             2017                                   40 400 044 445.82        \n             2018                                   43 521 821 908.60        \n             2019                                   45 165 295 551.00        \n\nCTS Name                          ECGTEP - Taxes on Pollution                 \\\nUnit               Percent of GDP           Domestic Currency Percent of GDP   \nCountry ISO3 Année                                                             \nAlbania ALB  2015         2.6313%            1 782 068 792.97        0.1242%   \n             2016         2.7807%            1 879 969 501.87        0.1277%   \n             2017         2.6054%            1 941 324 188.75        0.1252%   \n             2018         2.6591%            2 226 251 450.57        0.1360%   \n             2019         2.6695%            2 625 011 287.71        0.1552%   \n\nCTS Name           ECGTER - Taxes on Resources                 \\\nUnit                         Domestic Currency Percent of GDP   \nCountry ISO3 Année                                              \nAlbania ALB  2015                32 546 493.00        0.0023%   \n             2016                52 524 339.00        0.0036%   \n             2017                61 861 356.38        0.0040%   \n             2018                56 011 991.00        0.0034%   \n             2019                58 777 099.50        0.0035%   \n\nCTS Name           ECGTET - Taxes on Transport (Excluding Fuel for Transport)  \\\nUnit                                                        Domestic Currency   \nCountry ISO3 Année                                                              \nAlbania ALB  2015                                    4 437 413 235.30           \n             2016                                    4 935 683 561.10           \n             2017                                    5 145 346 624.00           \n             2018                                    5 341 506 474.00           \n             2019                                    5 566 564 112.35           \n\nCTS Name                           \nUnit               Percent of GDP  \nCountry ISO3 Année                 \nAlbania ALB  2015         0.3094%  \n             2016         0.3352%  \n             2017         0.3318%  \n             2018         0.3264%  \n             2019         0.3290%  ",
      "text/html": "<div>\n<style scoped>\n    .dataframe tbody tr th:only-of-type {\n        vertical-align: middle;\n    }\n\n    .dataframe tbody tr th {\n        vertical-align: top;\n    }\n\n    .dataframe thead tr th {\n        text-align: left;\n    }\n\n    .dataframe thead tr:last-of-type th {\n        text-align: right;\n    }\n</style>\n<table border=\"1\" class=\"dataframe\">\n  <thead>\n    <tr>\n      <th></th>\n      <th></th>\n      <th>CTS Name</th>\n      <th colspan=\"2\" halign=\"left\">ECGTE - Environmental Taxes</th>\n      <th colspan=\"2\" halign=\"left\">ECGTEN - Taxes on Energy (Including Fuel for Transport)</th>\n      <th colspan=\"2\" halign=\"left\">ECGTEP - Taxes on Pollution</th>\n      <th colspan=\"2\" halign=\"left\">ECGTER - Taxes on Resources</th>\n      <th colspan=\"2\" halign=\"left\">ECGTET - Taxes on Transport (Excluding Fuel for Transport)</th>\n    </tr>\n    <tr>\n      <th></th>\n      <th></th>\n      <th>Unit</th>\n      <th>Domestic Currency</th>\n      <th>Percent of GDP</th>\n      <th>Domestic Currency</th>\n      <th>Percent of GDP</th>\n      <th>Domestic Currency</th>\n      <th>Percent of GDP</th>\n      <th>Domestic Currency</th>\n      <th>Percent of GDP</th>\n      <th>Domestic Currency</th>\n      <th>Percent of GDP</th>\n    </tr>\n    <tr>\n      <th>Country</th>\n      <th>ISO3</th>\n      <th>Année</th>\n      <th></th>\n      <th></th>\n      <th></th>\n      <th></th>\n      <th></th>\n      <th></th>\n      <th></th>\n      <th></th>\n      <th></th>\n      <th></th>\n    </tr>\n  </thead>\n  <tbody>\n    <tr>\n      <th rowspan=\"5\" valign=\"top\">Albania</th>\n      <th rowspan=\"5\" valign=\"top\">ALB</th>\n      <th>2015</th>\n      <td>43 993 138 348.27</td>\n      <td>3.0672%</td>\n      <td>37 741 109 827.00</td>\n      <td>2.6313%</td>\n      <td>1 782 068 792.97</td>\n      <td>0.1242%</td>\n      <td>32 546 493.00</td>\n      <td>0.0023%</td>\n      <td>4 437 413 235.30</td>\n      <td>0.3094%</td>\n    </tr>\n    <tr>\n      <th>2016</th>\n      <td>47 813 792 742.97</td>\n      <td>3.2472%</td>\n      <td>40 945 615 341.00</td>\n      <td>2.7807%</td>\n      <td>1 879 969 501.87</td>\n      <td>0.1277%</td>\n      <td>52 524 339.00</td>\n      <td>0.0036%</td>\n      <td>4 935 683 561.10</td>\n      <td>0.3352%</td>\n    </tr>\n    <tr>\n      <th>2017</th>\n      <td>47 548 576 614.95</td>\n      <td>3.0664%</td>\n      <td>40 400 044 445.82</td>\n      <td>2.6054%</td>\n      <td>1 941 324 188.75</td>\n      <td>0.1252%</td>\n      <td>61 861 356.38</td>\n      <td>0.0040%</td>\n      <td>5 145 346 624.00</td>\n      <td>0.3318%</td>\n    </tr>\n    <tr>\n      <th>2018</th>\n      <td>51 145 591 824.17</td>\n      <td>3.1249%</td>\n      <td>43 521 821 908.60</td>\n      <td>2.6591%</td>\n      <td>2 226 251 450.57</td>\n      <td>0.1360%</td>\n      <td>56 011 991.00</td>\n      <td>0.0034%</td>\n      <td>5 341 506 474.00</td>\n      <td>0.3264%</td>\n    </tr>\n    <tr>\n      <th>2019</th>\n      <td>53 415 648 050.56</td>\n      <td>3.1571%</td>\n      <td>45 165 295 551.00</td>\n      <td>2.6695%</td>\n      <td>2 625 011 287.71</td>\n      <td>0.1552%</td>\n      <td>58 777 099.50</td>\n      <td>0.0035%</td>\n      <td>5 566 564 112.35</td>\n      <td>0.3290%</td>\n    </tr>\n  </tbody>\n</table>\n</div>"
     },
     "execution_count": 215,
     "metadata": {},
     "output_type": "execute_result"
    }
   ],
   "source": [
    "# Définir une fonction de formatage en fonction du type d'unité\n",
    "def format_value(value, unit):\n",
    "    if \"Domestic Currency\" in unit:\n",
    "        return '{:,.2f}'.format(value).replace(',', ' ')\n",
    "    elif \"Percent of GDP\" in unit:\n",
    "        return '{:.4f}%'.format(value)\n",
    "    else:\n",
    "        return value  # Garantir le retour de la valeur d'origine si l'unité n'est pas reconnue\n",
    "\n",
    "# Appliquer le formatage en fonction du type d'unité pour chaque colonne concernée\n",
    "for column in tax.columns:\n",
    "    if \"Domestic Currency\" in column:\n",
    "        tax[column] = tax[column].apply(lambda x: format_value(x, column))\n",
    "    elif \"Percent of GDP\" in column:\n",
    "        tax[column] = tax[column].apply(lambda x: format_value(x, column))\n",
    "\n",
    "tax.head(5)"
   ],
   "metadata": {
    "collapsed": false,
    "ExecuteTime": {
     "end_time": "2024-02-29T17:56:38.249572Z",
     "start_time": "2024-02-29T17:56:38.139047800Z"
    }
   },
   "id": "7d3dea3dd31240eb",
   "execution_count": 215
  },
  {
   "cell_type": "code",
   "outputs": [],
   "source": [
    "tax.to_csv('./output/tax.csv', index=False)"
   ],
   "metadata": {
    "collapsed": false,
    "ExecuteTime": {
     "end_time": "2024-02-29T17:56:44.464429400Z",
     "start_time": "2024-02-29T17:56:44.371794800Z"
    }
   },
   "id": "c7abba961cb060d2",
   "execution_count": 216
  },
  {
   "cell_type": "code",
   "outputs": [],
   "source": [
    "# Définir une fonction pour formater les valeurs en fonction de la colonne \"Unit\"\n",
    "def formatter(value, unit):\n",
    "    if unit == \"Domestic Currency\":\n",
    "        # Formater la valeur avec séparateur d'espace et arrondi à 2 chiffres après la virgule\n",
    "        return '{:,.2f}'.format(value).replace(',', ' ')\n",
    "    elif unit == \"Percent of GDP\":\n",
    "        # Formater la valeur en pourcentage avec 4 chiffres après la virgule\n",
    "        return '{:.4f}%'.format(value)\n",
    "    else:\n",
    "        return value\n",
    "\n",
    "# Appliquer la fonction à chaque cellule du dataframe en fonction de la colonne \"Unit\"\n",
    "for col in tax.select_dtypes(include=['float64']).columns:\n",
    "    tax[col] = tax.apply(lambda row: formatter(row[col], row['Unit']), axis=1)\n",
    "\n"
   ],
   "metadata": {
    "collapsed": false,
    "ExecuteTime": {
     "end_time": "2024-02-29T16:28:53.163485600Z",
     "start_time": "2024-02-29T16:28:53.107955100Z"
    }
   },
   "id": "ebc5a1c630945516",
   "execution_count": 125
  },
  {
   "cell_type": "code",
   "outputs": [
    {
     "data": {
      "text/plain": "CTS Name  Country ISO3 Année               Unit ECGTE - Environmental Taxes  \\\n0         Albania  ALB  2015  Domestic Currency           43 993 138 348.27   \n1         Albania  ALB  2015     Percent of GDP                     3.0672%   \n2         Albania  ALB  2016  Domestic Currency           47 813 792 742.97   \n3         Albania  ALB  2016     Percent of GDP                     3.2472%   \n4         Albania  ALB  2017  Domestic Currency           47 548 576 614.95   \n\nCTS Name ECGTEN - Taxes on Energy (Including Fuel for Transport)  \\\n0                                         37 741 109 827.00        \n1                                                   2.6313%        \n2                                         40 945 615 341.00        \n3                                                   2.7807%        \n4                                         40 400 044 445.82        \n\nCTS Name ECGTEP - Taxes on Pollution ECGTER - Taxes on Resources  \\\n0                   1 782 068 792.97               32 546 493.00   \n1                            0.1242%                     0.0023%   \n2                   1 879 969 501.87               52 524 339.00   \n3                            0.1277%                     0.0036%   \n4                   1 941 324 188.75               61 861 356.38   \n\nCTS Name ECGTET - Taxes on Transport (Excluding Fuel for Transport)  \n0                                          4 437 413 235.30          \n1                                                   0.3094%          \n2                                          4 935 683 561.10          \n3                                                   0.3352%          \n4                                          5 145 346 624.00          ",
      "text/html": "<div>\n<style scoped>\n    .dataframe tbody tr th:only-of-type {\n        vertical-align: middle;\n    }\n\n    .dataframe tbody tr th {\n        vertical-align: top;\n    }\n\n    .dataframe thead th {\n        text-align: right;\n    }\n</style>\n<table border=\"1\" class=\"dataframe\">\n  <thead>\n    <tr style=\"text-align: right;\">\n      <th>CTS Name</th>\n      <th>Country</th>\n      <th>ISO3</th>\n      <th>Année</th>\n      <th>Unit</th>\n      <th>ECGTE - Environmental Taxes</th>\n      <th>ECGTEN - Taxes on Energy (Including Fuel for Transport)</th>\n      <th>ECGTEP - Taxes on Pollution</th>\n      <th>ECGTER - Taxes on Resources</th>\n      <th>ECGTET - Taxes on Transport (Excluding Fuel for Transport)</th>\n    </tr>\n  </thead>\n  <tbody>\n    <tr>\n      <th>0</th>\n      <td>Albania</td>\n      <td>ALB</td>\n      <td>2015</td>\n      <td>Domestic Currency</td>\n      <td>43 993 138 348.27</td>\n      <td>37 741 109 827.00</td>\n      <td>1 782 068 792.97</td>\n      <td>32 546 493.00</td>\n      <td>4 437 413 235.30</td>\n    </tr>\n    <tr>\n      <th>1</th>\n      <td>Albania</td>\n      <td>ALB</td>\n      <td>2015</td>\n      <td>Percent of GDP</td>\n      <td>3.0672%</td>\n      <td>2.6313%</td>\n      <td>0.1242%</td>\n      <td>0.0023%</td>\n      <td>0.3094%</td>\n    </tr>\n    <tr>\n      <th>2</th>\n      <td>Albania</td>\n      <td>ALB</td>\n      <td>2016</td>\n      <td>Domestic Currency</td>\n      <td>47 813 792 742.97</td>\n      <td>40 945 615 341.00</td>\n      <td>1 879 969 501.87</td>\n      <td>52 524 339.00</td>\n      <td>4 935 683 561.10</td>\n    </tr>\n    <tr>\n      <th>3</th>\n      <td>Albania</td>\n      <td>ALB</td>\n      <td>2016</td>\n      <td>Percent of GDP</td>\n      <td>3.2472%</td>\n      <td>2.7807%</td>\n      <td>0.1277%</td>\n      <td>0.0036%</td>\n      <td>0.3352%</td>\n    </tr>\n    <tr>\n      <th>4</th>\n      <td>Albania</td>\n      <td>ALB</td>\n      <td>2017</td>\n      <td>Domestic Currency</td>\n      <td>47 548 576 614.95</td>\n      <td>40 400 044 445.82</td>\n      <td>1 941 324 188.75</td>\n      <td>61 861 356.38</td>\n      <td>5 145 346 624.00</td>\n    </tr>\n  </tbody>\n</table>\n</div>"
     },
     "execution_count": 58,
     "metadata": {},
     "output_type": "execute_result"
    }
   ],
   "source": [
    "tax.head(5)"
   ],
   "metadata": {
    "collapsed": false,
    "ExecuteTime": {
     "end_time": "2024-02-29T15:37:44.483467200Z",
     "start_time": "2024-02-29T15:37:44.438431500Z"
    }
   },
   "id": "6d18383bed5b8bf5",
   "execution_count": 58
  },
  {
   "cell_type": "code",
   "outputs": [
    {
     "data": {
      "text/plain": "(5494, 9)"
     },
     "execution_count": 59,
     "metadata": {},
     "output_type": "execute_result"
    }
   ],
   "source": [
    "tax.shape"
   ],
   "metadata": {
    "collapsed": false,
    "ExecuteTime": {
     "end_time": "2024-02-29T15:37:46.634522600Z",
     "start_time": "2024-02-29T15:37:46.609529500Z"
    }
   },
   "id": "e10359974dd23525",
   "execution_count": 59
  },
  {
   "cell_type": "code",
   "outputs": [
    {
     "ename": "TypeError",
     "evalue": "agg function failed [how->mean,dtype->object]",
     "output_type": "error",
     "traceback": [
      "\u001B[1;31m---------------------------------------------------------------------------\u001B[0m",
      "\u001B[1;31mTypeError\u001B[0m                                 Traceback (most recent call last)",
      "File \u001B[1;32m~\\PycharmProjects\\energyProject\\pythonProject\\.venv\\lib\\site-packages\\pandas\\core\\groupby\\groupby.py:1942\u001B[0m, in \u001B[0;36mGroupBy._agg_py_fallback\u001B[1;34m(self, how, values, ndim, alt)\u001B[0m\n\u001B[0;32m   1941\u001B[0m \u001B[38;5;28;01mtry\u001B[39;00m:\n\u001B[1;32m-> 1942\u001B[0m     res_values \u001B[38;5;241m=\u001B[39m \u001B[38;5;28;43mself\u001B[39;49m\u001B[38;5;241;43m.\u001B[39;49m\u001B[43m_grouper\u001B[49m\u001B[38;5;241;43m.\u001B[39;49m\u001B[43magg_series\u001B[49m\u001B[43m(\u001B[49m\u001B[43mser\u001B[49m\u001B[43m,\u001B[49m\u001B[43m \u001B[49m\u001B[43malt\u001B[49m\u001B[43m,\u001B[49m\u001B[43m \u001B[49m\u001B[43mpreserve_dtype\u001B[49m\u001B[38;5;241;43m=\u001B[39;49m\u001B[38;5;28;43;01mTrue\u001B[39;49;00m\u001B[43m)\u001B[49m\n\u001B[0;32m   1943\u001B[0m \u001B[38;5;28;01mexcept\u001B[39;00m \u001B[38;5;167;01mException\u001B[39;00m \u001B[38;5;28;01mas\u001B[39;00m err:\n",
      "File \u001B[1;32m~\\PycharmProjects\\energyProject\\pythonProject\\.venv\\lib\\site-packages\\pandas\\core\\groupby\\ops.py:864\u001B[0m, in \u001B[0;36mBaseGrouper.agg_series\u001B[1;34m(self, obj, func, preserve_dtype)\u001B[0m\n\u001B[0;32m    862\u001B[0m     preserve_dtype \u001B[38;5;241m=\u001B[39m \u001B[38;5;28;01mTrue\u001B[39;00m\n\u001B[1;32m--> 864\u001B[0m result \u001B[38;5;241m=\u001B[39m \u001B[38;5;28;43mself\u001B[39;49m\u001B[38;5;241;43m.\u001B[39;49m\u001B[43m_aggregate_series_pure_python\u001B[49m\u001B[43m(\u001B[49m\u001B[43mobj\u001B[49m\u001B[43m,\u001B[49m\u001B[43m \u001B[49m\u001B[43mfunc\u001B[49m\u001B[43m)\u001B[49m\n\u001B[0;32m    866\u001B[0m npvalues \u001B[38;5;241m=\u001B[39m lib\u001B[38;5;241m.\u001B[39mmaybe_convert_objects(result, try_float\u001B[38;5;241m=\u001B[39m\u001B[38;5;28;01mFalse\u001B[39;00m)\n",
      "File \u001B[1;32m~\\PycharmProjects\\energyProject\\pythonProject\\.venv\\lib\\site-packages\\pandas\\core\\groupby\\ops.py:885\u001B[0m, in \u001B[0;36mBaseGrouper._aggregate_series_pure_python\u001B[1;34m(self, obj, func)\u001B[0m\n\u001B[0;32m    884\u001B[0m \u001B[38;5;28;01mfor\u001B[39;00m i, group \u001B[38;5;129;01min\u001B[39;00m \u001B[38;5;28menumerate\u001B[39m(splitter):\n\u001B[1;32m--> 885\u001B[0m     res \u001B[38;5;241m=\u001B[39m \u001B[43mfunc\u001B[49m\u001B[43m(\u001B[49m\u001B[43mgroup\u001B[49m\u001B[43m)\u001B[49m\n\u001B[0;32m    886\u001B[0m     res \u001B[38;5;241m=\u001B[39m extract_result(res)\n",
      "File \u001B[1;32m~\\PycharmProjects\\energyProject\\pythonProject\\.venv\\lib\\site-packages\\pandas\\core\\groupby\\groupby.py:2454\u001B[0m, in \u001B[0;36mGroupBy.mean.<locals>.<lambda>\u001B[1;34m(x)\u001B[0m\n\u001B[0;32m   2451\u001B[0m \u001B[38;5;28;01melse\u001B[39;00m:\n\u001B[0;32m   2452\u001B[0m     result \u001B[38;5;241m=\u001B[39m \u001B[38;5;28mself\u001B[39m\u001B[38;5;241m.\u001B[39m_cython_agg_general(\n\u001B[0;32m   2453\u001B[0m         \u001B[38;5;124m\"\u001B[39m\u001B[38;5;124mmean\u001B[39m\u001B[38;5;124m\"\u001B[39m,\n\u001B[1;32m-> 2454\u001B[0m         alt\u001B[38;5;241m=\u001B[39m\u001B[38;5;28;01mlambda\u001B[39;00m x: \u001B[43mSeries\u001B[49m\u001B[43m(\u001B[49m\u001B[43mx\u001B[49m\u001B[43m,\u001B[49m\u001B[43m \u001B[49m\u001B[43mcopy\u001B[49m\u001B[38;5;241;43m=\u001B[39;49m\u001B[38;5;28;43;01mFalse\u001B[39;49;00m\u001B[43m)\u001B[49m\u001B[38;5;241;43m.\u001B[39;49m\u001B[43mmean\u001B[49m\u001B[43m(\u001B[49m\u001B[43mnumeric_only\u001B[49m\u001B[38;5;241;43m=\u001B[39;49m\u001B[43mnumeric_only\u001B[49m\u001B[43m)\u001B[49m,\n\u001B[0;32m   2455\u001B[0m         numeric_only\u001B[38;5;241m=\u001B[39mnumeric_only,\n\u001B[0;32m   2456\u001B[0m     )\n\u001B[0;32m   2457\u001B[0m     \u001B[38;5;28;01mreturn\u001B[39;00m result\u001B[38;5;241m.\u001B[39m__finalize__(\u001B[38;5;28mself\u001B[39m\u001B[38;5;241m.\u001B[39mobj, method\u001B[38;5;241m=\u001B[39m\u001B[38;5;124m\"\u001B[39m\u001B[38;5;124mgroupby\u001B[39m\u001B[38;5;124m\"\u001B[39m)\n",
      "File \u001B[1;32m~\\PycharmProjects\\energyProject\\pythonProject\\.venv\\lib\\site-packages\\pandas\\core\\series.py:6540\u001B[0m, in \u001B[0;36mSeries.mean\u001B[1;34m(self, axis, skipna, numeric_only, **kwargs)\u001B[0m\n\u001B[0;32m   6532\u001B[0m \u001B[38;5;129m@doc\u001B[39m(make_doc(\u001B[38;5;124m\"\u001B[39m\u001B[38;5;124mmean\u001B[39m\u001B[38;5;124m\"\u001B[39m, ndim\u001B[38;5;241m=\u001B[39m\u001B[38;5;241m1\u001B[39m))\n\u001B[0;32m   6533\u001B[0m \u001B[38;5;28;01mdef\u001B[39;00m \u001B[38;5;21mmean\u001B[39m(\n\u001B[0;32m   6534\u001B[0m     \u001B[38;5;28mself\u001B[39m,\n\u001B[1;32m   (...)\u001B[0m\n\u001B[0;32m   6538\u001B[0m     \u001B[38;5;241m*\u001B[39m\u001B[38;5;241m*\u001B[39mkwargs,\n\u001B[0;32m   6539\u001B[0m ):\n\u001B[1;32m-> 6540\u001B[0m     \u001B[38;5;28;01mreturn\u001B[39;00m NDFrame\u001B[38;5;241m.\u001B[39mmean(\u001B[38;5;28mself\u001B[39m, axis, skipna, numeric_only, \u001B[38;5;241m*\u001B[39m\u001B[38;5;241m*\u001B[39mkwargs)\n",
      "File \u001B[1;32m~\\PycharmProjects\\energyProject\\pythonProject\\.venv\\lib\\site-packages\\pandas\\core\\generic.py:12417\u001B[0m, in \u001B[0;36mNDFrame.mean\u001B[1;34m(self, axis, skipna, numeric_only, **kwargs)\u001B[0m\n\u001B[0;32m  12410\u001B[0m \u001B[38;5;28;01mdef\u001B[39;00m \u001B[38;5;21mmean\u001B[39m(\n\u001B[0;32m  12411\u001B[0m     \u001B[38;5;28mself\u001B[39m,\n\u001B[0;32m  12412\u001B[0m     axis: Axis \u001B[38;5;241m|\u001B[39m \u001B[38;5;28;01mNone\u001B[39;00m \u001B[38;5;241m=\u001B[39m \u001B[38;5;241m0\u001B[39m,\n\u001B[1;32m   (...)\u001B[0m\n\u001B[0;32m  12415\u001B[0m     \u001B[38;5;241m*\u001B[39m\u001B[38;5;241m*\u001B[39mkwargs,\n\u001B[0;32m  12416\u001B[0m ) \u001B[38;5;241m-\u001B[39m\u001B[38;5;241m>\u001B[39m Series \u001B[38;5;241m|\u001B[39m \u001B[38;5;28mfloat\u001B[39m:\n\u001B[1;32m> 12417\u001B[0m     \u001B[38;5;28;01mreturn\u001B[39;00m \u001B[38;5;28mself\u001B[39m\u001B[38;5;241m.\u001B[39m_stat_function(\n\u001B[0;32m  12418\u001B[0m         \u001B[38;5;124m\"\u001B[39m\u001B[38;5;124mmean\u001B[39m\u001B[38;5;124m\"\u001B[39m, nanops\u001B[38;5;241m.\u001B[39mnanmean, axis, skipna, numeric_only, \u001B[38;5;241m*\u001B[39m\u001B[38;5;241m*\u001B[39mkwargs\n\u001B[0;32m  12419\u001B[0m     )\n",
      "File \u001B[1;32m~\\PycharmProjects\\energyProject\\pythonProject\\.venv\\lib\\site-packages\\pandas\\core\\generic.py:12374\u001B[0m, in \u001B[0;36mNDFrame._stat_function\u001B[1;34m(self, name, func, axis, skipna, numeric_only, **kwargs)\u001B[0m\n\u001B[0;32m  12372\u001B[0m validate_bool_kwarg(skipna, \u001B[38;5;124m\"\u001B[39m\u001B[38;5;124mskipna\u001B[39m\u001B[38;5;124m\"\u001B[39m, none_allowed\u001B[38;5;241m=\u001B[39m\u001B[38;5;28;01mFalse\u001B[39;00m)\n\u001B[1;32m> 12374\u001B[0m \u001B[38;5;28;01mreturn\u001B[39;00m \u001B[38;5;28;43mself\u001B[39;49m\u001B[38;5;241;43m.\u001B[39;49m\u001B[43m_reduce\u001B[49m\u001B[43m(\u001B[49m\n\u001B[0;32m  12375\u001B[0m \u001B[43m    \u001B[49m\u001B[43mfunc\u001B[49m\u001B[43m,\u001B[49m\u001B[43m \u001B[49m\u001B[43mname\u001B[49m\u001B[38;5;241;43m=\u001B[39;49m\u001B[43mname\u001B[49m\u001B[43m,\u001B[49m\u001B[43m \u001B[49m\u001B[43maxis\u001B[49m\u001B[38;5;241;43m=\u001B[39;49m\u001B[43maxis\u001B[49m\u001B[43m,\u001B[49m\u001B[43m \u001B[49m\u001B[43mskipna\u001B[49m\u001B[38;5;241;43m=\u001B[39;49m\u001B[43mskipna\u001B[49m\u001B[43m,\u001B[49m\u001B[43m \u001B[49m\u001B[43mnumeric_only\u001B[49m\u001B[38;5;241;43m=\u001B[39;49m\u001B[43mnumeric_only\u001B[49m\n\u001B[0;32m  12376\u001B[0m \u001B[43m\u001B[49m\u001B[43m)\u001B[49m\n",
      "File \u001B[1;32m~\\PycharmProjects\\energyProject\\pythonProject\\.venv\\lib\\site-packages\\pandas\\core\\series.py:6448\u001B[0m, in \u001B[0;36mSeries._reduce\u001B[1;34m(self, op, name, axis, skipna, numeric_only, filter_type, **kwds)\u001B[0m\n\u001B[0;32m   6444\u001B[0m     \u001B[38;5;28;01mraise\u001B[39;00m \u001B[38;5;167;01mTypeError\u001B[39;00m(\n\u001B[0;32m   6445\u001B[0m         \u001B[38;5;124mf\u001B[39m\u001B[38;5;124m\"\u001B[39m\u001B[38;5;124mSeries.\u001B[39m\u001B[38;5;132;01m{\u001B[39;00mname\u001B[38;5;132;01m}\u001B[39;00m\u001B[38;5;124m does not allow \u001B[39m\u001B[38;5;132;01m{\u001B[39;00mkwd_name\u001B[38;5;132;01m}\u001B[39;00m\u001B[38;5;124m=\u001B[39m\u001B[38;5;132;01m{\u001B[39;00mnumeric_only\u001B[38;5;132;01m}\u001B[39;00m\u001B[38;5;124m \u001B[39m\u001B[38;5;124m\"\u001B[39m\n\u001B[0;32m   6446\u001B[0m         \u001B[38;5;124m\"\u001B[39m\u001B[38;5;124mwith non-numeric dtypes.\u001B[39m\u001B[38;5;124m\"\u001B[39m\n\u001B[0;32m   6447\u001B[0m     )\n\u001B[1;32m-> 6448\u001B[0m \u001B[38;5;28;01mreturn\u001B[39;00m op(delegate, skipna\u001B[38;5;241m=\u001B[39mskipna, \u001B[38;5;241m*\u001B[39m\u001B[38;5;241m*\u001B[39mkwds)\n",
      "File \u001B[1;32m~\\PycharmProjects\\energyProject\\pythonProject\\.venv\\lib\\site-packages\\pandas\\core\\nanops.py:147\u001B[0m, in \u001B[0;36mbottleneck_switch.__call__.<locals>.f\u001B[1;34m(values, axis, skipna, **kwds)\u001B[0m\n\u001B[0;32m    146\u001B[0m \u001B[38;5;28;01melse\u001B[39;00m:\n\u001B[1;32m--> 147\u001B[0m     result \u001B[38;5;241m=\u001B[39m alt(values, axis\u001B[38;5;241m=\u001B[39maxis, skipna\u001B[38;5;241m=\u001B[39mskipna, \u001B[38;5;241m*\u001B[39m\u001B[38;5;241m*\u001B[39mkwds)\n\u001B[0;32m    149\u001B[0m \u001B[38;5;28;01mreturn\u001B[39;00m result\n",
      "File \u001B[1;32m~\\PycharmProjects\\energyProject\\pythonProject\\.venv\\lib\\site-packages\\pandas\\core\\nanops.py:404\u001B[0m, in \u001B[0;36m_datetimelike_compat.<locals>.new_func\u001B[1;34m(values, axis, skipna, mask, **kwargs)\u001B[0m\n\u001B[0;32m    402\u001B[0m     mask \u001B[38;5;241m=\u001B[39m isna(values)\n\u001B[1;32m--> 404\u001B[0m result \u001B[38;5;241m=\u001B[39m func(values, axis\u001B[38;5;241m=\u001B[39maxis, skipna\u001B[38;5;241m=\u001B[39mskipna, mask\u001B[38;5;241m=\u001B[39mmask, \u001B[38;5;241m*\u001B[39m\u001B[38;5;241m*\u001B[39mkwargs)\n\u001B[0;32m    406\u001B[0m \u001B[38;5;28;01mif\u001B[39;00m datetimelike:\n",
      "File \u001B[1;32m~\\PycharmProjects\\energyProject\\pythonProject\\.venv\\lib\\site-packages\\pandas\\core\\nanops.py:720\u001B[0m, in \u001B[0;36mnanmean\u001B[1;34m(values, axis, skipna, mask)\u001B[0m\n\u001B[0;32m    719\u001B[0m the_sum \u001B[38;5;241m=\u001B[39m values\u001B[38;5;241m.\u001B[39msum(axis, dtype\u001B[38;5;241m=\u001B[39mdtype_sum)\n\u001B[1;32m--> 720\u001B[0m the_sum \u001B[38;5;241m=\u001B[39m \u001B[43m_ensure_numeric\u001B[49m\u001B[43m(\u001B[49m\u001B[43mthe_sum\u001B[49m\u001B[43m)\u001B[49m\n\u001B[0;32m    722\u001B[0m \u001B[38;5;28;01mif\u001B[39;00m axis \u001B[38;5;129;01mis\u001B[39;00m \u001B[38;5;129;01mnot\u001B[39;00m \u001B[38;5;28;01mNone\u001B[39;00m \u001B[38;5;129;01mand\u001B[39;00m \u001B[38;5;28mgetattr\u001B[39m(the_sum, \u001B[38;5;124m\"\u001B[39m\u001B[38;5;124mndim\u001B[39m\u001B[38;5;124m\"\u001B[39m, \u001B[38;5;28;01mFalse\u001B[39;00m):\n",
      "File \u001B[1;32m~\\PycharmProjects\\energyProject\\pythonProject\\.venv\\lib\\site-packages\\pandas\\core\\nanops.py:1701\u001B[0m, in \u001B[0;36m_ensure_numeric\u001B[1;34m(x)\u001B[0m\n\u001B[0;32m   1699\u001B[0m \u001B[38;5;28;01mif\u001B[39;00m \u001B[38;5;28misinstance\u001B[39m(x, \u001B[38;5;28mstr\u001B[39m):\n\u001B[0;32m   1700\u001B[0m     \u001B[38;5;66;03m# GH#44008, GH#36703 avoid casting e.g. strings to numeric\u001B[39;00m\n\u001B[1;32m-> 1701\u001B[0m     \u001B[38;5;28;01mraise\u001B[39;00m \u001B[38;5;167;01mTypeError\u001B[39;00m(\u001B[38;5;124mf\u001B[39m\u001B[38;5;124m\"\u001B[39m\u001B[38;5;124mCould not convert string \u001B[39m\u001B[38;5;124m'\u001B[39m\u001B[38;5;132;01m{\u001B[39;00mx\u001B[38;5;132;01m}\u001B[39;00m\u001B[38;5;124m'\u001B[39m\u001B[38;5;124m to numeric\u001B[39m\u001B[38;5;124m\"\u001B[39m)\n\u001B[0;32m   1702\u001B[0m \u001B[38;5;28;01mtry\u001B[39;00m:\n",
      "\u001B[1;31mTypeError\u001B[0m: Could not convert string '43 993 138 348.27' to numeric",
      "\nThe above exception was the direct cause of the following exception:\n",
      "\u001B[1;31mTypeError\u001B[0m                                 Traceback (most recent call last)",
      "Cell \u001B[1;32mIn[62], line 2\u001B[0m\n\u001B[0;32m      1\u001B[0m \u001B[38;5;66;03m# Pivoter les données pour séparer les valeurs par type d'unité\u001B[39;00m\n\u001B[1;32m----> 2\u001B[0m tax \u001B[38;5;241m=\u001B[39m \u001B[43mtax\u001B[49m\u001B[38;5;241;43m.\u001B[39;49m\u001B[43mpivot_table\u001B[49m\u001B[43m(\u001B[49m\u001B[43mindex\u001B[49m\u001B[38;5;241;43m=\u001B[39;49m\u001B[43m[\u001B[49m\u001B[38;5;124;43m'\u001B[39;49m\u001B[38;5;124;43mCountry\u001B[39;49m\u001B[38;5;124;43m'\u001B[39;49m\u001B[43m,\u001B[49m\u001B[43m \u001B[49m\u001B[38;5;124;43m'\u001B[39;49m\u001B[38;5;124;43mISO3\u001B[39;49m\u001B[38;5;124;43m'\u001B[39;49m\u001B[43m,\u001B[49m\u001B[43m \u001B[49m\u001B[38;5;124;43m'\u001B[39;49m\u001B[38;5;124;43mAnnée\u001B[39;49m\u001B[38;5;124;43m'\u001B[39;49m\u001B[43m]\u001B[49m\u001B[43m,\u001B[49m\u001B[43m \u001B[49m\u001B[43mcolumns\u001B[49m\u001B[38;5;241;43m=\u001B[39;49m\u001B[38;5;124;43m'\u001B[39;49m\u001B[38;5;124;43mUnit\u001B[39;49m\u001B[38;5;124;43m'\u001B[39;49m\u001B[43m,\u001B[49m\u001B[43m \u001B[49m\u001B[43mvalues\u001B[49m\u001B[38;5;241;43m=\u001B[39;49m\u001B[43m[\u001B[49m\u001B[38;5;124;43m'\u001B[39;49m\u001B[38;5;124;43mECGTE - Environmental Taxes\u001B[39;49m\u001B[38;5;124;43m'\u001B[39;49m\u001B[43m,\u001B[49m\u001B[43m \u001B[49m\u001B[38;5;124;43m'\u001B[39;49m\u001B[38;5;124;43mECGTEN - Taxes on Energy (Including Fuel for Transport)\u001B[39;49m\u001B[38;5;124;43m'\u001B[39;49m\u001B[43m,\u001B[49m\u001B[43m \u001B[49m\u001B[38;5;124;43m'\u001B[39;49m\u001B[38;5;124;43mECGTEP - Taxes on Pollution\u001B[39;49m\u001B[38;5;124;43m'\u001B[39;49m\u001B[43m,\u001B[49m\u001B[43m \u001B[49m\u001B[38;5;124;43m'\u001B[39;49m\u001B[38;5;124;43mECGTER - Taxes on Resources\u001B[39;49m\u001B[38;5;124;43m'\u001B[39;49m\u001B[43m,\u001B[49m\u001B[43m \u001B[49m\u001B[38;5;124;43m'\u001B[39;49m\u001B[38;5;124;43mECGTET - Taxes on Transport (Excluding Fuel for Transport)\u001B[39;49m\u001B[38;5;124;43m'\u001B[39;49m\u001B[43m]\u001B[49m\u001B[43m)\u001B[49m\n\u001B[0;32m      4\u001B[0m \u001B[38;5;66;03m# Réinitialiser l'index pour avoir un DataFrame plat\u001B[39;00m\n\u001B[0;32m      5\u001B[0m tax\u001B[38;5;241m.\u001B[39mreset_index(inplace\u001B[38;5;241m=\u001B[39m\u001B[38;5;28;01mTrue\u001B[39;00m)\n",
      "File \u001B[1;32m~\\PycharmProjects\\energyProject\\pythonProject\\.venv\\lib\\site-packages\\pandas\\core\\frame.py:9496\u001B[0m, in \u001B[0;36mDataFrame.pivot_table\u001B[1;34m(self, values, index, columns, aggfunc, fill_value, margins, dropna, margins_name, observed, sort)\u001B[0m\n\u001B[0;32m   9479\u001B[0m \u001B[38;5;129m@Substitution\u001B[39m(\u001B[38;5;124m\"\u001B[39m\u001B[38;5;124m\"\u001B[39m)\n\u001B[0;32m   9480\u001B[0m \u001B[38;5;129m@Appender\u001B[39m(_shared_docs[\u001B[38;5;124m\"\u001B[39m\u001B[38;5;124mpivot_table\u001B[39m\u001B[38;5;124m\"\u001B[39m])\n\u001B[0;32m   9481\u001B[0m \u001B[38;5;28;01mdef\u001B[39;00m \u001B[38;5;21mpivot_table\u001B[39m(\n\u001B[1;32m   (...)\u001B[0m\n\u001B[0;32m   9492\u001B[0m     sort: \u001B[38;5;28mbool\u001B[39m \u001B[38;5;241m=\u001B[39m \u001B[38;5;28;01mTrue\u001B[39;00m,\n\u001B[0;32m   9493\u001B[0m ) \u001B[38;5;241m-\u001B[39m\u001B[38;5;241m>\u001B[39m DataFrame:\n\u001B[0;32m   9494\u001B[0m     \u001B[38;5;28;01mfrom\u001B[39;00m \u001B[38;5;21;01mpandas\u001B[39;00m\u001B[38;5;21;01m.\u001B[39;00m\u001B[38;5;21;01mcore\u001B[39;00m\u001B[38;5;21;01m.\u001B[39;00m\u001B[38;5;21;01mreshape\u001B[39;00m\u001B[38;5;21;01m.\u001B[39;00m\u001B[38;5;21;01mpivot\u001B[39;00m \u001B[38;5;28;01mimport\u001B[39;00m pivot_table\n\u001B[1;32m-> 9496\u001B[0m     \u001B[38;5;28;01mreturn\u001B[39;00m \u001B[43mpivot_table\u001B[49m\u001B[43m(\u001B[49m\n\u001B[0;32m   9497\u001B[0m \u001B[43m        \u001B[49m\u001B[38;5;28;43mself\u001B[39;49m\u001B[43m,\u001B[49m\n\u001B[0;32m   9498\u001B[0m \u001B[43m        \u001B[49m\u001B[43mvalues\u001B[49m\u001B[38;5;241;43m=\u001B[39;49m\u001B[43mvalues\u001B[49m\u001B[43m,\u001B[49m\n\u001B[0;32m   9499\u001B[0m \u001B[43m        \u001B[49m\u001B[43mindex\u001B[49m\u001B[38;5;241;43m=\u001B[39;49m\u001B[43mindex\u001B[49m\u001B[43m,\u001B[49m\n\u001B[0;32m   9500\u001B[0m \u001B[43m        \u001B[49m\u001B[43mcolumns\u001B[49m\u001B[38;5;241;43m=\u001B[39;49m\u001B[43mcolumns\u001B[49m\u001B[43m,\u001B[49m\n\u001B[0;32m   9501\u001B[0m \u001B[43m        \u001B[49m\u001B[43maggfunc\u001B[49m\u001B[38;5;241;43m=\u001B[39;49m\u001B[43maggfunc\u001B[49m\u001B[43m,\u001B[49m\n\u001B[0;32m   9502\u001B[0m \u001B[43m        \u001B[49m\u001B[43mfill_value\u001B[49m\u001B[38;5;241;43m=\u001B[39;49m\u001B[43mfill_value\u001B[49m\u001B[43m,\u001B[49m\n\u001B[0;32m   9503\u001B[0m \u001B[43m        \u001B[49m\u001B[43mmargins\u001B[49m\u001B[38;5;241;43m=\u001B[39;49m\u001B[43mmargins\u001B[49m\u001B[43m,\u001B[49m\n\u001B[0;32m   9504\u001B[0m \u001B[43m        \u001B[49m\u001B[43mdropna\u001B[49m\u001B[38;5;241;43m=\u001B[39;49m\u001B[43mdropna\u001B[49m\u001B[43m,\u001B[49m\n\u001B[0;32m   9505\u001B[0m \u001B[43m        \u001B[49m\u001B[43mmargins_name\u001B[49m\u001B[38;5;241;43m=\u001B[39;49m\u001B[43mmargins_name\u001B[49m\u001B[43m,\u001B[49m\n\u001B[0;32m   9506\u001B[0m \u001B[43m        \u001B[49m\u001B[43mobserved\u001B[49m\u001B[38;5;241;43m=\u001B[39;49m\u001B[43mobserved\u001B[49m\u001B[43m,\u001B[49m\n\u001B[0;32m   9507\u001B[0m \u001B[43m        \u001B[49m\u001B[43msort\u001B[49m\u001B[38;5;241;43m=\u001B[39;49m\u001B[43msort\u001B[49m\u001B[43m,\u001B[49m\n\u001B[0;32m   9508\u001B[0m \u001B[43m    \u001B[49m\u001B[43m)\u001B[49m\n",
      "File \u001B[1;32m~\\PycharmProjects\\energyProject\\pythonProject\\.venv\\lib\\site-packages\\pandas\\core\\reshape\\pivot.py:102\u001B[0m, in \u001B[0;36mpivot_table\u001B[1;34m(data, values, index, columns, aggfunc, fill_value, margins, dropna, margins_name, observed, sort)\u001B[0m\n\u001B[0;32m     99\u001B[0m     table \u001B[38;5;241m=\u001B[39m concat(pieces, keys\u001B[38;5;241m=\u001B[39mkeys, axis\u001B[38;5;241m=\u001B[39m\u001B[38;5;241m1\u001B[39m)\n\u001B[0;32m    100\u001B[0m     \u001B[38;5;28;01mreturn\u001B[39;00m table\u001B[38;5;241m.\u001B[39m__finalize__(data, method\u001B[38;5;241m=\u001B[39m\u001B[38;5;124m\"\u001B[39m\u001B[38;5;124mpivot_table\u001B[39m\u001B[38;5;124m\"\u001B[39m)\n\u001B[1;32m--> 102\u001B[0m table \u001B[38;5;241m=\u001B[39m \u001B[43m__internal_pivot_table\u001B[49m\u001B[43m(\u001B[49m\n\u001B[0;32m    103\u001B[0m \u001B[43m    \u001B[49m\u001B[43mdata\u001B[49m\u001B[43m,\u001B[49m\n\u001B[0;32m    104\u001B[0m \u001B[43m    \u001B[49m\u001B[43mvalues\u001B[49m\u001B[43m,\u001B[49m\n\u001B[0;32m    105\u001B[0m \u001B[43m    \u001B[49m\u001B[43mindex\u001B[49m\u001B[43m,\u001B[49m\n\u001B[0;32m    106\u001B[0m \u001B[43m    \u001B[49m\u001B[43mcolumns\u001B[49m\u001B[43m,\u001B[49m\n\u001B[0;32m    107\u001B[0m \u001B[43m    \u001B[49m\u001B[43maggfunc\u001B[49m\u001B[43m,\u001B[49m\n\u001B[0;32m    108\u001B[0m \u001B[43m    \u001B[49m\u001B[43mfill_value\u001B[49m\u001B[43m,\u001B[49m\n\u001B[0;32m    109\u001B[0m \u001B[43m    \u001B[49m\u001B[43mmargins\u001B[49m\u001B[43m,\u001B[49m\n\u001B[0;32m    110\u001B[0m \u001B[43m    \u001B[49m\u001B[43mdropna\u001B[49m\u001B[43m,\u001B[49m\n\u001B[0;32m    111\u001B[0m \u001B[43m    \u001B[49m\u001B[43mmargins_name\u001B[49m\u001B[43m,\u001B[49m\n\u001B[0;32m    112\u001B[0m \u001B[43m    \u001B[49m\u001B[43mobserved\u001B[49m\u001B[43m,\u001B[49m\n\u001B[0;32m    113\u001B[0m \u001B[43m    \u001B[49m\u001B[43msort\u001B[49m\u001B[43m,\u001B[49m\n\u001B[0;32m    114\u001B[0m \u001B[43m\u001B[49m\u001B[43m)\u001B[49m\n\u001B[0;32m    115\u001B[0m \u001B[38;5;28;01mreturn\u001B[39;00m table\u001B[38;5;241m.\u001B[39m__finalize__(data, method\u001B[38;5;241m=\u001B[39m\u001B[38;5;124m\"\u001B[39m\u001B[38;5;124mpivot_table\u001B[39m\u001B[38;5;124m\"\u001B[39m)\n",
      "File \u001B[1;32m~\\PycharmProjects\\energyProject\\pythonProject\\.venv\\lib\\site-packages\\pandas\\core\\reshape\\pivot.py:183\u001B[0m, in \u001B[0;36m__internal_pivot_table\u001B[1;34m(data, values, index, columns, aggfunc, fill_value, margins, dropna, margins_name, observed, sort)\u001B[0m\n\u001B[0;32m    173\u001B[0m \u001B[38;5;28;01mif\u001B[39;00m observed \u001B[38;5;129;01mis\u001B[39;00m lib\u001B[38;5;241m.\u001B[39mno_default \u001B[38;5;129;01mand\u001B[39;00m \u001B[38;5;28many\u001B[39m(\n\u001B[0;32m    174\u001B[0m     ping\u001B[38;5;241m.\u001B[39m_passed_categorical \u001B[38;5;28;01mfor\u001B[39;00m ping \u001B[38;5;129;01min\u001B[39;00m grouped\u001B[38;5;241m.\u001B[39m_grouper\u001B[38;5;241m.\u001B[39mgroupings\n\u001B[0;32m    175\u001B[0m ):\n\u001B[0;32m    176\u001B[0m     warnings\u001B[38;5;241m.\u001B[39mwarn(\n\u001B[0;32m    177\u001B[0m         \u001B[38;5;124m\"\u001B[39m\u001B[38;5;124mThe default value of observed=False is deprecated and will change \u001B[39m\u001B[38;5;124m\"\u001B[39m\n\u001B[0;32m    178\u001B[0m         \u001B[38;5;124m\"\u001B[39m\u001B[38;5;124mto observed=True in a future version of pandas. Specify \u001B[39m\u001B[38;5;124m\"\u001B[39m\n\u001B[1;32m   (...)\u001B[0m\n\u001B[0;32m    181\u001B[0m         stacklevel\u001B[38;5;241m=\u001B[39mfind_stack_level(),\n\u001B[0;32m    182\u001B[0m     )\n\u001B[1;32m--> 183\u001B[0m agged \u001B[38;5;241m=\u001B[39m \u001B[43mgrouped\u001B[49m\u001B[38;5;241;43m.\u001B[39;49m\u001B[43magg\u001B[49m\u001B[43m(\u001B[49m\u001B[43maggfunc\u001B[49m\u001B[43m)\u001B[49m\n\u001B[0;32m    185\u001B[0m \u001B[38;5;28;01mif\u001B[39;00m dropna \u001B[38;5;129;01mand\u001B[39;00m \u001B[38;5;28misinstance\u001B[39m(agged, ABCDataFrame) \u001B[38;5;129;01mand\u001B[39;00m \u001B[38;5;28mlen\u001B[39m(agged\u001B[38;5;241m.\u001B[39mcolumns):\n\u001B[0;32m    186\u001B[0m     agged \u001B[38;5;241m=\u001B[39m agged\u001B[38;5;241m.\u001B[39mdropna(how\u001B[38;5;241m=\u001B[39m\u001B[38;5;124m\"\u001B[39m\u001B[38;5;124mall\u001B[39m\u001B[38;5;124m\"\u001B[39m)\n",
      "File \u001B[1;32m~\\PycharmProjects\\energyProject\\pythonProject\\.venv\\lib\\site-packages\\pandas\\core\\groupby\\generic.py:1432\u001B[0m, in \u001B[0;36mDataFrameGroupBy.aggregate\u001B[1;34m(self, func, engine, engine_kwargs, *args, **kwargs)\u001B[0m\n\u001B[0;32m   1429\u001B[0m     kwargs[\u001B[38;5;124m\"\u001B[39m\u001B[38;5;124mengine_kwargs\u001B[39m\u001B[38;5;124m\"\u001B[39m] \u001B[38;5;241m=\u001B[39m engine_kwargs\n\u001B[0;32m   1431\u001B[0m op \u001B[38;5;241m=\u001B[39m GroupByApply(\u001B[38;5;28mself\u001B[39m, func, args\u001B[38;5;241m=\u001B[39margs, kwargs\u001B[38;5;241m=\u001B[39mkwargs)\n\u001B[1;32m-> 1432\u001B[0m result \u001B[38;5;241m=\u001B[39m \u001B[43mop\u001B[49m\u001B[38;5;241;43m.\u001B[39;49m\u001B[43magg\u001B[49m\u001B[43m(\u001B[49m\u001B[43m)\u001B[49m\n\u001B[0;32m   1433\u001B[0m \u001B[38;5;28;01mif\u001B[39;00m \u001B[38;5;129;01mnot\u001B[39;00m is_dict_like(func) \u001B[38;5;129;01mand\u001B[39;00m result \u001B[38;5;129;01mis\u001B[39;00m \u001B[38;5;129;01mnot\u001B[39;00m \u001B[38;5;28;01mNone\u001B[39;00m:\n\u001B[0;32m   1434\u001B[0m     \u001B[38;5;66;03m# GH #52849\u001B[39;00m\n\u001B[0;32m   1435\u001B[0m     \u001B[38;5;28;01mif\u001B[39;00m \u001B[38;5;129;01mnot\u001B[39;00m \u001B[38;5;28mself\u001B[39m\u001B[38;5;241m.\u001B[39mas_index \u001B[38;5;129;01mand\u001B[39;00m is_list_like(func):\n",
      "File \u001B[1;32m~\\PycharmProjects\\energyProject\\pythonProject\\.venv\\lib\\site-packages\\pandas\\core\\apply.py:187\u001B[0m, in \u001B[0;36mApply.agg\u001B[1;34m(self)\u001B[0m\n\u001B[0;32m    184\u001B[0m kwargs \u001B[38;5;241m=\u001B[39m \u001B[38;5;28mself\u001B[39m\u001B[38;5;241m.\u001B[39mkwargs\n\u001B[0;32m    186\u001B[0m \u001B[38;5;28;01mif\u001B[39;00m \u001B[38;5;28misinstance\u001B[39m(func, \u001B[38;5;28mstr\u001B[39m):\n\u001B[1;32m--> 187\u001B[0m     \u001B[38;5;28;01mreturn\u001B[39;00m \u001B[38;5;28;43mself\u001B[39;49m\u001B[38;5;241;43m.\u001B[39;49m\u001B[43mapply_str\u001B[49m\u001B[43m(\u001B[49m\u001B[43m)\u001B[49m\n\u001B[0;32m    189\u001B[0m \u001B[38;5;28;01mif\u001B[39;00m is_dict_like(func):\n\u001B[0;32m    190\u001B[0m     \u001B[38;5;28;01mreturn\u001B[39;00m \u001B[38;5;28mself\u001B[39m\u001B[38;5;241m.\u001B[39magg_dict_like()\n",
      "File \u001B[1;32m~\\PycharmProjects\\energyProject\\pythonProject\\.venv\\lib\\site-packages\\pandas\\core\\apply.py:603\u001B[0m, in \u001B[0;36mApply.apply_str\u001B[1;34m(self)\u001B[0m\n\u001B[0;32m    601\u001B[0m         \u001B[38;5;28;01melse\u001B[39;00m:\n\u001B[0;32m    602\u001B[0m             \u001B[38;5;28mself\u001B[39m\u001B[38;5;241m.\u001B[39mkwargs[\u001B[38;5;124m\"\u001B[39m\u001B[38;5;124maxis\u001B[39m\u001B[38;5;124m\"\u001B[39m] \u001B[38;5;241m=\u001B[39m \u001B[38;5;28mself\u001B[39m\u001B[38;5;241m.\u001B[39maxis\n\u001B[1;32m--> 603\u001B[0m \u001B[38;5;28;01mreturn\u001B[39;00m \u001B[38;5;28mself\u001B[39m\u001B[38;5;241m.\u001B[39m_apply_str(obj, func, \u001B[38;5;241m*\u001B[39m\u001B[38;5;28mself\u001B[39m\u001B[38;5;241m.\u001B[39margs, \u001B[38;5;241m*\u001B[39m\u001B[38;5;241m*\u001B[39m\u001B[38;5;28mself\u001B[39m\u001B[38;5;241m.\u001B[39mkwargs)\n",
      "File \u001B[1;32m~\\PycharmProjects\\energyProject\\pythonProject\\.venv\\lib\\site-packages\\pandas\\core\\apply.py:693\u001B[0m, in \u001B[0;36mApply._apply_str\u001B[1;34m(self, obj, func, *args, **kwargs)\u001B[0m\n\u001B[0;32m    691\u001B[0m f \u001B[38;5;241m=\u001B[39m \u001B[38;5;28mgetattr\u001B[39m(obj, func)\n\u001B[0;32m    692\u001B[0m \u001B[38;5;28;01mif\u001B[39;00m \u001B[38;5;28mcallable\u001B[39m(f):\n\u001B[1;32m--> 693\u001B[0m     \u001B[38;5;28;01mreturn\u001B[39;00m f(\u001B[38;5;241m*\u001B[39margs, \u001B[38;5;241m*\u001B[39m\u001B[38;5;241m*\u001B[39mkwargs)\n\u001B[0;32m    695\u001B[0m \u001B[38;5;66;03m# people may aggregate on a non-callable attribute\u001B[39;00m\n\u001B[0;32m    696\u001B[0m \u001B[38;5;66;03m# but don't let them think they can pass args to it\u001B[39;00m\n\u001B[0;32m    697\u001B[0m \u001B[38;5;28;01massert\u001B[39;00m \u001B[38;5;28mlen\u001B[39m(args) \u001B[38;5;241m==\u001B[39m \u001B[38;5;241m0\u001B[39m\n",
      "File \u001B[1;32m~\\PycharmProjects\\energyProject\\pythonProject\\.venv\\lib\\site-packages\\pandas\\core\\groupby\\groupby.py:2452\u001B[0m, in \u001B[0;36mGroupBy.mean\u001B[1;34m(self, numeric_only, engine, engine_kwargs)\u001B[0m\n\u001B[0;32m   2445\u001B[0m     \u001B[38;5;28;01mreturn\u001B[39;00m \u001B[38;5;28mself\u001B[39m\u001B[38;5;241m.\u001B[39m_numba_agg_general(\n\u001B[0;32m   2446\u001B[0m         grouped_mean,\n\u001B[0;32m   2447\u001B[0m         executor\u001B[38;5;241m.\u001B[39mfloat_dtype_mapping,\n\u001B[0;32m   2448\u001B[0m         engine_kwargs,\n\u001B[0;32m   2449\u001B[0m         min_periods\u001B[38;5;241m=\u001B[39m\u001B[38;5;241m0\u001B[39m,\n\u001B[0;32m   2450\u001B[0m     )\n\u001B[0;32m   2451\u001B[0m \u001B[38;5;28;01melse\u001B[39;00m:\n\u001B[1;32m-> 2452\u001B[0m     result \u001B[38;5;241m=\u001B[39m \u001B[38;5;28;43mself\u001B[39;49m\u001B[38;5;241;43m.\u001B[39;49m\u001B[43m_cython_agg_general\u001B[49m\u001B[43m(\u001B[49m\n\u001B[0;32m   2453\u001B[0m \u001B[43m        \u001B[49m\u001B[38;5;124;43m\"\u001B[39;49m\u001B[38;5;124;43mmean\u001B[39;49m\u001B[38;5;124;43m\"\u001B[39;49m\u001B[43m,\u001B[49m\n\u001B[0;32m   2454\u001B[0m \u001B[43m        \u001B[49m\u001B[43malt\u001B[49m\u001B[38;5;241;43m=\u001B[39;49m\u001B[38;5;28;43;01mlambda\u001B[39;49;00m\u001B[43m \u001B[49m\u001B[43mx\u001B[49m\u001B[43m:\u001B[49m\u001B[43m \u001B[49m\u001B[43mSeries\u001B[49m\u001B[43m(\u001B[49m\u001B[43mx\u001B[49m\u001B[43m,\u001B[49m\u001B[43m \u001B[49m\u001B[43mcopy\u001B[49m\u001B[38;5;241;43m=\u001B[39;49m\u001B[38;5;28;43;01mFalse\u001B[39;49;00m\u001B[43m)\u001B[49m\u001B[38;5;241;43m.\u001B[39;49m\u001B[43mmean\u001B[49m\u001B[43m(\u001B[49m\u001B[43mnumeric_only\u001B[49m\u001B[38;5;241;43m=\u001B[39;49m\u001B[43mnumeric_only\u001B[49m\u001B[43m)\u001B[49m\u001B[43m,\u001B[49m\n\u001B[0;32m   2455\u001B[0m \u001B[43m        \u001B[49m\u001B[43mnumeric_only\u001B[49m\u001B[38;5;241;43m=\u001B[39;49m\u001B[43mnumeric_only\u001B[49m\u001B[43m,\u001B[49m\n\u001B[0;32m   2456\u001B[0m \u001B[43m    \u001B[49m\u001B[43m)\u001B[49m\n\u001B[0;32m   2457\u001B[0m     \u001B[38;5;28;01mreturn\u001B[39;00m result\u001B[38;5;241m.\u001B[39m__finalize__(\u001B[38;5;28mself\u001B[39m\u001B[38;5;241m.\u001B[39mobj, method\u001B[38;5;241m=\u001B[39m\u001B[38;5;124m\"\u001B[39m\u001B[38;5;124mgroupby\u001B[39m\u001B[38;5;124m\"\u001B[39m)\n",
      "File \u001B[1;32m~\\PycharmProjects\\energyProject\\pythonProject\\.venv\\lib\\site-packages\\pandas\\core\\groupby\\groupby.py:1998\u001B[0m, in \u001B[0;36mGroupBy._cython_agg_general\u001B[1;34m(self, how, alt, numeric_only, min_count, **kwargs)\u001B[0m\n\u001B[0;32m   1995\u001B[0m     result \u001B[38;5;241m=\u001B[39m \u001B[38;5;28mself\u001B[39m\u001B[38;5;241m.\u001B[39m_agg_py_fallback(how, values, ndim\u001B[38;5;241m=\u001B[39mdata\u001B[38;5;241m.\u001B[39mndim, alt\u001B[38;5;241m=\u001B[39malt)\n\u001B[0;32m   1996\u001B[0m     \u001B[38;5;28;01mreturn\u001B[39;00m result\n\u001B[1;32m-> 1998\u001B[0m new_mgr \u001B[38;5;241m=\u001B[39m \u001B[43mdata\u001B[49m\u001B[38;5;241;43m.\u001B[39;49m\u001B[43mgrouped_reduce\u001B[49m\u001B[43m(\u001B[49m\u001B[43marray_func\u001B[49m\u001B[43m)\u001B[49m\n\u001B[0;32m   1999\u001B[0m res \u001B[38;5;241m=\u001B[39m \u001B[38;5;28mself\u001B[39m\u001B[38;5;241m.\u001B[39m_wrap_agged_manager(new_mgr)\n\u001B[0;32m   2000\u001B[0m \u001B[38;5;28;01mif\u001B[39;00m how \u001B[38;5;129;01min\u001B[39;00m [\u001B[38;5;124m\"\u001B[39m\u001B[38;5;124midxmin\u001B[39m\u001B[38;5;124m\"\u001B[39m, \u001B[38;5;124m\"\u001B[39m\u001B[38;5;124midxmax\u001B[39m\u001B[38;5;124m\"\u001B[39m]:\n",
      "File \u001B[1;32m~\\PycharmProjects\\energyProject\\pythonProject\\.venv\\lib\\site-packages\\pandas\\core\\internals\\managers.py:1469\u001B[0m, in \u001B[0;36mBlockManager.grouped_reduce\u001B[1;34m(self, func)\u001B[0m\n\u001B[0;32m   1465\u001B[0m \u001B[38;5;28;01mif\u001B[39;00m blk\u001B[38;5;241m.\u001B[39mis_object:\n\u001B[0;32m   1466\u001B[0m     \u001B[38;5;66;03m# split on object-dtype blocks bc some columns may raise\u001B[39;00m\n\u001B[0;32m   1467\u001B[0m     \u001B[38;5;66;03m#  while others do not.\u001B[39;00m\n\u001B[0;32m   1468\u001B[0m     \u001B[38;5;28;01mfor\u001B[39;00m sb \u001B[38;5;129;01min\u001B[39;00m blk\u001B[38;5;241m.\u001B[39m_split():\n\u001B[1;32m-> 1469\u001B[0m         applied \u001B[38;5;241m=\u001B[39m \u001B[43msb\u001B[49m\u001B[38;5;241;43m.\u001B[39;49m\u001B[43mapply\u001B[49m\u001B[43m(\u001B[49m\u001B[43mfunc\u001B[49m\u001B[43m)\u001B[49m\n\u001B[0;32m   1470\u001B[0m         result_blocks \u001B[38;5;241m=\u001B[39m extend_blocks(applied, result_blocks)\n\u001B[0;32m   1471\u001B[0m \u001B[38;5;28;01melse\u001B[39;00m:\n",
      "File \u001B[1;32m~\\PycharmProjects\\energyProject\\pythonProject\\.venv\\lib\\site-packages\\pandas\\core\\internals\\blocks.py:393\u001B[0m, in \u001B[0;36mBlock.apply\u001B[1;34m(self, func, **kwargs)\u001B[0m\n\u001B[0;32m    387\u001B[0m \u001B[38;5;129m@final\u001B[39m\n\u001B[0;32m    388\u001B[0m \u001B[38;5;28;01mdef\u001B[39;00m \u001B[38;5;21mapply\u001B[39m(\u001B[38;5;28mself\u001B[39m, func, \u001B[38;5;241m*\u001B[39m\u001B[38;5;241m*\u001B[39mkwargs) \u001B[38;5;241m-\u001B[39m\u001B[38;5;241m>\u001B[39m \u001B[38;5;28mlist\u001B[39m[Block]:\n\u001B[0;32m    389\u001B[0m \u001B[38;5;250m    \u001B[39m\u001B[38;5;124;03m\"\"\"\u001B[39;00m\n\u001B[0;32m    390\u001B[0m \u001B[38;5;124;03m    apply the function to my values; return a block if we are not\u001B[39;00m\n\u001B[0;32m    391\u001B[0m \u001B[38;5;124;03m    one\u001B[39;00m\n\u001B[0;32m    392\u001B[0m \u001B[38;5;124;03m    \"\"\"\u001B[39;00m\n\u001B[1;32m--> 393\u001B[0m     result \u001B[38;5;241m=\u001B[39m func(\u001B[38;5;28mself\u001B[39m\u001B[38;5;241m.\u001B[39mvalues, \u001B[38;5;241m*\u001B[39m\u001B[38;5;241m*\u001B[39mkwargs)\n\u001B[0;32m    395\u001B[0m     result \u001B[38;5;241m=\u001B[39m maybe_coerce_values(result)\n\u001B[0;32m    396\u001B[0m     \u001B[38;5;28;01mreturn\u001B[39;00m \u001B[38;5;28mself\u001B[39m\u001B[38;5;241m.\u001B[39m_split_op_result(result)\n",
      "File \u001B[1;32m~\\PycharmProjects\\energyProject\\pythonProject\\.venv\\lib\\site-packages\\pandas\\core\\groupby\\groupby.py:1995\u001B[0m, in \u001B[0;36mGroupBy._cython_agg_general.<locals>.array_func\u001B[1;34m(values)\u001B[0m\n\u001B[0;32m   1992\u001B[0m     \u001B[38;5;28;01mreturn\u001B[39;00m result\n\u001B[0;32m   1994\u001B[0m \u001B[38;5;28;01massert\u001B[39;00m alt \u001B[38;5;129;01mis\u001B[39;00m \u001B[38;5;129;01mnot\u001B[39;00m \u001B[38;5;28;01mNone\u001B[39;00m\n\u001B[1;32m-> 1995\u001B[0m result \u001B[38;5;241m=\u001B[39m \u001B[38;5;28;43mself\u001B[39;49m\u001B[38;5;241;43m.\u001B[39;49m\u001B[43m_agg_py_fallback\u001B[49m\u001B[43m(\u001B[49m\u001B[43mhow\u001B[49m\u001B[43m,\u001B[49m\u001B[43m \u001B[49m\u001B[43mvalues\u001B[49m\u001B[43m,\u001B[49m\u001B[43m \u001B[49m\u001B[43mndim\u001B[49m\u001B[38;5;241;43m=\u001B[39;49m\u001B[43mdata\u001B[49m\u001B[38;5;241;43m.\u001B[39;49m\u001B[43mndim\u001B[49m\u001B[43m,\u001B[49m\u001B[43m \u001B[49m\u001B[43malt\u001B[49m\u001B[38;5;241;43m=\u001B[39;49m\u001B[43malt\u001B[49m\u001B[43m)\u001B[49m\n\u001B[0;32m   1996\u001B[0m \u001B[38;5;28;01mreturn\u001B[39;00m result\n",
      "File \u001B[1;32m~\\PycharmProjects\\energyProject\\pythonProject\\.venv\\lib\\site-packages\\pandas\\core\\groupby\\groupby.py:1946\u001B[0m, in \u001B[0;36mGroupBy._agg_py_fallback\u001B[1;34m(self, how, values, ndim, alt)\u001B[0m\n\u001B[0;32m   1944\u001B[0m     msg \u001B[38;5;241m=\u001B[39m \u001B[38;5;124mf\u001B[39m\u001B[38;5;124m\"\u001B[39m\u001B[38;5;124magg function failed [how->\u001B[39m\u001B[38;5;132;01m{\u001B[39;00mhow\u001B[38;5;132;01m}\u001B[39;00m\u001B[38;5;124m,dtype->\u001B[39m\u001B[38;5;132;01m{\u001B[39;00mser\u001B[38;5;241m.\u001B[39mdtype\u001B[38;5;132;01m}\u001B[39;00m\u001B[38;5;124m]\u001B[39m\u001B[38;5;124m\"\u001B[39m\n\u001B[0;32m   1945\u001B[0m     \u001B[38;5;66;03m# preserve the kind of exception that raised\u001B[39;00m\n\u001B[1;32m-> 1946\u001B[0m     \u001B[38;5;28;01mraise\u001B[39;00m \u001B[38;5;28mtype\u001B[39m(err)(msg) \u001B[38;5;28;01mfrom\u001B[39;00m \u001B[38;5;21;01merr\u001B[39;00m\n\u001B[0;32m   1948\u001B[0m \u001B[38;5;28;01mif\u001B[39;00m ser\u001B[38;5;241m.\u001B[39mdtype \u001B[38;5;241m==\u001B[39m \u001B[38;5;28mobject\u001B[39m:\n\u001B[0;32m   1949\u001B[0m     res_values \u001B[38;5;241m=\u001B[39m res_values\u001B[38;5;241m.\u001B[39mastype(\u001B[38;5;28mobject\u001B[39m, copy\u001B[38;5;241m=\u001B[39m\u001B[38;5;28;01mFalse\u001B[39;00m)\n",
      "\u001B[1;31mTypeError\u001B[0m: agg function failed [how->mean,dtype->object]"
     ]
    }
   ],
   "source": [
    "# Pivoter les données pour séparer les valeurs par type d'unité\n",
    "tax = tax.pivot_table(index=['Country', 'ISO3', 'Année'], columns='Unit', values=['ECGTE - Environmental Taxes', 'ECGTEN - Taxes on Energy (Including Fuel for Transport)', 'ECGTEP - Taxes on Pollution', 'ECGTER - Taxes on Resources', 'ECGTET - Taxes on Transport (Excluding Fuel for Transport)'])\n",
    "\n",
    "# Réinitialiser l'index pour avoir un DataFrame plat\n",
    "tax.reset_index(inplace=True)\n",
    "\n",
    "# Renommer les colonnes pour correspondre au format souhaité\n",
    "tax.columns = ['Country', 'ISO3', 'Année', 'ECGTE - Environmental Taxes by Domestic Currency', 'ECGTE - Environmental Taxes by Percent of GDP', 'ECGTEN - Taxes on Energy (Including Fuel for Transport) by Domestic Currency', 'ECGTEN - Taxes on Energy (Including Fuel for Transport) by Percent of GDP', 'ECGTEP - Taxes on Pollution by Domestic Currency', 'ECGTEP - Taxes on Pollution by Percent of GDP', 'ECGTER - Taxes on Resources by Domestic Currency', 'ECGTER - Taxes on Resources by Percent of GDP', 'ECGTET - Taxes on Transport (Excluding Fuel for Transport) by Domestic Currency', 'ECGTET - Taxes on Transport (Excluding Fuel for Transport) by Percent of GDP']"
   ],
   "metadata": {
    "collapsed": false,
    "ExecuteTime": {
     "end_time": "2024-02-29T15:56:28.592197800Z",
     "start_time": "2024-02-29T15:56:28.365572400Z"
    }
   },
   "id": "cc84b5dc28281964",
   "execution_count": 62
  },
  {
   "cell_type": "code",
   "outputs": [],
   "source": [
    "tax.to_csv('./output/Tax_Energy_clear.csv', index=False)"
   ],
   "metadata": {
    "collapsed": false,
    "ExecuteTime": {
     "end_time": "2024-02-29T11:06:26.275939Z",
     "start_time": "2024-02-29T11:06:26.218719200Z"
    }
   },
   "id": "3e8aa1060ee0176d",
   "execution_count": 45
  },
  {
   "cell_type": "code",
   "outputs": [],
   "source": [],
   "metadata": {
    "collapsed": false
   },
   "id": "966c0e71601d450c"
  }
 ],
 "metadata": {
  "kernelspec": {
   "display_name": "Python 3",
   "language": "python",
   "name": "python3"
  },
  "language_info": {
   "codemirror_mode": {
    "name": "ipython",
    "version": 2
   },
   "file_extension": ".py",
   "mimetype": "text/x-python",
   "name": "python",
   "nbconvert_exporter": "python",
   "pygments_lexer": "ipython2",
   "version": "2.7.6"
  }
 },
 "nbformat": 4,
 "nbformat_minor": 5
}
