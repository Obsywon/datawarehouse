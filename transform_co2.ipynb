{
 "cells": [
  {
   "cell_type": "code",
   "outputs": [],
   "source": [
    "import pandas as pd\n",
    "\n",
    "data = pd.DataFrame(columns = ['country', 'year', 'pollution_co2'])\n",
    "df = pd.read_csv('./assets/CO2_Emissions_1960-2018.csv')\n",
    "\n",
    "# Pays gardés\n",
    "kept_countries = ['France', 'Italy', 'Spain', 'Germany', 'Portugal', 'United Kingdom']\n",
    "limit_to_kept_countries = False\n",
    "\n",
    "df.head(5)"
   ],
   "metadata": {
    "collapsed": false
   },
   "id": "70baca521c982f7d"
  },
  {
   "cell_type": "code",
   "outputs": [],
   "source": [
    "# Récupération de la liste des pays\n",
    "countries = df['Country Name'].unique().tolist()\n",
    "print(countries)\n",
    "df.set_index('Country Name', inplace=True)"
   ],
   "metadata": {
    "collapsed": false
   },
   "id": "9a417efdc2b1093b"
  },
  {
   "cell_type": "code",
   "outputs": [],
   "source": [
    "# Récupération de la liste des années\n",
    "columns = df.columns\n",
    "years = columns[1:].tolist()\n",
    "print(years)"
   ],
   "metadata": {
    "collapsed": false
   },
   "id": "74de22abe46eeadb"
  },
  {
   "cell_type": "code",
   "outputs": [],
   "source": [
    "# Création nouveau dataframe organisé par pays puis années\n",
    "data_list = []\n",
    "\n",
    "for country in countries:\n",
    "    #values = df[df['Country Name'] == country]\n",
    "    for year in years:\n",
    "        value = df.loc[country, year]\n",
    "        #print(value)\n",
    "        data_list.append({'country': country, 'year': year, 'pollution_co2': value})\n",
    "data = pd.DataFrame(data_list, columns=[\"country\", \"year\", \"pollution_co2\"])\n",
    "data.head(5)"
   ],
   "metadata": {
    "collapsed": false
   },
   "id": "380be198edf207ea"
  },
  {
   "cell_type": "code",
   "outputs": [],
   "source": [
    "data.shape"
   ],
   "metadata": {
    "collapsed": false
   },
   "id": "b8385e161309c686"
  },
  {
   "cell_type": "code",
   "outputs": [],
   "source": [
    "# Suppression des valeurs inutiles si nécessaires\n",
    "nb_na = data['pollution_co2'].isna().sum()\n",
    "print(\"Nombre de valeurs invalides ou nulls: \" + str(nb_na))\n",
    "if nb_na > 0:\n",
    "    data.dropna(subset=['pollution_co2'], inplace=True)\n",
    "    print(\"Nettoyage des valeurs vides...\")\n",
    "data.shape"
   ],
   "metadata": {
    "collapsed": false
   },
   "id": "d75c194b5a8c13f3"
  },
  {
   "cell_type": "code",
   "outputs": [],
   "source": [
    "data.to_csv('./output/CO2_Emissions_sortedByYearAndCountry.csv', index=False)"
   ],
   "metadata": {
    "collapsed": false
   },
   "id": "21aa073ffeeace8e"
  },
  {
   "cell_type": "code",
   "outputs": [],
   "source": [
    "# Retirer les valeurs des pays différents de cette liste et exporter le fichier\n",
    "if limit_to_kept_countries:\n",
    "    data = data[data.country.isin(kept_countries)]\n",
    "data.to_csv('./output/CO2_Emissions_sortedByYearAndCountry.csv', index=False)\n"
   ],
   "metadata": {
    "collapsed": false
   },
   "id": "1b98edc4be0052ab"
  },
  {
   "cell_type": "code",
   "outputs": [],
   "source": [
    "# Charger le fichier World Energy Consumption\n",
    "wec = pd.read_csv('./assets/World Energy Consumption.csv')\n",
    "if limit_to_kept_countries:\n",
    "    wec = wec[wec.country.isin(kept_countries)]\n",
    "wec.to_csv('./output/World Energy Consumption (limited).csv', index=False)"
   ],
   "metadata": {
    "collapsed": false
   },
   "id": "a3374737c9e7960f"
  },
  {
   "cell_type": "code",
   "outputs": [],
   "source": [
    "# Changement de types\n",
    "data['year'] = data['year'].astype(int)\n",
    "wec['year'] = wec['year'].astype(int)\n",
    "\n",
    "wec['country'] = wec['country'].astype(str)\n",
    "data['country'] = data['country'].astype(str)\n",
    "\n",
    "# Fusion des valeurs de Co2\n",
    "wec = pd.merge(wec, data, on=[\"country\", \"year\"])\n",
    "\n",
    "# Supprimer la colonne 'population'\n",
    "wec = wec.drop('population', axis=1, errors='ignore')\n",
    "wec = wec.drop('iso_code', axis=1, errors='ignore')\n",
    "wec = wec.drop('gdp', axis=1, errors='ignore')\n",
    "\n",
    "wec = wec[wec['year'] >= 1960]\n",
    "\n",
    "# Valeurs enregistrés\n",
    "wec.to_csv('./output/World Energy Consumption (limited).csv', index=False)"
   ],
   "metadata": {
    "collapsed": false
   },
   "id": "8cea2875170ace8f"
  }
 ],
 "metadata": {
  "kernelspec": {
   "display_name": "Python 3",
   "language": "python",
   "name": "python3"
  },
  "language_info": {
   "codemirror_mode": {
    "name": "ipython",
    "version": 2
   },
   "file_extension": ".py",
   "mimetype": "text/x-python",
   "name": "python",
   "nbconvert_exporter": "python",
   "pygments_lexer": "ipython2",
   "version": "2.7.6"
  }
 },
 "nbformat": 4,
 "nbformat_minor": 5
}
