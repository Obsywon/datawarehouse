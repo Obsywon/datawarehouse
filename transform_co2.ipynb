{
 "cells": [
  {
   "cell_type": "code",
   "execution_count": 184,
   "id": "initial_id",
   "metadata": {
    "collapsed": true,
    "ExecuteTime": {
     "end_time": "2024-03-01T14:55:01.872510400Z",
     "start_time": "2024-03-01T14:55:01.726987500Z"
    }
   },
   "outputs": [
    {
     "data": {
      "text/plain": "                  Country Name        1960        1961        1962  \\\n0                        Aruba  204.631696  208.837879  226.081890   \n1  Africa Eastern and Southern    0.906060    0.922474    0.930816   \n2                  Afghanistan    0.046057    0.053589    0.073721   \n3   Africa Western and Central    0.090880    0.095283    0.096612   \n4                       Angola    0.100835    0.082204    0.210533   \n\n         1963        1964        1965        1966        1967        1968  \\\n0  214.785217  207.626699  185.213644  172.158729  210.819017  194.917536   \n1    0.940570    0.996033    1.047280    1.033908    1.052204    1.079727   \n2    0.074161    0.086174    0.101285    0.107399    0.123409    0.115142   \n3    0.112376    0.133258    0.184803    0.193676    0.189305    0.143989   \n4    0.202739    0.213562    0.205891    0.268937    0.172096    0.289702   \n\n   ...      2009      2010      2011      2012      2013      2014      2015  \\\n0  ...       NaN       NaN       NaN       NaN       NaN       NaN       NaN   \n1  ...  1.021954  1.048876  1.005338  1.021646  1.031833  1.041145  0.987393   \n2  ...  0.211306  0.297065  0.407074  0.335351  0.263716  0.234037  0.232176   \n3  ...  0.426770  0.472819  0.497023  0.490867  0.504655  0.507671  0.480743   \n4  ...  1.205902  1.221515  1.216317  1.204799  1.261542  1.285365  1.260921   \n\n       2016      2017      2018  \n0       NaN       NaN       NaN  \n1  0.971016  0.959978  0.933541  \n2  0.208857  0.203328  0.200151  \n3  0.472959  0.476438  0.515544  \n4  1.227703  1.034317  0.887380  \n\n[5 rows x 60 columns]",
      "text/html": "<div>\n<style scoped>\n    .dataframe tbody tr th:only-of-type {\n        vertical-align: middle;\n    }\n\n    .dataframe tbody tr th {\n        vertical-align: top;\n    }\n\n    .dataframe thead th {\n        text-align: right;\n    }\n</style>\n<table border=\"1\" class=\"dataframe\">\n  <thead>\n    <tr style=\"text-align: right;\">\n      <th></th>\n      <th>Country Name</th>\n      <th>1960</th>\n      <th>1961</th>\n      <th>1962</th>\n      <th>1963</th>\n      <th>1964</th>\n      <th>1965</th>\n      <th>1966</th>\n      <th>1967</th>\n      <th>1968</th>\n      <th>...</th>\n      <th>2009</th>\n      <th>2010</th>\n      <th>2011</th>\n      <th>2012</th>\n      <th>2013</th>\n      <th>2014</th>\n      <th>2015</th>\n      <th>2016</th>\n      <th>2017</th>\n      <th>2018</th>\n    </tr>\n  </thead>\n  <tbody>\n    <tr>\n      <th>0</th>\n      <td>Aruba</td>\n      <td>204.631696</td>\n      <td>208.837879</td>\n      <td>226.081890</td>\n      <td>214.785217</td>\n      <td>207.626699</td>\n      <td>185.213644</td>\n      <td>172.158729</td>\n      <td>210.819017</td>\n      <td>194.917536</td>\n      <td>...</td>\n      <td>NaN</td>\n      <td>NaN</td>\n      <td>NaN</td>\n      <td>NaN</td>\n      <td>NaN</td>\n      <td>NaN</td>\n      <td>NaN</td>\n      <td>NaN</td>\n      <td>NaN</td>\n      <td>NaN</td>\n    </tr>\n    <tr>\n      <th>1</th>\n      <td>Africa Eastern and Southern</td>\n      <td>0.906060</td>\n      <td>0.922474</td>\n      <td>0.930816</td>\n      <td>0.940570</td>\n      <td>0.996033</td>\n      <td>1.047280</td>\n      <td>1.033908</td>\n      <td>1.052204</td>\n      <td>1.079727</td>\n      <td>...</td>\n      <td>1.021954</td>\n      <td>1.048876</td>\n      <td>1.005338</td>\n      <td>1.021646</td>\n      <td>1.031833</td>\n      <td>1.041145</td>\n      <td>0.987393</td>\n      <td>0.971016</td>\n      <td>0.959978</td>\n      <td>0.933541</td>\n    </tr>\n    <tr>\n      <th>2</th>\n      <td>Afghanistan</td>\n      <td>0.046057</td>\n      <td>0.053589</td>\n      <td>0.073721</td>\n      <td>0.074161</td>\n      <td>0.086174</td>\n      <td>0.101285</td>\n      <td>0.107399</td>\n      <td>0.123409</td>\n      <td>0.115142</td>\n      <td>...</td>\n      <td>0.211306</td>\n      <td>0.297065</td>\n      <td>0.407074</td>\n      <td>0.335351</td>\n      <td>0.263716</td>\n      <td>0.234037</td>\n      <td>0.232176</td>\n      <td>0.208857</td>\n      <td>0.203328</td>\n      <td>0.200151</td>\n    </tr>\n    <tr>\n      <th>3</th>\n      <td>Africa Western and Central</td>\n      <td>0.090880</td>\n      <td>0.095283</td>\n      <td>0.096612</td>\n      <td>0.112376</td>\n      <td>0.133258</td>\n      <td>0.184803</td>\n      <td>0.193676</td>\n      <td>0.189305</td>\n      <td>0.143989</td>\n      <td>...</td>\n      <td>0.426770</td>\n      <td>0.472819</td>\n      <td>0.497023</td>\n      <td>0.490867</td>\n      <td>0.504655</td>\n      <td>0.507671</td>\n      <td>0.480743</td>\n      <td>0.472959</td>\n      <td>0.476438</td>\n      <td>0.515544</td>\n    </tr>\n    <tr>\n      <th>4</th>\n      <td>Angola</td>\n      <td>0.100835</td>\n      <td>0.082204</td>\n      <td>0.210533</td>\n      <td>0.202739</td>\n      <td>0.213562</td>\n      <td>0.205891</td>\n      <td>0.268937</td>\n      <td>0.172096</td>\n      <td>0.289702</td>\n      <td>...</td>\n      <td>1.205902</td>\n      <td>1.221515</td>\n      <td>1.216317</td>\n      <td>1.204799</td>\n      <td>1.261542</td>\n      <td>1.285365</td>\n      <td>1.260921</td>\n      <td>1.227703</td>\n      <td>1.034317</td>\n      <td>0.887380</td>\n    </tr>\n  </tbody>\n</table>\n<p>5 rows × 60 columns</p>\n</div>"
     },
     "execution_count": 184,
     "metadata": {},
     "output_type": "execute_result"
    }
   ],
   "source": [
    "import pandas as pd\n",
    "\n",
    "data = pd.DataFrame(columns = ['country', 'year', 'pollution_co2'])\n",
    "df = pd.read_csv('./assets/CO2_Emissions_1960-2018.csv')\n",
    "\n",
    "# Pays gardés\n",
    "kept_countries = ['France', 'Italy', 'Spain', 'Germany', 'Portugal', 'United Kingdom']\n",
    "limit_to_kept_countries = False\n",
    "\n",
    "df.head(5)"
   ]
  },
  {
   "cell_type": "code",
   "outputs": [
    {
     "name": "stdout",
     "output_type": "stream",
     "text": [
      "['Aruba', 'Africa Eastern and Southern', 'Afghanistan', 'Africa Western and Central', 'Angola', 'Albania', 'Andorra', 'Arab World', 'United Arab Emirates', 'Argentina', 'Armenia', 'American Samoa', 'Antigua and Barbuda', 'Australia', 'Austria', 'Azerbaijan', 'Burundi', 'Belgium', 'Benin', 'Burkina Faso', 'Bangladesh', 'Bulgaria', 'Bahrain', 'Bahamas, The', 'Bosnia and Herzegovina', 'Belarus', 'Belize', 'Bermuda', 'Bolivia', 'Brazil', 'Barbados', 'Brunei Darussalam', 'Bhutan', 'Botswana', 'Central African Republic', 'Canada', 'Central Europe and the Baltics', 'Switzerland', 'Channel Islands', 'Chile', 'China', \"Cote d'Ivoire\", 'Cameroon', 'Congo, Dem. Rep.', 'Congo, Rep.', 'Colombia', 'Comoros', 'Cabo Verde', 'Costa Rica', 'Caribbean small states', 'Cuba', 'Curacao', 'Cayman Islands', 'Cyprus', 'Czech Republic', 'Germany', 'Djibouti', 'Dominica', 'Denmark', 'Dominican Republic', 'Algeria', 'East Asia & Pacific (excluding high income)', 'Early-demographic dividend', 'East Asia & Pacific', 'Europe & Central Asia (excluding high income)', 'Europe & Central Asia', 'Ecuador', 'Egypt, Arab Rep.', 'Euro area', 'Eritrea', 'Spain', 'Estonia', 'Ethiopia', 'European Union', 'Fragile and conflict affected situations', 'Finland', 'Fiji', 'France', 'Faroe Islands', 'Micronesia, Fed. Sts.', 'Gabon', 'United Kingdom', 'Georgia', 'Ghana', 'Gibraltar', 'Guinea', 'Gambia, The', 'Guinea-Bissau', 'Equatorial Guinea', 'Greece', 'Grenada', 'Greenland', 'Guatemala', 'Guam', 'Guyana', 'High income', 'Hong Kong SAR, China', 'Honduras', 'Heavily indebted poor countries (HIPC)', 'Croatia', 'Haiti', 'Hungary', 'IBRD only', 'IDA & IBRD total', 'IDA total', 'IDA blend', 'Indonesia', 'IDA only', 'Isle of Man', 'India', 'Not classified', 'Ireland', 'Iran, Islamic Rep.', 'Iraq', 'Iceland', 'Israel', 'Italy', 'Jamaica', 'Jordan', 'Japan', 'Kazakhstan', 'Kenya', 'Kyrgyz Republic', 'Cambodia', 'Kiribati', 'St. Kitts and Nevis', 'Korea, Rep.', 'Kuwait', 'Latin America & Caribbean (excluding high income)', 'Lao PDR', 'Lebanon', 'Liberia', 'Libya', 'St. Lucia', 'Latin America & Caribbean', 'Least developed countries: UN classification', 'Low income', 'Liechtenstein', 'Sri Lanka', 'Lower middle income', 'Low & middle income', 'Lesotho', 'Late-demographic dividend', 'Lithuania', 'Luxembourg', 'Latvia', 'Macao SAR, China', 'St. Martin (French part)', 'Morocco', 'Monaco', 'Moldova', 'Madagascar', 'Maldives', 'Middle East & North Africa', 'Mexico', 'Marshall Islands', 'Middle income', 'North Macedonia', 'Mali', 'Malta', 'Myanmar', 'Middle East & North Africa (excluding high income)', 'Montenegro', 'Mongolia', 'Northern Mariana Islands', 'Mozambique', 'Mauritania', 'Mauritius', 'Malawi', 'Malaysia', 'North America', 'Namibia', 'New Caledonia', 'Niger', 'Nigeria', 'Nicaragua', 'Netherlands', 'Norway', 'Nepal', 'Nauru', 'New Zealand', 'OECD members', 'Oman', 'Other small states', 'Pakistan', 'Panama', 'Peru', 'Philippines', 'Palau', 'Papua New Guinea', 'Poland', 'Pre-demographic dividend', 'Puerto Rico', \"Korea, Dem. People's Rep.\", 'Portugal', 'Paraguay', 'West Bank and Gaza', 'Pacific island small states', 'Post-demographic dividend', 'French Polynesia', 'Qatar', 'Romania', 'Russian Federation', 'Rwanda', 'South Asia', 'Saudi Arabia', 'Sudan', 'Senegal', 'Singapore', 'Solomon Islands', 'Sierra Leone', 'El Salvador', 'San Marino', 'Somalia', 'Serbia', 'Sub-Saharan Africa (excluding high income)', 'South Sudan', 'Sub-Saharan Africa', 'Small states', 'Sao Tome and Principe', 'Suriname', 'Slovak Republic', 'Slovenia', 'Sweden', 'Eswatini', 'Sint Maarten (Dutch part)', 'Seychelles', 'Syrian Arab Republic', 'Turks and Caicos Islands', 'Chad', 'East Asia & Pacific (IDA & IBRD countries)', 'Europe & Central Asia (IDA & IBRD countries)', 'Togo', 'Thailand', 'Tajikistan', 'Turkmenistan', 'Latin America & the Caribbean (IDA & IBRD countries)', 'Timor-Leste', 'Middle East & North Africa (IDA & IBRD countries)', 'Tonga', 'South Asia (IDA & IBRD)', 'Sub-Saharan Africa (IDA & IBRD countries)', 'Trinidad and Tobago', 'Tunisia', 'Turkey', 'Tuvalu', 'Tanzania', 'Uganda', 'Ukraine', 'Upper middle income', 'Uruguay', 'United States', 'Uzbekistan', 'St. Vincent and the Grenadines', 'Venezuela, RB', 'British Virgin Islands', 'Virgin Islands (U.S.)', 'Vietnam', 'Vanuatu', 'World', 'Samoa', 'Kosovo', 'Yemen, Rep.', 'South Africa', 'Zambia', 'Zimbabwe']\n"
     ]
    }
   ],
   "source": [
    "# Récupération de la liste des pays\n",
    "countries = df['Country Name'].unique().tolist()\n",
    "print(countries)\n",
    "df.set_index('Country Name', inplace=True)"
   ],
   "metadata": {
    "collapsed": false,
    "ExecuteTime": {
     "end_time": "2024-03-01T14:55:03.898843600Z",
     "start_time": "2024-03-01T14:55:03.785102400Z"
    }
   },
   "id": "958e6dfec7895a1e",
   "execution_count": 185
  },
  {
   "cell_type": "markdown",
   "source": [],
   "metadata": {
    "collapsed": false
   },
   "id": "9c1b64cfae64748f"
  },
  {
   "cell_type": "code",
   "outputs": [
    {
     "name": "stdout",
     "output_type": "stream",
     "text": [
      "['1961', '1962', '1963', '1964', '1965', '1966', '1967', '1968', '1969', '1970', '1971', '1972', '1973', '1974', '1975', '1976', '1977', '1978', '1979', '1980', '1981', '1982', '1983', '1984', '1985', '1986', '1987', '1988', '1989', '1990', '1991', '1992', '1993', '1994', '1995', '1996', '1997', '1998', '1999', '2000', '2001', '2002', '2003', '2004', '2005', '2006', '2007', '2008', '2009', '2010', '2011', '2012', '2013', '2014', '2015', '2016', '2017', '2018']\n"
     ]
    }
   ],
   "source": [
    "# Récupération de la liste des années\n",
    "columns = df.columns\n",
    "years = columns[1:].tolist()\n",
    "print(years)"
   ],
   "metadata": {
    "collapsed": false,
    "ExecuteTime": {
     "end_time": "2024-03-01T14:55:11.394422500Z",
     "start_time": "2024-03-01T14:55:11.352903500Z"
    }
   },
   "id": "16dafa8f6432cf5c",
   "execution_count": 186
  },
  {
   "cell_type": "code",
   "outputs": [
    {
     "data": {
      "text/plain": "  country  year  pollution_co2\n0   Aruba  1961     208.837879\n1   Aruba  1962     226.081890\n2   Aruba  1963     214.785217\n3   Aruba  1964     207.626699\n4   Aruba  1965     185.213644",
      "text/html": "<div>\n<style scoped>\n    .dataframe tbody tr th:only-of-type {\n        vertical-align: middle;\n    }\n\n    .dataframe tbody tr th {\n        vertical-align: top;\n    }\n\n    .dataframe thead th {\n        text-align: right;\n    }\n</style>\n<table border=\"1\" class=\"dataframe\">\n  <thead>\n    <tr style=\"text-align: right;\">\n      <th></th>\n      <th>country</th>\n      <th>year</th>\n      <th>pollution_co2</th>\n    </tr>\n  </thead>\n  <tbody>\n    <tr>\n      <th>0</th>\n      <td>Aruba</td>\n      <td>1961</td>\n      <td>208.837879</td>\n    </tr>\n    <tr>\n      <th>1</th>\n      <td>Aruba</td>\n      <td>1962</td>\n      <td>226.081890</td>\n    </tr>\n    <tr>\n      <th>2</th>\n      <td>Aruba</td>\n      <td>1963</td>\n      <td>214.785217</td>\n    </tr>\n    <tr>\n      <th>3</th>\n      <td>Aruba</td>\n      <td>1964</td>\n      <td>207.626699</td>\n    </tr>\n    <tr>\n      <th>4</th>\n      <td>Aruba</td>\n      <td>1965</td>\n      <td>185.213644</td>\n    </tr>\n  </tbody>\n</table>\n</div>"
     },
     "execution_count": 187,
     "metadata": {},
     "output_type": "execute_result"
    }
   ],
   "source": [
    "# Création nouveau dataframe organisé par pays puis années\n",
    "data_list = []\n",
    "\n",
    "for country in countries:\n",
    "    #values = df[df['Country Name'] == country]\n",
    "    for year in years:\n",
    "        value = df.loc[country, year]\n",
    "        #print(value)\n",
    "        data_list.append({'country': country, 'year': year, 'pollution_co2': value})\n",
    "data = pd.DataFrame(data_list, columns=['country', 'year', 'pollution_co2'])\n",
    "data.head(5)"
   ],
   "metadata": {
    "collapsed": false,
    "ExecuteTime": {
     "end_time": "2024-03-01T14:55:18.256306500Z",
     "start_time": "2024-03-01T14:55:18.025077Z"
    }
   },
   "id": "51c50d982ef15ef",
   "execution_count": 187
  },
  {
   "cell_type": "code",
   "outputs": [
    {
     "data": {
      "text/plain": "country           object\nyear               int32\npollution_co2    float64\ndtype: object"
     },
     "execution_count": 194,
     "metadata": {},
     "output_type": "execute_result"
    }
   ],
   "source": [
    "data.dtypes"
   ],
   "metadata": {
    "collapsed": false,
    "ExecuteTime": {
     "end_time": "2024-03-01T15:01:21.315686800Z",
     "start_time": "2024-03-01T15:01:21.211516800Z"
    }
   },
   "id": "e139d43ddd14f1fd",
   "execution_count": 194
  },
  {
   "cell_type": "code",
   "outputs": [
    {
     "data": {
      "text/plain": "(15428, 3)"
     },
     "execution_count": 188,
     "metadata": {},
     "output_type": "execute_result"
    }
   ],
   "source": [
    "data.shape"
   ],
   "metadata": {
    "collapsed": false,
    "ExecuteTime": {
     "end_time": "2024-03-01T14:55:20.075091700Z",
     "start_time": "2024-03-01T14:55:20.007026Z"
    }
   },
   "id": "2b5b70fd948a1f3",
   "execution_count": 188
  },
  {
   "cell_type": "code",
   "outputs": [
    {
     "name": "stdout",
     "output_type": "stream",
     "text": [
      "Nombre de valeurs invalides ou nulls: 2289\n"
     ]
    },
    {
     "data": {
      "text/plain": "(13139, 3)"
     },
     "execution_count": 189,
     "metadata": {},
     "output_type": "execute_result"
    }
   ],
   "source": [
    "# Suppression des valeurs inutiles si nécessaires\n",
    "nb_na = data['pollution_co2'].isna().sum()\n",
    "print(\"Nombre de valeurs invalides ou nulls: \" + str(nb_na))\n",
    "if nb_na > 0:\n",
    "    data.dropna(subset=['pollution_co2'], inplace=True)\n",
    "data.shape"
   ],
   "metadata": {
    "collapsed": false,
    "ExecuteTime": {
     "end_time": "2024-03-01T14:55:20.903607800Z",
     "start_time": "2024-03-01T14:55:20.857179100Z"
    }
   },
   "id": "86b0a5de0446ff4b",
   "execution_count": 189
  },
  {
   "cell_type": "code",
   "outputs": [],
   "source": [
    "data.to_csv('./output/CO2_Emissions_sortedByYearAndCountry.csv', index=False)"
   ],
   "metadata": {
    "collapsed": false,
    "ExecuteTime": {
     "end_time": "2024-03-01T14:55:24.451843100Z",
     "start_time": "2024-03-01T14:55:24.388301400Z"
    }
   },
   "id": "3eb51ea8b229437d",
   "execution_count": 190
  },
  {
   "cell_type": "code",
   "outputs": [],
   "source": [
    "# Retirer les valeurs des pays différents de cette liste et exporter le fichier\n",
    "if limit_to_kept_countries:\n",
    "    data = data[data.country.isin(kept_countries)]\n",
    "data.to_csv('./output/CO2_Emissions_sortedByYearAndCountry.csv', index=False)\n"
   ],
   "metadata": {
    "collapsed": false,
    "ExecuteTime": {
     "end_time": "2024-03-01T14:55:26.480547900Z",
     "start_time": "2024-03-01T14:55:26.420295300Z"
    }
   },
   "id": "3a82d312e31856d4",
   "execution_count": 191
  },
  {
   "cell_type": "code",
   "outputs": [],
   "source": [
    "# Charger le fichier World Energy Consumption\n",
    "wec = pd.read_csv('./assets/World Energy Consumption.csv')\n",
    "if limit_to_kept_countries:\n",
    "    wec = wec[wec.country.isin(kept_countries)]\n",
    "wec.to_csv('./output/World Energy Consumption (limited).csv', index=False)"
   ],
   "metadata": {
    "collapsed": false,
    "ExecuteTime": {
     "end_time": "2024-03-01T14:55:29.347893700Z",
     "start_time": "2024-03-01T14:55:27.065550500Z"
    }
   },
   "id": "c1e55230a741056d",
   "execution_count": 192
  },
  {
   "cell_type": "code",
   "outputs": [],
   "source": [
    "# Changement de types\n",
    "data['year'] = data['year'].astype(int)\n",
    "wec['year'] = wec['year'].astype(int)\n",
    "\n",
    "wec['country'] = wec['country'].astype(str)\n",
    "data['country'] = data['country'].astype(str)\n",
    "\n",
    "# Fusion des valeurs de Co2\n",
    "wec = pd.merge(wec, data, on=[\"country\", \"year\"])\n",
    "            \n",
    "# Supprimer la colonne 'population'\n",
    "# wec = wec.drop('population', axis=1, errors='ignore')\n",
    "# wec = wec.drop('iso_code', axis=1, errors='ignore')\n",
    "# wec = wec.drop('gdp', axis=1, errors='ignore')\n",
    "\n",
    "wec = wec[wec['year'] >= 1960]\n",
    "\n",
    "# Valeurs enregistrés\n",
    "wec.to_csv('./output/World Energy Consumption (limited).csv', index=False)"
   ],
   "metadata": {
    "collapsed": false,
    "ExecuteTime": {
     "end_time": "2024-03-01T14:55:45.726180400Z",
     "start_time": "2024-03-01T14:55:44.649970900Z"
    }
   },
   "id": "e9aa89e010168301",
   "execution_count": 193
  },
  {
   "cell_type": "code",
   "outputs": [],
   "source": [
    "#Dataset Taxes sur les énergies"
   ],
   "metadata": {
    "collapsed": false,
    "ExecuteTime": {
     "end_time": "2024-03-01T14:48:40.905927700Z",
     "start_time": "2024-03-01T14:48:40.620829Z"
    }
   },
   "id": "c7989c017d83fb05",
   "execution_count": 151
  },
  {
   "cell_type": "code",
   "outputs": [
    {
     "data": {
      "text/plain": "   ObjectId  Country ISO2 ISO3  \\\n0         1  Albania   AL  ALB   \n1         2  Albania   AL  ALB   \n2         3  Albania   AL  ALB   \n3         4  Albania   AL  ALB   \n4         5  Albania   AL  ALB   \n\n                                        Indicator  \\\n0                             Environmental Taxes   \n1                             Environmental Taxes   \n2  Taxes on Energy (including fuel for transport)   \n3  Taxes on Energy (including fuel for transport)   \n4                              Taxes on Pollution   \n\n                                              Source CTS Code  \\\n0  Organisation for Economic Co-operation and Dev...    ECGTE   \n1  Organisation for Economic Co-operation and Dev...    ECGTE   \n2  Organisation for Economic Co-operation and Dev...   ECGTEN   \n3  Organisation for Economic Co-operation and Dev...   ECGTEN   \n4  Organisation for Economic Co-operation and Dev...   ECGTEP   \n\n                                         CTS Name  \\\n0                             Environmental Taxes   \n1                             Environmental Taxes   \n2  Taxes on Energy (Including Fuel for Transport)   \n3  Taxes on Energy (Including Fuel for Transport)   \n4                              Taxes on Pollution   \n\n                                 CTS Full Descriptor               Unit  ...  \\\n0  Environment, Climate Change, Government Policy...  Domestic Currency  ...   \n1  Environment, Climate Change, Government Policy...     Percent of GDP  ...   \n2  Environment, Climate Change, Government Policy...  Domestic Currency  ...   \n3  Environment, Climate Change, Government Policy...     Percent of GDP  ...   \n4  Environment, Climate Change, Government Policy...  Domestic Currency  ...   \n\n   2012  2013  2014          2015          2016          2017          2018  \\\n0   NaN   NaN   NaN  4.399314e+10  4.781379e+10  4.754858e+10  5.114559e+10   \n1   NaN   NaN   NaN  3.067206e+00  3.247163e+00  3.066373e+00  3.124865e+00   \n2   NaN   NaN   NaN  3.774111e+10  4.094562e+10  4.040004e+10  4.352182e+10   \n3   NaN   NaN   NaN  2.631314e+00  2.780726e+00  2.605369e+00  2.659072e+00   \n4   NaN   NaN   NaN  1.782069e+09  1.879970e+09  1.941324e+09  2.226251e+09   \n\n           2019  2020  2021  \n0  5.341565e+10   NaN   NaN  \n1  3.157133e+00   NaN   NaN  \n2  4.516530e+10   NaN   NaN  \n3  2.669496e+00   NaN   NaN  \n4  2.625011e+09   NaN   NaN  \n\n[5 rows x 37 columns]",
      "text/html": "<div>\n<style scoped>\n    .dataframe tbody tr th:only-of-type {\n        vertical-align: middle;\n    }\n\n    .dataframe tbody tr th {\n        vertical-align: top;\n    }\n\n    .dataframe thead th {\n        text-align: right;\n    }\n</style>\n<table border=\"1\" class=\"dataframe\">\n  <thead>\n    <tr style=\"text-align: right;\">\n      <th></th>\n      <th>ObjectId</th>\n      <th>Country</th>\n      <th>ISO2</th>\n      <th>ISO3</th>\n      <th>Indicator</th>\n      <th>Source</th>\n      <th>CTS Code</th>\n      <th>CTS Name</th>\n      <th>CTS Full Descriptor</th>\n      <th>Unit</th>\n      <th>...</th>\n      <th>2012</th>\n      <th>2013</th>\n      <th>2014</th>\n      <th>2015</th>\n      <th>2016</th>\n      <th>2017</th>\n      <th>2018</th>\n      <th>2019</th>\n      <th>2020</th>\n      <th>2021</th>\n    </tr>\n  </thead>\n  <tbody>\n    <tr>\n      <th>0</th>\n      <td>1</td>\n      <td>Albania</td>\n      <td>AL</td>\n      <td>ALB</td>\n      <td>Environmental Taxes</td>\n      <td>Organisation for Economic Co-operation and Dev...</td>\n      <td>ECGTE</td>\n      <td>Environmental Taxes</td>\n      <td>Environment, Climate Change, Government Policy...</td>\n      <td>Domestic Currency</td>\n      <td>...</td>\n      <td>NaN</td>\n      <td>NaN</td>\n      <td>NaN</td>\n      <td>4.399314e+10</td>\n      <td>4.781379e+10</td>\n      <td>4.754858e+10</td>\n      <td>5.114559e+10</td>\n      <td>5.341565e+10</td>\n      <td>NaN</td>\n      <td>NaN</td>\n    </tr>\n    <tr>\n      <th>1</th>\n      <td>2</td>\n      <td>Albania</td>\n      <td>AL</td>\n      <td>ALB</td>\n      <td>Environmental Taxes</td>\n      <td>Organisation for Economic Co-operation and Dev...</td>\n      <td>ECGTE</td>\n      <td>Environmental Taxes</td>\n      <td>Environment, Climate Change, Government Policy...</td>\n      <td>Percent of GDP</td>\n      <td>...</td>\n      <td>NaN</td>\n      <td>NaN</td>\n      <td>NaN</td>\n      <td>3.067206e+00</td>\n      <td>3.247163e+00</td>\n      <td>3.066373e+00</td>\n      <td>3.124865e+00</td>\n      <td>3.157133e+00</td>\n      <td>NaN</td>\n      <td>NaN</td>\n    </tr>\n    <tr>\n      <th>2</th>\n      <td>3</td>\n      <td>Albania</td>\n      <td>AL</td>\n      <td>ALB</td>\n      <td>Taxes on Energy (including fuel for transport)</td>\n      <td>Organisation for Economic Co-operation and Dev...</td>\n      <td>ECGTEN</td>\n      <td>Taxes on Energy (Including Fuel for Transport)</td>\n      <td>Environment, Climate Change, Government Policy...</td>\n      <td>Domestic Currency</td>\n      <td>...</td>\n      <td>NaN</td>\n      <td>NaN</td>\n      <td>NaN</td>\n      <td>3.774111e+10</td>\n      <td>4.094562e+10</td>\n      <td>4.040004e+10</td>\n      <td>4.352182e+10</td>\n      <td>4.516530e+10</td>\n      <td>NaN</td>\n      <td>NaN</td>\n    </tr>\n    <tr>\n      <th>3</th>\n      <td>4</td>\n      <td>Albania</td>\n      <td>AL</td>\n      <td>ALB</td>\n      <td>Taxes on Energy (including fuel for transport)</td>\n      <td>Organisation for Economic Co-operation and Dev...</td>\n      <td>ECGTEN</td>\n      <td>Taxes on Energy (Including Fuel for Transport)</td>\n      <td>Environment, Climate Change, Government Policy...</td>\n      <td>Percent of GDP</td>\n      <td>...</td>\n      <td>NaN</td>\n      <td>NaN</td>\n      <td>NaN</td>\n      <td>2.631314e+00</td>\n      <td>2.780726e+00</td>\n      <td>2.605369e+00</td>\n      <td>2.659072e+00</td>\n      <td>2.669496e+00</td>\n      <td>NaN</td>\n      <td>NaN</td>\n    </tr>\n    <tr>\n      <th>4</th>\n      <td>5</td>\n      <td>Albania</td>\n      <td>AL</td>\n      <td>ALB</td>\n      <td>Taxes on Pollution</td>\n      <td>Organisation for Economic Co-operation and Dev...</td>\n      <td>ECGTEP</td>\n      <td>Taxes on Pollution</td>\n      <td>Environment, Climate Change, Government Policy...</td>\n      <td>Domestic Currency</td>\n      <td>...</td>\n      <td>NaN</td>\n      <td>NaN</td>\n      <td>NaN</td>\n      <td>1.782069e+09</td>\n      <td>1.879970e+09</td>\n      <td>1.941324e+09</td>\n      <td>2.226251e+09</td>\n      <td>2.625011e+09</td>\n      <td>NaN</td>\n      <td>NaN</td>\n    </tr>\n  </tbody>\n</table>\n<p>5 rows × 37 columns</p>\n</div>"
     },
     "execution_count": 152,
     "metadata": {},
     "output_type": "execute_result"
    }
   ],
   "source": [
    "import pandas as pd\n",
    "from matplotlib import pyplot as plt\n",
    "# Charger le dataset des taxes sur les énergies\n",
    "tax = pd.read_csv('./assets/Tax_Energy.csv')\n",
    "tax.head(5)"
   ],
   "metadata": {
    "collapsed": false,
    "ExecuteTime": {
     "end_time": "2024-03-01T14:48:41.063534500Z",
     "start_time": "2024-03-01T14:48:40.660698200Z"
    }
   },
   "id": "4f04a70dfc46c7d7",
   "execution_count": 152
  },
  {
   "cell_type": "code",
   "outputs": [
    {
     "name": "stdout",
     "output_type": "stream",
     "text": [
      "    ObjectId                   Country ISO2 ISO3  \\\n",
      "10        11  Andorra, Principality of   AD  AND   \n",
      "11        12  Andorra, Principality of   AD  AND   \n",
      "12        13  Andorra, Principality of   AD  AND   \n",
      "13        14  Andorra, Principality of   AD  AND   \n",
      "14        15  Andorra, Principality of   AD  AND   \n",
      "\n",
      "                                            Indicator  \\\n",
      "10                                Environmental Taxes   \n",
      "11     Taxes on Energy (including fuel for transport)   \n",
      "12                                 Taxes on Pollution   \n",
      "13                                 Taxes on Resources   \n",
      "14  Taxes on Transport (excluding fuel for transport)   \n",
      "\n",
      "                                               Source CTS Code  \\\n",
      "10  Organisation for Economic Co-operation and Dev...    ECGTE   \n",
      "11  Organisation for Economic Co-operation and Dev...   ECGTEN   \n",
      "12  Organisation for Economic Co-operation and Dev...   ECGTEP   \n",
      "13  Organisation for Economic Co-operation and Dev...   ECGTER   \n",
      "14  Organisation for Economic Co-operation and Dev...   ECGTET   \n",
      "\n",
      "                                             CTS Name  \\\n",
      "10                                Environmental Taxes   \n",
      "11     Taxes on Energy (Including Fuel for Transport)   \n",
      "12                                 Taxes on Pollution   \n",
      "13                                 Taxes on Resources   \n",
      "14  Taxes on Transport (Excluding Fuel for Transport)   \n",
      "\n",
      "                                  CTS Full Descriptor               Unit  ...  \\\n",
      "10  Environment, Climate Change, Government Policy...  Domestic Currency  ...   \n",
      "11  Environment, Climate Change, Government Policy...  Domestic Currency  ...   \n",
      "12  Environment, Climate Change, Government Policy...  Domestic Currency  ...   \n",
      "13  Environment, Climate Change, Government Policy...  Domestic Currency  ...   \n",
      "14  Environment, Climate Change, Government Policy...  Domestic Currency  ...   \n",
      "\n",
      "    2012  2013  2014          2015          2016          2017          2018  \\\n",
      "10   NaN   NaN   NaN  4.600367e+12  4.616889e+12  5.043869e+12  5.283535e+12   \n",
      "11   NaN   NaN   NaN  0.000000e+00  0.000000e+00  0.000000e+00  0.000000e+00   \n",
      "12   NaN   NaN   NaN  0.000000e+00  0.000000e+00  0.000000e+00  0.000000e+00   \n",
      "13   NaN   NaN   NaN  0.000000e+00  0.000000e+00  0.000000e+00  0.000000e+00   \n",
      "14   NaN   NaN   NaN  4.600367e+12  4.616889e+12  5.043869e+12  5.283535e+12   \n",
      "\n",
      "            2019          2020  2021  \n",
      "10  5.675649e+12  6.462285e+12   NaN  \n",
      "11  0.000000e+00  0.000000e+00   NaN  \n",
      "12  0.000000e+00  0.000000e+00   NaN  \n",
      "13  0.000000e+00  0.000000e+00   NaN  \n",
      "14  5.675649e+12  6.462285e+12   NaN  \n",
      "\n",
      "[5 rows x 37 columns]\n"
     ]
    }
   ],
   "source": [
    "tax_country = tax[tax[\"Country\"] == \"Andorra, Principality of\"]\n",
    "print(tax_country)"
   ],
   "metadata": {
    "collapsed": false,
    "ExecuteTime": {
     "end_time": "2024-03-01T14:48:41.158456400Z",
     "start_time": "2024-03-01T14:48:40.776101Z"
    }
   },
   "id": "f9f8d1ba56366c4d",
   "execution_count": 153
  },
  {
   "cell_type": "code",
   "outputs": [
    {
     "name": "stdout",
     "output_type": "stream",
     "text": [
      "Nombre de NaN dans les colonnes : ObjectId                 0\n",
      "Country                  0\n",
      "ISO2                    10\n",
      "ISO3                     8\n",
      "Indicator                0\n",
      "Source                   0\n",
      "CTS Code                 0\n",
      "CTS Name                 0\n",
      "CTS Full Descriptor      0\n",
      "Unit                     0\n",
      "1995                   495\n",
      "1996                   491\n",
      "1997                   491\n",
      "1998                   483\n",
      "1999                   481\n",
      "2000                   431\n",
      "2001                   415\n",
      "2002                   411\n",
      "2003                   403\n",
      "2004                   403\n",
      "2005                   369\n",
      "2006                   359\n",
      "2007                   351\n",
      "2008                   321\n",
      "2009                   321\n",
      "2010                   295\n",
      "2011                   303\n",
      "2012                   307\n",
      "2013                   309\n",
      "2014                   305\n",
      "2015                    44\n",
      "2016                    46\n",
      "2017                    50\n",
      "2018                    68\n",
      "2019                   100\n",
      "2020                   192\n",
      "2021                   579\n",
      "dtype: int64\n",
      "Nombre de NaN dans le dataset : 8841\n"
     ]
    }
   ],
   "source": [
    "# Compter le nombre de valeurs \"NaN\" dans les colonnes\n",
    "nb_nan_colTax = tax.isna().sum()\n",
    "\n",
    "print(\"Nombre de NaN dans les colonnes :\", nb_nan_colTax)\n",
    "\n",
    "# Compter le nombre de valeurs \"NaN\" dans le dataset\n",
    "nb_nan_dataset = tax.isna().sum().sum()\n",
    "\n",
    "print(\"Nombre de NaN dans le dataset :\", nb_nan_dataset)"
   ],
   "metadata": {
    "collapsed": false,
    "ExecuteTime": {
     "end_time": "2024-03-01T14:48:41.341198800Z",
     "start_time": "2024-03-01T14:48:40.824984100Z"
    }
   },
   "id": "e2037e2d2e093dab",
   "execution_count": 154
  },
  {
   "cell_type": "code",
   "outputs": [
    {
     "data": {
      "text/plain": "   ObjectId  Country ISO2 ISO3  \\\n0         1  Albania   AL  ALB   \n1         2  Albania   AL  ALB   \n2         3  Albania   AL  ALB   \n3         4  Albania   AL  ALB   \n4         5  Albania   AL  ALB   \n\n                                        Indicator  \\\n0                             Environmental Taxes   \n1                             Environmental Taxes   \n2  Taxes on Energy (including fuel for transport)   \n3  Taxes on Energy (including fuel for transport)   \n4                              Taxes on Pollution   \n\n                                              Source CTS Code  \\\n0  Organisation for Economic Co-operation and Dev...    ECGTE   \n1  Organisation for Economic Co-operation and Dev...    ECGTE   \n2  Organisation for Economic Co-operation and Dev...   ECGTEN   \n3  Organisation for Economic Co-operation and Dev...   ECGTEN   \n4  Organisation for Economic Co-operation and Dev...   ECGTEP   \n\n                                         CTS Name  \\\n0                             Environmental Taxes   \n1                             Environmental Taxes   \n2  Taxes on Energy (Including Fuel for Transport)   \n3  Taxes on Energy (Including Fuel for Transport)   \n4                              Taxes on Pollution   \n\n                                 CTS Full Descriptor               Unit Année  \\\n0  Environment, Climate Change, Government Policy...  Domestic Currency  1995   \n1  Environment, Climate Change, Government Policy...     Percent of GDP  1995   \n2  Environment, Climate Change, Government Policy...  Domestic Currency  1995   \n3  Environment, Climate Change, Government Policy...     Percent of GDP  1995   \n4  Environment, Climate Change, Government Policy...  Domestic Currency  1995   \n\n   Taxe  \n0   NaN  \n1   NaN  \n2   NaN  \n3   NaN  \n4   NaN  ",
      "text/html": "<div>\n<style scoped>\n    .dataframe tbody tr th:only-of-type {\n        vertical-align: middle;\n    }\n\n    .dataframe tbody tr th {\n        vertical-align: top;\n    }\n\n    .dataframe thead th {\n        text-align: right;\n    }\n</style>\n<table border=\"1\" class=\"dataframe\">\n  <thead>\n    <tr style=\"text-align: right;\">\n      <th></th>\n      <th>ObjectId</th>\n      <th>Country</th>\n      <th>ISO2</th>\n      <th>ISO3</th>\n      <th>Indicator</th>\n      <th>Source</th>\n      <th>CTS Code</th>\n      <th>CTS Name</th>\n      <th>CTS Full Descriptor</th>\n      <th>Unit</th>\n      <th>Année</th>\n      <th>Taxe</th>\n    </tr>\n  </thead>\n  <tbody>\n    <tr>\n      <th>0</th>\n      <td>1</td>\n      <td>Albania</td>\n      <td>AL</td>\n      <td>ALB</td>\n      <td>Environmental Taxes</td>\n      <td>Organisation for Economic Co-operation and Dev...</td>\n      <td>ECGTE</td>\n      <td>Environmental Taxes</td>\n      <td>Environment, Climate Change, Government Policy...</td>\n      <td>Domestic Currency</td>\n      <td>1995</td>\n      <td>NaN</td>\n    </tr>\n    <tr>\n      <th>1</th>\n      <td>2</td>\n      <td>Albania</td>\n      <td>AL</td>\n      <td>ALB</td>\n      <td>Environmental Taxes</td>\n      <td>Organisation for Economic Co-operation and Dev...</td>\n      <td>ECGTE</td>\n      <td>Environmental Taxes</td>\n      <td>Environment, Climate Change, Government Policy...</td>\n      <td>Percent of GDP</td>\n      <td>1995</td>\n      <td>NaN</td>\n    </tr>\n    <tr>\n      <th>2</th>\n      <td>3</td>\n      <td>Albania</td>\n      <td>AL</td>\n      <td>ALB</td>\n      <td>Taxes on Energy (including fuel for transport)</td>\n      <td>Organisation for Economic Co-operation and Dev...</td>\n      <td>ECGTEN</td>\n      <td>Taxes on Energy (Including Fuel for Transport)</td>\n      <td>Environment, Climate Change, Government Policy...</td>\n      <td>Domestic Currency</td>\n      <td>1995</td>\n      <td>NaN</td>\n    </tr>\n    <tr>\n      <th>3</th>\n      <td>4</td>\n      <td>Albania</td>\n      <td>AL</td>\n      <td>ALB</td>\n      <td>Taxes on Energy (including fuel for transport)</td>\n      <td>Organisation for Economic Co-operation and Dev...</td>\n      <td>ECGTEN</td>\n      <td>Taxes on Energy (Including Fuel for Transport)</td>\n      <td>Environment, Climate Change, Government Policy...</td>\n      <td>Percent of GDP</td>\n      <td>1995</td>\n      <td>NaN</td>\n    </tr>\n    <tr>\n      <th>4</th>\n      <td>5</td>\n      <td>Albania</td>\n      <td>AL</td>\n      <td>ALB</td>\n      <td>Taxes on Pollution</td>\n      <td>Organisation for Economic Co-operation and Dev...</td>\n      <td>ECGTEP</td>\n      <td>Taxes on Pollution</td>\n      <td>Environment, Climate Change, Government Policy...</td>\n      <td>Domestic Currency</td>\n      <td>1995</td>\n      <td>NaN</td>\n    </tr>\n  </tbody>\n</table>\n</div>"
     },
     "execution_count": 155,
     "metadata": {},
     "output_type": "execute_result"
    }
   ],
   "source": [
    "# Regrouper les années dans une seule colonne\n",
    "tax = pd.melt(tax, id_vars=[\"ObjectId\", \"Country\", \"ISO2\", \"ISO3\", \"Indicator\", \"Source\", \"CTS Code\", \"CTS Name\", \"CTS Full Descriptor\", \"Unit\"], \n",
    "                    var_name=\"Année\", value_name=\"Taxe\")\n",
    "tax.head(5)"
   ],
   "metadata": {
    "collapsed": false,
    "ExecuteTime": {
     "end_time": "2024-03-01T14:48:41.502641600Z",
     "start_time": "2024-03-01T14:48:41.023866700Z"
    }
   },
   "id": "3d1dcb149c0501c9",
   "execution_count": 155
  },
  {
   "cell_type": "code",
   "outputs": [
    {
     "data": {
      "text/plain": "   Country ISO3                                           CTS Name  \\\n0  Albania  ALB                        ECGTE - Environmental Taxes   \n1  Albania  ALB                        ECGTE - Environmental Taxes   \n2  Albania  ALB  ECGTEN - Taxes on Energy (Including Fuel for T...   \n3  Albania  ALB  ECGTEN - Taxes on Energy (Including Fuel for T...   \n4  Albania  ALB                        ECGTEP - Taxes on Pollution   \n\n                Unit Année  Taxe  \n0  Domestic Currency  1995   NaN  \n1     Percent of GDP  1995   NaN  \n2  Domestic Currency  1995   NaN  \n3     Percent of GDP  1995   NaN  \n4  Domestic Currency  1995   NaN  ",
      "text/html": "<div>\n<style scoped>\n    .dataframe tbody tr th:only-of-type {\n        vertical-align: middle;\n    }\n\n    .dataframe tbody tr th {\n        vertical-align: top;\n    }\n\n    .dataframe thead th {\n        text-align: right;\n    }\n</style>\n<table border=\"1\" class=\"dataframe\">\n  <thead>\n    <tr style=\"text-align: right;\">\n      <th></th>\n      <th>Country</th>\n      <th>ISO3</th>\n      <th>CTS Name</th>\n      <th>Unit</th>\n      <th>Année</th>\n      <th>Taxe</th>\n    </tr>\n  </thead>\n  <tbody>\n    <tr>\n      <th>0</th>\n      <td>Albania</td>\n      <td>ALB</td>\n      <td>ECGTE - Environmental Taxes</td>\n      <td>Domestic Currency</td>\n      <td>1995</td>\n      <td>NaN</td>\n    </tr>\n    <tr>\n      <th>1</th>\n      <td>Albania</td>\n      <td>ALB</td>\n      <td>ECGTE - Environmental Taxes</td>\n      <td>Percent of GDP</td>\n      <td>1995</td>\n      <td>NaN</td>\n    </tr>\n    <tr>\n      <th>2</th>\n      <td>Albania</td>\n      <td>ALB</td>\n      <td>ECGTEN - Taxes on Energy (Including Fuel for T...</td>\n      <td>Domestic Currency</td>\n      <td>1995</td>\n      <td>NaN</td>\n    </tr>\n    <tr>\n      <th>3</th>\n      <td>Albania</td>\n      <td>ALB</td>\n      <td>ECGTEN - Taxes on Energy (Including Fuel for T...</td>\n      <td>Percent of GDP</td>\n      <td>1995</td>\n      <td>NaN</td>\n    </tr>\n    <tr>\n      <th>4</th>\n      <td>Albania</td>\n      <td>ALB</td>\n      <td>ECGTEP - Taxes on Pollution</td>\n      <td>Domestic Currency</td>\n      <td>1995</td>\n      <td>NaN</td>\n    </tr>\n  </tbody>\n</table>\n</div>"
     },
     "execution_count": 156,
     "metadata": {},
     "output_type": "execute_result"
    }
   ],
   "source": [
    "# Concaténer les valeurs de \"CTS Code\" et \"CTS Name\" avec un séparateur \"-\"\n",
    "tax[\"CTS Name\"] = tax[\"CTS Code\"] + \" - \" + tax[\"CTS Name\"]\n",
    "\n",
    "# Supprimer la colonne \"CTS Code\" puisque ses valeurs ont été concaténées avec \"CTS Name\"\n",
    "# Supprimer les colonnes inutiles \"ObjectId\", \"ISO2\", \"Indicator\", \"Source\", \"CTS Full Descriptor\"\n",
    "tax.drop(columns=[\"CTS Code\", \"ObjectId\", \"ISO2\", \"Indicator\", \"Source\", \"CTS Full Descriptor\"], inplace=True)\n",
    "\n",
    "tax.head(5)"
   ],
   "metadata": {
    "collapsed": false,
    "ExecuteTime": {
     "end_time": "2024-03-01T14:48:41.799655700Z",
     "start_time": "2024-03-01T14:48:41.410054400Z"
    }
   },
   "id": "edf013563881f364",
   "execution_count": 156
  },
  {
   "cell_type": "code",
   "outputs": [
    {
     "data": {
      "text/plain": "Index(['Country', 'ISO3', 'CTS Name', 'Unit', 'Année', 'Taxe'], dtype='object')"
     },
     "execution_count": 157,
     "metadata": {},
     "output_type": "execute_result"
    }
   ],
   "source": [
    "tax.columns"
   ],
   "metadata": {
    "collapsed": false,
    "ExecuteTime": {
     "end_time": "2024-03-01T14:48:42.249760800Z",
     "start_time": "2024-03-01T14:48:41.749410700Z"
    }
   },
   "id": "ac84fe82e2aa0a88",
   "execution_count": 157
  },
  {
   "cell_type": "code",
   "outputs": [
    {
     "data": {
      "text/plain": "dtype('O')"
     },
     "execution_count": 158,
     "metadata": {},
     "output_type": "execute_result"
    }
   ],
   "source": [
    "tax.columns.dtype"
   ],
   "metadata": {
    "collapsed": false,
    "ExecuteTime": {
     "end_time": "2024-03-01T14:48:42.669777100Z",
     "start_time": "2024-03-01T14:48:42.118841300Z"
    }
   },
   "id": "68d4bca572413c51",
   "execution_count": 158
  },
  {
   "cell_type": "code",
   "outputs": [
    {
     "data": {
      "text/plain": "Country      object\nISO3         object\nCTS Name     object\nUnit         object\nAnnée        object\nTaxe        float64\ndtype: object"
     },
     "execution_count": 159,
     "metadata": {},
     "output_type": "execute_result"
    }
   ],
   "source": [
    "tax.dtypes"
   ],
   "metadata": {
    "collapsed": false,
    "ExecuteTime": {
     "end_time": "2024-03-01T14:48:43.105589500Z",
     "start_time": "2024-03-01T14:48:42.627646800Z"
    }
   },
   "id": "4f58ba6830437503",
   "execution_count": 159
  },
  {
   "cell_type": "code",
   "outputs": [
    {
     "data": {
      "text/plain": "(33453, 6)"
     },
     "execution_count": 160,
     "metadata": {},
     "output_type": "execute_result"
    }
   ],
   "source": [
    "tax.shape"
   ],
   "metadata": {
    "collapsed": false,
    "ExecuteTime": {
     "end_time": "2024-03-01T14:48:43.592107300Z",
     "start_time": "2024-03-01T14:48:43.107590200Z"
    }
   },
   "id": "f4159dfbb81301d6",
   "execution_count": 160
  },
  {
   "cell_type": "code",
   "outputs": [
    {
     "name": "stdout",
     "output_type": "stream",
     "text": [
      "Valeurs nulles dans le DataFrame :\n",
      "       Country   ISO3  CTS Name   Unit  Année  Taxe\n",
      "0        False  False     False  False  False  True\n",
      "1        False  False     False  False  False  True\n",
      "2        False  False     False  False  False  True\n",
      "3        False  False     False  False  False  True\n",
      "4        False  False     False  False  False  True\n",
      "...        ...    ...       ...    ...    ...   ...\n",
      "33448    False  False     False  False  False  True\n",
      "33449    False  False     False  False  False  True\n",
      "33450    False  False     False  False  False  True\n",
      "33451    False  False     False  False  False  True\n",
      "33452    False  False     False  False  False  True\n",
      "\n",
      "[33453 rows x 6 columns]\n",
      "\n",
      "Le DataFrame est vide : False\n"
     ]
    }
   ],
   "source": [
    "# Vérifier les valeurs nulles dans le DataFrame\n",
    "null_values = tax.isnull()\n",
    "\n",
    "# Vérifier si le DataFrame est vide\n",
    "is_empty = tax.empty\n",
    "\n",
    "# Afficher les valeurs nulles\n",
    "print(\"Valeurs nulles dans le DataFrame :\")\n",
    "print(null_values)\n",
    "\n",
    "# Afficher si le DataFrame est vide\n",
    "print(\"\\nLe DataFrame est vide :\", is_empty)"
   ],
   "metadata": {
    "collapsed": false,
    "ExecuteTime": {
     "end_time": "2024-03-01T14:48:43.793140900Z",
     "start_time": "2024-03-01T14:48:43.474445500Z"
    }
   },
   "id": "36c1705c06c68f01",
   "execution_count": 161
  },
  {
   "cell_type": "code",
   "outputs": [
    {
     "name": "stdout",
     "output_type": "stream",
     "text": [
      "Valeurs nan ou null dans la colonne 'Taxe': True\n"
     ]
    }
   ],
   "source": [
    "# Vérifier s'il y a des valeurs \"nan\" ou \"null\" dans la colonne 'Taxe'\n",
    "nan_colTaxe = tax['Taxe'].isna().any()\n",
    "\n",
    "print(\"Valeurs nan ou null dans la colonne 'Taxe':\", nan_colTaxe)"
   ],
   "metadata": {
    "collapsed": false,
    "ExecuteTime": {
     "end_time": "2024-03-01T14:48:44.082295800Z",
     "start_time": "2024-03-01T14:48:43.724030400Z"
    }
   },
   "id": "a7bf64f2388587fd",
   "execution_count": 162
  },
  {
   "cell_type": "code",
   "outputs": [
    {
     "name": "stdout",
     "output_type": "stream",
     "text": [
      "Nombre de NaN dans la colonne 'Taxe': 8823\n"
     ]
    }
   ],
   "source": [
    "# Compter le nombre de valeurs \"NaN\" dans la colonne 'Taxe'\n",
    "nb_nan_colTax = tax['Taxe'].isna().sum()\n",
    "\n",
    "print(\"Nombre de NaN dans la colonne 'Taxe':\", nb_nan_colTax)"
   ],
   "metadata": {
    "collapsed": false,
    "ExecuteTime": {
     "end_time": "2024-03-01T14:48:44.272911700Z",
     "start_time": "2024-03-01T14:48:43.994263400Z"
    }
   },
   "id": "dca3d8ea08001251",
   "execution_count": 163
  },
  {
   "cell_type": "code",
   "outputs": [
    {
     "name": "stdout",
     "output_type": "stream",
     "text": [
      "Lignes contenant des valeurs NaN :\n",
      "                  Country ISO3  \\\n",
      "0                 Albania  ALB   \n",
      "1                 Albania  ALB   \n",
      "2                 Albania  ALB   \n",
      "3                 Albania  ALB   \n",
      "4                 Albania  ALB   \n",
      "...                   ...  ...   \n",
      "33448  West Bank and Gaza  PSE   \n",
      "33449  West Bank and Gaza  PSE   \n",
      "33450  West Bank and Gaza  PSE   \n",
      "33451  West Bank and Gaza  PSE   \n",
      "33452  West Bank and Gaza  PSE   \n",
      "\n",
      "                                                CTS Name               Unit  \\\n",
      "0                            ECGTE - Environmental Taxes  Domestic Currency   \n",
      "1                            ECGTE - Environmental Taxes     Percent of GDP   \n",
      "2      ECGTEN - Taxes on Energy (Including Fuel for T...  Domestic Currency   \n",
      "3      ECGTEN - Taxes on Energy (Including Fuel for T...     Percent of GDP   \n",
      "4                            ECGTEP - Taxes on Pollution  Domestic Currency   \n",
      "...                                                  ...                ...   \n",
      "33448                        ECGTEP - Taxes on Pollution     Percent of GDP   \n",
      "33449                        ECGTER - Taxes on Resources  Domestic Currency   \n",
      "33450                        ECGTER - Taxes on Resources     Percent of GDP   \n",
      "33451  ECGTET - Taxes on Transport (Excluding Fuel fo...  Domestic Currency   \n",
      "33452  ECGTET - Taxes on Transport (Excluding Fuel fo...     Percent of GDP   \n",
      "\n",
      "      Année  Taxe  \n",
      "0      1995   NaN  \n",
      "1      1995   NaN  \n",
      "2      1995   NaN  \n",
      "3      1995   NaN  \n",
      "4      1995   NaN  \n",
      "...     ...   ...  \n",
      "33448  2021   NaN  \n",
      "33449  2021   NaN  \n",
      "33450  2021   NaN  \n",
      "33451  2021   NaN  \n",
      "33452  2021   NaN  \n",
      "\n",
      "[8863 rows x 6 columns]\n"
     ]
    }
   ],
   "source": [
    "# Filtrer les lignes avec des valeurs  puis les afficher\n",
    "nan_rows = tax[tax.isna().any(axis=1)]\n",
    "\n",
    "print(\"Lignes contenant des valeurs NaN :\")\n",
    "print(nan_rows)"
   ],
   "metadata": {
    "collapsed": false,
    "ExecuteTime": {
     "end_time": "2024-03-01T14:48:44.510687800Z",
     "start_time": "2024-03-01T14:48:44.229813700Z"
    }
   },
   "id": "ab7e32da77089d0a",
   "execution_count": 164
  },
  {
   "cell_type": "code",
   "outputs": [
    {
     "name": "stdout",
     "output_type": "stream",
     "text": [
      "Nombre de NaN dans les colonnes : Country        0\n",
      "ISO3         216\n",
      "CTS Name       0\n",
      "Unit           0\n",
      "Année          0\n",
      "Taxe        8823\n",
      "dtype: int64\n",
      "Nombre de NaN dans le dataset : 9039\n"
     ]
    }
   ],
   "source": [
    "# Compter le nombre de valeurs \"NaN\" dans les colonnes\n",
    "nb_nan_colTax = tax.isna().sum()\n",
    "\n",
    "print(\"Nombre de NaN dans les colonnes :\", nb_nan_colTax)\n",
    "\n",
    "# Compter le nombre de valeurs \"NaN\" dans le dataset\n",
    "nb_nan_dataset = tax.isna().sum().sum()\n",
    "\n",
    "print(\"Nombre de NaN dans le dataset :\", nb_nan_dataset)"
   ],
   "metadata": {
    "collapsed": false,
    "ExecuteTime": {
     "end_time": "2024-03-01T14:48:44.755710Z",
     "start_time": "2024-03-01T14:48:44.441496100Z"
    }
   },
   "id": "417fb059a0c19605",
   "execution_count": 165
  },
  {
   "cell_type": "code",
   "outputs": [
    {
     "name": "stdout",
     "output_type": "stream",
     "text": [
      "Index(['Country', 'ISO3', 'CTS Name', 'Unit', 'Année', 'Taxe'], dtype='object')\n"
     ]
    }
   ],
   "source": [
    "print(tax.columns)"
   ],
   "metadata": {
    "collapsed": false,
    "ExecuteTime": {
     "end_time": "2024-03-01T14:48:44.945957300Z",
     "start_time": "2024-03-01T14:48:44.640676Z"
    }
   },
   "id": "cc484073af48b8b1",
   "execution_count": 166
  },
  {
   "cell_type": "code",
   "outputs": [
    {
     "data": {
      "text/plain": "CTS Name  Country ISO3 Année ECGTE - Environmental Taxes                 \\\nUnit                                   Domestic Currency Percent of GDP   \n0         Albania  ALB  2015                4.399314e+10       3.067206   \n1         Albania  ALB  2016                4.781379e+10       3.247163   \n2         Albania  ALB  2017                4.754858e+10       3.066373   \n3         Albania  ALB  2018                5.114559e+10       3.124865   \n4         Albania  ALB  2019                5.341565e+10       3.157133   \n\nCTS Name ECGTEN - Taxes on Energy (Including Fuel for Transport)  \\\nUnit                                           Domestic Currency   \n0                                              3.774111e+10        \n1                                              4.094562e+10        \n2                                              4.040004e+10        \n3                                              4.352182e+10        \n4                                              4.516530e+10        \n\nCTS Name                ECGTEP - Taxes on Pollution                 \\\nUnit     Percent of GDP           Domestic Currency Percent of GDP   \n0              2.631314                1.782069e+09       0.124246   \n1              2.780726                1.879970e+09       0.127674   \n2              2.605369                1.941324e+09       0.125195   \n3              2.659072                2.226251e+09       0.136018   \n4              2.669496                2.625011e+09       0.155151   \n\nCTS Name ECGTER - Taxes on Resources                 \\\nUnit               Domestic Currency Percent of GDP   \n0                        32546493.00       0.002269   \n1                        52524339.00       0.003567   \n2                        61861356.38       0.003989   \n3                        56011991.00       0.003422   \n4                        58777099.50       0.003474   \n\nCTS Name ECGTET - Taxes on Transport (Excluding Fuel for Transport)  \\\nUnit                                              Domestic Currency   \n0                                              4.437413e+09           \n1                                              4.935684e+09           \n2                                              5.145347e+09           \n3                                              5.341506e+09           \n4                                              5.566564e+09           \n\nCTS Name                 \nUnit     Percent of GDP  \n0              0.309377  \n1              0.335195  \n2              0.331820  \n3              0.326352  \n4              0.329012  ",
      "text/html": "<div>\n<style scoped>\n    .dataframe tbody tr th:only-of-type {\n        vertical-align: middle;\n    }\n\n    .dataframe tbody tr th {\n        vertical-align: top;\n    }\n\n    .dataframe thead tr th {\n        text-align: left;\n    }\n</style>\n<table border=\"1\" class=\"dataframe\">\n  <thead>\n    <tr>\n      <th>CTS Name</th>\n      <th>Country</th>\n      <th>ISO3</th>\n      <th>Année</th>\n      <th colspan=\"2\" halign=\"left\">ECGTE - Environmental Taxes</th>\n      <th colspan=\"2\" halign=\"left\">ECGTEN - Taxes on Energy (Including Fuel for Transport)</th>\n      <th colspan=\"2\" halign=\"left\">ECGTEP - Taxes on Pollution</th>\n      <th colspan=\"2\" halign=\"left\">ECGTER - Taxes on Resources</th>\n      <th colspan=\"2\" halign=\"left\">ECGTET - Taxes on Transport (Excluding Fuel for Transport)</th>\n    </tr>\n    <tr>\n      <th>Unit</th>\n      <th></th>\n      <th></th>\n      <th></th>\n      <th>Domestic Currency</th>\n      <th>Percent of GDP</th>\n      <th>Domestic Currency</th>\n      <th>Percent of GDP</th>\n      <th>Domestic Currency</th>\n      <th>Percent of GDP</th>\n      <th>Domestic Currency</th>\n      <th>Percent of GDP</th>\n      <th>Domestic Currency</th>\n      <th>Percent of GDP</th>\n    </tr>\n  </thead>\n  <tbody>\n    <tr>\n      <th>0</th>\n      <td>Albania</td>\n      <td>ALB</td>\n      <td>2015</td>\n      <td>4.399314e+10</td>\n      <td>3.067206</td>\n      <td>3.774111e+10</td>\n      <td>2.631314</td>\n      <td>1.782069e+09</td>\n      <td>0.124246</td>\n      <td>32546493.00</td>\n      <td>0.002269</td>\n      <td>4.437413e+09</td>\n      <td>0.309377</td>\n    </tr>\n    <tr>\n      <th>1</th>\n      <td>Albania</td>\n      <td>ALB</td>\n      <td>2016</td>\n      <td>4.781379e+10</td>\n      <td>3.247163</td>\n      <td>4.094562e+10</td>\n      <td>2.780726</td>\n      <td>1.879970e+09</td>\n      <td>0.127674</td>\n      <td>52524339.00</td>\n      <td>0.003567</td>\n      <td>4.935684e+09</td>\n      <td>0.335195</td>\n    </tr>\n    <tr>\n      <th>2</th>\n      <td>Albania</td>\n      <td>ALB</td>\n      <td>2017</td>\n      <td>4.754858e+10</td>\n      <td>3.066373</td>\n      <td>4.040004e+10</td>\n      <td>2.605369</td>\n      <td>1.941324e+09</td>\n      <td>0.125195</td>\n      <td>61861356.38</td>\n      <td>0.003989</td>\n      <td>5.145347e+09</td>\n      <td>0.331820</td>\n    </tr>\n    <tr>\n      <th>3</th>\n      <td>Albania</td>\n      <td>ALB</td>\n      <td>2018</td>\n      <td>5.114559e+10</td>\n      <td>3.124865</td>\n      <td>4.352182e+10</td>\n      <td>2.659072</td>\n      <td>2.226251e+09</td>\n      <td>0.136018</td>\n      <td>56011991.00</td>\n      <td>0.003422</td>\n      <td>5.341506e+09</td>\n      <td>0.326352</td>\n    </tr>\n    <tr>\n      <th>4</th>\n      <td>Albania</td>\n      <td>ALB</td>\n      <td>2019</td>\n      <td>5.341565e+10</td>\n      <td>3.157133</td>\n      <td>4.516530e+10</td>\n      <td>2.669496</td>\n      <td>2.625011e+09</td>\n      <td>0.155151</td>\n      <td>58777099.50</td>\n      <td>0.003474</td>\n      <td>5.566564e+09</td>\n      <td>0.329012</td>\n    </tr>\n  </tbody>\n</table>\n</div>"
     },
     "execution_count": 167,
     "metadata": {},
     "output_type": "execute_result"
    }
   ],
   "source": [
    "# Pivoter les données pour mettre les catégories des taxes de la colonne \"CTS Name\" en colonnes et pour mettre les unités des taxes de la colonne \"Unit\" en colonnes\n",
    "taxE = tax.pivot_table(index=['Country', 'ISO3', 'Année'],\n",
    "                               columns=['CTS Name', 'Unit'],\n",
    "                               values='Taxe').reset_index()\n",
    "\n",
    "taxE.head(5)"
   ],
   "metadata": {
    "collapsed": false,
    "ExecuteTime": {
     "end_time": "2024-03-01T14:48:45.275979600Z",
     "start_time": "2024-03-01T14:48:44.880065Z"
    }
   },
   "id": "a0aa256cc75e4e71",
   "execution_count": 167
  },
  {
   "cell_type": "code",
   "outputs": [
    {
     "name": "stdout",
     "output_type": "stream",
     "text": [
      "Index(['Pays', 'ISO3', 'Année', 'ECGTE_TaxeEnv_DeviseNat',\n",
      "       'ECGTE_TaxeEnv_PctPIB', 'ECGTEN_TaxeEnergie_CarbIncl_DeviseNat',\n",
      "       'ECGTEN_TaxeEnergie_CarbIncl_PctPIB', 'ECGTEP_TaxePollution_DeviseNat',\n",
      "       'ECGTEP_TaxePollution_PctPIB', 'ECGTER_TaxeRess_DeviseNat',\n",
      "       'ECGTER_TaxeRess_PctPIB', 'ECGTET_TaxeTransp_CarbExcl_DeviseNat',\n",
      "       'ECGTET_TaxeTransp_CarbExcl_PctPIB'],\n",
      "      dtype='object')\n"
     ]
    }
   ],
   "source": [
    "# Renommer les colonnes\n",
    "taxE.columns = [\n",
    "    'Pays',\n",
    "    'ISO3',\n",
    "    'Année',\n",
    "    'ECGTE_TaxeEnv_DeviseNat',\n",
    "    'ECGTE_TaxeEnv_PctPIB',\n",
    "    'ECGTEN_TaxeEnergie_CarbIncl_DeviseNat',\n",
    "    'ECGTEN_TaxeEnergie_CarbIncl_PctPIB',\n",
    "    'ECGTEP_TaxePollution_DeviseNat',\n",
    "    'ECGTEP_TaxePollution_PctPIB',\n",
    "    'ECGTER_TaxeRess_DeviseNat',\n",
    "    'ECGTER_TaxeRess_PctPIB',\n",
    "    'ECGTET_TaxeTransp_CarbExcl_DeviseNat',\n",
    "    'ECGTET_TaxeTransp_CarbExcl_PctPIB'\n",
    "]\n",
    "# Afficher les nouvelles colonnes\n",
    "print(taxE.columns)\n"
   ],
   "metadata": {
    "collapsed": false,
    "ExecuteTime": {
     "end_time": "2024-03-01T14:48:45.411022700Z",
     "start_time": "2024-03-01T14:48:45.116731400Z"
    }
   },
   "id": "537a72b6339daa38",
   "execution_count": 168
  },
  {
   "cell_type": "code",
   "outputs": [
    {
     "name": "stdout",
     "output_type": "stream",
     "text": [
      "Nombre de NaN dans les colonnes : Pays                                       0\n",
      "ISO3                                       0\n",
      "Année                                      0\n",
      "ECGTE_TaxeEnv_DeviseNat                  460\n",
      "ECGTE_TaxeEnv_PctPIB                     477\n",
      "ECGTEN_TaxeEnergie_CarbIncl_DeviseNat    339\n",
      "ECGTEN_TaxeEnergie_CarbIncl_PctPIB       345\n",
      "ECGTEP_TaxePollution_DeviseNat           134\n",
      "ECGTEP_TaxePollution_PctPIB              140\n",
      "ECGTER_TaxeRess_DeviseNat                146\n",
      "ECGTER_TaxeRess_PctPIB                   152\n",
      "ECGTET_TaxeTransp_CarbExcl_DeviseNat     350\n",
      "ECGTET_TaxeTransp_CarbExcl_PctPIB        367\n",
      "dtype: int64\n",
      "Nombre de NaN dans le dataset : 2910\n"
     ]
    }
   ],
   "source": [
    "# Compter le nombre de valeurs \"NaN\" dans les colonnes\n",
    "nb_nan_colTax_taxE = taxE.isna().sum()\n",
    "\n",
    "print(\"Nombre de NaN dans les colonnes :\", nb_nan_colTax_taxE)\n",
    "\n",
    "# Compter le nombre de valeurs \"NaN\" dans le dataset\n",
    "nb_nan_dataset_taxE = taxE.isna().sum().sum()\n",
    "\n",
    "print(\"Nombre de NaN dans le dataset :\", nb_nan_dataset_taxE)"
   ],
   "metadata": {
    "collapsed": false,
    "ExecuteTime": {
     "end_time": "2024-03-01T14:48:45.802277600Z",
     "start_time": "2024-03-01T14:48:45.338448100Z"
    }
   },
   "id": "efaa8c744c23cef4",
   "execution_count": 169
  },
  {
   "cell_type": "code",
   "outputs": [
    {
     "name": "stdout",
     "output_type": "stream",
     "text": [
      "Lignes contenant des valeurs NaN :\n",
      "                          Pays ISO3 Année  ECGTE_TaxeEnv_DeviseNat  \\\n",
      "5     Andorra, Principality of  AND  2015             4.600367e+12   \n",
      "6     Andorra, Principality of  AND  2016             4.616889e+12   \n",
      "7     Andorra, Principality of  AND  2017             5.043869e+12   \n",
      "8     Andorra, Principality of  AND  2018             5.283535e+12   \n",
      "9     Andorra, Principality of  AND  2019             5.675649e+12   \n",
      "...                        ...  ...   ...                      ...   \n",
      "2721                   Vietnam  VNM  1999                      NaN   \n",
      "2722                   Vietnam  VNM  2000                      NaN   \n",
      "2723                   Vietnam  VNM  2001                      NaN   \n",
      "2724                   Vietnam  VNM  2002                      NaN   \n",
      "2743                   Vietnam  VNM  2021                      NaN   \n",
      "\n",
      "      ECGTE_TaxeEnv_PctPIB  ECGTEN_TaxeEnergie_CarbIncl_DeviseNat  \\\n",
      "5                      NaN                                    0.0   \n",
      "6                      NaN                                    0.0   \n",
      "7                      NaN                                    0.0   \n",
      "8                      NaN                                    0.0   \n",
      "9                      NaN                                    0.0   \n",
      "...                    ...                                    ...   \n",
      "2721                   NaN                                    NaN   \n",
      "2722                   NaN                                    NaN   \n",
      "2723                   NaN                                    NaN   \n",
      "2724                   NaN                                    NaN   \n",
      "2743                   NaN                                    NaN   \n",
      "\n",
      "      ECGTEN_TaxeEnergie_CarbIncl_PctPIB  ECGTEP_TaxePollution_DeviseNat  \\\n",
      "5                                    NaN                             0.0   \n",
      "6                                    NaN                             0.0   \n",
      "7                                    NaN                             0.0   \n",
      "8                                    NaN                             0.0   \n",
      "9                                    NaN                             0.0   \n",
      "...                                  ...                             ...   \n",
      "2721                                 NaN                             0.0   \n",
      "2722                                 NaN                             0.0   \n",
      "2723                                 NaN                             0.0   \n",
      "2724                                 NaN                             0.0   \n",
      "2743                                 NaN                             0.0   \n",
      "\n",
      "      ECGTEP_TaxePollution_PctPIB  ECGTER_TaxeRess_DeviseNat  \\\n",
      "5                             NaN                        0.0   \n",
      "6                             NaN                        0.0   \n",
      "7                             NaN                        0.0   \n",
      "8                             NaN                        0.0   \n",
      "9                             NaN                        0.0   \n",
      "...                           ...                        ...   \n",
      "2721                          0.0                        0.0   \n",
      "2722                          0.0                        0.0   \n",
      "2723                          0.0                        0.0   \n",
      "2724                          0.0                        0.0   \n",
      "2743                          0.0                        0.0   \n",
      "\n",
      "      ECGTER_TaxeRess_PctPIB  ECGTET_TaxeTransp_CarbExcl_DeviseNat  \\\n",
      "5                        NaN                          4.600367e+12   \n",
      "6                        NaN                          4.616889e+12   \n",
      "7                        NaN                          5.043869e+12   \n",
      "8                        NaN                          5.283535e+12   \n",
      "9                        NaN                          5.675649e+12   \n",
      "...                      ...                                   ...   \n",
      "2721                     0.0                          0.000000e+00   \n",
      "2722                     0.0                          0.000000e+00   \n",
      "2723                     0.0                          0.000000e+00   \n",
      "2724                     0.0                          0.000000e+00   \n",
      "2743                     0.0                          0.000000e+00   \n",
      "\n",
      "      ECGTET_TaxeTransp_CarbExcl_PctPIB  \n",
      "5                                   NaN  \n",
      "6                                   NaN  \n",
      "7                                   NaN  \n",
      "8                                   NaN  \n",
      "9                                   NaN  \n",
      "...                                 ...  \n",
      "2721                                0.0  \n",
      "2722                                0.0  \n",
      "2723                                0.0  \n",
      "2724                                0.0  \n",
      "2743                                0.0  \n",
      "\n",
      "[635 rows x 13 columns]\n"
     ]
    }
   ],
   "source": [
    "# Filtrer les lignes avec des valeurs nan puis les afficher\n",
    "nan_rows_taxE = taxE[taxE.isna().any(axis=1)]\n",
    "\n",
    "print(\"Lignes contenant des valeurs NaN :\")\n",
    "print(nan_rows_taxE)"
   ],
   "metadata": {
    "collapsed": false,
    "ExecuteTime": {
     "end_time": "2024-03-01T14:48:46.014542500Z",
     "start_time": "2024-03-01T14:48:45.664340500Z"
    }
   },
   "id": "f072cd40cfcf11b7",
   "execution_count": 170
  },
  {
   "cell_type": "code",
   "outputs": [
    {
     "data": {
      "text/plain": "Pays                                      object\nISO3                                      object\nAnnée                                     object\nECGTE_TaxeEnv_DeviseNat                  float64\nECGTE_TaxeEnv_PctPIB                     float64\nECGTEN_TaxeEnergie_CarbIncl_DeviseNat    float64\nECGTEN_TaxeEnergie_CarbIncl_PctPIB       float64\nECGTEP_TaxePollution_DeviseNat           float64\nECGTEP_TaxePollution_PctPIB              float64\nECGTER_TaxeRess_DeviseNat                float64\nECGTER_TaxeRess_PctPIB                   float64\nECGTET_TaxeTransp_CarbExcl_DeviseNat     float64\nECGTET_TaxeTransp_CarbExcl_PctPIB        float64\ndtype: object"
     },
     "execution_count": 171,
     "metadata": {},
     "output_type": "execute_result"
    }
   ],
   "source": [
    "taxE.dtypes"
   ],
   "metadata": {
    "collapsed": false,
    "ExecuteTime": {
     "end_time": "2024-03-01T14:48:46.812349200Z",
     "start_time": "2024-03-01T14:48:46.005005Z"
    }
   },
   "id": "57211c18b57425aa",
   "execution_count": 171
  },
  {
   "cell_type": "code",
   "outputs": [
    {
     "data": {
      "text/plain": "(2750, 13)"
     },
     "execution_count": 172,
     "metadata": {},
     "output_type": "execute_result"
    }
   ],
   "source": [
    "taxE.shape"
   ],
   "metadata": {
    "collapsed": false,
    "ExecuteTime": {
     "end_time": "2024-03-01T14:48:46.881627600Z",
     "start_time": "2024-03-01T14:48:46.719561300Z"
    }
   },
   "id": "c85743b2736dac64",
   "execution_count": 172
  },
  {
   "cell_type": "code",
   "outputs": [
    {
     "name": "stdout",
     "output_type": "stream",
     "text": [
      "Valeurs nulles dans le DataFrame :\n",
      "       Pays   ISO3  Année  ECGTE_TaxeEnv_DeviseNat  ECGTE_TaxeEnv_PctPIB  \\\n",
      "0     False  False  False                    False                 False   \n",
      "1     False  False  False                    False                 False   \n",
      "2     False  False  False                    False                 False   \n",
      "3     False  False  False                    False                 False   \n",
      "4     False  False  False                    False                 False   \n",
      "...     ...    ...    ...                      ...                   ...   \n",
      "2745  False  False  False                    False                 False   \n",
      "2746  False  False  False                    False                 False   \n",
      "2747  False  False  False                    False                 False   \n",
      "2748  False  False  False                    False                 False   \n",
      "2749  False  False  False                    False                 False   \n",
      "\n",
      "      ECGTEN_TaxeEnergie_CarbIncl_DeviseNat  \\\n",
      "0                                     False   \n",
      "1                                     False   \n",
      "2                                     False   \n",
      "3                                     False   \n",
      "4                                     False   \n",
      "...                                     ...   \n",
      "2745                                  False   \n",
      "2746                                  False   \n",
      "2747                                  False   \n",
      "2748                                  False   \n",
      "2749                                  False   \n",
      "\n",
      "      ECGTEN_TaxeEnergie_CarbIncl_PctPIB  ECGTEP_TaxePollution_DeviseNat  \\\n",
      "0                                  False                           False   \n",
      "1                                  False                           False   \n",
      "2                                  False                           False   \n",
      "3                                  False                           False   \n",
      "4                                  False                           False   \n",
      "...                                  ...                             ...   \n",
      "2745                               False                           False   \n",
      "2746                               False                           False   \n",
      "2747                               False                           False   \n",
      "2748                               False                           False   \n",
      "2749                               False                           False   \n",
      "\n",
      "      ECGTEP_TaxePollution_PctPIB  ECGTER_TaxeRess_DeviseNat  \\\n",
      "0                           False                      False   \n",
      "1                           False                      False   \n",
      "2                           False                      False   \n",
      "3                           False                      False   \n",
      "4                           False                      False   \n",
      "...                           ...                        ...   \n",
      "2745                        False                      False   \n",
      "2746                        False                      False   \n",
      "2747                        False                      False   \n",
      "2748                        False                      False   \n",
      "2749                        False                      False   \n",
      "\n",
      "      ECGTER_TaxeRess_PctPIB  ECGTET_TaxeTransp_CarbExcl_DeviseNat  \\\n",
      "0                      False                                 False   \n",
      "1                      False                                 False   \n",
      "2                      False                                 False   \n",
      "3                      False                                 False   \n",
      "4                      False                                 False   \n",
      "...                      ...                                   ...   \n",
      "2745                   False                                 False   \n",
      "2746                   False                                 False   \n",
      "2747                   False                                 False   \n",
      "2748                   False                                 False   \n",
      "2749                   False                                 False   \n",
      "\n",
      "      ECGTET_TaxeTransp_CarbExcl_PctPIB  \n",
      "0                                 False  \n",
      "1                                 False  \n",
      "2                                 False  \n",
      "3                                 False  \n",
      "4                                 False  \n",
      "...                                 ...  \n",
      "2745                              False  \n",
      "2746                              False  \n",
      "2747                              False  \n",
      "2748                              False  \n",
      "2749                              False  \n",
      "\n",
      "[2750 rows x 13 columns]\n",
      "\n",
      "Le DataFrame est vide : False\n"
     ]
    }
   ],
   "source": [
    "# Vérifier les valeurs nulles dans le DataFrame\n",
    "null_values = taxE.isnull()\n",
    "\n",
    "# Vérifier si le DataFrame est vide\n",
    "is_empty = taxE.empty\n",
    "\n",
    "# Afficher les valeurs nulles\n",
    "print(\"Valeurs nulles dans le DataFrame :\")\n",
    "print(null_values)\n",
    "\n",
    "# Afficher si le DataFrame est vide\n",
    "print(\"\\nLe DataFrame est vide :\", is_empty)\n"
   ],
   "metadata": {
    "collapsed": false,
    "ExecuteTime": {
     "end_time": "2024-03-01T14:48:47.138797200Z",
     "start_time": "2024-03-01T14:48:46.835951600Z"
    }
   },
   "id": "5e70da78b1d026f4",
   "execution_count": 173
  },
  {
   "cell_type": "code",
   "outputs": [
    {
     "data": {
      "text/plain": "                       Pays ISO3 Année  ECGTE_TaxeEnv_DeviseNat  \\\n0                   Albania  ALB  2015             4.399314e+10   \n1                   Albania  ALB  2016             4.781379e+10   \n2                   Albania  ALB  2017             4.754858e+10   \n3                   Albania  ALB  2018             5.114559e+10   \n4                   Albania  ALB  2019             5.341565e+10   \n5  Andorra, Principality of  AND  2015             4.600367e+12   \n6  Andorra, Principality of  AND  2016             4.616889e+12   \n7  Andorra, Principality of  AND  2017             5.043869e+12   \n8  Andorra, Principality of  AND  2018             5.283535e+12   \n9  Andorra, Principality of  AND  2019             5.675649e+12   \n\n   ECGTE_TaxeEnv_PctPIB  ECGTEN_TaxeEnergie_CarbIncl_DeviseNat  \\\n0              3.067206                           3.774111e+10   \n1              3.247163                           4.094562e+10   \n2              3.066373                           4.040004e+10   \n3              3.124865                           4.352182e+10   \n4              3.157133                           4.516530e+10   \n5                   NaN                           0.000000e+00   \n6                   NaN                           0.000000e+00   \n7                   NaN                           0.000000e+00   \n8                   NaN                           0.000000e+00   \n9                   NaN                           0.000000e+00   \n\n   ECGTEN_TaxeEnergie_CarbIncl_PctPIB  ECGTEP_TaxePollution_DeviseNat  \\\n0                            2.631314                    1.782069e+09   \n1                            2.780726                    1.879970e+09   \n2                            2.605369                    1.941324e+09   \n3                            2.659072                    2.226251e+09   \n4                            2.669496                    2.625011e+09   \n5                                 NaN                    0.000000e+00   \n6                                 NaN                    0.000000e+00   \n7                                 NaN                    0.000000e+00   \n8                                 NaN                    0.000000e+00   \n9                                 NaN                    0.000000e+00   \n\n   ECGTEP_TaxePollution_PctPIB  ECGTER_TaxeRess_DeviseNat  \\\n0                     0.124246                32546493.00   \n1                     0.127674                52524339.00   \n2                     0.125195                61861356.38   \n3                     0.136018                56011991.00   \n4                     0.155151                58777099.50   \n5                          NaN                       0.00   \n6                          NaN                       0.00   \n7                          NaN                       0.00   \n8                          NaN                       0.00   \n9                          NaN                       0.00   \n\n   ECGTER_TaxeRess_PctPIB  ECGTET_TaxeTransp_CarbExcl_DeviseNat  \\\n0                0.002269                          4.437413e+09   \n1                0.003567                          4.935684e+09   \n2                0.003989                          5.145347e+09   \n3                0.003422                          5.341506e+09   \n4                0.003474                          5.566564e+09   \n5                     NaN                          4.600367e+12   \n6                     NaN                          4.616889e+12   \n7                     NaN                          5.043869e+12   \n8                     NaN                          5.283535e+12   \n9                     NaN                          5.675649e+12   \n\n   ECGTET_TaxeTransp_CarbExcl_PctPIB  \n0                           0.309377  \n1                           0.335195  \n2                           0.331820  \n3                           0.326352  \n4                           0.329012  \n5                                NaN  \n6                                NaN  \n7                                NaN  \n8                                NaN  \n9                                NaN  ",
      "text/html": "<div>\n<style scoped>\n    .dataframe tbody tr th:only-of-type {\n        vertical-align: middle;\n    }\n\n    .dataframe tbody tr th {\n        vertical-align: top;\n    }\n\n    .dataframe thead th {\n        text-align: right;\n    }\n</style>\n<table border=\"1\" class=\"dataframe\">\n  <thead>\n    <tr style=\"text-align: right;\">\n      <th></th>\n      <th>Pays</th>\n      <th>ISO3</th>\n      <th>Année</th>\n      <th>ECGTE_TaxeEnv_DeviseNat</th>\n      <th>ECGTE_TaxeEnv_PctPIB</th>\n      <th>ECGTEN_TaxeEnergie_CarbIncl_DeviseNat</th>\n      <th>ECGTEN_TaxeEnergie_CarbIncl_PctPIB</th>\n      <th>ECGTEP_TaxePollution_DeviseNat</th>\n      <th>ECGTEP_TaxePollution_PctPIB</th>\n      <th>ECGTER_TaxeRess_DeviseNat</th>\n      <th>ECGTER_TaxeRess_PctPIB</th>\n      <th>ECGTET_TaxeTransp_CarbExcl_DeviseNat</th>\n      <th>ECGTET_TaxeTransp_CarbExcl_PctPIB</th>\n    </tr>\n  </thead>\n  <tbody>\n    <tr>\n      <th>0</th>\n      <td>Albania</td>\n      <td>ALB</td>\n      <td>2015</td>\n      <td>4.399314e+10</td>\n      <td>3.067206</td>\n      <td>3.774111e+10</td>\n      <td>2.631314</td>\n      <td>1.782069e+09</td>\n      <td>0.124246</td>\n      <td>32546493.00</td>\n      <td>0.002269</td>\n      <td>4.437413e+09</td>\n      <td>0.309377</td>\n    </tr>\n    <tr>\n      <th>1</th>\n      <td>Albania</td>\n      <td>ALB</td>\n      <td>2016</td>\n      <td>4.781379e+10</td>\n      <td>3.247163</td>\n      <td>4.094562e+10</td>\n      <td>2.780726</td>\n      <td>1.879970e+09</td>\n      <td>0.127674</td>\n      <td>52524339.00</td>\n      <td>0.003567</td>\n      <td>4.935684e+09</td>\n      <td>0.335195</td>\n    </tr>\n    <tr>\n      <th>2</th>\n      <td>Albania</td>\n      <td>ALB</td>\n      <td>2017</td>\n      <td>4.754858e+10</td>\n      <td>3.066373</td>\n      <td>4.040004e+10</td>\n      <td>2.605369</td>\n      <td>1.941324e+09</td>\n      <td>0.125195</td>\n      <td>61861356.38</td>\n      <td>0.003989</td>\n      <td>5.145347e+09</td>\n      <td>0.331820</td>\n    </tr>\n    <tr>\n      <th>3</th>\n      <td>Albania</td>\n      <td>ALB</td>\n      <td>2018</td>\n      <td>5.114559e+10</td>\n      <td>3.124865</td>\n      <td>4.352182e+10</td>\n      <td>2.659072</td>\n      <td>2.226251e+09</td>\n      <td>0.136018</td>\n      <td>56011991.00</td>\n      <td>0.003422</td>\n      <td>5.341506e+09</td>\n      <td>0.326352</td>\n    </tr>\n    <tr>\n      <th>4</th>\n      <td>Albania</td>\n      <td>ALB</td>\n      <td>2019</td>\n      <td>5.341565e+10</td>\n      <td>3.157133</td>\n      <td>4.516530e+10</td>\n      <td>2.669496</td>\n      <td>2.625011e+09</td>\n      <td>0.155151</td>\n      <td>58777099.50</td>\n      <td>0.003474</td>\n      <td>5.566564e+09</td>\n      <td>0.329012</td>\n    </tr>\n    <tr>\n      <th>5</th>\n      <td>Andorra, Principality of</td>\n      <td>AND</td>\n      <td>2015</td>\n      <td>4.600367e+12</td>\n      <td>NaN</td>\n      <td>0.000000e+00</td>\n      <td>NaN</td>\n      <td>0.000000e+00</td>\n      <td>NaN</td>\n      <td>0.00</td>\n      <td>NaN</td>\n      <td>4.600367e+12</td>\n      <td>NaN</td>\n    </tr>\n    <tr>\n      <th>6</th>\n      <td>Andorra, Principality of</td>\n      <td>AND</td>\n      <td>2016</td>\n      <td>4.616889e+12</td>\n      <td>NaN</td>\n      <td>0.000000e+00</td>\n      <td>NaN</td>\n      <td>0.000000e+00</td>\n      <td>NaN</td>\n      <td>0.00</td>\n      <td>NaN</td>\n      <td>4.616889e+12</td>\n      <td>NaN</td>\n    </tr>\n    <tr>\n      <th>7</th>\n      <td>Andorra, Principality of</td>\n      <td>AND</td>\n      <td>2017</td>\n      <td>5.043869e+12</td>\n      <td>NaN</td>\n      <td>0.000000e+00</td>\n      <td>NaN</td>\n      <td>0.000000e+00</td>\n      <td>NaN</td>\n      <td>0.00</td>\n      <td>NaN</td>\n      <td>5.043869e+12</td>\n      <td>NaN</td>\n    </tr>\n    <tr>\n      <th>8</th>\n      <td>Andorra, Principality of</td>\n      <td>AND</td>\n      <td>2018</td>\n      <td>5.283535e+12</td>\n      <td>NaN</td>\n      <td>0.000000e+00</td>\n      <td>NaN</td>\n      <td>0.000000e+00</td>\n      <td>NaN</td>\n      <td>0.00</td>\n      <td>NaN</td>\n      <td>5.283535e+12</td>\n      <td>NaN</td>\n    </tr>\n    <tr>\n      <th>9</th>\n      <td>Andorra, Principality of</td>\n      <td>AND</td>\n      <td>2019</td>\n      <td>5.675649e+12</td>\n      <td>NaN</td>\n      <td>0.000000e+00</td>\n      <td>NaN</td>\n      <td>0.000000e+00</td>\n      <td>NaN</td>\n      <td>0.00</td>\n      <td>NaN</td>\n      <td>5.675649e+12</td>\n      <td>NaN</td>\n    </tr>\n  </tbody>\n</table>\n</div>"
     },
     "execution_count": 174,
     "metadata": {},
     "output_type": "execute_result"
    }
   ],
   "source": [
    "# Sélectionner les lignes avec NaN ou 0 dans les 5 colonnes spécifiées\n",
    "lignes_nan_zero = taxE.loc[(taxE['ECGTE_TaxeEnv_DeviseNat'].isna() | (taxE['ECGTE_TaxeEnv_DeviseNat'] == 0)) &\n",
    "(taxE['ECGTE_TaxeEnv_PctPIB'].isna() | (taxE['ECGTE_TaxeEnv_PctPIB'] == 0)) &\n",
    "                               (taxE['ECGTEN_TaxeEnergie_CarbIncl_DeviseNat'].isna() | (taxE['ECGTEN_TaxeEnergie_CarbIncl_DeviseNat'] == 0)) &\n",
    "                               (taxE['ECGTEN_TaxeEnergie_CarbIncl_PctPIB'].isna() | (taxE['ECGTEN_TaxeEnergie_CarbIncl_PctPIB'] == 0)) &\n",
    "\n",
    "                               (taxE['ECGTEP_TaxePollution_DeviseNat'].isna() | (taxE['ECGTEP_TaxePollution_DeviseNat'] == 0)) &\n",
    "                               (taxE['ECGTEP_TaxePollution_PctPIB'].isna() | (taxE['ECGTEP_TaxePollution_PctPIB'] == 0)) &\n",
    "\n",
    "                               (taxE['ECGTER_TaxeRess_DeviseNat'].isna() | (taxE['ECGTER_TaxeRess_DeviseNat'] == 0)) &\n",
    "                               (taxE['ECGTER_TaxeRess_PctPIB'].isna() | (taxE['ECGTER_TaxeRess_PctPIB'] == 0)) &\n",
    "\n",
    "                               (taxE['ECGTET_TaxeTransp_CarbExcl_DeviseNat'].isna() | (taxE['ECGTET_TaxeTransp_CarbExcl_DeviseNat'] == 0)) & \n",
    "(taxE['ECGTET_TaxeTransp_CarbExcl_PctPIB'].isna() | (taxE['ECGTET_TaxeTransp_CarbExcl_PctPIB'] == 0))]\n",
    "\n",
    "# Afficher les lignes sélectionnées\n",
    "taxE.head(10)"
   ],
   "metadata": {
    "collapsed": false,
    "ExecuteTime": {
     "end_time": "2024-03-01T14:48:47.451219100Z",
     "start_time": "2024-03-01T14:48:47.149665Z"
    }
   },
   "id": "eceaa4fe48dcfa1",
   "execution_count": 174
  },
  {
   "cell_type": "code",
   "outputs": [
    {
     "data": {
      "text/plain": "      Pays ISO3 Année  ECGTE_TaxeEnv_DeviseNat  ECGTE_TaxeEnv_PctPIB  \\\n0  Albania  ALB  2015             4.399314e+10              3.067206   \n1  Albania  ALB  2016             4.781379e+10              3.247163   \n2  Albania  ALB  2017             4.754858e+10              3.066373   \n3  Albania  ALB  2018             5.114559e+10              3.124865   \n4  Albania  ALB  2019             5.341565e+10              3.157133   \n\n   ECGTEN_TaxeEnergie_CarbIncl_DeviseNat  ECGTEN_TaxeEnergie_CarbIncl_PctPIB  \\\n0                           3.774111e+10                            2.631314   \n1                           4.094562e+10                            2.780726   \n2                           4.040004e+10                            2.605369   \n3                           4.352182e+10                            2.659072   \n4                           4.516530e+10                            2.669496   \n\n   ECGTEP_TaxePollution_DeviseNat  ECGTEP_TaxePollution_PctPIB  \\\n0                    1.782069e+09                     0.124246   \n1                    1.879970e+09                     0.127674   \n2                    1.941324e+09                     0.125195   \n3                    2.226251e+09                     0.136018   \n4                    2.625011e+09                     0.155151   \n\n   ECGTER_TaxeRess_DeviseNat  ECGTER_TaxeRess_PctPIB  \\\n0                32546493.00                0.002269   \n1                52524339.00                0.003567   \n2                61861356.38                0.003989   \n3                56011991.00                0.003422   \n4                58777099.50                0.003474   \n\n   ECGTET_TaxeTransp_CarbExcl_DeviseNat  ECGTET_TaxeTransp_CarbExcl_PctPIB  \n0                          4.437413e+09                           0.309377  \n1                          4.935684e+09                           0.335195  \n2                          5.145347e+09                           0.331820  \n3                          5.341506e+09                           0.326352  \n4                          5.566564e+09                           0.329012  ",
      "text/html": "<div>\n<style scoped>\n    .dataframe tbody tr th:only-of-type {\n        vertical-align: middle;\n    }\n\n    .dataframe tbody tr th {\n        vertical-align: top;\n    }\n\n    .dataframe thead th {\n        text-align: right;\n    }\n</style>\n<table border=\"1\" class=\"dataframe\">\n  <thead>\n    <tr style=\"text-align: right;\">\n      <th></th>\n      <th>Pays</th>\n      <th>ISO3</th>\n      <th>Année</th>\n      <th>ECGTE_TaxeEnv_DeviseNat</th>\n      <th>ECGTE_TaxeEnv_PctPIB</th>\n      <th>ECGTEN_TaxeEnergie_CarbIncl_DeviseNat</th>\n      <th>ECGTEN_TaxeEnergie_CarbIncl_PctPIB</th>\n      <th>ECGTEP_TaxePollution_DeviseNat</th>\n      <th>ECGTEP_TaxePollution_PctPIB</th>\n      <th>ECGTER_TaxeRess_DeviseNat</th>\n      <th>ECGTER_TaxeRess_PctPIB</th>\n      <th>ECGTET_TaxeTransp_CarbExcl_DeviseNat</th>\n      <th>ECGTET_TaxeTransp_CarbExcl_PctPIB</th>\n    </tr>\n  </thead>\n  <tbody>\n    <tr>\n      <th>0</th>\n      <td>Albania</td>\n      <td>ALB</td>\n      <td>2015</td>\n      <td>4.399314e+10</td>\n      <td>3.067206</td>\n      <td>3.774111e+10</td>\n      <td>2.631314</td>\n      <td>1.782069e+09</td>\n      <td>0.124246</td>\n      <td>32546493.00</td>\n      <td>0.002269</td>\n      <td>4.437413e+09</td>\n      <td>0.309377</td>\n    </tr>\n    <tr>\n      <th>1</th>\n      <td>Albania</td>\n      <td>ALB</td>\n      <td>2016</td>\n      <td>4.781379e+10</td>\n      <td>3.247163</td>\n      <td>4.094562e+10</td>\n      <td>2.780726</td>\n      <td>1.879970e+09</td>\n      <td>0.127674</td>\n      <td>52524339.00</td>\n      <td>0.003567</td>\n      <td>4.935684e+09</td>\n      <td>0.335195</td>\n    </tr>\n    <tr>\n      <th>2</th>\n      <td>Albania</td>\n      <td>ALB</td>\n      <td>2017</td>\n      <td>4.754858e+10</td>\n      <td>3.066373</td>\n      <td>4.040004e+10</td>\n      <td>2.605369</td>\n      <td>1.941324e+09</td>\n      <td>0.125195</td>\n      <td>61861356.38</td>\n      <td>0.003989</td>\n      <td>5.145347e+09</td>\n      <td>0.331820</td>\n    </tr>\n    <tr>\n      <th>3</th>\n      <td>Albania</td>\n      <td>ALB</td>\n      <td>2018</td>\n      <td>5.114559e+10</td>\n      <td>3.124865</td>\n      <td>4.352182e+10</td>\n      <td>2.659072</td>\n      <td>2.226251e+09</td>\n      <td>0.136018</td>\n      <td>56011991.00</td>\n      <td>0.003422</td>\n      <td>5.341506e+09</td>\n      <td>0.326352</td>\n    </tr>\n    <tr>\n      <th>4</th>\n      <td>Albania</td>\n      <td>ALB</td>\n      <td>2019</td>\n      <td>5.341565e+10</td>\n      <td>3.157133</td>\n      <td>4.516530e+10</td>\n      <td>2.669496</td>\n      <td>2.625011e+09</td>\n      <td>0.155151</td>\n      <td>58777099.50</td>\n      <td>0.003474</td>\n      <td>5.566564e+09</td>\n      <td>0.329012</td>\n    </tr>\n  </tbody>\n</table>\n</div>"
     },
     "execution_count": 175,
     "metadata": {},
     "output_type": "execute_result"
    }
   ],
   "source": [
    "# Supprimer les lignes avec NaN ou 0 dans les 5 colonnes spécifiées\n",
    "taxE = taxE.drop(taxE[(taxE['ECGTE_TaxeEnv_DeviseNat'].isna() | (taxE['ECGTE_TaxeEnv_DeviseNat'] == 0)) &\n",
    "                (taxE['ECGTE_TaxeEnv_PctPIB'].isna() | (taxE['ECGTE_TaxeEnv_PctPIB'] == 0)) &\n",
    "                               (taxE['ECGTEN_TaxeEnergie_CarbIncl_DeviseNat'].isna() | (taxE['ECGTEN_TaxeEnergie_CarbIncl_DeviseNat'] == 0)) &\n",
    "                               (taxE['ECGTEN_TaxeEnergie_CarbIncl_PctPIB'].isna() | (taxE['ECGTEN_TaxeEnergie_CarbIncl_PctPIB'] == 0)) &\n",
    "\n",
    "                               (taxE['ECGTEP_TaxePollution_DeviseNat'].isna() | (taxE['ECGTEP_TaxePollution_DeviseNat'] == 0)) &\n",
    "                               (taxE['ECGTEP_TaxePollution_PctPIB'].isna() | (taxE['ECGTEP_TaxePollution_PctPIB'] == 0)) &\n",
    "\n",
    "                               (taxE['ECGTER_TaxeRess_DeviseNat'].isna() | (taxE['ECGTER_TaxeRess_DeviseNat'] == 0)) &\n",
    "                               (taxE['ECGTER_TaxeRess_PctPIB'].isna() | (taxE['ECGTER_TaxeRess_PctPIB'] == 0)) &\n",
    "\n",
    "                               (taxE['ECGTET_TaxeTransp_CarbExcl_DeviseNat'].isna() | (taxE['ECGTET_TaxeTransp_CarbExcl_DeviseNat'] == 0)) & \n",
    "(taxE['ECGTET_TaxeTransp_CarbExcl_PctPIB'].isna() | (taxE['ECGTET_TaxeTransp_CarbExcl_PctPIB'] == 0))].index)\n",
    "\n",
    "# Réinitialiser les index après la suppression des lignes\n",
    "taxE = taxE.reset_index(drop=True)\n",
    "\n",
    "# Afficher le dataframe après suppression\n",
    "taxE.head(5)"
   ],
   "metadata": {
    "collapsed": false,
    "ExecuteTime": {
     "end_time": "2024-03-01T14:48:47.578847400Z",
     "start_time": "2024-03-01T14:48:47.293221700Z"
    }
   },
   "id": "90a3370ba71cc130",
   "execution_count": 175
  },
  {
   "cell_type": "code",
   "outputs": [],
   "source": [
    "taxE = taxE.fillna(0)"
   ],
   "metadata": {
    "collapsed": false,
    "ExecuteTime": {
     "end_time": "2024-03-01T14:48:47.802880700Z",
     "start_time": "2024-03-01T14:48:47.533960200Z"
    }
   },
   "id": "13c054cfb81c76b7",
   "execution_count": 176
  },
  {
   "cell_type": "code",
   "outputs": [],
   "source": [
    "taxE.to_csv('./output/Tax_Energy_clear.csv', index=False)"
   ],
   "metadata": {
    "collapsed": false,
    "ExecuteTime": {
     "end_time": "2024-03-01T14:48:48.135380400Z",
     "start_time": "2024-03-01T14:48:47.747974400Z"
    }
   },
   "id": "f16bf5453b05c128",
   "execution_count": 177
  },
  {
   "cell_type": "code",
   "outputs": [],
   "source": [
    "# Nouveau dataframe taxE1 à partir de taxE\n",
    "# taxE1 = taxE.copy()\n",
    "\n",
    "# Définir une fonction de formatage en fonction du type d'unité\n",
    "# def format_value(value, unit):\n",
    "#     if \"Domestic Currency\" in unit:\n",
    "#         return '{:,.2f}'.format(value).replace(',', ' ')\n",
    "#     elif \"Percent of GDP\" in unit:\n",
    "#         return '{:.4f}'.format(value)\n",
    "#     else:\n",
    "#         return value  # Garantir le retour de la valeur d'origine si l'unité n'est pas reconnue\n",
    "\n",
    "\n",
    "# Appliquer le formatage en fonction du type d'unité pour chaque colonne concernée\n",
    "# for column in taxE.columns:\n",
    "#     if \"Domestic Currency\" in column:\n",
    "#         taxE1[column] = taxE1[column].apply(lambda x: format_value(x, column))\n",
    "#     elif \"Percent of GDP\" in column:\n",
    "#         taxE1[column] = taxE1[column].apply(lambda x: format_value(x, column))\n",
    "\n",
    "# taxE1.head(5)"
   ],
   "metadata": {
    "collapsed": false,
    "ExecuteTime": {
     "end_time": "2024-03-01T14:48:48.539463800Z",
     "start_time": "2024-03-01T14:48:48.075496500Z"
    }
   },
   "id": "3d08e64b11a72480",
   "execution_count": 178
  },
  {
   "cell_type": "code",
   "outputs": [],
   "source": [
    "# Nouveau dataframe taxE2 à partir de taxE\n",
    "# taxE2 = taxE.copy()\n",
    "\n",
    "# Définir une fonction de formatage en fonction du type d'unité\n",
    "# def format_value(value, unit):\n",
    "#     if \"Domestic Currency\" in unit:\n",
    "#         return '{:,.2f}'.format(value).replace(',', ' ')\n",
    "#     elif \"Percent of GDP\" in unit:\n",
    "#         return '{:.4f}%'.format(value)\n",
    "#     else:\n",
    "#         return value  # Garantir le retour de la valeur d'origine si l'unité n'est pas reconnue\n",
    "\n",
    "# Appliquer le formatage en fonction du type d'unité pour chaque colonne concernée\n",
    "# for column in taxE.columns:\n",
    "#     if \"Domestic Currency\" in column:\n",
    "#         taxE2[column] = taxE2[column].apply(lambda x: format_value(x, column))\n",
    "#     elif \"Percent of GDP\" in column:\n",
    "#         taxE2[column] = taxE2[column].apply(lambda x: format_value(x, column))\n",
    "# \n",
    "# taxE2.head(5)"
   ],
   "metadata": {
    "collapsed": false,
    "ExecuteTime": {
     "end_time": "2024-03-01T14:48:48.822310300Z",
     "start_time": "2024-03-01T14:48:48.538444100Z"
    }
   },
   "id": "e1408fc6deb320b3",
   "execution_count": 179
  },
  {
   "cell_type": "code",
   "outputs": [],
   "source": [],
   "metadata": {
    "collapsed": false,
    "ExecuteTime": {
     "end_time": "2024-03-01T14:48:48.957576900Z",
     "start_time": "2024-03-01T14:48:48.704380200Z"
    }
   },
   "id": "3d79dd1ad27cad15",
   "execution_count": 179
  },
  {
   "cell_type": "code",
   "outputs": [],
   "source": [],
   "metadata": {
    "collapsed": false,
    "ExecuteTime": {
     "end_time": "2024-03-01T14:48:49.136740300Z",
     "start_time": "2024-03-01T14:48:48.896387100Z"
    }
   },
   "id": "c013fef5c9273185",
   "execution_count": 179
  },
  {
   "cell_type": "code",
   "outputs": [],
   "source": [],
   "metadata": {
    "collapsed": false,
    "ExecuteTime": {
     "end_time": "2024-03-01T14:48:49.291637Z",
     "start_time": "2024-03-01T14:48:49.109290500Z"
    }
   },
   "id": "c88c7a5df390d2e0",
   "execution_count": 179
  },
  {
   "cell_type": "code",
   "outputs": [],
   "source": [],
   "metadata": {
    "collapsed": false,
    "ExecuteTime": {
     "end_time": "2024-03-01T14:48:49.488154600Z",
     "start_time": "2024-03-01T14:48:49.245369600Z"
    }
   },
   "id": "acaf1984ca9d0492",
   "execution_count": 179
  },
  {
   "cell_type": "code",
   "outputs": [],
   "source": [
    "# Mettre les valeurs de la colonne \"Unit\" en colonnes distinctes\n",
    "#tax = tax.pivot_table(index=[\"Country\", \"ISO3\", \"CTS Name\", \"Année\"], columns=\"Unit\", values=\"Taxe\").reset_index()\n",
    "#tax.head(5)"
   ],
   "metadata": {
    "collapsed": false,
    "ExecuteTime": {
     "end_time": "2024-03-01T14:48:49.713252900Z",
     "start_time": "2024-03-01T14:48:49.441426500Z"
    }
   },
   "id": "8bf7ba68d907dd42",
   "execution_count": 180
  },
  {
   "cell_type": "code",
   "outputs": [],
   "source": [
    "# Mettre les valeurs de la colonne \"CTS Name\" en colonnes distinctes\n",
    "# tax = tax.pivot_table(index=[\"Country\", \"ISO3\", \"Année\", \"Unit\"], columns=\"CTS Name\", values=\"Taxe\").reset_index()"
   ],
   "metadata": {
    "collapsed": false,
    "ExecuteTime": {
     "end_time": "2024-03-01T14:48:49.782886700Z",
     "start_time": "2024-03-01T14:48:49.603889100Z"
    }
   },
   "id": "6cc0afd4237364d2",
   "execution_count": 181
  },
  {
   "cell_type": "code",
   "outputs": [],
   "source": [
    "# tax.to_csv('./output/tax.csv', index=False)"
   ],
   "metadata": {
    "collapsed": false,
    "ExecuteTime": {
     "end_time": "2024-03-01T14:48:50.031834600Z",
     "start_time": "2024-03-01T14:48:49.786888800Z"
    }
   },
   "id": "c7abba961cb060d2",
   "execution_count": 182
  },
  {
   "cell_type": "code",
   "outputs": [],
   "source": [
    "# tax.to_csv('./output/Tax_Energy_clear.csv', index=False)"
   ],
   "metadata": {
    "collapsed": false,
    "ExecuteTime": {
     "end_time": "2024-03-01T14:48:50.230806300Z",
     "start_time": "2024-03-01T14:48:49.943025600Z"
    }
   },
   "id": "3e8aa1060ee0176d",
   "execution_count": 183
  },
  {
   "cell_type": "code",
   "outputs": [],
   "source": [],
   "metadata": {
    "collapsed": false,
    "ExecuteTime": {
     "end_time": "2024-03-01T14:48:50.366530100Z",
     "start_time": "2024-03-01T14:48:50.166495600Z"
    }
   },
   "id": "966c0e71601d450c",
   "execution_count": 183
  }
 ],
 "metadata": {
  "kernelspec": {
   "display_name": "Python 3",
   "language": "python",
   "name": "python3"
  },
  "language_info": {
   "codemirror_mode": {
    "name": "ipython",
    "version": 2
   },
   "file_extension": ".py",
   "mimetype": "text/x-python",
   "name": "python",
   "nbconvert_exporter": "python",
   "pygments_lexer": "ipython2",
   "version": "2.7.6"
  }
 },
 "nbformat": 4,
 "nbformat_minor": 5
}
