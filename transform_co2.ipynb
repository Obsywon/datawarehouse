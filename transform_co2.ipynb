{
 "cells": [
  {
   "cell_type": "code",
   "outputs": [
    {
     "data": {
      "text/plain": "                  Country Name        1960        1961        1962  \\\n0                        Aruba  204.631696  208.837879  226.081890   \n1  Africa Eastern and Southern    0.906060    0.922474    0.930816   \n2                  Afghanistan    0.046057    0.053589    0.073721   \n3   Africa Western and Central    0.090880    0.095283    0.096612   \n4                       Angola    0.100835    0.082204    0.210533   \n\n         1963        1964        1965        1966        1967        1968  \\\n0  214.785217  207.626699  185.213644  172.158729  210.819017  194.917536   \n1    0.940570    0.996033    1.047280    1.033908    1.052204    1.079727   \n2    0.074161    0.086174    0.101285    0.107399    0.123409    0.115142   \n3    0.112376    0.133258    0.184803    0.193676    0.189305    0.143989   \n4    0.202739    0.213562    0.205891    0.268937    0.172096    0.289702   \n\n   ...      2009      2010      2011      2012      2013      2014      2015  \\\n0  ...       NaN       NaN       NaN       NaN       NaN       NaN       NaN   \n1  ...  1.021954  1.048876  1.005338  1.021646  1.031833  1.041145  0.987393   \n2  ...  0.211306  0.297065  0.407074  0.335351  0.263716  0.234037  0.232176   \n3  ...  0.426770  0.472819  0.497023  0.490867  0.504655  0.507671  0.480743   \n4  ...  1.205902  1.221515  1.216317  1.204799  1.261542  1.285365  1.260921   \n\n       2016      2017      2018  \n0       NaN       NaN       NaN  \n1  0.971016  0.959978  0.933541  \n2  0.208857  0.203328  0.200151  \n3  0.472959  0.476438  0.515544  \n4  1.227703  1.034317  0.887380  \n\n[5 rows x 60 columns]",
      "text/html": "<div>\n<style scoped>\n    .dataframe tbody tr th:only-of-type {\n        vertical-align: middle;\n    }\n\n    .dataframe tbody tr th {\n        vertical-align: top;\n    }\n\n    .dataframe thead th {\n        text-align: right;\n    }\n</style>\n<table border=\"1\" class=\"dataframe\">\n  <thead>\n    <tr style=\"text-align: right;\">\n      <th></th>\n      <th>Country Name</th>\n      <th>1960</th>\n      <th>1961</th>\n      <th>1962</th>\n      <th>1963</th>\n      <th>1964</th>\n      <th>1965</th>\n      <th>1966</th>\n      <th>1967</th>\n      <th>1968</th>\n      <th>...</th>\n      <th>2009</th>\n      <th>2010</th>\n      <th>2011</th>\n      <th>2012</th>\n      <th>2013</th>\n      <th>2014</th>\n      <th>2015</th>\n      <th>2016</th>\n      <th>2017</th>\n      <th>2018</th>\n    </tr>\n  </thead>\n  <tbody>\n    <tr>\n      <th>0</th>\n      <td>Aruba</td>\n      <td>204.631696</td>\n      <td>208.837879</td>\n      <td>226.081890</td>\n      <td>214.785217</td>\n      <td>207.626699</td>\n      <td>185.213644</td>\n      <td>172.158729</td>\n      <td>210.819017</td>\n      <td>194.917536</td>\n      <td>...</td>\n      <td>NaN</td>\n      <td>NaN</td>\n      <td>NaN</td>\n      <td>NaN</td>\n      <td>NaN</td>\n      <td>NaN</td>\n      <td>NaN</td>\n      <td>NaN</td>\n      <td>NaN</td>\n      <td>NaN</td>\n    </tr>\n    <tr>\n      <th>1</th>\n      <td>Africa Eastern and Southern</td>\n      <td>0.906060</td>\n      <td>0.922474</td>\n      <td>0.930816</td>\n      <td>0.940570</td>\n      <td>0.996033</td>\n      <td>1.047280</td>\n      <td>1.033908</td>\n      <td>1.052204</td>\n      <td>1.079727</td>\n      <td>...</td>\n      <td>1.021954</td>\n      <td>1.048876</td>\n      <td>1.005338</td>\n      <td>1.021646</td>\n      <td>1.031833</td>\n      <td>1.041145</td>\n      <td>0.987393</td>\n      <td>0.971016</td>\n      <td>0.959978</td>\n      <td>0.933541</td>\n    </tr>\n    <tr>\n      <th>2</th>\n      <td>Afghanistan</td>\n      <td>0.046057</td>\n      <td>0.053589</td>\n      <td>0.073721</td>\n      <td>0.074161</td>\n      <td>0.086174</td>\n      <td>0.101285</td>\n      <td>0.107399</td>\n      <td>0.123409</td>\n      <td>0.115142</td>\n      <td>...</td>\n      <td>0.211306</td>\n      <td>0.297065</td>\n      <td>0.407074</td>\n      <td>0.335351</td>\n      <td>0.263716</td>\n      <td>0.234037</td>\n      <td>0.232176</td>\n      <td>0.208857</td>\n      <td>0.203328</td>\n      <td>0.200151</td>\n    </tr>\n    <tr>\n      <th>3</th>\n      <td>Africa Western and Central</td>\n      <td>0.090880</td>\n      <td>0.095283</td>\n      <td>0.096612</td>\n      <td>0.112376</td>\n      <td>0.133258</td>\n      <td>0.184803</td>\n      <td>0.193676</td>\n      <td>0.189305</td>\n      <td>0.143989</td>\n      <td>...</td>\n      <td>0.426770</td>\n      <td>0.472819</td>\n      <td>0.497023</td>\n      <td>0.490867</td>\n      <td>0.504655</td>\n      <td>0.507671</td>\n      <td>0.480743</td>\n      <td>0.472959</td>\n      <td>0.476438</td>\n      <td>0.515544</td>\n    </tr>\n    <tr>\n      <th>4</th>\n      <td>Angola</td>\n      <td>0.100835</td>\n      <td>0.082204</td>\n      <td>0.210533</td>\n      <td>0.202739</td>\n      <td>0.213562</td>\n      <td>0.205891</td>\n      <td>0.268937</td>\n      <td>0.172096</td>\n      <td>0.289702</td>\n      <td>...</td>\n      <td>1.205902</td>\n      <td>1.221515</td>\n      <td>1.216317</td>\n      <td>1.204799</td>\n      <td>1.261542</td>\n      <td>1.285365</td>\n      <td>1.260921</td>\n      <td>1.227703</td>\n      <td>1.034317</td>\n      <td>0.887380</td>\n    </tr>\n  </tbody>\n</table>\n<p>5 rows × 60 columns</p>\n</div>"
     },
     "execution_count": 116,
     "metadata": {},
     "output_type": "execute_result"
    }
   ],
   "source": [
    "import pandas as pd\n",
    "from matplotlib import pyplot as plt\n",
    "\n",
    "data = pd.DataFrame(columns = ['country', 'year', 'pollution_co2_t_per_capita'])\n",
    "df = pd.read_csv('./assets/CO2_Emissions_1960-2018.csv')\n",
    "\n",
    "# Pays gardés\n",
    "kept_countries = ['France', 'Italy', 'Spain', 'Germany', 'Portugal', 'United Kingdom']\n",
    "limit_to_kept_countries = False\n",
    "\n",
    "df.head(5)"
   ],
   "metadata": {
    "collapsed": false,
    "ExecuteTime": {
     "end_time": "2024-03-21T00:04:39.525557Z",
     "start_time": "2024-03-21T00:04:39.509212Z"
    }
   },
   "id": "7c4ea059d9bacda4",
   "execution_count": 116
  },
  {
   "cell_type": "code",
   "outputs": [
    {
     "name": "stdout",
     "output_type": "stream",
     "text": [
      "['Aruba', 'Africa Eastern and Southern', 'Afghanistan', 'Africa Western and Central', 'Angola', 'Albania', 'Andorra', 'Arab World', 'United Arab Emirates', 'Argentina', 'Armenia', 'American Samoa', 'Antigua and Barbuda', 'Australia', 'Austria', 'Azerbaijan', 'Burundi', 'Belgium', 'Benin', 'Burkina Faso', 'Bangladesh', 'Bulgaria', 'Bahrain', 'Bahamas, The', 'Bosnia and Herzegovina', 'Belarus', 'Belize', 'Bermuda', 'Bolivia', 'Brazil', 'Barbados', 'Brunei Darussalam', 'Bhutan', 'Botswana', 'Central African Republic', 'Canada', 'Central Europe and the Baltics', 'Switzerland', 'Channel Islands', 'Chile', 'China', \"Cote d'Ivoire\", 'Cameroon', 'Congo, Dem. Rep.', 'Congo, Rep.', 'Colombia', 'Comoros', 'Cabo Verde', 'Costa Rica', 'Caribbean small states', 'Cuba', 'Curacao', 'Cayman Islands', 'Cyprus', 'Czech Republic', 'Germany', 'Djibouti', 'Dominica', 'Denmark', 'Dominican Republic', 'Algeria', 'East Asia & Pacific (excluding high income)', 'Early-demographic dividend', 'East Asia & Pacific', 'Europe & Central Asia (excluding high income)', 'Europe & Central Asia', 'Ecuador', 'Egypt, Arab Rep.', 'Euro area', 'Eritrea', 'Spain', 'Estonia', 'Ethiopia', 'European Union', 'Fragile and conflict affected situations', 'Finland', 'Fiji', 'France', 'Faroe Islands', 'Micronesia, Fed. Sts.', 'Gabon', 'United Kingdom', 'Georgia', 'Ghana', 'Gibraltar', 'Guinea', 'Gambia, The', 'Guinea-Bissau', 'Equatorial Guinea', 'Greece', 'Grenada', 'Greenland', 'Guatemala', 'Guam', 'Guyana', 'High income', 'Hong Kong SAR, China', 'Honduras', 'Heavily indebted poor countries (HIPC)', 'Croatia', 'Haiti', 'Hungary', 'IBRD only', 'IDA & IBRD total', 'IDA total', 'IDA blend', 'Indonesia', 'IDA only', 'Isle of Man', 'India', 'Not classified', 'Ireland', 'Iran, Islamic Rep.', 'Iraq', 'Iceland', 'Israel', 'Italy', 'Jamaica', 'Jordan', 'Japan', 'Kazakhstan', 'Kenya', 'Kyrgyz Republic', 'Cambodia', 'Kiribati', 'St. Kitts and Nevis', 'Korea, Rep.', 'Kuwait', 'Latin America & Caribbean (excluding high income)', 'Lao PDR', 'Lebanon', 'Liberia', 'Libya', 'St. Lucia', 'Latin America & Caribbean', 'Least developed countries: UN classification', 'Low income', 'Liechtenstein', 'Sri Lanka', 'Lower middle income', 'Low & middle income', 'Lesotho', 'Late-demographic dividend', 'Lithuania', 'Luxembourg', 'Latvia', 'Macao SAR, China', 'St. Martin (French part)', 'Morocco', 'Monaco', 'Moldova', 'Madagascar', 'Maldives', 'Middle East & North Africa', 'Mexico', 'Marshall Islands', 'Middle income', 'North Macedonia', 'Mali', 'Malta', 'Myanmar', 'Middle East & North Africa (excluding high income)', 'Montenegro', 'Mongolia', 'Northern Mariana Islands', 'Mozambique', 'Mauritania', 'Mauritius', 'Malawi', 'Malaysia', 'North America', 'Namibia', 'New Caledonia', 'Niger', 'Nigeria', 'Nicaragua', 'Netherlands', 'Norway', 'Nepal', 'Nauru', 'New Zealand', 'OECD members', 'Oman', 'Other small states', 'Pakistan', 'Panama', 'Peru', 'Philippines', 'Palau', 'Papua New Guinea', 'Poland', 'Pre-demographic dividend', 'Puerto Rico', \"Korea, Dem. People's Rep.\", 'Portugal', 'Paraguay', 'West Bank and Gaza', 'Pacific island small states', 'Post-demographic dividend', 'French Polynesia', 'Qatar', 'Romania', 'Russian Federation', 'Rwanda', 'South Asia', 'Saudi Arabia', 'Sudan', 'Senegal', 'Singapore', 'Solomon Islands', 'Sierra Leone', 'El Salvador', 'San Marino', 'Somalia', 'Serbia', 'Sub-Saharan Africa (excluding high income)', 'South Sudan', 'Sub-Saharan Africa', 'Small states', 'Sao Tome and Principe', 'Suriname', 'Slovak Republic', 'Slovenia', 'Sweden', 'Eswatini', 'Sint Maarten (Dutch part)', 'Seychelles', 'Syrian Arab Republic', 'Turks and Caicos Islands', 'Chad', 'East Asia & Pacific (IDA & IBRD countries)', 'Europe & Central Asia (IDA & IBRD countries)', 'Togo', 'Thailand', 'Tajikistan', 'Turkmenistan', 'Latin America & the Caribbean (IDA & IBRD countries)', 'Timor-Leste', 'Middle East & North Africa (IDA & IBRD countries)', 'Tonga', 'South Asia (IDA & IBRD)', 'Sub-Saharan Africa (IDA & IBRD countries)', 'Trinidad and Tobago', 'Tunisia', 'Turkey', 'Tuvalu', 'Tanzania', 'Uganda', 'Ukraine', 'Upper middle income', 'Uruguay', 'United States', 'Uzbekistan', 'St. Vincent and the Grenadines', 'Venezuela, RB', 'British Virgin Islands', 'Virgin Islands (U.S.)', 'Vietnam', 'Vanuatu', 'World', 'Samoa', 'Kosovo', 'Yemen, Rep.', 'South Africa', 'Zambia', 'Zimbabwe']\n"
     ]
    }
   ],
   "source": [
    "# Récupération de la liste des pays\n",
    "countries = df['Country Name'].unique().tolist()\n",
    "print(countries)\n",
    "df.set_index('Country Name', inplace=True)"
   ],
   "metadata": {
    "collapsed": false,
    "ExecuteTime": {
     "end_time": "2024-03-21T00:04:39.573757Z",
     "start_time": "2024-03-21T00:04:39.570101Z"
    }
   },
   "id": "958e6dfec7895a1e",
   "execution_count": 117
  },
  {
   "cell_type": "code",
   "outputs": [
    {
     "name": "stdout",
     "output_type": "stream",
     "text": [
      "['1961', '1962', '1963', '1964', '1965', '1966', '1967', '1968', '1969', '1970', '1971', '1972', '1973', '1974', '1975', '1976', '1977', '1978', '1979', '1980', '1981', '1982', '1983', '1984', '1985', '1986', '1987', '1988', '1989', '1990', '1991', '1992', '1993', '1994', '1995', '1996', '1997', '1998', '1999', '2000', '2001', '2002', '2003', '2004', '2005', '2006', '2007', '2008', '2009', '2010', '2011', '2012', '2013', '2014', '2015', '2016', '2017', '2018']\n"
     ]
    }
   ],
   "source": [
    "# Récupération de la liste des années\n",
    "columns = df.columns\n",
    "years = columns[1:].tolist()\n",
    "print(years)"
   ],
   "metadata": {
    "collapsed": false,
    "ExecuteTime": {
     "end_time": "2024-03-21T00:04:39.747641Z",
     "start_time": "2024-03-21T00:04:39.716878Z"
    }
   },
   "id": "16dafa8f6432cf5c",
   "execution_count": 118
  },
  {
   "cell_type": "code",
   "outputs": [
    {
     "data": {
      "text/plain": "  country  year  pollution_co2_t_per_capita\n0   Aruba  1961                  208.837879\n1   Aruba  1962                  226.081890\n2   Aruba  1963                  214.785217\n3   Aruba  1964                  207.626699\n4   Aruba  1965                  185.213644",
      "text/html": "<div>\n<style scoped>\n    .dataframe tbody tr th:only-of-type {\n        vertical-align: middle;\n    }\n\n    .dataframe tbody tr th {\n        vertical-align: top;\n    }\n\n    .dataframe thead th {\n        text-align: right;\n    }\n</style>\n<table border=\"1\" class=\"dataframe\">\n  <thead>\n    <tr style=\"text-align: right;\">\n      <th></th>\n      <th>country</th>\n      <th>year</th>\n      <th>pollution_co2_t_per_capita</th>\n    </tr>\n  </thead>\n  <tbody>\n    <tr>\n      <th>0</th>\n      <td>Aruba</td>\n      <td>1961</td>\n      <td>208.837879</td>\n    </tr>\n    <tr>\n      <th>1</th>\n      <td>Aruba</td>\n      <td>1962</td>\n      <td>226.081890</td>\n    </tr>\n    <tr>\n      <th>2</th>\n      <td>Aruba</td>\n      <td>1963</td>\n      <td>214.785217</td>\n    </tr>\n    <tr>\n      <th>3</th>\n      <td>Aruba</td>\n      <td>1964</td>\n      <td>207.626699</td>\n    </tr>\n    <tr>\n      <th>4</th>\n      <td>Aruba</td>\n      <td>1965</td>\n      <td>185.213644</td>\n    </tr>\n  </tbody>\n</table>\n</div>"
     },
     "execution_count": 119,
     "metadata": {},
     "output_type": "execute_result"
    }
   ],
   "source": [
    "# Création nouveau dataframe organisé par pays puis années\n",
    "data_list = []\n",
    "\n",
    "for country in countries:\n",
    "    #values = df[df['Country Name'] == country]\n",
    "    for year in years:\n",
    "        value = df.loc[country, year]\n",
    "        #print(value)\n",
    "        data_list.append({'country': country, 'year': year, 'pollution_co2_t_per_capita': value})\n",
    "data = pd.DataFrame(data_list, columns=['country', 'year', 'pollution_co2_t_per_capita'])\n",
    "data.head(5)"
   ],
   "metadata": {
    "collapsed": false,
    "ExecuteTime": {
     "end_time": "2024-03-21T00:04:39.879794Z",
     "start_time": "2024-03-21T00:04:39.805815Z"
    }
   },
   "id": "51c50d982ef15ef",
   "execution_count": 119
  },
  {
   "cell_type": "code",
   "outputs": [
    {
     "data": {
      "text/plain": "country                        object\nyear                           object\npollution_co2_t_per_capita    float64\ndtype: object"
     },
     "execution_count": 120,
     "metadata": {},
     "output_type": "execute_result"
    }
   ],
   "source": [
    "data.dtypes"
   ],
   "metadata": {
    "collapsed": false,
    "ExecuteTime": {
     "end_time": "2024-03-21T00:04:39.916579Z",
     "start_time": "2024-03-21T00:04:39.912019Z"
    }
   },
   "id": "e139d43ddd14f1fd",
   "execution_count": 120
  },
  {
   "cell_type": "code",
   "outputs": [
    {
     "data": {
      "text/plain": "(15428, 3)"
     },
     "execution_count": 121,
     "metadata": {},
     "output_type": "execute_result"
    }
   ],
   "source": [
    "data.shape"
   ],
   "metadata": {
    "collapsed": false,
    "ExecuteTime": {
     "end_time": "2024-03-21T00:04:39.960643Z",
     "start_time": "2024-03-21T00:04:39.956619Z"
    }
   },
   "id": "2b5b70fd948a1f3",
   "execution_count": 121
  },
  {
   "cell_type": "code",
   "outputs": [
    {
     "name": "stdout",
     "output_type": "stream",
     "text": [
      "Nombre de valeurs invalides ou nulls: 2289\n"
     ]
    },
    {
     "data": {
      "text/plain": "(13139, 3)"
     },
     "execution_count": 122,
     "metadata": {},
     "output_type": "execute_result"
    }
   ],
   "source": [
    "# Suppression des valeurs inutiles si nécessaires\n",
    "nb_na = data['pollution_co2_t_per_capita'].isna().sum()\n",
    "print(\"Nombre de valeurs invalides ou nulls: \" + str(nb_na))\n",
    "if nb_na > 0:\n",
    "    data.dropna(subset=['pollution_co2_t_per_capita'], inplace=True)\n",
    "data.shape"
   ],
   "metadata": {
    "collapsed": false,
    "ExecuteTime": {
     "end_time": "2024-03-21T00:04:40.013346Z",
     "start_time": "2024-03-21T00:04:40.006047Z"
    }
   },
   "id": "86b0a5de0446ff4b",
   "execution_count": 122
  },
  {
   "cell_type": "code",
   "outputs": [],
   "source": [
    "data.to_csv('./output/CO2_Emissions_sortedByYearAndCountry.csv', index=False)"
   ],
   "metadata": {
    "collapsed": false,
    "ExecuteTime": {
     "end_time": "2024-03-21T00:04:40.065214Z",
     "start_time": "2024-03-21T00:04:40.047243Z"
    }
   },
   "id": "3eb51ea8b229437d",
   "execution_count": 123
  },
  {
   "cell_type": "code",
   "outputs": [],
   "source": [
    "# Retirer les valeurs des pays différents de cette liste et exporter le fichier\n",
    "if limit_to_kept_countries:\n",
    "    data = data[data.country.isin(kept_countries)]\n",
    "data.to_csv('./output/CO2_Emissions_sortedByYearAndCountry.csv', index=False)\n"
   ],
   "metadata": {
    "collapsed": false,
    "ExecuteTime": {
     "end_time": "2024-03-21T00:04:40.114922Z",
     "start_time": "2024-03-21T00:04:40.095740Z"
    }
   },
   "id": "3a82d312e31856d4",
   "execution_count": 124
  },
  {
   "cell_type": "code",
   "outputs": [
    {
     "data": {
      "text/plain": "         country  year iso_code  population  gdp  biofuel_cons_change_pct  \\\n0  ASEAN (Ember)  2000      NaN         NaN  NaN                      NaN   \n1  ASEAN (Ember)  2001      NaN         NaN  NaN                      NaN   \n2  ASEAN (Ember)  2002      NaN         NaN  NaN                      NaN   \n3  ASEAN (Ember)  2003      NaN         NaN  NaN                      NaN   \n4  ASEAN (Ember)  2004      NaN         NaN  NaN                      NaN   \n\n   biofuel_cons_change_twh  biofuel_cons_per_capita  biofuel_consumption  \\\n0                      NaN                      NaN                  NaN   \n1                      NaN                      NaN                  NaN   \n2                      NaN                      NaN                  NaN   \n3                      NaN                      NaN                  NaN   \n4                      NaN                      NaN                  NaN   \n\n   biofuel_elec_per_capita  ...  solar_share_elec  solar_share_energy  \\\n0                      NaN  ...               0.0                 NaN   \n1                      NaN  ...               0.0                 NaN   \n2                      NaN  ...               0.0                 NaN   \n3                      NaN  ...               0.0                 NaN   \n4                      NaN  ...               0.0                 NaN   \n\n   wind_cons_change_pct  wind_cons_change_twh  wind_consumption  \\\n0                   NaN                   NaN               NaN   \n1                   NaN                   NaN               NaN   \n2                   NaN                   NaN               NaN   \n3                   NaN                   NaN               NaN   \n4                   NaN                   NaN               NaN   \n\n   wind_elec_per_capita  wind_electricity  wind_energy_per_capita  \\\n0                   NaN               0.0                     NaN   \n1                   NaN               0.0                     NaN   \n2                   NaN               0.0                     NaN   \n3                   NaN               0.0                     NaN   \n4                   NaN               0.0                     NaN   \n\n   wind_share_elec  wind_share_energy  \n0              0.0                NaN  \n1              0.0                NaN  \n2              0.0                NaN  \n3              0.0                NaN  \n4              0.0                NaN  \n\n[5 rows x 129 columns]",
      "text/html": "<div>\n<style scoped>\n    .dataframe tbody tr th:only-of-type {\n        vertical-align: middle;\n    }\n\n    .dataframe tbody tr th {\n        vertical-align: top;\n    }\n\n    .dataframe thead th {\n        text-align: right;\n    }\n</style>\n<table border=\"1\" class=\"dataframe\">\n  <thead>\n    <tr style=\"text-align: right;\">\n      <th></th>\n      <th>country</th>\n      <th>year</th>\n      <th>iso_code</th>\n      <th>population</th>\n      <th>gdp</th>\n      <th>biofuel_cons_change_pct</th>\n      <th>biofuel_cons_change_twh</th>\n      <th>biofuel_cons_per_capita</th>\n      <th>biofuel_consumption</th>\n      <th>biofuel_elec_per_capita</th>\n      <th>...</th>\n      <th>solar_share_elec</th>\n      <th>solar_share_energy</th>\n      <th>wind_cons_change_pct</th>\n      <th>wind_cons_change_twh</th>\n      <th>wind_consumption</th>\n      <th>wind_elec_per_capita</th>\n      <th>wind_electricity</th>\n      <th>wind_energy_per_capita</th>\n      <th>wind_share_elec</th>\n      <th>wind_share_energy</th>\n    </tr>\n  </thead>\n  <tbody>\n    <tr>\n      <th>0</th>\n      <td>ASEAN (Ember)</td>\n      <td>2000</td>\n      <td>NaN</td>\n      <td>NaN</td>\n      <td>NaN</td>\n      <td>NaN</td>\n      <td>NaN</td>\n      <td>NaN</td>\n      <td>NaN</td>\n      <td>NaN</td>\n      <td>...</td>\n      <td>0.0</td>\n      <td>NaN</td>\n      <td>NaN</td>\n      <td>NaN</td>\n      <td>NaN</td>\n      <td>NaN</td>\n      <td>0.0</td>\n      <td>NaN</td>\n      <td>0.0</td>\n      <td>NaN</td>\n    </tr>\n    <tr>\n      <th>1</th>\n      <td>ASEAN (Ember)</td>\n      <td>2001</td>\n      <td>NaN</td>\n      <td>NaN</td>\n      <td>NaN</td>\n      <td>NaN</td>\n      <td>NaN</td>\n      <td>NaN</td>\n      <td>NaN</td>\n      <td>NaN</td>\n      <td>...</td>\n      <td>0.0</td>\n      <td>NaN</td>\n      <td>NaN</td>\n      <td>NaN</td>\n      <td>NaN</td>\n      <td>NaN</td>\n      <td>0.0</td>\n      <td>NaN</td>\n      <td>0.0</td>\n      <td>NaN</td>\n    </tr>\n    <tr>\n      <th>2</th>\n      <td>ASEAN (Ember)</td>\n      <td>2002</td>\n      <td>NaN</td>\n      <td>NaN</td>\n      <td>NaN</td>\n      <td>NaN</td>\n      <td>NaN</td>\n      <td>NaN</td>\n      <td>NaN</td>\n      <td>NaN</td>\n      <td>...</td>\n      <td>0.0</td>\n      <td>NaN</td>\n      <td>NaN</td>\n      <td>NaN</td>\n      <td>NaN</td>\n      <td>NaN</td>\n      <td>0.0</td>\n      <td>NaN</td>\n      <td>0.0</td>\n      <td>NaN</td>\n    </tr>\n    <tr>\n      <th>3</th>\n      <td>ASEAN (Ember)</td>\n      <td>2003</td>\n      <td>NaN</td>\n      <td>NaN</td>\n      <td>NaN</td>\n      <td>NaN</td>\n      <td>NaN</td>\n      <td>NaN</td>\n      <td>NaN</td>\n      <td>NaN</td>\n      <td>...</td>\n      <td>0.0</td>\n      <td>NaN</td>\n      <td>NaN</td>\n      <td>NaN</td>\n      <td>NaN</td>\n      <td>NaN</td>\n      <td>0.0</td>\n      <td>NaN</td>\n      <td>0.0</td>\n      <td>NaN</td>\n    </tr>\n    <tr>\n      <th>4</th>\n      <td>ASEAN (Ember)</td>\n      <td>2004</td>\n      <td>NaN</td>\n      <td>NaN</td>\n      <td>NaN</td>\n      <td>NaN</td>\n      <td>NaN</td>\n      <td>NaN</td>\n      <td>NaN</td>\n      <td>NaN</td>\n      <td>...</td>\n      <td>0.0</td>\n      <td>NaN</td>\n      <td>NaN</td>\n      <td>NaN</td>\n      <td>NaN</td>\n      <td>NaN</td>\n      <td>0.0</td>\n      <td>NaN</td>\n      <td>0.0</td>\n      <td>NaN</td>\n    </tr>\n  </tbody>\n</table>\n<p>5 rows × 129 columns</p>\n</div>"
     },
     "execution_count": 125,
     "metadata": {},
     "output_type": "execute_result"
    }
   ],
   "source": [
    "# Charger le fichier World Energy Consumption\n",
    "wec = pd.read_csv('./assets/World Energy Consumption.csv')\n",
    "if limit_to_kept_countries:\n",
    "    wec = wec[wec.country.isin(kept_countries)]\n",
    "wec.to_csv('./output/World Energy Consumption (limited).csv', index=False)\n",
    "\n",
    "wec.head(5)"
   ],
   "metadata": {
    "collapsed": false,
    "ExecuteTime": {
     "end_time": "2024-03-21T00:04:41.038055Z",
     "start_time": "2024-03-21T00:04:40.191269Z"
    }
   },
   "id": "c1e55230a741056d",
   "execution_count": 125
  },
  {
   "cell_type": "code",
   "outputs": [
    {
     "data": {
      "text/plain": "         country  year iso_code  population  gdp_usd  biofuel_cons_change_pct  \\\n0  ASEAN (Ember)  2000      NaN         NaN      NaN                      NaN   \n1  ASEAN (Ember)  2001      NaN         NaN      NaN                      NaN   \n2  ASEAN (Ember)  2002      NaN         NaN      NaN                      NaN   \n3  ASEAN (Ember)  2003      NaN         NaN      NaN                      NaN   \n4  ASEAN (Ember)  2004      NaN         NaN      NaN                      NaN   \n\n   biofuel_cons_change_twh  biofuel_cons_per_capita_kwh  \\\n0                      NaN                          NaN   \n1                      NaN                          NaN   \n2                      NaN                          NaN   \n3                      NaN                          NaN   \n4                      NaN                          NaN   \n\n   biofuel_consumption_twh  biofuel_elec_per_capita_kwh  ...  \\\n0                      NaN                          NaN  ...   \n1                      NaN                          NaN  ...   \n2                      NaN                          NaN  ...   \n3                      NaN                          NaN  ...   \n4                      NaN                          NaN  ...   \n\n   solar_share_elec_pct_total_elec  solar_share_energy_pct_total_primary  \\\n0                              0.0                                   NaN   \n1                              0.0                                   NaN   \n2                              0.0                                   NaN   \n3                              0.0                                   NaN   \n4                              0.0                                   NaN   \n\n   wind_cons_change_pct  wind_cons_change_twh  wind_consumption_twh  \\\n0                   NaN                   NaN                   NaN   \n1                   NaN                   NaN                   NaN   \n2                   NaN                   NaN                   NaN   \n3                   NaN                   NaN                   NaN   \n4                   NaN                   NaN                   NaN   \n\n   wind_elec_per_capita_kwh  wind_electricity_twh  wind_energy_per_capita_kwh  \\\n0                       NaN                   0.0                         NaN   \n1                       NaN                   0.0                         NaN   \n2                       NaN                   0.0                         NaN   \n3                       NaN                   0.0                         NaN   \n4                       NaN                   0.0                         NaN   \n\n   wind_share_elec_pct_total_elec  wind_share_energy_pct_total_primary  \n0                             0.0                                  NaN  \n1                             0.0                                  NaN  \n2                             0.0                                  NaN  \n3                             0.0                                  NaN  \n4                             0.0                                  NaN  \n\n[5 rows x 129 columns]",
      "text/html": "<div>\n<style scoped>\n    .dataframe tbody tr th:only-of-type {\n        vertical-align: middle;\n    }\n\n    .dataframe tbody tr th {\n        vertical-align: top;\n    }\n\n    .dataframe thead th {\n        text-align: right;\n    }\n</style>\n<table border=\"1\" class=\"dataframe\">\n  <thead>\n    <tr style=\"text-align: right;\">\n      <th></th>\n      <th>country</th>\n      <th>year</th>\n      <th>iso_code</th>\n      <th>population</th>\n      <th>gdp_usd</th>\n      <th>biofuel_cons_change_pct</th>\n      <th>biofuel_cons_change_twh</th>\n      <th>biofuel_cons_per_capita_kwh</th>\n      <th>biofuel_consumption_twh</th>\n      <th>biofuel_elec_per_capita_kwh</th>\n      <th>...</th>\n      <th>solar_share_elec_pct_total_elec</th>\n      <th>solar_share_energy_pct_total_primary</th>\n      <th>wind_cons_change_pct</th>\n      <th>wind_cons_change_twh</th>\n      <th>wind_consumption_twh</th>\n      <th>wind_elec_per_capita_kwh</th>\n      <th>wind_electricity_twh</th>\n      <th>wind_energy_per_capita_kwh</th>\n      <th>wind_share_elec_pct_total_elec</th>\n      <th>wind_share_energy_pct_total_primary</th>\n    </tr>\n  </thead>\n  <tbody>\n    <tr>\n      <th>0</th>\n      <td>ASEAN (Ember)</td>\n      <td>2000</td>\n      <td>NaN</td>\n      <td>NaN</td>\n      <td>NaN</td>\n      <td>NaN</td>\n      <td>NaN</td>\n      <td>NaN</td>\n      <td>NaN</td>\n      <td>NaN</td>\n      <td>...</td>\n      <td>0.0</td>\n      <td>NaN</td>\n      <td>NaN</td>\n      <td>NaN</td>\n      <td>NaN</td>\n      <td>NaN</td>\n      <td>0.0</td>\n      <td>NaN</td>\n      <td>0.0</td>\n      <td>NaN</td>\n    </tr>\n    <tr>\n      <th>1</th>\n      <td>ASEAN (Ember)</td>\n      <td>2001</td>\n      <td>NaN</td>\n      <td>NaN</td>\n      <td>NaN</td>\n      <td>NaN</td>\n      <td>NaN</td>\n      <td>NaN</td>\n      <td>NaN</td>\n      <td>NaN</td>\n      <td>...</td>\n      <td>0.0</td>\n      <td>NaN</td>\n      <td>NaN</td>\n      <td>NaN</td>\n      <td>NaN</td>\n      <td>NaN</td>\n      <td>0.0</td>\n      <td>NaN</td>\n      <td>0.0</td>\n      <td>NaN</td>\n    </tr>\n    <tr>\n      <th>2</th>\n      <td>ASEAN (Ember)</td>\n      <td>2002</td>\n      <td>NaN</td>\n      <td>NaN</td>\n      <td>NaN</td>\n      <td>NaN</td>\n      <td>NaN</td>\n      <td>NaN</td>\n      <td>NaN</td>\n      <td>NaN</td>\n      <td>...</td>\n      <td>0.0</td>\n      <td>NaN</td>\n      <td>NaN</td>\n      <td>NaN</td>\n      <td>NaN</td>\n      <td>NaN</td>\n      <td>0.0</td>\n      <td>NaN</td>\n      <td>0.0</td>\n      <td>NaN</td>\n    </tr>\n    <tr>\n      <th>3</th>\n      <td>ASEAN (Ember)</td>\n      <td>2003</td>\n      <td>NaN</td>\n      <td>NaN</td>\n      <td>NaN</td>\n      <td>NaN</td>\n      <td>NaN</td>\n      <td>NaN</td>\n      <td>NaN</td>\n      <td>NaN</td>\n      <td>...</td>\n      <td>0.0</td>\n      <td>NaN</td>\n      <td>NaN</td>\n      <td>NaN</td>\n      <td>NaN</td>\n      <td>NaN</td>\n      <td>0.0</td>\n      <td>NaN</td>\n      <td>0.0</td>\n      <td>NaN</td>\n    </tr>\n    <tr>\n      <th>4</th>\n      <td>ASEAN (Ember)</td>\n      <td>2004</td>\n      <td>NaN</td>\n      <td>NaN</td>\n      <td>NaN</td>\n      <td>NaN</td>\n      <td>NaN</td>\n      <td>NaN</td>\n      <td>NaN</td>\n      <td>NaN</td>\n      <td>...</td>\n      <td>0.0</td>\n      <td>NaN</td>\n      <td>NaN</td>\n      <td>NaN</td>\n      <td>NaN</td>\n      <td>NaN</td>\n      <td>0.0</td>\n      <td>NaN</td>\n      <td>0.0</td>\n      <td>NaN</td>\n    </tr>\n  </tbody>\n</table>\n<p>5 rows × 129 columns</p>\n</div>"
     },
     "execution_count": 126,
     "metadata": {},
     "output_type": "execute_result"
    }
   ],
   "source": [
    "# Renommer toutes les colonnes avec les unités\n",
    "wec.columns = [\n",
    "    'country', 'year', 'iso_code', 'population', 'gdp_usd', 'biofuel_cons_change_pct', 'biofuel_cons_change_twh',\n",
    "    'biofuel_cons_per_capita_kwh', 'biofuel_consumption_twh', 'biofuel_elec_per_capita_kwh', 'biofuel_electricity_twh',\n",
    "    'biofuel_share_elec_pct_total_elec', 'biofuel_share_energy_pct_total_primary', 'carbon_intensity_elec_gCO2_eq.kwh',\n",
    "    'coal_cons_change_pct', 'coal_cons_change_twh', 'coal_cons_per_capita_kwh', 'coal_consumption_twh',\n",
    "    'coal_elec_per_capita_kwh', 'coal_electricity_twh', 'coal_prod_change_pct', 'coal_prod_change_twh',\n",
    "    'coal_prod_per_capita_kwh', 'coal_production_twh', 'coal_share_elec_pct_total_elec',\n",
    "    'coal_share_energy_pct_total_primary', 'electricity_demand_twh', 'electricity_generation_twh',\n",
    "    'electricity_share_energy_pct_total_primary', 'energy_cons_change_pct', 'energy_cons_change_twh',\n",
    "    'energy_per_capita_kwh', 'energy_per_gdp_kwh_per_usd', 'fossil_cons_change_pct', 'fossil_cons_change_twh',\n",
    "    'fossil_elec_per_capita_kwh', 'fossil_electricity_twh', 'fossil_energy_per_capita_kwh', 'fossil_fuel_consumption_twh',\n",
    "    'fossil_share_elec_pct_total_elec', 'fossil_share_energy_pct_total_primary', 'gas_cons_change_pct',\n",
    "    'gas_cons_change_twh', 'gas_consumption_twh', 'gas_elec_per_capita_kwh', 'gas_electricity_twh',\n",
    "    'gas_energy_per_capita_kwh', 'gas_prod_change_pct', 'gas_prod_change_twh', 'gas_prod_per_capita_kwh',\n",
    "    'gas_production_twh', 'gas_share_elec_pct_total_elec', 'gas_share_energy_pct_total_primary',\n",
    "    'greenhouse_gas_emissions_Mt_co2_eq', 'hydro_cons_change_pct', 'hydro_cons_change_twh', 'hydro_consumption_twh',\n",
    "    'hydro_elec_per_capita_kwh', 'hydro_electricity_twh', 'hydro_energy_per_capita_kwh',\n",
    "    'hydro_share_elec_pct_total_elec', 'hydro_share_energy_pct_total_primary', 'low_carbon_cons_change_pct',\n",
    "    'low_carbon_cons_change_twh', 'low_carbon_consumption_twh', 'low_carbon_elec_per_capita_kwh',\n",
    "    'low_carbon_electricity_twh', 'low_carbon_energy_per_capita_kwh', 'low_carbon_share_elec_pct_total_elec',\n",
    "    'low_carbon_share_energy_pct_total_primary', 'net_elec_imports_twh', 'net_elec_imports_share_demand_pct_total_elec',\n",
    "    'nuclear_cons_change_pct', 'nuclear_cons_change_twh', 'nuclear_consumption_twh', 'nuclear_elec_per_capita_kwh',\n",
    "    'nuclear_electricity_twh', 'nuclear_energy_per_capita_kwh', 'nuclear_share_elec_pct_total_elec',\n",
    "    'nuclear_share_energy_pct_total_primary', 'oil_cons_change_pct', 'oil_cons_change_twh', 'oil_consumption_twh',\n",
    "    'oil_elec_per_capita_kwh', 'oil_electricity_twh', 'oil_energy_per_capita_kwh', 'oil_prod_change_pct',\n",
    "    'oil_prod_change_twh', 'oil_prod_per_capita_kwh', 'oil_production_twh', 'oil_share_elec_pct_total_elec',\n",
    "    'oil_share_energy_pct_total_primary', 'other_renewable_consumption_twh', 'other_renewable_electricity_twh',\n",
    "    'other_renewable_exc_biofuel_electricity_twh', 'other_renewables_cons_change_pct',\n",
    "    'other_renewables_cons_change_twh', 'other_renewables_elec_per_capita_kwh',\n",
    "    'other_renewables_elec_per_capita_exc_biofuel_kwh', 'other_renewables_energy_per_capita_kwh',\n",
    "    'other_renewables_share_elec_pct_total_elec', 'other_renewables_share_elec_exc_biofuel_pct_total_elec',\n",
    "    'other_renewables_share_energy_pct_total_primary', 'per_capita_electricity_kwh', 'primary_energy_consumption_twh',\n",
    "    'renewables_cons_change_pct', 'renewables_cons_change_twh', 'renewables_consumption_twh',\n",
    "    'renewables_elec_per_capita_kwh', 'renewables_electricity_twh', 'renewables_energy_per_capita_kwh',\n",
    "    'renewables_share_elec_pct_total_elec', 'renewables_share_energy_pct_total_primary', 'solar_cons_change_pct',\n",
    "    'solar_cons_change_twh', 'solar_consumption_twh', 'solar_elec_per_capita_kwh', 'solar_electricity_twh',\n",
    "    'solar_energy_per_capita_kwh', 'solar_share_elec_pct_total_elec', 'solar_share_energy_pct_total_primary',\n",
    "    'wind_cons_change_pct', 'wind_cons_change_twh', 'wind_consumption_twh', 'wind_elec_per_capita_kwh',\n",
    "    'wind_electricity_twh', 'wind_energy_per_capita_kwh', 'wind_share_elec_pct_total_elec',\n",
    "    'wind_share_energy_pct_total_primary'\n",
    "]\n",
    "\n",
    "# 5 premières lignes après avoir renommé les colonnes avec les unités\n",
    "wec.head(5)"
   ],
   "metadata": {
    "collapsed": false,
    "ExecuteTime": {
     "end_time": "2024-03-21T00:04:41.051908Z",
     "start_time": "2024-03-21T00:04:41.038055Z"
    }
   },
   "id": "c3e55c2fd67d17f9",
   "execution_count": 126
  },
  {
   "cell_type": "code",
   "outputs": [],
   "source": [
    "# Changement de types\n",
    "data['year'] = data['year'].astype(int)\n",
    "wec['year'] = wec['year'].astype(int)\n",
    "\n",
    "wec['country'] = wec['country'].astype(str)\n",
    "data['country'] = data['country'].astype(str)\n",
    "\n",
    "# Fusion des valeurs de Co2\n",
    "wec = pd.merge(wec, data, on=[\"country\", \"year\"], how='left')\n",
    "            \n",
    "# Supprimer la colonne 'population'\n",
    "# wec = wec.drop('population', axis=1, errors='ignore')\n",
    "# wec = wec.drop('iso_code', axis=1, errors='ignore')\n",
    "# wec = wec.drop('gdp', axis=1, errors='ignore')\n",
    "\n",
    "wec = wec[wec['year'] >= 1960]\n",
    "\n",
    "# Valeurs enregistrés\n",
    "wec.to_csv('./output/World Energy Consumption (limited).csv', index=False)"
   ],
   "metadata": {
    "collapsed": false,
    "ExecuteTime": {
     "end_time": "2024-03-21T00:04:41.620011Z",
     "start_time": "2024-03-21T00:04:41.052912Z"
    }
   },
   "id": "e9aa89e010168301",
   "execution_count": 127
  },
  {
   "cell_type": "code",
   "outputs": [],
   "source": [
    "#Dataset Taxes sur les énergies"
   ],
   "metadata": {
    "collapsed": false,
    "ExecuteTime": {
     "end_time": "2024-03-21T00:04:41.624074Z",
     "start_time": "2024-03-21T00:04:41.621017Z"
    }
   },
   "id": "c7989c017d83fb05",
   "execution_count": 128
  },
  {
   "cell_type": "code",
   "outputs": [
    {
     "data": {
      "text/plain": "   ObjectId  Country ISO2 ISO3  \\\n0         1  Albania   AL  ALB   \n1         2  Albania   AL  ALB   \n2         3  Albania   AL  ALB   \n3         4  Albania   AL  ALB   \n4         5  Albania   AL  ALB   \n\n                                        Indicator  \\\n0                             Environmental Taxes   \n1                             Environmental Taxes   \n2  Taxes on Energy (including fuel for transport)   \n3  Taxes on Energy (including fuel for transport)   \n4                              Taxes on Pollution   \n\n                                              Source CTS Code  \\\n0  Organisation for Economic Co-operation and Dev...    ECGTE   \n1  Organisation for Economic Co-operation and Dev...    ECGTE   \n2  Organisation for Economic Co-operation and Dev...   ECGTEN   \n3  Organisation for Economic Co-operation and Dev...   ECGTEN   \n4  Organisation for Economic Co-operation and Dev...   ECGTEP   \n\n                                         CTS Name  \\\n0                             Environmental Taxes   \n1                             Environmental Taxes   \n2  Taxes on Energy (Including Fuel for Transport)   \n3  Taxes on Energy (Including Fuel for Transport)   \n4                              Taxes on Pollution   \n\n                                 CTS Full Descriptor               Unit  ...  \\\n0  Environment, Climate Change, Government Policy...  Domestic Currency  ...   \n1  Environment, Climate Change, Government Policy...     Percent of GDP  ...   \n2  Environment, Climate Change, Government Policy...  Domestic Currency  ...   \n3  Environment, Climate Change, Government Policy...     Percent of GDP  ...   \n4  Environment, Climate Change, Government Policy...  Domestic Currency  ...   \n\n   2012  2013  2014          2015          2016          2017          2018  \\\n0   NaN   NaN   NaN  4.399314e+10  4.781379e+10  4.754858e+10  5.114559e+10   \n1   NaN   NaN   NaN  3.067206e+00  3.247163e+00  3.066373e+00  3.124865e+00   \n2   NaN   NaN   NaN  3.774111e+10  4.094562e+10  4.040004e+10  4.352182e+10   \n3   NaN   NaN   NaN  2.631314e+00  2.780726e+00  2.605369e+00  2.659072e+00   \n4   NaN   NaN   NaN  1.782069e+09  1.879970e+09  1.941324e+09  2.226251e+09   \n\n           2019  2020  2021  \n0  5.341565e+10   NaN   NaN  \n1  3.157133e+00   NaN   NaN  \n2  4.516530e+10   NaN   NaN  \n3  2.669496e+00   NaN   NaN  \n4  2.625011e+09   NaN   NaN  \n\n[5 rows x 37 columns]",
      "text/html": "<div>\n<style scoped>\n    .dataframe tbody tr th:only-of-type {\n        vertical-align: middle;\n    }\n\n    .dataframe tbody tr th {\n        vertical-align: top;\n    }\n\n    .dataframe thead th {\n        text-align: right;\n    }\n</style>\n<table border=\"1\" class=\"dataframe\">\n  <thead>\n    <tr style=\"text-align: right;\">\n      <th></th>\n      <th>ObjectId</th>\n      <th>Country</th>\n      <th>ISO2</th>\n      <th>ISO3</th>\n      <th>Indicator</th>\n      <th>Source</th>\n      <th>CTS Code</th>\n      <th>CTS Name</th>\n      <th>CTS Full Descriptor</th>\n      <th>Unit</th>\n      <th>...</th>\n      <th>2012</th>\n      <th>2013</th>\n      <th>2014</th>\n      <th>2015</th>\n      <th>2016</th>\n      <th>2017</th>\n      <th>2018</th>\n      <th>2019</th>\n      <th>2020</th>\n      <th>2021</th>\n    </tr>\n  </thead>\n  <tbody>\n    <tr>\n      <th>0</th>\n      <td>1</td>\n      <td>Albania</td>\n      <td>AL</td>\n      <td>ALB</td>\n      <td>Environmental Taxes</td>\n      <td>Organisation for Economic Co-operation and Dev...</td>\n      <td>ECGTE</td>\n      <td>Environmental Taxes</td>\n      <td>Environment, Climate Change, Government Policy...</td>\n      <td>Domestic Currency</td>\n      <td>...</td>\n      <td>NaN</td>\n      <td>NaN</td>\n      <td>NaN</td>\n      <td>4.399314e+10</td>\n      <td>4.781379e+10</td>\n      <td>4.754858e+10</td>\n      <td>5.114559e+10</td>\n      <td>5.341565e+10</td>\n      <td>NaN</td>\n      <td>NaN</td>\n    </tr>\n    <tr>\n      <th>1</th>\n      <td>2</td>\n      <td>Albania</td>\n      <td>AL</td>\n      <td>ALB</td>\n      <td>Environmental Taxes</td>\n      <td>Organisation for Economic Co-operation and Dev...</td>\n      <td>ECGTE</td>\n      <td>Environmental Taxes</td>\n      <td>Environment, Climate Change, Government Policy...</td>\n      <td>Percent of GDP</td>\n      <td>...</td>\n      <td>NaN</td>\n      <td>NaN</td>\n      <td>NaN</td>\n      <td>3.067206e+00</td>\n      <td>3.247163e+00</td>\n      <td>3.066373e+00</td>\n      <td>3.124865e+00</td>\n      <td>3.157133e+00</td>\n      <td>NaN</td>\n      <td>NaN</td>\n    </tr>\n    <tr>\n      <th>2</th>\n      <td>3</td>\n      <td>Albania</td>\n      <td>AL</td>\n      <td>ALB</td>\n      <td>Taxes on Energy (including fuel for transport)</td>\n      <td>Organisation for Economic Co-operation and Dev...</td>\n      <td>ECGTEN</td>\n      <td>Taxes on Energy (Including Fuel for Transport)</td>\n      <td>Environment, Climate Change, Government Policy...</td>\n      <td>Domestic Currency</td>\n      <td>...</td>\n      <td>NaN</td>\n      <td>NaN</td>\n      <td>NaN</td>\n      <td>3.774111e+10</td>\n      <td>4.094562e+10</td>\n      <td>4.040004e+10</td>\n      <td>4.352182e+10</td>\n      <td>4.516530e+10</td>\n      <td>NaN</td>\n      <td>NaN</td>\n    </tr>\n    <tr>\n      <th>3</th>\n      <td>4</td>\n      <td>Albania</td>\n      <td>AL</td>\n      <td>ALB</td>\n      <td>Taxes on Energy (including fuel for transport)</td>\n      <td>Organisation for Economic Co-operation and Dev...</td>\n      <td>ECGTEN</td>\n      <td>Taxes on Energy (Including Fuel for Transport)</td>\n      <td>Environment, Climate Change, Government Policy...</td>\n      <td>Percent of GDP</td>\n      <td>...</td>\n      <td>NaN</td>\n      <td>NaN</td>\n      <td>NaN</td>\n      <td>2.631314e+00</td>\n      <td>2.780726e+00</td>\n      <td>2.605369e+00</td>\n      <td>2.659072e+00</td>\n      <td>2.669496e+00</td>\n      <td>NaN</td>\n      <td>NaN</td>\n    </tr>\n    <tr>\n      <th>4</th>\n      <td>5</td>\n      <td>Albania</td>\n      <td>AL</td>\n      <td>ALB</td>\n      <td>Taxes on Pollution</td>\n      <td>Organisation for Economic Co-operation and Dev...</td>\n      <td>ECGTEP</td>\n      <td>Taxes on Pollution</td>\n      <td>Environment, Climate Change, Government Policy...</td>\n      <td>Domestic Currency</td>\n      <td>...</td>\n      <td>NaN</td>\n      <td>NaN</td>\n      <td>NaN</td>\n      <td>1.782069e+09</td>\n      <td>1.879970e+09</td>\n      <td>1.941324e+09</td>\n      <td>2.226251e+09</td>\n      <td>2.625011e+09</td>\n      <td>NaN</td>\n      <td>NaN</td>\n    </tr>\n  </tbody>\n</table>\n<p>5 rows × 37 columns</p>\n</div>"
     },
     "execution_count": 129,
     "metadata": {},
     "output_type": "execute_result"
    }
   ],
   "source": [
    "# Charger le dataset des taxes sur les énergies\n",
    "tax = pd.read_csv('./assets/Tax_Energy.csv')\n",
    "tax.head(5)"
   ],
   "metadata": {
    "collapsed": false,
    "ExecuteTime": {
     "end_time": "2024-03-21T00:04:41.641095Z",
     "start_time": "2024-03-21T00:04:41.624578Z"
    }
   },
   "id": "4f04a70dfc46c7d7",
   "execution_count": 129
  },
  {
   "cell_type": "code",
   "outputs": [
    {
     "name": "stdout",
     "output_type": "stream",
     "text": [
      "    ObjectId                   Country ISO2 ISO3  \\\n",
      "10        11  Andorra, Principality of   AD  AND   \n",
      "11        12  Andorra, Principality of   AD  AND   \n",
      "12        13  Andorra, Principality of   AD  AND   \n",
      "13        14  Andorra, Principality of   AD  AND   \n",
      "14        15  Andorra, Principality of   AD  AND   \n",
      "\n",
      "                                            Indicator  \\\n",
      "10                                Environmental Taxes   \n",
      "11     Taxes on Energy (including fuel for transport)   \n",
      "12                                 Taxes on Pollution   \n",
      "13                                 Taxes on Resources   \n",
      "14  Taxes on Transport (excluding fuel for transport)   \n",
      "\n",
      "                                               Source CTS Code  \\\n",
      "10  Organisation for Economic Co-operation and Dev...    ECGTE   \n",
      "11  Organisation for Economic Co-operation and Dev...   ECGTEN   \n",
      "12  Organisation for Economic Co-operation and Dev...   ECGTEP   \n",
      "13  Organisation for Economic Co-operation and Dev...   ECGTER   \n",
      "14  Organisation for Economic Co-operation and Dev...   ECGTET   \n",
      "\n",
      "                                             CTS Name  \\\n",
      "10                                Environmental Taxes   \n",
      "11     Taxes on Energy (Including Fuel for Transport)   \n",
      "12                                 Taxes on Pollution   \n",
      "13                                 Taxes on Resources   \n",
      "14  Taxes on Transport (Excluding Fuel for Transport)   \n",
      "\n",
      "                                  CTS Full Descriptor               Unit  ...  \\\n",
      "10  Environment, Climate Change, Government Policy...  Domestic Currency  ...   \n",
      "11  Environment, Climate Change, Government Policy...  Domestic Currency  ...   \n",
      "12  Environment, Climate Change, Government Policy...  Domestic Currency  ...   \n",
      "13  Environment, Climate Change, Government Policy...  Domestic Currency  ...   \n",
      "14  Environment, Climate Change, Government Policy...  Domestic Currency  ...   \n",
      "\n",
      "    2012  2013  2014          2015          2016          2017          2018  \\\n",
      "10   NaN   NaN   NaN  4.600367e+12  4.616889e+12  5.043869e+12  5.283535e+12   \n",
      "11   NaN   NaN   NaN  0.000000e+00  0.000000e+00  0.000000e+00  0.000000e+00   \n",
      "12   NaN   NaN   NaN  0.000000e+00  0.000000e+00  0.000000e+00  0.000000e+00   \n",
      "13   NaN   NaN   NaN  0.000000e+00  0.000000e+00  0.000000e+00  0.000000e+00   \n",
      "14   NaN   NaN   NaN  4.600367e+12  4.616889e+12  5.043869e+12  5.283535e+12   \n",
      "\n",
      "            2019          2020  2021  \n",
      "10  5.675649e+12  6.462285e+12   NaN  \n",
      "11  0.000000e+00  0.000000e+00   NaN  \n",
      "12  0.000000e+00  0.000000e+00   NaN  \n",
      "13  0.000000e+00  0.000000e+00   NaN  \n",
      "14  5.675649e+12  6.462285e+12   NaN  \n",
      "\n",
      "[5 rows x 37 columns]\n"
     ]
    }
   ],
   "source": [
    "tax_country = tax[tax[\"Country\"] == \"Andorra, Principality of\"]\n",
    "print(tax_country)"
   ],
   "metadata": {
    "collapsed": false,
    "ExecuteTime": {
     "end_time": "2024-03-21T00:04:41.648734Z",
     "start_time": "2024-03-21T00:04:41.641095Z"
    }
   },
   "id": "f9f8d1ba56366c4d",
   "execution_count": 130
  },
  {
   "cell_type": "code",
   "outputs": [
    {
     "name": "stdout",
     "output_type": "stream",
     "text": [
      "Nombre de NaN dans les colonnes : ObjectId                 0\n",
      "Country                  0\n",
      "ISO2                    10\n",
      "ISO3                     8\n",
      "Indicator                0\n",
      "Source                   0\n",
      "CTS Code                 0\n",
      "CTS Name                 0\n",
      "CTS Full Descriptor      0\n",
      "Unit                     0\n",
      "1995                   495\n",
      "1996                   491\n",
      "1997                   491\n",
      "1998                   483\n",
      "1999                   481\n",
      "2000                   431\n",
      "2001                   415\n",
      "2002                   411\n",
      "2003                   403\n",
      "2004                   403\n",
      "2005                   369\n",
      "2006                   359\n",
      "2007                   351\n",
      "2008                   321\n",
      "2009                   321\n",
      "2010                   295\n",
      "2011                   303\n",
      "2012                   307\n",
      "2013                   309\n",
      "2014                   305\n",
      "2015                    44\n",
      "2016                    46\n",
      "2017                    50\n",
      "2018                    68\n",
      "2019                   100\n",
      "2020                   192\n",
      "2021                   579\n",
      "dtype: int64\n",
      "Nombre de NaN dans le dataset : 8841\n"
     ]
    }
   ],
   "source": [
    "# Compter le nombre de valeurs \"NaN\" dans les colonnes\n",
    "nb_nan_colTax = tax.isna().sum()\n",
    "\n",
    "print(\"Nombre de NaN dans les colonnes :\", nb_nan_colTax)\n",
    "\n",
    "# Compter le nombre de valeurs \"NaN\" dans le dataset\n",
    "nb_nan_dataset = tax.isna().sum().sum()\n",
    "\n",
    "print(\"Nombre de NaN dans le dataset :\", nb_nan_dataset)"
   ],
   "metadata": {
    "collapsed": false,
    "ExecuteTime": {
     "end_time": "2024-03-21T00:04:41.653715Z",
     "start_time": "2024-03-21T00:04:41.648734Z"
    }
   },
   "id": "e2037e2d2e093dab",
   "execution_count": 131
  },
  {
   "cell_type": "code",
   "outputs": [
    {
     "data": {
      "text/plain": "   ObjectId  Country ISO2 ISO3  \\\n0         1  Albania   AL  ALB   \n1         2  Albania   AL  ALB   \n2         3  Albania   AL  ALB   \n3         4  Albania   AL  ALB   \n4         5  Albania   AL  ALB   \n\n                                        Indicator  \\\n0                             Environmental Taxes   \n1                             Environmental Taxes   \n2  Taxes on Energy (including fuel for transport)   \n3  Taxes on Energy (including fuel for transport)   \n4                              Taxes on Pollution   \n\n                                              Source CTS Code  \\\n0  Organisation for Economic Co-operation and Dev...    ECGTE   \n1  Organisation for Economic Co-operation and Dev...    ECGTE   \n2  Organisation for Economic Co-operation and Dev...   ECGTEN   \n3  Organisation for Economic Co-operation and Dev...   ECGTEN   \n4  Organisation for Economic Co-operation and Dev...   ECGTEP   \n\n                                         CTS Name  \\\n0                             Environmental Taxes   \n1                             Environmental Taxes   \n2  Taxes on Energy (Including Fuel for Transport)   \n3  Taxes on Energy (Including Fuel for Transport)   \n4                              Taxes on Pollution   \n\n                                 CTS Full Descriptor               Unit Année  \\\n0  Environment, Climate Change, Government Policy...  Domestic Currency  1995   \n1  Environment, Climate Change, Government Policy...     Percent of GDP  1995   \n2  Environment, Climate Change, Government Policy...  Domestic Currency  1995   \n3  Environment, Climate Change, Government Policy...     Percent of GDP  1995   \n4  Environment, Climate Change, Government Policy...  Domestic Currency  1995   \n\n   Taxe  \n0   NaN  \n1   NaN  \n2   NaN  \n3   NaN  \n4   NaN  ",
      "text/html": "<div>\n<style scoped>\n    .dataframe tbody tr th:only-of-type {\n        vertical-align: middle;\n    }\n\n    .dataframe tbody tr th {\n        vertical-align: top;\n    }\n\n    .dataframe thead th {\n        text-align: right;\n    }\n</style>\n<table border=\"1\" class=\"dataframe\">\n  <thead>\n    <tr style=\"text-align: right;\">\n      <th></th>\n      <th>ObjectId</th>\n      <th>Country</th>\n      <th>ISO2</th>\n      <th>ISO3</th>\n      <th>Indicator</th>\n      <th>Source</th>\n      <th>CTS Code</th>\n      <th>CTS Name</th>\n      <th>CTS Full Descriptor</th>\n      <th>Unit</th>\n      <th>Année</th>\n      <th>Taxe</th>\n    </tr>\n  </thead>\n  <tbody>\n    <tr>\n      <th>0</th>\n      <td>1</td>\n      <td>Albania</td>\n      <td>AL</td>\n      <td>ALB</td>\n      <td>Environmental Taxes</td>\n      <td>Organisation for Economic Co-operation and Dev...</td>\n      <td>ECGTE</td>\n      <td>Environmental Taxes</td>\n      <td>Environment, Climate Change, Government Policy...</td>\n      <td>Domestic Currency</td>\n      <td>1995</td>\n      <td>NaN</td>\n    </tr>\n    <tr>\n      <th>1</th>\n      <td>2</td>\n      <td>Albania</td>\n      <td>AL</td>\n      <td>ALB</td>\n      <td>Environmental Taxes</td>\n      <td>Organisation for Economic Co-operation and Dev...</td>\n      <td>ECGTE</td>\n      <td>Environmental Taxes</td>\n      <td>Environment, Climate Change, Government Policy...</td>\n      <td>Percent of GDP</td>\n      <td>1995</td>\n      <td>NaN</td>\n    </tr>\n    <tr>\n      <th>2</th>\n      <td>3</td>\n      <td>Albania</td>\n      <td>AL</td>\n      <td>ALB</td>\n      <td>Taxes on Energy (including fuel for transport)</td>\n      <td>Organisation for Economic Co-operation and Dev...</td>\n      <td>ECGTEN</td>\n      <td>Taxes on Energy (Including Fuel for Transport)</td>\n      <td>Environment, Climate Change, Government Policy...</td>\n      <td>Domestic Currency</td>\n      <td>1995</td>\n      <td>NaN</td>\n    </tr>\n    <tr>\n      <th>3</th>\n      <td>4</td>\n      <td>Albania</td>\n      <td>AL</td>\n      <td>ALB</td>\n      <td>Taxes on Energy (including fuel for transport)</td>\n      <td>Organisation for Economic Co-operation and Dev...</td>\n      <td>ECGTEN</td>\n      <td>Taxes on Energy (Including Fuel for Transport)</td>\n      <td>Environment, Climate Change, Government Policy...</td>\n      <td>Percent of GDP</td>\n      <td>1995</td>\n      <td>NaN</td>\n    </tr>\n    <tr>\n      <th>4</th>\n      <td>5</td>\n      <td>Albania</td>\n      <td>AL</td>\n      <td>ALB</td>\n      <td>Taxes on Pollution</td>\n      <td>Organisation for Economic Co-operation and Dev...</td>\n      <td>ECGTEP</td>\n      <td>Taxes on Pollution</td>\n      <td>Environment, Climate Change, Government Policy...</td>\n      <td>Domestic Currency</td>\n      <td>1995</td>\n      <td>NaN</td>\n    </tr>\n  </tbody>\n</table>\n</div>"
     },
     "execution_count": 132,
     "metadata": {},
     "output_type": "execute_result"
    }
   ],
   "source": [
    "# Regrouper les années dans une seule colonne\n",
    "tax = pd.melt(tax, id_vars=[\"ObjectId\", \"Country\", \"ISO2\", \"ISO3\", \"Indicator\", \"Source\", \"CTS Code\", \"CTS Name\", \"CTS Full Descriptor\", \"Unit\"], \n",
    "                    var_name=\"Année\", value_name=\"Taxe\")\n",
    "tax.head(5)"
   ],
   "metadata": {
    "collapsed": false,
    "ExecuteTime": {
     "end_time": "2024-03-21T00:04:41.666527Z",
     "start_time": "2024-03-21T00:04:41.653715Z"
    }
   },
   "id": "3d1dcb149c0501c9",
   "execution_count": 132
  },
  {
   "cell_type": "code",
   "outputs": [
    {
     "data": {
      "text/plain": "   Country                                           CTS Name  \\\n0  Albania                        ECGTE - Environmental Taxes   \n1  Albania                        ECGTE - Environmental Taxes   \n2  Albania  ECGTEN - Taxes on Energy (Including Fuel for T...   \n3  Albania  ECGTEN - Taxes on Energy (Including Fuel for T...   \n4  Albania                        ECGTEP - Taxes on Pollution   \n\n                Unit Année  Taxe  \n0  Domestic Currency  1995   NaN  \n1     Percent of GDP  1995   NaN  \n2  Domestic Currency  1995   NaN  \n3     Percent of GDP  1995   NaN  \n4  Domestic Currency  1995   NaN  ",
      "text/html": "<div>\n<style scoped>\n    .dataframe tbody tr th:only-of-type {\n        vertical-align: middle;\n    }\n\n    .dataframe tbody tr th {\n        vertical-align: top;\n    }\n\n    .dataframe thead th {\n        text-align: right;\n    }\n</style>\n<table border=\"1\" class=\"dataframe\">\n  <thead>\n    <tr style=\"text-align: right;\">\n      <th></th>\n      <th>Country</th>\n      <th>CTS Name</th>\n      <th>Unit</th>\n      <th>Année</th>\n      <th>Taxe</th>\n    </tr>\n  </thead>\n  <tbody>\n    <tr>\n      <th>0</th>\n      <td>Albania</td>\n      <td>ECGTE - Environmental Taxes</td>\n      <td>Domestic Currency</td>\n      <td>1995</td>\n      <td>NaN</td>\n    </tr>\n    <tr>\n      <th>1</th>\n      <td>Albania</td>\n      <td>ECGTE - Environmental Taxes</td>\n      <td>Percent of GDP</td>\n      <td>1995</td>\n      <td>NaN</td>\n    </tr>\n    <tr>\n      <th>2</th>\n      <td>Albania</td>\n      <td>ECGTEN - Taxes on Energy (Including Fuel for T...</td>\n      <td>Domestic Currency</td>\n      <td>1995</td>\n      <td>NaN</td>\n    </tr>\n    <tr>\n      <th>3</th>\n      <td>Albania</td>\n      <td>ECGTEN - Taxes on Energy (Including Fuel for T...</td>\n      <td>Percent of GDP</td>\n      <td>1995</td>\n      <td>NaN</td>\n    </tr>\n    <tr>\n      <th>4</th>\n      <td>Albania</td>\n      <td>ECGTEP - Taxes on Pollution</td>\n      <td>Domestic Currency</td>\n      <td>1995</td>\n      <td>NaN</td>\n    </tr>\n  </tbody>\n</table>\n</div>"
     },
     "execution_count": 133,
     "metadata": {},
     "output_type": "execute_result"
    }
   ],
   "source": [
    "# Concaténer les valeurs de \"CTS Code\" et \"CTS Name\" avec un séparateur \"-\"\n",
    "tax[\"CTS Name\"] = tax[\"CTS Code\"] + \" - \" + tax[\"CTS Name\"]\n",
    "\n",
    "# Supprimer la colonne \"CTS Code\" puisque ses valeurs ont été concaténées avec \"CTS Name\"\n",
    "# Supprimer les colonnes inutiles \"ObjectId\", \"ISO2\", \"Indicator\", \"Source\", \"CTS Full Descriptor\"\n",
    "tax.drop(columns=[\"CTS Code\", \"ObjectId\", \"ISO2\", \"ISO3\", \"Indicator\", \"Source\", \"CTS Full Descriptor\"], inplace=True)\n",
    "\n",
    "tax.head(5)"
   ],
   "metadata": {
    "collapsed": false,
    "ExecuteTime": {
     "end_time": "2024-03-21T00:04:41.676284Z",
     "start_time": "2024-03-21T00:04:41.666527Z"
    }
   },
   "id": "edf013563881f364",
   "execution_count": 133
  },
  {
   "cell_type": "code",
   "outputs": [
    {
     "data": {
      "text/plain": "Index(['Country', 'CTS Name', 'Unit', 'Année', 'Taxe'], dtype='object')"
     },
     "execution_count": 134,
     "metadata": {},
     "output_type": "execute_result"
    }
   ],
   "source": [
    "tax.columns"
   ],
   "metadata": {
    "collapsed": false,
    "ExecuteTime": {
     "end_time": "2024-03-21T00:04:41.679931Z",
     "start_time": "2024-03-21T00:04:41.677287Z"
    }
   },
   "id": "ac84fe82e2aa0a88",
   "execution_count": 134
  },
  {
   "cell_type": "code",
   "outputs": [
    {
     "data": {
      "text/plain": "dtype('O')"
     },
     "execution_count": 135,
     "metadata": {},
     "output_type": "execute_result"
    }
   ],
   "source": [
    "tax.columns.dtype"
   ],
   "metadata": {
    "collapsed": false,
    "ExecuteTime": {
     "end_time": "2024-03-21T00:04:41.684122Z",
     "start_time": "2024-03-21T00:04:41.680939Z"
    }
   },
   "id": "68d4bca572413c51",
   "execution_count": 135
  },
  {
   "cell_type": "code",
   "outputs": [
    {
     "data": {
      "text/plain": "Country      object\nCTS Name     object\nUnit         object\nAnnée        object\nTaxe        float64\ndtype: object"
     },
     "execution_count": 136,
     "metadata": {},
     "output_type": "execute_result"
    }
   ],
   "source": [
    "tax.dtypes"
   ],
   "metadata": {
    "collapsed": false,
    "ExecuteTime": {
     "end_time": "2024-03-21T00:04:41.688437Z",
     "start_time": "2024-03-21T00:04:41.684122Z"
    }
   },
   "id": "4f58ba6830437503",
   "execution_count": 136
  },
  {
   "cell_type": "code",
   "outputs": [
    {
     "data": {
      "text/plain": "(33453, 5)"
     },
     "execution_count": 137,
     "metadata": {},
     "output_type": "execute_result"
    }
   ],
   "source": [
    "tax.shape"
   ],
   "metadata": {
    "collapsed": false,
    "ExecuteTime": {
     "end_time": "2024-03-21T00:04:41.692344Z",
     "start_time": "2024-03-21T00:04:41.689442Z"
    }
   },
   "id": "f4159dfbb81301d6",
   "execution_count": 137
  },
  {
   "cell_type": "code",
   "outputs": [
    {
     "name": "stdout",
     "output_type": "stream",
     "text": [
      "Valeurs nulles dans le DataFrame :\n",
      "       Country  CTS Name   Unit  Année  Taxe\n",
      "0        False     False  False  False  True\n",
      "1        False     False  False  False  True\n",
      "2        False     False  False  False  True\n",
      "3        False     False  False  False  True\n",
      "4        False     False  False  False  True\n",
      "...        ...       ...    ...    ...   ...\n",
      "33448    False     False  False  False  True\n",
      "33449    False     False  False  False  True\n",
      "33450    False     False  False  False  True\n",
      "33451    False     False  False  False  True\n",
      "33452    False     False  False  False  True\n",
      "\n",
      "[33453 rows x 5 columns]\n",
      "\n",
      "Le DataFrame est vide : False\n"
     ]
    }
   ],
   "source": [
    "# Vérifier les valeurs nulles dans le DataFrame\n",
    "null_values = tax.isnull()\n",
    "\n",
    "# Vérifier si le DataFrame est vide\n",
    "is_empty = tax.empty\n",
    "\n",
    "# Afficher les valeurs nulles\n",
    "print(\"Valeurs nulles dans le DataFrame :\")\n",
    "print(null_values)\n",
    "\n",
    "# Afficher si le DataFrame est vide\n",
    "print(\"\\nLe DataFrame est vide :\", is_empty)"
   ],
   "metadata": {
    "collapsed": false,
    "ExecuteTime": {
     "end_time": "2024-03-21T00:04:41.701269Z",
     "start_time": "2024-03-21T00:04:41.693351Z"
    }
   },
   "id": "36c1705c06c68f01",
   "execution_count": 138
  },
  {
   "cell_type": "code",
   "outputs": [
    {
     "name": "stdout",
     "output_type": "stream",
     "text": [
      "Valeurs nan ou null dans la colonne 'Taxe': True\n"
     ]
    }
   ],
   "source": [
    "# Vérifier s'il y a des valeurs \"nan\" ou \"null\" dans la colonne 'Taxe'\n",
    "nan_colTaxe = tax['Taxe'].isna().any()\n",
    "\n",
    "print(\"Valeurs nan ou null dans la colonne 'Taxe':\", nan_colTaxe)"
   ],
   "metadata": {
    "collapsed": false,
    "ExecuteTime": {
     "end_time": "2024-03-21T00:04:41.705714Z",
     "start_time": "2024-03-21T00:04:41.702274Z"
    }
   },
   "id": "a7bf64f2388587fd",
   "execution_count": 139
  },
  {
   "cell_type": "code",
   "outputs": [
    {
     "name": "stdout",
     "output_type": "stream",
     "text": [
      "Nombre de NaN dans la colonne 'Taxe': 8823\n"
     ]
    }
   ],
   "source": [
    "# Compter le nombre de valeurs \"NaN\" dans la colonne 'Taxe'\n",
    "nb_nan_colTax = tax['Taxe'].isna().sum()\n",
    "\n",
    "print(\"Nombre de NaN dans la colonne 'Taxe':\", nb_nan_colTax)"
   ],
   "metadata": {
    "collapsed": false,
    "ExecuteTime": {
     "end_time": "2024-03-21T00:04:41.708817Z",
     "start_time": "2024-03-21T00:04:41.705714Z"
    }
   },
   "id": "dca3d8ea08001251",
   "execution_count": 140
  },
  {
   "cell_type": "code",
   "outputs": [
    {
     "name": "stdout",
     "output_type": "stream",
     "text": [
      "Lignes contenant des valeurs NaN :\n",
      "                  Country                                           CTS Name  \\\n",
      "0                 Albania                        ECGTE - Environmental Taxes   \n",
      "1                 Albania                        ECGTE - Environmental Taxes   \n",
      "2                 Albania  ECGTEN - Taxes on Energy (Including Fuel for T...   \n",
      "3                 Albania  ECGTEN - Taxes on Energy (Including Fuel for T...   \n",
      "4                 Albania                        ECGTEP - Taxes on Pollution   \n",
      "...                   ...                                                ...   \n",
      "33448  West Bank and Gaza                        ECGTEP - Taxes on Pollution   \n",
      "33449  West Bank and Gaza                        ECGTER - Taxes on Resources   \n",
      "33450  West Bank and Gaza                        ECGTER - Taxes on Resources   \n",
      "33451  West Bank and Gaza  ECGTET - Taxes on Transport (Excluding Fuel fo...   \n",
      "33452  West Bank and Gaza  ECGTET - Taxes on Transport (Excluding Fuel fo...   \n",
      "\n",
      "                    Unit Année  Taxe  \n",
      "0      Domestic Currency  1995   NaN  \n",
      "1         Percent of GDP  1995   NaN  \n",
      "2      Domestic Currency  1995   NaN  \n",
      "3         Percent of GDP  1995   NaN  \n",
      "4      Domestic Currency  1995   NaN  \n",
      "...                  ...   ...   ...  \n",
      "33448     Percent of GDP  2021   NaN  \n",
      "33449  Domestic Currency  2021   NaN  \n",
      "33450     Percent of GDP  2021   NaN  \n",
      "33451  Domestic Currency  2021   NaN  \n",
      "33452     Percent of GDP  2021   NaN  \n",
      "\n",
      "[8823 rows x 5 columns]\n"
     ]
    }
   ],
   "source": [
    "# Filtrer les lignes avec des valeurs  puis les afficher\n",
    "nan_rows = tax[tax.isna().any(axis=1)]\n",
    "\n",
    "print(\"Lignes contenant des valeurs NaN :\")\n",
    "print(nan_rows)"
   ],
   "metadata": {
    "collapsed": false,
    "ExecuteTime": {
     "end_time": "2024-03-21T00:04:41.718504Z",
     "start_time": "2024-03-21T00:04:41.709823Z"
    }
   },
   "id": "ab7e32da77089d0a",
   "execution_count": 141
  },
  {
   "cell_type": "code",
   "outputs": [
    {
     "name": "stdout",
     "output_type": "stream",
     "text": [
      "Nombre de NaN dans les colonnes : Country        0\n",
      "CTS Name       0\n",
      "Unit           0\n",
      "Année          0\n",
      "Taxe        8823\n",
      "dtype: int64\n",
      "Nombre de NaN dans le dataset : 8823\n"
     ]
    }
   ],
   "source": [
    "# Compter le nombre de valeurs \"NaN\" dans les colonnes\n",
    "nb_nan_colTax = tax.isna().sum()\n",
    "\n",
    "print(\"Nombre de NaN dans les colonnes :\", nb_nan_colTax)\n",
    "\n",
    "# Compter le nombre de valeurs \"NaN\" dans le dataset\n",
    "nb_nan_dataset = tax.isna().sum().sum()\n",
    "\n",
    "print(\"Nombre de NaN dans le dataset :\", nb_nan_dataset)"
   ],
   "metadata": {
    "collapsed": false,
    "ExecuteTime": {
     "end_time": "2024-03-21T00:04:41.729771Z",
     "start_time": "2024-03-21T00:04:41.718504Z"
    }
   },
   "id": "417fb059a0c19605",
   "execution_count": 142
  },
  {
   "cell_type": "code",
   "outputs": [
    {
     "name": "stdout",
     "output_type": "stream",
     "text": [
      "Index(['Country', 'CTS Name', 'Unit', 'Année', 'Taxe'], dtype='object')\n"
     ]
    }
   ],
   "source": [
    "print(tax.columns)"
   ],
   "metadata": {
    "collapsed": false,
    "ExecuteTime": {
     "end_time": "2024-03-21T00:04:41.733609Z",
     "start_time": "2024-03-21T00:04:41.729771Z"
    }
   },
   "id": "cc484073af48b8b1",
   "execution_count": 143
  },
  {
   "cell_type": "code",
   "outputs": [
    {
     "data": {
      "text/plain": "CTS Name  Country Année ECGTE - Environmental Taxes                 \\\nUnit                              Domestic Currency Percent of GDP   \n0         Albania  2015                4.399314e+10       3.067206   \n1         Albania  2016                4.781379e+10       3.247163   \n2         Albania  2017                4.754858e+10       3.066373   \n3         Albania  2018                5.114559e+10       3.124865   \n4         Albania  2019                5.341565e+10       3.157133   \n\nCTS Name ECGTEN - Taxes on Energy (Including Fuel for Transport)  \\\nUnit                                           Domestic Currency   \n0                                              3.774111e+10        \n1                                              4.094562e+10        \n2                                              4.040004e+10        \n3                                              4.352182e+10        \n4                                              4.516530e+10        \n\nCTS Name                ECGTEP - Taxes on Pollution                 \\\nUnit     Percent of GDP           Domestic Currency Percent of GDP   \n0              2.631314                1.782069e+09       0.124246   \n1              2.780726                1.879970e+09       0.127674   \n2              2.605369                1.941324e+09       0.125195   \n3              2.659072                2.226251e+09       0.136018   \n4              2.669496                2.625011e+09       0.155151   \n\nCTS Name ECGTER - Taxes on Resources                 \\\nUnit               Domestic Currency Percent of GDP   \n0                        32546493.00       0.002269   \n1                        52524339.00       0.003567   \n2                        61861356.38       0.003989   \n3                        56011991.00       0.003422   \n4                        58777099.50       0.003474   \n\nCTS Name ECGTET - Taxes on Transport (Excluding Fuel for Transport)  \\\nUnit                                              Domestic Currency   \n0                                              4.437413e+09           \n1                                              4.935684e+09           \n2                                              5.145347e+09           \n3                                              5.341506e+09           \n4                                              5.566564e+09           \n\nCTS Name                 \nUnit     Percent of GDP  \n0              0.309377  \n1              0.335195  \n2              0.331820  \n3              0.326352  \n4              0.329012  ",
      "text/html": "<div>\n<style scoped>\n    .dataframe tbody tr th:only-of-type {\n        vertical-align: middle;\n    }\n\n    .dataframe tbody tr th {\n        vertical-align: top;\n    }\n\n    .dataframe thead tr th {\n        text-align: left;\n    }\n</style>\n<table border=\"1\" class=\"dataframe\">\n  <thead>\n    <tr>\n      <th>CTS Name</th>\n      <th>Country</th>\n      <th>Année</th>\n      <th colspan=\"2\" halign=\"left\">ECGTE - Environmental Taxes</th>\n      <th colspan=\"2\" halign=\"left\">ECGTEN - Taxes on Energy (Including Fuel for Transport)</th>\n      <th colspan=\"2\" halign=\"left\">ECGTEP - Taxes on Pollution</th>\n      <th colspan=\"2\" halign=\"left\">ECGTER - Taxes on Resources</th>\n      <th colspan=\"2\" halign=\"left\">ECGTET - Taxes on Transport (Excluding Fuel for Transport)</th>\n    </tr>\n    <tr>\n      <th>Unit</th>\n      <th></th>\n      <th></th>\n      <th>Domestic Currency</th>\n      <th>Percent of GDP</th>\n      <th>Domestic Currency</th>\n      <th>Percent of GDP</th>\n      <th>Domestic Currency</th>\n      <th>Percent of GDP</th>\n      <th>Domestic Currency</th>\n      <th>Percent of GDP</th>\n      <th>Domestic Currency</th>\n      <th>Percent of GDP</th>\n    </tr>\n  </thead>\n  <tbody>\n    <tr>\n      <th>0</th>\n      <td>Albania</td>\n      <td>2015</td>\n      <td>4.399314e+10</td>\n      <td>3.067206</td>\n      <td>3.774111e+10</td>\n      <td>2.631314</td>\n      <td>1.782069e+09</td>\n      <td>0.124246</td>\n      <td>32546493.00</td>\n      <td>0.002269</td>\n      <td>4.437413e+09</td>\n      <td>0.309377</td>\n    </tr>\n    <tr>\n      <th>1</th>\n      <td>Albania</td>\n      <td>2016</td>\n      <td>4.781379e+10</td>\n      <td>3.247163</td>\n      <td>4.094562e+10</td>\n      <td>2.780726</td>\n      <td>1.879970e+09</td>\n      <td>0.127674</td>\n      <td>52524339.00</td>\n      <td>0.003567</td>\n      <td>4.935684e+09</td>\n      <td>0.335195</td>\n    </tr>\n    <tr>\n      <th>2</th>\n      <td>Albania</td>\n      <td>2017</td>\n      <td>4.754858e+10</td>\n      <td>3.066373</td>\n      <td>4.040004e+10</td>\n      <td>2.605369</td>\n      <td>1.941324e+09</td>\n      <td>0.125195</td>\n      <td>61861356.38</td>\n      <td>0.003989</td>\n      <td>5.145347e+09</td>\n      <td>0.331820</td>\n    </tr>\n    <tr>\n      <th>3</th>\n      <td>Albania</td>\n      <td>2018</td>\n      <td>5.114559e+10</td>\n      <td>3.124865</td>\n      <td>4.352182e+10</td>\n      <td>2.659072</td>\n      <td>2.226251e+09</td>\n      <td>0.136018</td>\n      <td>56011991.00</td>\n      <td>0.003422</td>\n      <td>5.341506e+09</td>\n      <td>0.326352</td>\n    </tr>\n    <tr>\n      <th>4</th>\n      <td>Albania</td>\n      <td>2019</td>\n      <td>5.341565e+10</td>\n      <td>3.157133</td>\n      <td>4.516530e+10</td>\n      <td>2.669496</td>\n      <td>2.625011e+09</td>\n      <td>0.155151</td>\n      <td>58777099.50</td>\n      <td>0.003474</td>\n      <td>5.566564e+09</td>\n      <td>0.329012</td>\n    </tr>\n  </tbody>\n</table>\n</div>"
     },
     "execution_count": 144,
     "metadata": {},
     "output_type": "execute_result"
    }
   ],
   "source": [
    "# Pivoter les données pour mettre les catégories des taxes de la colonne \"CTS Name\" en colonnes et pour mettre les unités des taxes de la colonne \"Unit\" en colonnes\n",
    "taxE = tax.pivot_table(index=['Country', 'Année'],\n",
    "                               columns=['CTS Name', 'Unit'],\n",
    "                               values='Taxe').reset_index()\n",
    "\n",
    "taxE.head(5)"
   ],
   "metadata": {
    "collapsed": false,
    "ExecuteTime": {
     "end_time": "2024-03-21T00:04:41.765001Z",
     "start_time": "2024-03-21T00:04:41.735615Z"
    }
   },
   "id": "a0aa256cc75e4e71",
   "execution_count": 144
  },
  {
   "cell_type": "code",
   "outputs": [
    {
     "name": "stdout",
     "output_type": "stream",
     "text": [
      "Index(['country', 'year', 'ECGTE_EnvTaxes_DomCCY', 'ECGTE_EnvTaxes_PctGDP',\n",
      "       'ECGTEN_TaxesEnergy_InclFuelTrans_DomCCY',\n",
      "       'ECGTEN_TaxesEnergy_InclFuelTrans_PctGDP',\n",
      "       'ECGTEP_TaxesPollution_DomCCY', 'ECGTEP_TaxesPollution_PctGDP',\n",
      "       'ECGTER_TaxesResources_DomCCY', 'ECGTER_TaxesResources_PctGDP',\n",
      "       'ECGTET_TaxesTrans_ExclFuelTrans_DomCCY',\n",
      "       'ECGTET_TaxesTrans_ExclFuelTrans_PctGDP'],\n",
      "      dtype='object')\n"
     ]
    }
   ],
   "source": [
    "# Renommer les colonnes\n",
    "taxE.columns = [\n",
    "    'country',    \n",
    "    'year',\n",
    "    'ECGTE_EnvTaxes_DomCCY',\n",
    "    'ECGTE_EnvTaxes_PctGDP',\n",
    "    'ECGTEN_TaxesEnergy_InclFuelTrans_DomCCY',\n",
    "    'ECGTEN_TaxesEnergy_InclFuelTrans_PctGDP',\n",
    "    'ECGTEP_TaxesPollution_DomCCY',\n",
    "    'ECGTEP_TaxesPollution_PctGDP',\n",
    "    'ECGTER_TaxesResources_DomCCY',\n",
    "    'ECGTER_TaxesResources_PctGDP',\n",
    "    'ECGTET_TaxesTrans_ExclFuelTrans_DomCCY',\n",
    "    'ECGTET_TaxesTrans_ExclFuelTrans_PctGDP'\n",
    "]\n",
    "# Afficher les nouvelles colonnes\n",
    "print(taxE.columns)"
   ],
   "metadata": {
    "collapsed": false,
    "ExecuteTime": {
     "end_time": "2024-03-21T00:04:41.768288Z",
     "start_time": "2024-03-21T00:04:41.765001Z"
    }
   },
   "id": "537a72b6339daa38",
   "execution_count": 145
  },
  {
   "cell_type": "code",
   "outputs": [
    {
     "name": "stdout",
     "output_type": "stream",
     "text": [
      "Nombre de NaN dans les colonnes : country                                      0\n",
      "year                                         0\n",
      "ECGTE_EnvTaxes_DomCCY                      460\n",
      "ECGTE_EnvTaxes_PctGDP                      477\n",
      "ECGTEN_TaxesEnergy_InclFuelTrans_DomCCY    344\n",
      "ECGTEN_TaxesEnergy_InclFuelTrans_PctGDP    350\n",
      "ECGTEP_TaxesPollution_DomCCY               134\n",
      "ECGTEP_TaxesPollution_PctGDP               140\n",
      "ECGTER_TaxesResources_DomCCY               146\n",
      "ECGTER_TaxesResources_PctGDP               152\n",
      "ECGTET_TaxesTrans_ExclFuelTrans_DomCCY     350\n",
      "ECGTET_TaxesTrans_ExclFuelTrans_PctGDP     367\n",
      "dtype: int64\n",
      "Nombre de NaN dans le dataset : 2920\n"
     ]
    }
   ],
   "source": [
    "# Compter le nombre de valeurs \"NaN\" dans les colonnes\n",
    "nb_nan_colTax_taxE = taxE.isna().sum()\n",
    "\n",
    "print(\"Nombre de NaN dans les colonnes :\", nb_nan_colTax_taxE)\n",
    "\n",
    "# Compter le nombre de valeurs \"NaN\" dans le dataset\n",
    "nb_nan_dataset_taxE = taxE.isna().sum().sum()\n",
    "\n",
    "print(\"Nombre de NaN dans le dataset :\", nb_nan_dataset_taxE)"
   ],
   "metadata": {
    "collapsed": false,
    "ExecuteTime": {
     "end_time": "2024-03-21T00:04:41.772999Z",
     "start_time": "2024-03-21T00:04:41.768288Z"
    }
   },
   "id": "efaa8c744c23cef4",
   "execution_count": 146
  },
  {
   "cell_type": "code",
   "outputs": [
    {
     "name": "stdout",
     "output_type": "stream",
     "text": [
      "Lignes contenant des valeurs NaN :\n",
      "                       country  year  ECGTE_EnvTaxes_DomCCY  \\\n",
      "5     Andorra, Principality of  2015           4.600367e+12   \n",
      "6     Andorra, Principality of  2016           4.616889e+12   \n",
      "7     Andorra, Principality of  2017           5.043869e+12   \n",
      "8     Andorra, Principality of  2018           5.283535e+12   \n",
      "9     Andorra, Principality of  2019           5.675649e+12   \n",
      "...                        ...   ...                    ...   \n",
      "2726                   Vietnam  1999                    NaN   \n",
      "2727                   Vietnam  2000                    NaN   \n",
      "2728                   Vietnam  2001                    NaN   \n",
      "2729                   Vietnam  2002                    NaN   \n",
      "2748                   Vietnam  2021                    NaN   \n",
      "\n",
      "      ECGTE_EnvTaxes_PctGDP  ECGTEN_TaxesEnergy_InclFuelTrans_DomCCY  \\\n",
      "5                       NaN                                      0.0   \n",
      "6                       NaN                                      0.0   \n",
      "7                       NaN                                      0.0   \n",
      "8                       NaN                                      0.0   \n",
      "9                       NaN                                      0.0   \n",
      "...                     ...                                      ...   \n",
      "2726                    NaN                                      NaN   \n",
      "2727                    NaN                                      NaN   \n",
      "2728                    NaN                                      NaN   \n",
      "2729                    NaN                                      NaN   \n",
      "2748                    NaN                                      NaN   \n",
      "\n",
      "      ECGTEN_TaxesEnergy_InclFuelTrans_PctGDP  ECGTEP_TaxesPollution_DomCCY  \\\n",
      "5                                         NaN                           0.0   \n",
      "6                                         NaN                           0.0   \n",
      "7                                         NaN                           0.0   \n",
      "8                                         NaN                           0.0   \n",
      "9                                         NaN                           0.0   \n",
      "...                                       ...                           ...   \n",
      "2726                                      NaN                           0.0   \n",
      "2727                                      NaN                           0.0   \n",
      "2728                                      NaN                           0.0   \n",
      "2729                                      NaN                           0.0   \n",
      "2748                                      NaN                           0.0   \n",
      "\n",
      "      ECGTEP_TaxesPollution_PctGDP  ECGTER_TaxesResources_DomCCY  \\\n",
      "5                              NaN                           0.0   \n",
      "6                              NaN                           0.0   \n",
      "7                              NaN                           0.0   \n",
      "8                              NaN                           0.0   \n",
      "9                              NaN                           0.0   \n",
      "...                            ...                           ...   \n",
      "2726                           0.0                           0.0   \n",
      "2727                           0.0                           0.0   \n",
      "2728                           0.0                           0.0   \n",
      "2729                           0.0                           0.0   \n",
      "2748                           0.0                           0.0   \n",
      "\n",
      "      ECGTER_TaxesResources_PctGDP  ECGTET_TaxesTrans_ExclFuelTrans_DomCCY  \\\n",
      "5                              NaN                            4.600367e+12   \n",
      "6                              NaN                            4.616889e+12   \n",
      "7                              NaN                            5.043869e+12   \n",
      "8                              NaN                            5.283535e+12   \n",
      "9                              NaN                            5.675649e+12   \n",
      "...                            ...                                     ...   \n",
      "2726                           0.0                            0.000000e+00   \n",
      "2727                           0.0                            0.000000e+00   \n",
      "2728                           0.0                            0.000000e+00   \n",
      "2729                           0.0                            0.000000e+00   \n",
      "2748                           0.0                            0.000000e+00   \n",
      "\n",
      "      ECGTET_TaxesTrans_ExclFuelTrans_PctGDP  \n",
      "5                                        NaN  \n",
      "6                                        NaN  \n",
      "7                                        NaN  \n",
      "8                                        NaN  \n",
      "9                                        NaN  \n",
      "...                                      ...  \n",
      "2726                                     0.0  \n",
      "2727                                     0.0  \n",
      "2728                                     0.0  \n",
      "2729                                     0.0  \n",
      "2748                                     0.0  \n",
      "\n",
      "[640 rows x 12 columns]\n"
     ]
    }
   ],
   "source": [
    "# Filtrer les lignes avec des valeurs nan puis les afficher\n",
    "nan_rows_taxE = taxE[taxE.isna().any(axis=1)]\n",
    "\n",
    "print(\"Lignes contenant des valeurs NaN :\")\n",
    "print(nan_rows_taxE)"
   ],
   "metadata": {
    "collapsed": false,
    "ExecuteTime": {
     "end_time": "2024-03-21T00:04:41.780073Z",
     "start_time": "2024-03-21T00:04:41.772999Z"
    }
   },
   "id": "f072cd40cfcf11b7",
   "execution_count": 147
  },
  {
   "cell_type": "code",
   "outputs": [
    {
     "data": {
      "text/plain": "country                                     object\nyear                                        object\nECGTE_EnvTaxes_DomCCY                      float64\nECGTE_EnvTaxes_PctGDP                      float64\nECGTEN_TaxesEnergy_InclFuelTrans_DomCCY    float64\nECGTEN_TaxesEnergy_InclFuelTrans_PctGDP    float64\nECGTEP_TaxesPollution_DomCCY               float64\nECGTEP_TaxesPollution_PctGDP               float64\nECGTER_TaxesResources_DomCCY               float64\nECGTER_TaxesResources_PctGDP               float64\nECGTET_TaxesTrans_ExclFuelTrans_DomCCY     float64\nECGTET_TaxesTrans_ExclFuelTrans_PctGDP     float64\ndtype: object"
     },
     "execution_count": 148,
     "metadata": {},
     "output_type": "execute_result"
    }
   ],
   "source": [
    "taxE.dtypes"
   ],
   "metadata": {
    "collapsed": false,
    "ExecuteTime": {
     "end_time": "2024-03-21T00:04:41.785965Z",
     "start_time": "2024-03-21T00:04:41.781579Z"
    }
   },
   "id": "57211c18b57425aa",
   "execution_count": 148
  },
  {
   "cell_type": "code",
   "outputs": [
    {
     "data": {
      "text/plain": "(2755, 12)"
     },
     "execution_count": 149,
     "metadata": {},
     "output_type": "execute_result"
    }
   ],
   "source": [
    "taxE.shape"
   ],
   "metadata": {
    "collapsed": false,
    "ExecuteTime": {
     "end_time": "2024-03-21T00:04:41.788998Z",
     "start_time": "2024-03-21T00:04:41.785965Z"
    }
   },
   "id": "c85743b2736dac64",
   "execution_count": 149
  },
  {
   "cell_type": "code",
   "outputs": [
    {
     "name": "stdout",
     "output_type": "stream",
     "text": [
      "Valeurs nulles dans le DataFrame :\n",
      "      country   year  ECGTE_EnvTaxes_DomCCY  ECGTE_EnvTaxes_PctGDP  \\\n",
      "0       False  False                  False                  False   \n",
      "1       False  False                  False                  False   \n",
      "2       False  False                  False                  False   \n",
      "3       False  False                  False                  False   \n",
      "4       False  False                  False                  False   \n",
      "...       ...    ...                    ...                    ...   \n",
      "2750    False  False                  False                  False   \n",
      "2751    False  False                  False                  False   \n",
      "2752    False  False                  False                  False   \n",
      "2753    False  False                  False                  False   \n",
      "2754    False  False                  False                  False   \n",
      "\n",
      "      ECGTEN_TaxesEnergy_InclFuelTrans_DomCCY  \\\n",
      "0                                       False   \n",
      "1                                       False   \n",
      "2                                       False   \n",
      "3                                       False   \n",
      "4                                       False   \n",
      "...                                       ...   \n",
      "2750                                    False   \n",
      "2751                                    False   \n",
      "2752                                    False   \n",
      "2753                                    False   \n",
      "2754                                    False   \n",
      "\n",
      "      ECGTEN_TaxesEnergy_InclFuelTrans_PctGDP  ECGTEP_TaxesPollution_DomCCY  \\\n",
      "0                                       False                         False   \n",
      "1                                       False                         False   \n",
      "2                                       False                         False   \n",
      "3                                       False                         False   \n",
      "4                                       False                         False   \n",
      "...                                       ...                           ...   \n",
      "2750                                    False                         False   \n",
      "2751                                    False                         False   \n",
      "2752                                    False                         False   \n",
      "2753                                    False                         False   \n",
      "2754                                    False                         False   \n",
      "\n",
      "      ECGTEP_TaxesPollution_PctGDP  ECGTER_TaxesResources_DomCCY  \\\n",
      "0                            False                         False   \n",
      "1                            False                         False   \n",
      "2                            False                         False   \n",
      "3                            False                         False   \n",
      "4                            False                         False   \n",
      "...                            ...                           ...   \n",
      "2750                         False                         False   \n",
      "2751                         False                         False   \n",
      "2752                         False                         False   \n",
      "2753                         False                         False   \n",
      "2754                         False                         False   \n",
      "\n",
      "      ECGTER_TaxesResources_PctGDP  ECGTET_TaxesTrans_ExclFuelTrans_DomCCY  \\\n",
      "0                            False                                   False   \n",
      "1                            False                                   False   \n",
      "2                            False                                   False   \n",
      "3                            False                                   False   \n",
      "4                            False                                   False   \n",
      "...                            ...                                     ...   \n",
      "2750                         False                                   False   \n",
      "2751                         False                                   False   \n",
      "2752                         False                                   False   \n",
      "2753                         False                                   False   \n",
      "2754                         False                                   False   \n",
      "\n",
      "      ECGTET_TaxesTrans_ExclFuelTrans_PctGDP  \n",
      "0                                      False  \n",
      "1                                      False  \n",
      "2                                      False  \n",
      "3                                      False  \n",
      "4                                      False  \n",
      "...                                      ...  \n",
      "2750                                   False  \n",
      "2751                                   False  \n",
      "2752                                   False  \n",
      "2753                                   False  \n",
      "2754                                   False  \n",
      "\n",
      "[2755 rows x 12 columns]\n",
      "\n",
      "Le DataFrame est vide : False\n"
     ]
    }
   ],
   "source": [
    "# Vérifier les valeurs nulles dans le DataFrame\n",
    "null_values = taxE.isnull()\n",
    "\n",
    "# Vérifier si le DataFrame est vide\n",
    "is_empty = taxE.empty\n",
    "\n",
    "# Afficher les valeurs nulles\n",
    "print(\"Valeurs nulles dans le DataFrame :\")\n",
    "print(null_values)\n",
    "\n",
    "# Afficher si le DataFrame est vide\n",
    "print(\"\\nLe DataFrame est vide :\", is_empty)\n"
   ],
   "metadata": {
    "collapsed": false,
    "ExecuteTime": {
     "end_time": "2024-03-21T00:04:41.794821Z",
     "start_time": "2024-03-21T00:04:41.788998Z"
    }
   },
   "id": "5e70da78b1d026f4",
   "execution_count": 150
  },
  {
   "cell_type": "code",
   "outputs": [
    {
     "name": "stdout",
     "output_type": "stream",
     "text": [
      "         country  year  ECGTE_EnvTaxes_DomCCY  ECGTE_EnvTaxes_PctGDP  \\\n",
      "152   Bangladesh  1995                    NaN                    NaN   \n",
      "153   Bangladesh  1996                    NaN                    NaN   \n",
      "154   Bangladesh  1997                    NaN                    NaN   \n",
      "155   Bangladesh  1998                    NaN                    NaN   \n",
      "156   Bangladesh  1999                    NaN                    NaN   \n",
      "...          ...   ...                    ...                    ...   \n",
      "2726     Vietnam  1999                    NaN                    NaN   \n",
      "2727     Vietnam  2000                    NaN                    NaN   \n",
      "2728     Vietnam  2001                    NaN                    NaN   \n",
      "2729     Vietnam  2002                    NaN                    NaN   \n",
      "2748     Vietnam  2021                    NaN                    NaN   \n",
      "\n",
      "      ECGTEN_TaxesEnergy_InclFuelTrans_DomCCY  \\\n",
      "152                                       0.0   \n",
      "153                                       0.0   \n",
      "154                                       0.0   \n",
      "155                                       0.0   \n",
      "156                                       0.0   \n",
      "...                                       ...   \n",
      "2726                                      NaN   \n",
      "2727                                      NaN   \n",
      "2728                                      NaN   \n",
      "2729                                      NaN   \n",
      "2748                                      NaN   \n",
      "\n",
      "      ECGTEN_TaxesEnergy_InclFuelTrans_PctGDP  ECGTEP_TaxesPollution_DomCCY  \\\n",
      "152                                       0.0                           0.0   \n",
      "153                                       0.0                           0.0   \n",
      "154                                       0.0                           0.0   \n",
      "155                                       0.0                           0.0   \n",
      "156                                       0.0                           0.0   \n",
      "...                                       ...                           ...   \n",
      "2726                                      NaN                           0.0   \n",
      "2727                                      NaN                           0.0   \n",
      "2728                                      NaN                           0.0   \n",
      "2729                                      NaN                           0.0   \n",
      "2748                                      NaN                           0.0   \n",
      "\n",
      "      ECGTEP_TaxesPollution_PctGDP  ECGTER_TaxesResources_DomCCY  \\\n",
      "152                            0.0                           0.0   \n",
      "153                            0.0                           0.0   \n",
      "154                            0.0                           0.0   \n",
      "155                            0.0                           0.0   \n",
      "156                            0.0                           0.0   \n",
      "...                            ...                           ...   \n",
      "2726                           0.0                           0.0   \n",
      "2727                           0.0                           0.0   \n",
      "2728                           0.0                           0.0   \n",
      "2729                           0.0                           0.0   \n",
      "2748                           0.0                           0.0   \n",
      "\n",
      "      ECGTER_TaxesResources_PctGDP  ECGTET_TaxesTrans_ExclFuelTrans_DomCCY  \\\n",
      "152                            0.0                                     NaN   \n",
      "153                            0.0                                     NaN   \n",
      "154                            0.0                                     NaN   \n",
      "155                            0.0                                     NaN   \n",
      "156                            0.0                                     NaN   \n",
      "...                            ...                                     ...   \n",
      "2726                           0.0                                     0.0   \n",
      "2727                           0.0                                     0.0   \n",
      "2728                           0.0                                     0.0   \n",
      "2729                           0.0                                     0.0   \n",
      "2748                           0.0                                     0.0   \n",
      "\n",
      "      ECGTET_TaxesTrans_ExclFuelTrans_PctGDP  \n",
      "152                                      NaN  \n",
      "153                                      NaN  \n",
      "154                                      NaN  \n",
      "155                                      NaN  \n",
      "156                                      NaN  \n",
      "...                                      ...  \n",
      "2726                                     0.0  \n",
      "2727                                     0.0  \n",
      "2728                                     0.0  \n",
      "2729                                     0.0  \n",
      "2748                                     0.0  \n",
      "\n",
      "[451 rows x 12 columns]\n"
     ]
    }
   ],
   "source": [
    "# Sélectionner les lignes avec NaN ou 0 dans les 10 colonnes spécifiées\n",
    "lignes_nan_zero = taxE.loc[(taxE['ECGTE_EnvTaxes_DomCCY'].isna() | (taxE['ECGTE_EnvTaxes_DomCCY'] == 0)) & (taxE['ECGTE_EnvTaxes_PctGDP'].isna() | (taxE['ECGTE_EnvTaxes_PctGDP'] == 0)) &                                (taxE['ECGTEN_TaxesEnergy_InclFuelTrans_DomCCY'].isna() | (taxE['ECGTEN_TaxesEnergy_InclFuelTrans_DomCCY'] == 0)) & (taxE['ECGTEN_TaxesEnergy_InclFuelTrans_PctGDP'].isna() | (taxE['ECGTEN_TaxesEnergy_InclFuelTrans_PctGDP'] == 0)) & (taxE['ECGTEP_TaxesPollution_DomCCY'].isna() | (taxE['ECGTEP_TaxesPollution_DomCCY'] == 0)) & (taxE['ECGTEP_TaxesPollution_PctGDP'].isna() | (taxE['ECGTEP_TaxesPollution_PctGDP'] == 0)) & (taxE['ECGTER_TaxesResources_DomCCY'].isna() | (taxE['ECGTER_TaxesResources_DomCCY'] == 0)) & (taxE['ECGTER_TaxesResources_PctGDP'].isna() | (taxE['ECGTER_TaxesResources_PctGDP'] == 0)) & (taxE['ECGTET_TaxesTrans_ExclFuelTrans_DomCCY'].isna() | (taxE['ECGTET_TaxesTrans_ExclFuelTrans_DomCCY'] == 0)) & (taxE['ECGTET_TaxesTrans_ExclFuelTrans_PctGDP'].isna() | (taxE['ECGTET_TaxesTrans_ExclFuelTrans_PctGDP'] == 0))]\n",
    "\n",
    "# Afficher les lignes sélectionnées\n",
    "print(lignes_nan_zero)"
   ],
   "metadata": {
    "collapsed": false,
    "ExecuteTime": {
     "end_time": "2024-03-21T00:04:41.803739Z",
     "start_time": "2024-03-21T00:04:41.794821Z"
    }
   },
   "id": "8c624b38e7efc9c7",
   "execution_count": 151
  },
  {
   "cell_type": "code",
   "outputs": [
    {
     "data": {
      "text/plain": "   country  year  ECGTE_EnvTaxes_DomCCY  ECGTE_EnvTaxes_PctGDP  \\\n0  Albania  2015           4.399314e+10               3.067206   \n1  Albania  2016           4.781379e+10               3.247163   \n2  Albania  2017           4.754858e+10               3.066373   \n3  Albania  2018           5.114559e+10               3.124865   \n4  Albania  2019           5.341565e+10               3.157133   \n\n   ECGTEN_TaxesEnergy_InclFuelTrans_DomCCY  \\\n0                             3.774111e+10   \n1                             4.094562e+10   \n2                             4.040004e+10   \n3                             4.352182e+10   \n4                             4.516530e+10   \n\n   ECGTEN_TaxesEnergy_InclFuelTrans_PctGDP  ECGTEP_TaxesPollution_DomCCY  \\\n0                                 2.631314                  1.782069e+09   \n1                                 2.780726                  1.879970e+09   \n2                                 2.605369                  1.941324e+09   \n3                                 2.659072                  2.226251e+09   \n4                                 2.669496                  2.625011e+09   \n\n   ECGTEP_TaxesPollution_PctGDP  ECGTER_TaxesResources_DomCCY  \\\n0                      0.124246                   32546493.00   \n1                      0.127674                   52524339.00   \n2                      0.125195                   61861356.38   \n3                      0.136018                   56011991.00   \n4                      0.155151                   58777099.50   \n\n   ECGTER_TaxesResources_PctGDP  ECGTET_TaxesTrans_ExclFuelTrans_DomCCY  \\\n0                      0.002269                            4.437413e+09   \n1                      0.003567                            4.935684e+09   \n2                      0.003989                            5.145347e+09   \n3                      0.003422                            5.341506e+09   \n4                      0.003474                            5.566564e+09   \n\n   ECGTET_TaxesTrans_ExclFuelTrans_PctGDP  \n0                                0.309377  \n1                                0.335195  \n2                                0.331820  \n3                                0.326352  \n4                                0.329012  ",
      "text/html": "<div>\n<style scoped>\n    .dataframe tbody tr th:only-of-type {\n        vertical-align: middle;\n    }\n\n    .dataframe tbody tr th {\n        vertical-align: top;\n    }\n\n    .dataframe thead th {\n        text-align: right;\n    }\n</style>\n<table border=\"1\" class=\"dataframe\">\n  <thead>\n    <tr style=\"text-align: right;\">\n      <th></th>\n      <th>country</th>\n      <th>year</th>\n      <th>ECGTE_EnvTaxes_DomCCY</th>\n      <th>ECGTE_EnvTaxes_PctGDP</th>\n      <th>ECGTEN_TaxesEnergy_InclFuelTrans_DomCCY</th>\n      <th>ECGTEN_TaxesEnergy_InclFuelTrans_PctGDP</th>\n      <th>ECGTEP_TaxesPollution_DomCCY</th>\n      <th>ECGTEP_TaxesPollution_PctGDP</th>\n      <th>ECGTER_TaxesResources_DomCCY</th>\n      <th>ECGTER_TaxesResources_PctGDP</th>\n      <th>ECGTET_TaxesTrans_ExclFuelTrans_DomCCY</th>\n      <th>ECGTET_TaxesTrans_ExclFuelTrans_PctGDP</th>\n    </tr>\n  </thead>\n  <tbody>\n    <tr>\n      <th>0</th>\n      <td>Albania</td>\n      <td>2015</td>\n      <td>4.399314e+10</td>\n      <td>3.067206</td>\n      <td>3.774111e+10</td>\n      <td>2.631314</td>\n      <td>1.782069e+09</td>\n      <td>0.124246</td>\n      <td>32546493.00</td>\n      <td>0.002269</td>\n      <td>4.437413e+09</td>\n      <td>0.309377</td>\n    </tr>\n    <tr>\n      <th>1</th>\n      <td>Albania</td>\n      <td>2016</td>\n      <td>4.781379e+10</td>\n      <td>3.247163</td>\n      <td>4.094562e+10</td>\n      <td>2.780726</td>\n      <td>1.879970e+09</td>\n      <td>0.127674</td>\n      <td>52524339.00</td>\n      <td>0.003567</td>\n      <td>4.935684e+09</td>\n      <td>0.335195</td>\n    </tr>\n    <tr>\n      <th>2</th>\n      <td>Albania</td>\n      <td>2017</td>\n      <td>4.754858e+10</td>\n      <td>3.066373</td>\n      <td>4.040004e+10</td>\n      <td>2.605369</td>\n      <td>1.941324e+09</td>\n      <td>0.125195</td>\n      <td>61861356.38</td>\n      <td>0.003989</td>\n      <td>5.145347e+09</td>\n      <td>0.331820</td>\n    </tr>\n    <tr>\n      <th>3</th>\n      <td>Albania</td>\n      <td>2018</td>\n      <td>5.114559e+10</td>\n      <td>3.124865</td>\n      <td>4.352182e+10</td>\n      <td>2.659072</td>\n      <td>2.226251e+09</td>\n      <td>0.136018</td>\n      <td>56011991.00</td>\n      <td>0.003422</td>\n      <td>5.341506e+09</td>\n      <td>0.326352</td>\n    </tr>\n    <tr>\n      <th>4</th>\n      <td>Albania</td>\n      <td>2019</td>\n      <td>5.341565e+10</td>\n      <td>3.157133</td>\n      <td>4.516530e+10</td>\n      <td>2.669496</td>\n      <td>2.625011e+09</td>\n      <td>0.155151</td>\n      <td>58777099.50</td>\n      <td>0.003474</td>\n      <td>5.566564e+09</td>\n      <td>0.329012</td>\n    </tr>\n  </tbody>\n</table>\n</div>"
     },
     "execution_count": 152,
     "metadata": {},
     "output_type": "execute_result"
    }
   ],
   "source": [
    "# Supprimer les lignes avec NaN ou 0 dans les 10 colonnes spécifiées\n",
    "taxE = taxE.drop(taxE[(taxE['ECGTE_EnvTaxes_DomCCY'].isna() | (taxE['ECGTE_EnvTaxes_DomCCY'] == 0)) & (taxE['ECGTE_EnvTaxes_PctGDP'].isna() | (taxE['ECGTE_EnvTaxes_PctGDP'] == 0)) & (taxE['ECGTEN_TaxesEnergy_InclFuelTrans_DomCCY'].isna() | (taxE['ECGTEN_TaxesEnergy_InclFuelTrans_DomCCY'] == 0)) & (taxE['ECGTEN_TaxesEnergy_InclFuelTrans_PctGDP'].isna() | (taxE['ECGTEN_TaxesEnergy_InclFuelTrans_PctGDP'] == 0)) & (taxE['ECGTEP_TaxesPollution_DomCCY'].isna() | (taxE['ECGTEP_TaxesPollution_DomCCY'] == 0)) & (taxE['ECGTEP_TaxesPollution_PctGDP'].isna() | (taxE['ECGTEP_TaxesPollution_PctGDP'] == 0)) & (taxE['ECGTER_TaxesResources_DomCCY'].isna() | (taxE['ECGTER_TaxesResources_DomCCY'] == 0)) & (taxE['ECGTER_TaxesResources_PctGDP'].isna() | (taxE['ECGTER_TaxesResources_PctGDP'] == 0)) & (taxE['ECGTET_TaxesTrans_ExclFuelTrans_DomCCY'].isna() | (taxE['ECGTET_TaxesTrans_ExclFuelTrans_DomCCY'] == 0)) & (taxE['ECGTET_TaxesTrans_ExclFuelTrans_PctGDP'].isna() | (taxE['ECGTET_TaxesTrans_ExclFuelTrans_PctGDP'] == 0))].index)\n",
    "\n",
    "# Réinitialiser les index après la suppression des lignes\n",
    "taxE = taxE.reset_index(drop=True)\n",
    "\n",
    "# Afficher le dataframe après suppression\n",
    "taxE.head(5)"
   ],
   "metadata": {
    "collapsed": false,
    "ExecuteTime": {
     "end_time": "2024-03-21T00:04:41.816079Z",
     "start_time": "2024-03-21T00:04:41.804742Z"
    }
   },
   "id": "420629a6220ad8a5",
   "execution_count": 152
  },
  {
   "cell_type": "code",
   "outputs": [],
   "source": [
    "taxE = taxE.fillna(0)"
   ],
   "metadata": {
    "collapsed": false,
    "ExecuteTime": {
     "end_time": "2024-03-21T00:04:41.819087Z",
     "start_time": "2024-03-21T00:04:41.816079Z"
    }
   },
   "id": "13c054cfb81c76b7",
   "execution_count": 153
  },
  {
   "cell_type": "code",
   "outputs": [],
   "source": [
    "taxE.to_csv('./output/Tax_Energy.csv', index=False)"
   ],
   "metadata": {
    "collapsed": false,
    "ExecuteTime": {
     "end_time": "2024-03-21T00:04:41.831862Z",
     "start_time": "2024-03-21T00:04:41.819087Z"
    }
   },
   "id": "f16bf5453b05c128",
   "execution_count": 154
  },
  {
   "cell_type": "code",
   "outputs": [],
   "source": [
    "# Changement de types\n",
    "wec['year'] = wec['year'].astype(int)\n",
    "data['year'] = data['year'].astype(int)\n",
    "taxE['year'] = taxE['year'].astype(int)\n",
    "\n",
    "wec['country'] = wec['country'].astype(str)\n",
    "data['country'] = data['country'].astype(str)\n",
    "taxE['country'] = taxE['country'].astype(str)\n",
    "\n",
    "# Fusion des valeurs de Co2\n",
    "wec = pd.merge(wec, taxE, on=[\"country\", \"year\"], how='left')"
   ],
   "metadata": {
    "collapsed": false,
    "ExecuteTime": {
     "end_time": "2024-03-21T00:04:41.858487Z",
     "start_time": "2024-03-21T00:04:41.832871Z"
    }
   },
   "id": "9bbdc521affc357a",
   "execution_count": 155
  },
  {
   "cell_type": "code",
   "outputs": [
    {
     "data": {
      "text/plain": "         country      continent  year iso_code  population  gdp_usd  \\\n0  ASEAN (Ember)  ASEAN (Ember)  2000      NaN         NaN      NaN   \n1  ASEAN (Ember)  ASEAN (Ember)  2001      NaN         NaN      NaN   \n2  ASEAN (Ember)  ASEAN (Ember)  2002      NaN         NaN      NaN   \n3  ASEAN (Ember)  ASEAN (Ember)  2003      NaN         NaN      NaN   \n4  ASEAN (Ember)  ASEAN (Ember)  2004      NaN         NaN      NaN   \n\n   biofuel_cons_change_pct  biofuel_cons_change_twh  \\\n0                      NaN                      NaN   \n1                      NaN                      NaN   \n2                      NaN                      NaN   \n3                      NaN                      NaN   \n4                      NaN                      NaN   \n\n   biofuel_cons_per_capita_kwh  biofuel_consumption_twh  ...  \\\n0                          NaN                      NaN  ...   \n1                          NaN                      NaN  ...   \n2                          NaN                      NaN  ...   \n3                          NaN                      NaN  ...   \n4                          NaN                      NaN  ...   \n\n   ECGTE_EnvTaxes_DomCCY  ECGTE_EnvTaxes_PctGDP  \\\n0                    NaN                    NaN   \n1                    NaN                    NaN   \n2                    NaN                    NaN   \n3                    NaN                    NaN   \n4                    NaN                    NaN   \n\n   ECGTEN_TaxesEnergy_InclFuelTrans_DomCCY  \\\n0                                      NaN   \n1                                      NaN   \n2                                      NaN   \n3                                      NaN   \n4                                      NaN   \n\n   ECGTEN_TaxesEnergy_InclFuelTrans_PctGDP  ECGTEP_TaxesPollution_DomCCY  \\\n0                                      NaN                           NaN   \n1                                      NaN                           NaN   \n2                                      NaN                           NaN   \n3                                      NaN                           NaN   \n4                                      NaN                           NaN   \n\n   ECGTEP_TaxesPollution_PctGDP  ECGTER_TaxesResources_DomCCY  \\\n0                           NaN                           NaN   \n1                           NaN                           NaN   \n2                           NaN                           NaN   \n3                           NaN                           NaN   \n4                           NaN                           NaN   \n\n   ECGTER_TaxesResources_PctGDP  ECGTET_TaxesTrans_ExclFuelTrans_DomCCY  \\\n0                           NaN                                     NaN   \n1                           NaN                                     NaN   \n2                           NaN                                     NaN   \n3                           NaN                                     NaN   \n4                           NaN                                     NaN   \n\n   ECGTET_TaxesTrans_ExclFuelTrans_PctGDP  \n0                                     NaN  \n1                                     NaN  \n2                                     NaN  \n3                                     NaN  \n4                                     NaN  \n\n[5 rows x 141 columns]",
      "text/html": "<div>\n<style scoped>\n    .dataframe tbody tr th:only-of-type {\n        vertical-align: middle;\n    }\n\n    .dataframe tbody tr th {\n        vertical-align: top;\n    }\n\n    .dataframe thead th {\n        text-align: right;\n    }\n</style>\n<table border=\"1\" class=\"dataframe\">\n  <thead>\n    <tr style=\"text-align: right;\">\n      <th></th>\n      <th>country</th>\n      <th>continent</th>\n      <th>year</th>\n      <th>iso_code</th>\n      <th>population</th>\n      <th>gdp_usd</th>\n      <th>biofuel_cons_change_pct</th>\n      <th>biofuel_cons_change_twh</th>\n      <th>biofuel_cons_per_capita_kwh</th>\n      <th>biofuel_consumption_twh</th>\n      <th>...</th>\n      <th>ECGTE_EnvTaxes_DomCCY</th>\n      <th>ECGTE_EnvTaxes_PctGDP</th>\n      <th>ECGTEN_TaxesEnergy_InclFuelTrans_DomCCY</th>\n      <th>ECGTEN_TaxesEnergy_InclFuelTrans_PctGDP</th>\n      <th>ECGTEP_TaxesPollution_DomCCY</th>\n      <th>ECGTEP_TaxesPollution_PctGDP</th>\n      <th>ECGTER_TaxesResources_DomCCY</th>\n      <th>ECGTER_TaxesResources_PctGDP</th>\n      <th>ECGTET_TaxesTrans_ExclFuelTrans_DomCCY</th>\n      <th>ECGTET_TaxesTrans_ExclFuelTrans_PctGDP</th>\n    </tr>\n  </thead>\n  <tbody>\n    <tr>\n      <th>0</th>\n      <td>ASEAN (Ember)</td>\n      <td>ASEAN (Ember)</td>\n      <td>2000</td>\n      <td>NaN</td>\n      <td>NaN</td>\n      <td>NaN</td>\n      <td>NaN</td>\n      <td>NaN</td>\n      <td>NaN</td>\n      <td>NaN</td>\n      <td>...</td>\n      <td>NaN</td>\n      <td>NaN</td>\n      <td>NaN</td>\n      <td>NaN</td>\n      <td>NaN</td>\n      <td>NaN</td>\n      <td>NaN</td>\n      <td>NaN</td>\n      <td>NaN</td>\n      <td>NaN</td>\n    </tr>\n    <tr>\n      <th>1</th>\n      <td>ASEAN (Ember)</td>\n      <td>ASEAN (Ember)</td>\n      <td>2001</td>\n      <td>NaN</td>\n      <td>NaN</td>\n      <td>NaN</td>\n      <td>NaN</td>\n      <td>NaN</td>\n      <td>NaN</td>\n      <td>NaN</td>\n      <td>...</td>\n      <td>NaN</td>\n      <td>NaN</td>\n      <td>NaN</td>\n      <td>NaN</td>\n      <td>NaN</td>\n      <td>NaN</td>\n      <td>NaN</td>\n      <td>NaN</td>\n      <td>NaN</td>\n      <td>NaN</td>\n    </tr>\n    <tr>\n      <th>2</th>\n      <td>ASEAN (Ember)</td>\n      <td>ASEAN (Ember)</td>\n      <td>2002</td>\n      <td>NaN</td>\n      <td>NaN</td>\n      <td>NaN</td>\n      <td>NaN</td>\n      <td>NaN</td>\n      <td>NaN</td>\n      <td>NaN</td>\n      <td>...</td>\n      <td>NaN</td>\n      <td>NaN</td>\n      <td>NaN</td>\n      <td>NaN</td>\n      <td>NaN</td>\n      <td>NaN</td>\n      <td>NaN</td>\n      <td>NaN</td>\n      <td>NaN</td>\n      <td>NaN</td>\n    </tr>\n    <tr>\n      <th>3</th>\n      <td>ASEAN (Ember)</td>\n      <td>ASEAN (Ember)</td>\n      <td>2003</td>\n      <td>NaN</td>\n      <td>NaN</td>\n      <td>NaN</td>\n      <td>NaN</td>\n      <td>NaN</td>\n      <td>NaN</td>\n      <td>NaN</td>\n      <td>...</td>\n      <td>NaN</td>\n      <td>NaN</td>\n      <td>NaN</td>\n      <td>NaN</td>\n      <td>NaN</td>\n      <td>NaN</td>\n      <td>NaN</td>\n      <td>NaN</td>\n      <td>NaN</td>\n      <td>NaN</td>\n    </tr>\n    <tr>\n      <th>4</th>\n      <td>ASEAN (Ember)</td>\n      <td>ASEAN (Ember)</td>\n      <td>2004</td>\n      <td>NaN</td>\n      <td>NaN</td>\n      <td>NaN</td>\n      <td>NaN</td>\n      <td>NaN</td>\n      <td>NaN</td>\n      <td>NaN</td>\n      <td>...</td>\n      <td>NaN</td>\n      <td>NaN</td>\n      <td>NaN</td>\n      <td>NaN</td>\n      <td>NaN</td>\n      <td>NaN</td>\n      <td>NaN</td>\n      <td>NaN</td>\n      <td>NaN</td>\n      <td>NaN</td>\n    </tr>\n  </tbody>\n</table>\n<p>5 rows × 141 columns</p>\n</div>"
     },
     "execution_count": 156,
     "metadata": {},
     "output_type": "execute_result"
    }
   ],
   "source": [
    "# Créer un dictionnaire pour faire le mapping entre les pays et les continents\n",
    "continent_mapping = {\n",
    "    'ASEAN (Ember)': 'ASEAN (Ember)', 'Afghanistan': 'Asia', 'Africa': 'Africa', 'Africa (EI)': 'Africa (EI)', 'Africa (Ember)': 'Africa (Ember)', 'Africa (Shift)': 'Africa (Shift)', 'Albania': 'Europe', 'Algeria': 'Africa', 'American Samoa': 'Oceania', 'Angola': 'Africa', 'Antarctica': 'Antarctica', 'Antigua and Barbuda': 'North America', 'Argentina': 'South America', 'Armenia': 'Asia', 'Aruba': 'North America', 'Asia': 'Asia', 'Asia & Oceania (EIA)': 'Asia & Oceania (EIA)', 'Asia (Ember)': 'Asia (Ember)', 'Asia Pacific (EI)': 'Asia Pacific (EI)', 'Asia and Oceania (Shift)': 'Asia and Oceania (Shift)', 'Australia': 'Oceania', 'Australia and New Zealand (EIA)': 'Australia and New Zealand (EIA)', 'Austria': 'Europe', 'Azerbaijan': 'Asia', 'Bahamas': 'North America', 'Bahrain': 'Asia', 'Bangladesh': 'Asia', 'Barbados': 'North America', 'Belarus': 'Europe', 'Belgium': 'Europe', 'Belize': 'North America', 'Benin': 'Africa', 'Bermuda': 'North America', 'Bhutan': 'Asia', 'Bolivia': 'South America', 'Bosnia and Herzegovina': 'Europe', 'Botswana': 'Africa', 'Brazil': 'South America', 'British Virgin Islands': 'North America', 'Brunei': 'Asia', 'Bulgaria': 'Europe', 'Burkina Faso': 'Africa', 'Burundi': 'Africa', 'CIS (EI)': 'CIS (EI)', 'Cambodia': 'Asia', 'Cameroon': 'Africa', 'Canada': 'North America', 'Cape Verde': 'Africa', 'Cayman Islands': 'North America', 'Central & South America (EIA)': 'Central & South America (EIA)', 'Central African Republic': 'Africa', 'Central America (EI)': 'Central America (EI)', 'Central and South America (Shift)': 'Central and South America (Shift)', 'Chad': 'Africa', 'Chile': 'South America', 'China': 'Asia', 'Colombia': 'South America', 'Comoros': 'Africa', 'Congo': 'Africa', 'Cook Islands': 'Oceania', 'Costa Rica': 'North America', 'Cote d''Ivoire': 'Africa', 'Croatia': 'Europe', 'Cuba': 'North America', 'Cyprus': 'Europe', 'Czechia': 'Europe', 'Czechoslovakia': 'Europe', 'Democratic Republic of Congo': 'Africa', 'Denmark': 'Europe', 'Djibouti': 'Africa', 'Dominica': 'North America', 'Dominican Republic': 'North America', 'EU28 (Shift)': 'EU28 (Shift)', 'East Germany (EIA)': 'East Germany (EIA)', 'East Timor': 'Asia', 'Eastern Africa (EI)': 'Eastern Africa (EI)', 'Ecuador': 'South America', 'Egypt': 'Africa', 'El Salvador': 'North America', 'Equatorial Guinea': 'Africa', 'Eritrea': 'Africa', 'Estonia': 'Europe', 'Eswatini': 'Africa', 'Ethiopia': 'Africa', 'Eurasia (EIA)': 'Eurasia (EIA)', 'Eurasia (Shift)': 'Eurasia (Shift)', 'Europe': 'Europe', 'Europe (EI)': 'Europe (EI)', 'Europe (Ember)': 'Europe (Ember)', 'Europe (Shift)': 'Europe (Shift)', 'European Union (27)': 'European Union (27)', 'European Union (EIA)': 'European Union (EIA)', 'Falkland Islands': 'South America', 'Faroe Islands': 'Europe', 'Fiji': 'Oceania', 'Finland': 'Europe', 'France': 'Europe', 'French Guiana': 'South America', 'French Polynesia': 'Oceania', 'G20 (Ember)': 'G20 (Ember)', 'G7 (Ember)': 'G7 (Ember)', 'Gabon': 'Africa', 'Gambia': 'Africa', 'Georgia': 'Europe', 'Germany': 'Europe', 'Ghana': 'Africa', 'Gibraltar': 'Europe', 'Greece': 'Europe', 'Greenland': 'North America', 'Grenada': 'North America', 'Guadeloupe': 'North America', 'Guam': 'Oceania', 'Guatemala': 'North America', 'Guinea': 'Africa', 'Guinea-Bissau': 'Africa', 'Guyana': 'South America', 'Haiti': 'North America', 'Hawaiian Trade Zone (EIA)': 'Hawaiian Trade Zone (EIA)', 'High-income countries': 'High-income countries', 'Honduras': 'North America', 'Hong Kong': 'Asia', 'Hungary': 'Europe', 'IEO - Africa (EIA)': 'IEO - Africa (EIA)', 'IEO - Middle East (EIA)': 'IEO - Middle East (EIA)', 'IEO OECD - Europe (EIA)': 'IEO OECD - Europe (EIA)', 'Iceland': 'Europe', 'India': 'Asia', 'Indonesia': 'Asia', 'Iran': 'Asia', 'Iraq': 'Asia', 'Ireland': 'Europe', 'Israel': 'Asia', 'Italy': 'Europe', 'Jamaica': 'North America', 'Japan': 'Asia', 'Jordan': 'Asia', 'Kazakhstan': 'Europe', 'Kenya': 'Africa', 'Kiribati': 'Oceania', 'Kosovo': 'Europe', 'Kuwait': 'Asia', 'Kyrgyzstan': 'Asia', 'Laos': 'Asia', 'Latin America and Caribbean (Ember)': 'Latin America and Caribbean (Ember)', 'Latvia': 'Europe', 'Lebanon': 'Asia', 'Lesotho': 'Africa', 'Liberia': 'Africa', 'Libya': 'Africa', 'Lithuania': 'Europe', 'Low-income countries': 'Low-income countries', 'Lower-middle-income countries': 'Lower-middle-income countries', 'Luxembourg': 'Europe', 'Macao': 'Asia', 'Madagascar': 'Africa', 'Malawi': 'Africa', 'Malaysia': 'Asia', 'Maldives': 'Asia', 'Mali': 'Africa', 'Malta': 'Europe', 'Martinique': 'North America', 'Mauritania': 'Africa', 'Mauritius': 'Africa', 'Mexico': 'North America',' Mexico,'  'Chile, and other OECD Americas (EIA)': 'Mexico, Chile, and other OECD Americas (EIA)', 'Micronesia (country)': 'Oceania', 'Middle Africa (EI)': 'Middle Africa (EI)', 'Middle East (EI)': 'Middle East (EI)', 'Middle East (EIA)': 'Middle East (EIA)', 'Middle East (Ember)': 'Middle East (Ember)', 'Middle East (Shift)': 'Middle East (Shift)', 'Moldova': 'Europe', 'Mongolia': 'Asia', 'Montenegro': 'Europe', 'Montserrat': 'North America', 'Morocco': 'Africa', 'Mozambique': 'Africa', 'Myanmar': 'Asia', 'Namibia': 'Africa', 'Nauru': 'Oceania', 'Nepal': 'Asia', 'Netherlands': 'Europe', 'Netherlands Antilles': 'North America', 'New Caledonia': 'Oceania', 'New Zealand': 'Oceania', 'Nicaragua': 'North America', 'Niger': 'Africa', 'Nigeria': 'Africa', 'Niue': 'Oceania', 'Non-OECD (EI)': 'Non-OECD (EI)', 'Non-OECD (EIA)': 'Non-OECD (EIA)', 'Non-OPEC (EI)': 'Non-OPEC (EI)', 'Non-OPEC (EIA)': 'Non-OPEC (EIA)', 'North America': 'North America', 'North America (EI)': 'North America (EI)', 'North America (Ember)': 'North America (Ember)', 'North America (Shift)': 'North America (Shift)', 'North Korea': 'Asia', 'North Macedonia': 'Europe', 'Northern Mariana Islands': 'Oceania', 'Norway': 'Europe', 'OECD (EI)': 'OECD (EI)', 'OECD (EIA)': 'OECD (EIA)', 'OECD (Ember)': 'OECD (Ember)', 'OECD (Shift)': 'OECD (Shift)', 'OECD - Asia And Oceania (EIA)': 'OECD - Asia And Oceania (EIA)', 'OECD - Europe (EIA)': 'OECD - Europe (EIA)', 'OECD - North America (EIA)': 'OECD - North America (EIA)', 'OPEC (EI)': 'OPEC (EI)', 'OPEC (EIA)': 'OPEC (EIA)', 'OPEC (Shift)': 'OPEC (Shift)', 'OPEC - Africa (EIA)': 'OPEC - Africa (EIA)', 'OPEC - South America (EIA)': 'OPEC - South America (EIA)', 'Oceania': 'Oceania', 'Oceania (Ember)': 'Oceania (Ember)', 'Oman': 'Asia', 'Other Non-OECD - America (EIA)': 'Other Non-OECD - America (EIA)', 'Other Non-OECD - Asia (EIA)': 'Other Non-OECD - Asia (EIA)', 'Other Non-OECD - Europe and Eurasia (EIA)': 'Other Non-OECD - Europe and Eurasia (EIA)', 'Pakistan': 'Asia', 'Palestine': 'Asia', 'Panama': 'North America', 'Papua New Guinea': 'Oceania', 'Paraguay': 'South America', 'Persian Gulf (EIA)': 'Persian Gulf (EIA)', 'Persian Gulf (Shift)': 'Persian Gulf (Shift)', 'Peru': 'South America', 'Philippines': 'Asia', 'Poland': 'Europe', 'Portugal': 'Europe', 'Puerto Rico': 'North America', 'Qatar': 'Asia', 'Reunion': 'Africa', 'Romania': 'Europe', 'Russia': 'Europe', 'Rwanda': 'Africa', 'Saint Helena': 'Africa', 'Saint Kitts and Nevis': 'North America', 'Saint Lucia': 'North America', 'Saint Pierre and Miquelon': 'North America', 'Saint Vincent and the Grenadines': 'North America', 'Samoa': 'Oceania', 'Sao Tome and Principe': 'Africa', 'Saudi Arabia': 'Asia', 'Senegal': 'Africa', 'Serbia': 'Europe', 'Serbia and Montenegro': 'Europe', 'Seychelles': 'Africa', 'Sierra Leone': 'Africa', 'Singapore': 'Asia', 'Slovakia': 'Europe', 'Slovenia': 'Europe', 'Solomon Islands': 'Oceania', 'Somalia': 'Africa', 'South Africa': 'Africa', 'South America': 'South America', 'South Korea': 'Asia', 'South Korea and other OECD Asia (EIA)': 'South Korea and other OECD Asia (EIA)', 'South Sudan': 'Africa', 'South and Central America (EI)': 'South and Central America (EI)', 'Spain': 'Europe', 'Sri Lanka': 'Asia', 'Sudan': 'Africa', 'Suriname': 'South America', 'Sweden': 'Europe', 'Switzerland': 'Europe', 'Syria': 'Asia', 'Taiwan': 'Asia', 'Tajikistan': 'Asia', 'Tanzania': 'Africa', 'Thailand': 'Asia', 'Togo': 'Africa', 'Tonga': 'Oceania', 'Trinidad and Tobago': 'North America', 'Tunisia': 'Africa', 'Turkey': 'Europe', 'Turkmenistan': 'Asia', 'Turks and Caicos Islands': 'North America', 'Tuvalu': 'Oceania', 'U.S. Pacific Islands (EIA)': 'U.S. Pacific Islands (EIA)', 'U.S. Territories (EIA)': 'U.S. Territories (EIA)', 'USSR': 'USSR', 'Uganda': 'Africa', 'Ukraine': 'Europe', 'United Arab Emirates': 'Asia', 'United Kingdom': 'Europe', 'United States': 'North America', 'United States Pacific Islands (Shift)': 'United States Pacific Islands (Shift)', 'United States Territories (Shift)': 'United States Territories (Shift)', 'United States Virgin Islands': 'North America', 'Upper-middle-income countries': 'Upper-middle-income countries', 'Uruguay': 'South America', 'Uzbekistan': 'Asia', 'Vanuatu': 'Oceania', 'Venezuela': 'South America', 'Vietnam': 'Asia', 'Wake Island (EIA)': 'Wake Island (EIA)', 'Wake Island (Shift)': 'Wake Island (Shift)', 'West Germany (EIA)': 'West Germany (EIA)', 'Western Africa (EI)': 'Western Africa (EI)', 'Western Sahara': 'Western Sahara', 'World': 'World', 'Yemen': 'Asia', 'Yugoslavia': 'Europe', 'Zambia': 'Africa', 'Zimbabwe': 'Africa', \n",
    "}\n",
    "\n",
    "# Appliquer le mapping pour créer une nouvelle colonne \"continent\"\n",
    "wec['continent'] = wec['country'].map(continent_mapping)\n",
    "\n",
    "# Insérer la colonne \"continent\" juste après la colonne \"country\"\n",
    "wec.insert(wec.columns.get_loc('country') + 1, 'continent', wec.pop('continent'))\n",
    "\n",
    "wec.head(5)"
   ],
   "metadata": {
    "collapsed": false,
    "ExecuteTime": {
     "end_time": "2024-03-21T00:04:41.912312Z",
     "start_time": "2024-03-21T00:04:41.858487Z"
    }
   },
   "id": "e8555dd34bd20639",
   "execution_count": 156
  },
  {
   "cell_type": "code",
   "outputs": [
    {
     "data": {
      "text/plain": "         country      continent         region  year iso_code  population  \\\n0  ASEAN (Ember)  ASEAN (Ember)  ASEAN (Ember)  2000      NaN         NaN   \n1  ASEAN (Ember)  ASEAN (Ember)  ASEAN (Ember)  2001      NaN         NaN   \n2  ASEAN (Ember)  ASEAN (Ember)  ASEAN (Ember)  2002      NaN         NaN   \n3  ASEAN (Ember)  ASEAN (Ember)  ASEAN (Ember)  2003      NaN         NaN   \n4  ASEAN (Ember)  ASEAN (Ember)  ASEAN (Ember)  2004      NaN         NaN   \n\n   gdp_usd  biofuel_cons_change_pct  biofuel_cons_change_twh  \\\n0      NaN                      NaN                      NaN   \n1      NaN                      NaN                      NaN   \n2      NaN                      NaN                      NaN   \n3      NaN                      NaN                      NaN   \n4      NaN                      NaN                      NaN   \n\n   biofuel_cons_per_capita_kwh  ...  ECGTE_EnvTaxes_DomCCY  \\\n0                          NaN  ...                    NaN   \n1                          NaN  ...                    NaN   \n2                          NaN  ...                    NaN   \n3                          NaN  ...                    NaN   \n4                          NaN  ...                    NaN   \n\n   ECGTE_EnvTaxes_PctGDP  ECGTEN_TaxesEnergy_InclFuelTrans_DomCCY  \\\n0                    NaN                                      NaN   \n1                    NaN                                      NaN   \n2                    NaN                                      NaN   \n3                    NaN                                      NaN   \n4                    NaN                                      NaN   \n\n   ECGTEN_TaxesEnergy_InclFuelTrans_PctGDP  ECGTEP_TaxesPollution_DomCCY  \\\n0                                      NaN                           NaN   \n1                                      NaN                           NaN   \n2                                      NaN                           NaN   \n3                                      NaN                           NaN   \n4                                      NaN                           NaN   \n\n   ECGTEP_TaxesPollution_PctGDP  ECGTER_TaxesResources_DomCCY  \\\n0                           NaN                           NaN   \n1                           NaN                           NaN   \n2                           NaN                           NaN   \n3                           NaN                           NaN   \n4                           NaN                           NaN   \n\n   ECGTER_TaxesResources_PctGDP  ECGTET_TaxesTrans_ExclFuelTrans_DomCCY  \\\n0                           NaN                                     NaN   \n1                           NaN                                     NaN   \n2                           NaN                                     NaN   \n3                           NaN                                     NaN   \n4                           NaN                                     NaN   \n\n   ECGTET_TaxesTrans_ExclFuelTrans_PctGDP  \n0                                     NaN  \n1                                     NaN  \n2                                     NaN  \n3                                     NaN  \n4                                     NaN  \n\n[5 rows x 142 columns]",
      "text/html": "<div>\n<style scoped>\n    .dataframe tbody tr th:only-of-type {\n        vertical-align: middle;\n    }\n\n    .dataframe tbody tr th {\n        vertical-align: top;\n    }\n\n    .dataframe thead th {\n        text-align: right;\n    }\n</style>\n<table border=\"1\" class=\"dataframe\">\n  <thead>\n    <tr style=\"text-align: right;\">\n      <th></th>\n      <th>country</th>\n      <th>continent</th>\n      <th>region</th>\n      <th>year</th>\n      <th>iso_code</th>\n      <th>population</th>\n      <th>gdp_usd</th>\n      <th>biofuel_cons_change_pct</th>\n      <th>biofuel_cons_change_twh</th>\n      <th>biofuel_cons_per_capita_kwh</th>\n      <th>...</th>\n      <th>ECGTE_EnvTaxes_DomCCY</th>\n      <th>ECGTE_EnvTaxes_PctGDP</th>\n      <th>ECGTEN_TaxesEnergy_InclFuelTrans_DomCCY</th>\n      <th>ECGTEN_TaxesEnergy_InclFuelTrans_PctGDP</th>\n      <th>ECGTEP_TaxesPollution_DomCCY</th>\n      <th>ECGTEP_TaxesPollution_PctGDP</th>\n      <th>ECGTER_TaxesResources_DomCCY</th>\n      <th>ECGTER_TaxesResources_PctGDP</th>\n      <th>ECGTET_TaxesTrans_ExclFuelTrans_DomCCY</th>\n      <th>ECGTET_TaxesTrans_ExclFuelTrans_PctGDP</th>\n    </tr>\n  </thead>\n  <tbody>\n    <tr>\n      <th>0</th>\n      <td>ASEAN (Ember)</td>\n      <td>ASEAN (Ember)</td>\n      <td>ASEAN (Ember)</td>\n      <td>2000</td>\n      <td>NaN</td>\n      <td>NaN</td>\n      <td>NaN</td>\n      <td>NaN</td>\n      <td>NaN</td>\n      <td>NaN</td>\n      <td>...</td>\n      <td>NaN</td>\n      <td>NaN</td>\n      <td>NaN</td>\n      <td>NaN</td>\n      <td>NaN</td>\n      <td>NaN</td>\n      <td>NaN</td>\n      <td>NaN</td>\n      <td>NaN</td>\n      <td>NaN</td>\n    </tr>\n    <tr>\n      <th>1</th>\n      <td>ASEAN (Ember)</td>\n      <td>ASEAN (Ember)</td>\n      <td>ASEAN (Ember)</td>\n      <td>2001</td>\n      <td>NaN</td>\n      <td>NaN</td>\n      <td>NaN</td>\n      <td>NaN</td>\n      <td>NaN</td>\n      <td>NaN</td>\n      <td>...</td>\n      <td>NaN</td>\n      <td>NaN</td>\n      <td>NaN</td>\n      <td>NaN</td>\n      <td>NaN</td>\n      <td>NaN</td>\n      <td>NaN</td>\n      <td>NaN</td>\n      <td>NaN</td>\n      <td>NaN</td>\n    </tr>\n    <tr>\n      <th>2</th>\n      <td>ASEAN (Ember)</td>\n      <td>ASEAN (Ember)</td>\n      <td>ASEAN (Ember)</td>\n      <td>2002</td>\n      <td>NaN</td>\n      <td>NaN</td>\n      <td>NaN</td>\n      <td>NaN</td>\n      <td>NaN</td>\n      <td>NaN</td>\n      <td>...</td>\n      <td>NaN</td>\n      <td>NaN</td>\n      <td>NaN</td>\n      <td>NaN</td>\n      <td>NaN</td>\n      <td>NaN</td>\n      <td>NaN</td>\n      <td>NaN</td>\n      <td>NaN</td>\n      <td>NaN</td>\n    </tr>\n    <tr>\n      <th>3</th>\n      <td>ASEAN (Ember)</td>\n      <td>ASEAN (Ember)</td>\n      <td>ASEAN (Ember)</td>\n      <td>2003</td>\n      <td>NaN</td>\n      <td>NaN</td>\n      <td>NaN</td>\n      <td>NaN</td>\n      <td>NaN</td>\n      <td>NaN</td>\n      <td>...</td>\n      <td>NaN</td>\n      <td>NaN</td>\n      <td>NaN</td>\n      <td>NaN</td>\n      <td>NaN</td>\n      <td>NaN</td>\n      <td>NaN</td>\n      <td>NaN</td>\n      <td>NaN</td>\n      <td>NaN</td>\n    </tr>\n    <tr>\n      <th>4</th>\n      <td>ASEAN (Ember)</td>\n      <td>ASEAN (Ember)</td>\n      <td>ASEAN (Ember)</td>\n      <td>2004</td>\n      <td>NaN</td>\n      <td>NaN</td>\n      <td>NaN</td>\n      <td>NaN</td>\n      <td>NaN</td>\n      <td>NaN</td>\n      <td>...</td>\n      <td>NaN</td>\n      <td>NaN</td>\n      <td>NaN</td>\n      <td>NaN</td>\n      <td>NaN</td>\n      <td>NaN</td>\n      <td>NaN</td>\n      <td>NaN</td>\n      <td>NaN</td>\n      <td>NaN</td>\n    </tr>\n  </tbody>\n</table>\n<p>5 rows × 142 columns</p>\n</div>"
     },
     "execution_count": 157,
     "metadata": {},
     "output_type": "execute_result"
    }
   ],
   "source": [
    "# Créer un dictionnaire pour faire le mapping entre les pays et les régions géographiques\n",
    "region_mapping = {\n",
    "'Afghanistan': 'South Asia', 'Albania': 'Eastern Europe and Central Asia', 'Algeria': 'Middle East and North Africa', 'American Samoa': 'East Asia & Pacific', 'Angola': 'Sub-Saharan Africa', 'Antigua and Barbuda': 'Americas & Caribbean', 'Argentina': 'Americas & Caribbean', 'Armenia': 'Eastern Europe and Central Asia', 'Aruba': 'Americas & Caribbean', 'Australia': 'East Asia & Pacific', 'Austria': 'Eastern Europe and Central Asia', 'Azerbaijan': 'Eastern Europe and Central Asia', 'Bahamas': 'Americas & Caribbean', 'Bahrain': 'Middle East and North Africa', 'Bangladesh': 'South Asia', 'Barbados': 'Americas & Caribbean', 'Belarus': 'Eastern Europe and Central Asia', 'Belgium': 'Western Europe', 'Belize': 'Americas & Caribbean', 'Benin': 'Sub-Saharan Africa', 'Bermuda': 'Americas & Caribbean', 'Bhutan': 'South Asia', 'Bolivia': 'Americas & Caribbean', 'Bosnia and Herzegovina': 'Eastern Europe and Central Asia', 'Botswana': 'Sub-Saharan Africa', 'Brazil': 'Americas & Caribbean', 'British Virgin Islands': 'Americas & Caribbean', 'Brunei': 'East Asia & Pacific', 'Bulgaria': 'Eastern Europe and Central Asia', 'Burkina Faso': 'Sub-Saharan Africa', 'Burundi': 'Sub-Saharan Africa', 'Cambodia': 'East Asia & Pacific', 'Cameroon': 'Sub-Saharan Africa', 'Canada': 'Americas & Caribbean', 'Cape Verde': 'Sub-Saharan Africa', 'Cayman Islands': 'Americas & Caribbean', 'Central African Republic': 'Sub-Saharan Africa', 'Chad': 'Sub-Saharan Africa', 'Chile': 'Americas & Caribbean', 'China': 'East Asia & Pacific', 'Colombia': 'Americas & Caribbean', 'Comoros': 'Sub-Saharan Africa', 'Congo': 'Sub-Saharan Africa', 'Cook Islands': 'East Asia & Pacific', 'Costa Rica': 'Americas & Caribbean', 'Cote d''Ivoire': 'Sub-Saharan Africa', 'Croatia': 'Eastern Europe and Central Asia', 'Cuba': 'Americas & Caribbean', 'Cyprus': 'Eastern Europe and Central Asia', 'Czechia': 'Eastern Europe and Central Asia', 'Czechoslovakia': 'Eastern Europe and Central Asia', 'Democratic Republic of Congo': 'Sub-Saharan Africa', 'Denmark': 'Western Europe', 'Djibouti': 'Middle East and North Africa', 'Dominica': 'Americas & Caribbean', 'Dominican Republic': 'Americas & Caribbean', 'East Timor': 'East Asia & Pacific', 'Ecuador': 'Americas & Caribbean', 'Egypt': 'Middle East and North Africa', 'El Salvador': 'Americas & Caribbean', 'Equatorial Guinea': 'Sub-Saharan Africa', 'Eritrea': 'Sub-Saharan Africa', 'Estonia': 'Eastern Europe and Central Asia', 'Eswatini': 'Sub-Saharan Africa', 'Ethiopia': 'Sub-Saharan Africa', 'Falkland Islands': 'Americas & Caribbean', 'Faroe Islands': 'Western Europe', 'Fiji': 'East Asia & Pacific', 'Finland': 'Western Europe', 'France': 'Western Europe', 'French Guiana': 'Americas & Caribbean', 'French Polynesia': 'East Asia & Pacific', 'Gabon': 'Sub-Saharan Africa', 'Gambia': 'Sub-Saharan Africa', 'Georgia': 'Eastern Europe and Central Asia', 'Germany': 'Western Europe', 'Ghana': 'Sub-Saharan Africa', 'Gibraltar': 'Western Europe', 'Greece': 'Western Europe', 'Greenland': 'Americas & Caribbean', 'Grenada': 'Americas & Caribbean', 'Guadeloupe': 'Americas & Caribbean', 'Guam': 'East Asia & Pacific', 'Guatemala': 'Americas & Caribbean', 'Guinea': 'Sub-Saharan Africa', 'Guinea-Bissau': 'Sub-Saharan Africa', 'Guyana': 'Americas & Caribbean', 'Haiti': 'Americas & Caribbean', 'Honduras': 'Americas & Caribbean', 'Hong Kong': 'East Asia & Pacific', 'Hungary': 'Eastern Europe and Central Asia', 'Iceland': 'Western Europe', 'India': 'South Asia', 'Indonesia': 'East Asia & Pacific', 'Iran': 'Middle East and North Africa', 'Iraq': 'Middle East and North Africa', 'Ireland': 'Western Europe', 'Israel': 'Middle East and North Africa', 'Italy': 'Western Europe', 'Jamaica': 'Americas & Caribbean', 'Japan': 'East Asia & Pacific', 'Jordan': 'Middle East and North Africa', 'Kazakhstan': 'Eastern Europe and Central Asia', 'Kenya': 'Sub-Saharan Africa', 'Kiribati': 'East Asia & Pacific', 'Kosovo': 'Eastern Europe and Central Asia', 'Kuwait': 'Middle East and North Africa', 'Kyrgyzstan': 'Eastern Europe and Central Asia', 'Laos': 'East Asia & Pacific', 'Latvia': 'Eastern Europe and Central Asia', 'Lebanon': 'Middle East and North Africa', 'Lesotho': 'Sub-Saharan Africa', 'Liberia': 'Sub-Saharan Africa', 'Libya': 'Middle East and North Africa', 'Lithuania': 'Eastern Europe and Central Asia', 'Luxembourg': 'Western Europe', 'Macao': 'East Asia & Pacific', 'Madagascar': 'Sub-Saharan Africa', 'Malawi': 'Sub-Saharan Africa', 'Malaysia': 'East Asia & Pacific', 'Maldives': 'South Asia', 'Mali': 'Sub-Saharan Africa', 'Malta': 'Middle East and North Africa', 'Martinique': 'Americas & Caribbean', 'Mauritania': 'Sub-Saharan Africa', 'Mauritius': 'Sub-Saharan Africa', 'Mexico': 'Americas & Caribbean', 'Micronesia (country)': 'East Asia & Pacific', 'Moldova': 'Eastern Europe and Central Asia', 'Mongolia': 'East Asia & Pacific', 'Montenegro': 'Eastern Europe and Central Asia', 'Montserrat': 'Americas & Caribbean', 'Morocco': 'Middle East and North Africa', 'Mozambique': 'Sub-Saharan Africa', 'Myanmar': 'East Asia & Pacific', 'Namibia': 'Sub-Saharan Africa', 'Nauru': 'East Asia & Pacific', 'Nepal': 'South Asia', 'Netherlands': 'Western Europe', 'Netherlands Antilles': 'Americas & Caribbean', 'New Caledonia': 'East Asia & Pacific', 'New Zealand': 'East Asia & Pacific', 'Nicaragua': 'Americas & Caribbean', 'Niger': 'Sub-Saharan Africa', 'Nigeria': 'Sub-Saharan Africa', 'Niue': 'East Asia & Pacific', 'North Korea': 'East Asia & Pacific', 'North Macedonia': 'Eastern Europe and Central Asia', 'Northern Mariana Islands': 'East Asia & Pacific', 'Norway': 'Western Europe', 'Oman': 'Middle East and North Africa', 'Pakistan': 'South Asia', 'Palestine': 'Eastern Europe and Central Asia', 'Panama': 'Americas & Caribbean', 'Papua New Guinea': 'East Asia & Pacific', 'Paraguay': 'Americas & Caribbean', 'Peru': 'Americas & Caribbean', 'Philippines': 'East Asia & Pacific', 'Poland': 'Eastern Europe and Central Asia', 'Portugal': 'Western Europe', 'Puerto Rico': 'Americas & Caribbean', 'Qatar': 'Middle East and North Africa', 'Reunion': 'Middle East and North Africa', 'Romania': 'Eastern Europe and Central Asia', 'Russia': 'Eastern Europe and Central Asia', 'Rwanda': 'Sub-Saharan Africa', 'Saint Helena': 'Middle East and North Africa', 'Saint Kitts and Nevis': 'Americas & Caribbean', 'Saint Lucia': 'Americas & Caribbean', 'Saint Pierre and Miquelon': 'Americas & Caribbean', 'Saint Vincent and the Grenadines': 'Americas & Caribbean', 'Samoa': 'East Asia & Pacific', 'Sao Tome and Principe': 'Sub-Saharan Africa', 'Saudi Arabia': 'Middle East and North Africa', 'Senegal': 'Sub-Saharan Africa', 'Serbia': 'Eastern Europe and Central Asia', 'Serbia and Montenegro': 'Eastern Europe and Central Asia', 'Seychelles': 'Sub-Saharan Africa', 'Sierra Leone': 'Sub-Saharan Africa', 'Singapore': 'East Asia & Pacific', 'Slovakia': 'Eastern Europe and Central Asia', 'Slovenia': 'Eastern Europe and Central Asia', 'Solomon Islands': 'East Asia & Pacific', 'Somalia': 'Sub-Saharan Africa', 'South Africa': 'Sub-Saharan Africa', 'South Korea': 'East Asia & Pacific', 'South Sudan': 'Sub-Saharan Africa', 'Spain': 'Western Europe', 'Sri Lanka': 'South Asia', 'Sudan': 'Sub-Saharan Africa', 'Suriname': 'Americas & Caribbean', 'Sweden': 'Western Europe', 'Switzerland': 'Western Europe', 'Syria': 'Middle East and North Africa', 'Taiwan': 'East Asia & Pacific', 'Tajikistan': 'Eastern Europe and Central Asia', 'Tanzania': 'Sub-Saharan Africa', 'Thailand': 'East Asia & Pacific', 'Togo': 'Sub-Saharan Africa', 'Tonga': 'East Asia & Pacific', 'Trinidad and Tobago': 'Americas & Caribbean', 'Tunisia': 'Middle East and North Africa', 'Turkey': 'Eastern Europe and Central Asia', 'Turkmenistan': 'Eastern Europe and Central Asia', 'Turks and Caicos Islands': 'Americas & Caribbean', 'Tuvalu': 'East Asia & Pacific', 'Uganda': 'Sub-Saharan Africa', 'Ukraine': 'Eastern Europe and Central Asia', 'United Arab Emirates': 'Middle East and North Africa', 'United Kingdom': 'Western Europe', 'United States': 'Americas & Caribbean', 'United States Virgin Islands': 'Americas & Caribbean', 'Uruguay': 'Americas & Caribbean', 'Uzbekistan': 'Eastern Europe and Central Asia', 'Vanuatu': 'East Asia & Pacific', 'Venezuela': 'Americas & Caribbean', 'Vietnam': 'East Asia & Pacific', 'World': 'World', 'Yemen': 'Middle East and North Africa', 'Yugoslavia': 'Eastern Europe and Central Asia', 'Zambia': 'Sub-Saharan Africa', 'Zimbabwe': 'Sub-Saharan Africa', 'ASEAN (Ember)': 'ASEAN (Ember)', 'Africa': 'Africa', 'Africa (EI)': 'Africa (EI)', 'Africa (Ember)': 'Africa (Ember)', 'Africa (Shift)': 'Africa (Shift)', 'Antarctica': 'Antarctica', 'Asia': 'Asia', 'Asia & Oceania (EIA)': 'Asia & Oceania (EIA)', 'Asia (Ember)': 'Asia (Ember)', 'Asia Pacific (EI)': 'Asia Pacific (EI)', 'Asia and Oceania (Shift)': 'Asia and Oceania (Shift)', 'Australia and New Zealand (EIA)': 'Australia and New Zealand (EIA)', 'CIS (EI)': 'CIS (EI)', 'Central & South America (EIA)': 'Central & South America (EIA)', 'Central America (EI)': 'Central America (EI)', 'Central and South America (Shift)': 'Central and South America (Shift)', 'EU28 (Shift)': 'EU28 (Shift)', 'East Germany (EIA)': 'East Germany (EIA)', 'Eastern Africa (EI)': 'Eastern Africa (EI)', 'Eurasia (EIA)': 'Eurasia (EIA)', 'Eurasia (Shift)': 'Eurasia (Shift)', 'Europe': 'Europe', 'Europe (EI)': 'Europe (EI)', 'Europe (Ember)': 'Europe (Ember)', 'Europe (Shift)': 'Europe (Shift)', 'European Union (27)': 'European Union (27)', 'European Union (EIA)': 'European Union (EIA)', 'G20 (Ember)': 'G20 (Ember)', 'G7 (Ember)': 'G7 (Ember)', 'Hawaiian Trade Zone (EIA)': 'Hawaiian Trade Zone (EIA)', 'High-income countries': 'High-income countries', 'IEO - Africa (EIA)': 'IEO - Africa (EIA)', 'IEO - Middle East (EIA)': 'IEO - Middle East (EIA)', 'IEO OECD - Europe (EIA)': 'IEO OECD - Europe (EIA)', 'Latin America and Caribbean (Ember)': 'Latin America and Caribbean (Ember)', 'Low-income countries': 'Low-income countries', 'Lower-middle-income countries': 'Lower-middle-income countries', 'Mexico, Chile, and other OECD Americas (EIA)': 'Mexico, Chile, and other OECD Americas (EIA)', 'Middle Africa (EI)': 'Middle Africa (EI)', 'Middle East (EI)': 'Middle East (EI)', 'Middle East (EIA)': 'Middle East (EIA)', 'Middle East (Ember)': 'Middle East (Ember)', 'Middle East (Shift)': 'Middle East (Shift)', 'Non-OECD (EI)': 'Non-OECD (EI)', 'Non-OECD (EIA)': 'Non-OECD (EIA)', 'Non-OPEC (EI)': 'Non-OPEC (EI)', 'Non-OPEC (EIA)': 'Non-OPEC (EIA)', 'North America': 'North America', 'North America (EI)': 'North America (EI)', 'North America (Ember)': 'North America (Ember)', 'North America (Shift)': 'North America (Shift)', 'OECD (EI)': 'OECD (EI)', 'OECD (EIA)': 'OECD (EIA)', 'OECD (Ember)': 'OECD (Ember)', 'OECD (Shift)': 'OECD (Shift)', 'OECD - Asia And Oceania (EIA)': 'OECD - Asia And Oceania (EIA)', 'OECD - Europe (EIA)': 'OECD - Europe (EIA)', 'OECD - North America (EIA)': 'OECD - North America (EIA)', 'OPEC (EI)': 'OPEC (EI)', 'OPEC (EIA)': 'OPEC (EIA)', 'OPEC (Shift)': 'OPEC (Shift)', 'OPEC - Africa (EIA)': 'OPEC - Africa (EIA)', 'OPEC - South America (EIA)': 'OPEC - South America (EIA)', 'Oceania': 'Oceania', 'Oceania (Ember)': 'Oceania (Ember)', 'Other Non-OECD - America (EIA)': 'Other Non-OECD - America (EIA)', 'Other Non-OECD - Asia (EIA)': 'Other Non-OECD - Asia (EIA)', 'Other Non-OECD - Europe and Eurasia (EIA)': 'Other Non-OECD - Europe and Eurasia (EIA)', 'Persian Gulf (EIA)': 'Persian Gulf (EIA)', 'Persian Gulf (Shift)': 'Persian Gulf (Shift)', 'South America': 'South America', 'South Korea and other OECD Asia (EIA)': 'South Korea and other OECD Asia (EIA)', 'South and Central America (EI)': 'South and Central America (EI)', 'U.S. Pacific Islands (EIA)': 'U.S. Pacific Islands (EIA)', 'U.S. Territories (EIA)': 'U.S. Territories (EIA)', 'USSR': 'USSR', 'United States Pacific Islands (Shift)': 'United States Pacific Islands (Shift)', 'United States Territories (Shift)': 'United States Territories (Shift)', 'Upper-middle-income countries': 'Upper-middle-income countries', 'Wake Island (EIA)': 'Wake Island (EIA)', 'Wake Island (Shift)': 'Wake Island (Shift)', 'West Germany (EIA)': 'West Germany (EIA)', 'Western Africa (EI)': 'Western Africa (EI)', 'Western Sahara': 'Western Sahara', \n",
    "}\n",
    "\n",
    "# Appliquer le mapping pour créer une nouvelle colonne \"region\"\n",
    "wec['region'] = wec['country'].map(region_mapping)\n",
    "\n",
    "# Insérer la colonne \"region\" juste après la colonne \"continent\"\n",
    "wec.insert(wec.columns.get_loc('continent') + 1, 'region', wec.pop('region'))\n",
    "\n",
    "wec.head(5)"
   ],
   "metadata": {
    "collapsed": false,
    "ExecuteTime": {
     "end_time": "2024-03-21T00:04:41.977293Z",
     "start_time": "2024-03-21T00:04:41.913317Z"
    }
   },
   "id": "abf273b144997577",
   "execution_count": 157
  },
  {
   "cell_type": "code",
   "outputs": [
    {
     "data": {
      "text/plain": "         country      continent         region  year iso_code  population  \\\n0  ASEAN (Ember)  ASEAN (Ember)  ASEAN (Ember)  2000      NaN         NaN   \n1  ASEAN (Ember)  ASEAN (Ember)  ASEAN (Ember)  2001      NaN         NaN   \n2  ASEAN (Ember)  ASEAN (Ember)  ASEAN (Ember)  2002      NaN         NaN   \n3  ASEAN (Ember)  ASEAN (Ember)  ASEAN (Ember)  2003      NaN         NaN   \n4  ASEAN (Ember)  ASEAN (Ember)  ASEAN (Ember)  2004      NaN         NaN   \n\n   gdp_usd  biofuel_cons_change_pct  biofuel_cons_change_twh  \\\n0      NaN                      NaN                      NaN   \n1      NaN                      NaN                      NaN   \n2      NaN                      NaN                      NaN   \n3      NaN                      NaN                      NaN   \n4      NaN                      NaN                      NaN   \n\n   biofuel_cons_per_capita_kwh  ...  ECGTE_EnvTaxes_DomCCY  \\\n0                          NaN  ...                    NaN   \n1                          NaN  ...                    NaN   \n2                          NaN  ...                    NaN   \n3                          NaN  ...                    NaN   \n4                          NaN  ...                    NaN   \n\n   ECGTE_EnvTaxes_PctGDP  ECGTEN_TaxesEnergy_InclFuelTrans_DomCCY  \\\n0                    NaN                                      NaN   \n1                    NaN                                      NaN   \n2                    NaN                                      NaN   \n3                    NaN                                      NaN   \n4                    NaN                                      NaN   \n\n   ECGTEN_TaxesEnergy_InclFuelTrans_PctGDP  ECGTEP_TaxesPollution_DomCCY  \\\n0                                      NaN                           NaN   \n1                                      NaN                           NaN   \n2                                      NaN                           NaN   \n3                                      NaN                           NaN   \n4                                      NaN                           NaN   \n\n   ECGTEP_TaxesPollution_PctGDP  ECGTER_TaxesResources_DomCCY  \\\n0                           NaN                           NaN   \n1                           NaN                           NaN   \n2                           NaN                           NaN   \n3                           NaN                           NaN   \n4                           NaN                           NaN   \n\n   ECGTER_TaxesResources_PctGDP  ECGTET_TaxesTrans_ExclFuelTrans_DomCCY  \\\n0                           NaN                                     NaN   \n1                           NaN                                     NaN   \n2                           NaN                                     NaN   \n3                           NaN                                     NaN   \n4                           NaN                                     NaN   \n\n   ECGTET_TaxesTrans_ExclFuelTrans_PctGDP  \n0                                     NaN  \n1                                     NaN  \n2                                     NaN  \n3                                     NaN  \n4                                     NaN  \n\n[5 rows x 142 columns]",
      "text/html": "<div>\n<style scoped>\n    .dataframe tbody tr th:only-of-type {\n        vertical-align: middle;\n    }\n\n    .dataframe tbody tr th {\n        vertical-align: top;\n    }\n\n    .dataframe thead th {\n        text-align: right;\n    }\n</style>\n<table border=\"1\" class=\"dataframe\">\n  <thead>\n    <tr style=\"text-align: right;\">\n      <th></th>\n      <th>country</th>\n      <th>continent</th>\n      <th>region</th>\n      <th>year</th>\n      <th>iso_code</th>\n      <th>population</th>\n      <th>gdp_usd</th>\n      <th>biofuel_cons_change_pct</th>\n      <th>biofuel_cons_change_twh</th>\n      <th>biofuel_cons_per_capita_kwh</th>\n      <th>...</th>\n      <th>ECGTE_EnvTaxes_DomCCY</th>\n      <th>ECGTE_EnvTaxes_PctGDP</th>\n      <th>ECGTEN_TaxesEnergy_InclFuelTrans_DomCCY</th>\n      <th>ECGTEN_TaxesEnergy_InclFuelTrans_PctGDP</th>\n      <th>ECGTEP_TaxesPollution_DomCCY</th>\n      <th>ECGTEP_TaxesPollution_PctGDP</th>\n      <th>ECGTER_TaxesResources_DomCCY</th>\n      <th>ECGTER_TaxesResources_PctGDP</th>\n      <th>ECGTET_TaxesTrans_ExclFuelTrans_DomCCY</th>\n      <th>ECGTET_TaxesTrans_ExclFuelTrans_PctGDP</th>\n    </tr>\n  </thead>\n  <tbody>\n    <tr>\n      <th>0</th>\n      <td>ASEAN (Ember)</td>\n      <td>ASEAN (Ember)</td>\n      <td>ASEAN (Ember)</td>\n      <td>2000</td>\n      <td>NaN</td>\n      <td>NaN</td>\n      <td>NaN</td>\n      <td>NaN</td>\n      <td>NaN</td>\n      <td>NaN</td>\n      <td>...</td>\n      <td>NaN</td>\n      <td>NaN</td>\n      <td>NaN</td>\n      <td>NaN</td>\n      <td>NaN</td>\n      <td>NaN</td>\n      <td>NaN</td>\n      <td>NaN</td>\n      <td>NaN</td>\n      <td>NaN</td>\n    </tr>\n    <tr>\n      <th>1</th>\n      <td>ASEAN (Ember)</td>\n      <td>ASEAN (Ember)</td>\n      <td>ASEAN (Ember)</td>\n      <td>2001</td>\n      <td>NaN</td>\n      <td>NaN</td>\n      <td>NaN</td>\n      <td>NaN</td>\n      <td>NaN</td>\n      <td>NaN</td>\n      <td>...</td>\n      <td>NaN</td>\n      <td>NaN</td>\n      <td>NaN</td>\n      <td>NaN</td>\n      <td>NaN</td>\n      <td>NaN</td>\n      <td>NaN</td>\n      <td>NaN</td>\n      <td>NaN</td>\n      <td>NaN</td>\n    </tr>\n    <tr>\n      <th>2</th>\n      <td>ASEAN (Ember)</td>\n      <td>ASEAN (Ember)</td>\n      <td>ASEAN (Ember)</td>\n      <td>2002</td>\n      <td>NaN</td>\n      <td>NaN</td>\n      <td>NaN</td>\n      <td>NaN</td>\n      <td>NaN</td>\n      <td>NaN</td>\n      <td>...</td>\n      <td>NaN</td>\n      <td>NaN</td>\n      <td>NaN</td>\n      <td>NaN</td>\n      <td>NaN</td>\n      <td>NaN</td>\n      <td>NaN</td>\n      <td>NaN</td>\n      <td>NaN</td>\n      <td>NaN</td>\n    </tr>\n    <tr>\n      <th>3</th>\n      <td>ASEAN (Ember)</td>\n      <td>ASEAN (Ember)</td>\n      <td>ASEAN (Ember)</td>\n      <td>2003</td>\n      <td>NaN</td>\n      <td>NaN</td>\n      <td>NaN</td>\n      <td>NaN</td>\n      <td>NaN</td>\n      <td>NaN</td>\n      <td>...</td>\n      <td>NaN</td>\n      <td>NaN</td>\n      <td>NaN</td>\n      <td>NaN</td>\n      <td>NaN</td>\n      <td>NaN</td>\n      <td>NaN</td>\n      <td>NaN</td>\n      <td>NaN</td>\n      <td>NaN</td>\n    </tr>\n    <tr>\n      <th>4</th>\n      <td>ASEAN (Ember)</td>\n      <td>ASEAN (Ember)</td>\n      <td>ASEAN (Ember)</td>\n      <td>2004</td>\n      <td>NaN</td>\n      <td>NaN</td>\n      <td>NaN</td>\n      <td>NaN</td>\n      <td>NaN</td>\n      <td>NaN</td>\n      <td>...</td>\n      <td>NaN</td>\n      <td>NaN</td>\n      <td>NaN</td>\n      <td>NaN</td>\n      <td>NaN</td>\n      <td>NaN</td>\n      <td>NaN</td>\n      <td>NaN</td>\n      <td>NaN</td>\n      <td>NaN</td>\n    </tr>\n  </tbody>\n</table>\n<p>5 rows × 142 columns</p>\n</div>"
     },
     "execution_count": 158,
     "metadata": {},
     "output_type": "execute_result"
    }
   ],
   "source": [
    "# Sélectionner les pays à inclure dans aa_world\n",
    "selected_countries = ['Afghanistan', 'Albania', 'Algeria', 'American Samoa', 'Angola', 'Antigua and Barbuda', 'Argentina', 'Armenia', 'Aruba', 'Australia', 'Austria', 'Azerbaijan', 'Bahamas', 'Bahrain', 'Bangladesh', 'Barbados', 'Belarus', 'Belgium', 'Belize', 'Benin', 'Bermuda', 'Bhutan', 'Bolivia', 'Bosnia and Herzegovina', 'Botswana', 'Brazil', 'British Virgin Islands', 'Brunei', 'Bulgaria', 'Burkina Faso', 'Burundi', 'Cambodia', 'Cameroon', 'Canada', 'Cape Verde', 'Cayman Islands', 'Central African Republic', 'Chad', 'Chile', 'China', 'Colombia', 'Comoros', 'Congo', 'Cook Islands', 'Costa Rica', 'Cote d''Ivoire', 'Croatia', 'Cuba', 'Cyprus', 'Czechia', 'Czechoslovakia', 'Democratic Republic of Congo', 'Denmark', 'Djibouti', 'Dominica', 'Dominican Republic', 'East Timor', 'Ecuador', 'Egypt', 'El Salvador', 'Equatorial Guinea', 'Eritrea', 'Estonia', 'Eswatini', 'Ethiopia', 'Falkland Islands', 'Faroe Islands', 'Fiji', 'Finland', 'France', 'French Guiana', 'French Polynesia', 'Gabon', 'Gambia', 'Georgia', 'Germany', 'Ghana', 'Gibraltar', 'Greece', 'Greenland', 'Grenada', 'Guadeloupe', 'Guam', 'Guatemala', 'Guinea', 'Guinea-Bissau', 'Guyana', 'Haiti', 'Honduras', 'Hong Kong', 'Hungary', 'Iceland', 'India', 'Indonesia', 'Iran', 'Iraq', 'Ireland', 'Israel', 'Italy', 'Jamaica', 'Japan', 'Jordan', 'Kazakhstan', 'Kenya', 'Kiribati', 'Kosovo', 'Kuwait', 'Kyrgyzstan', 'Laos', 'Latvia', 'Lebanon', 'Lesotho', 'Liberia', 'Libya', 'Lithuania', 'Luxembourg', 'Macao', 'Madagascar', 'Malawi', 'Malaysia', 'Maldives', 'Mali', 'Malta', 'Martinique', 'Mauritania', 'Mauritius', 'Mexico', 'Micronesia (country)', 'Moldova', 'Mongolia', 'Montenegro', 'Montserrat', 'Morocco', 'Mozambique', 'Myanmar', 'Namibia', 'Nauru', 'Nepal', 'Netherlands', 'Netherlands Antilles', 'New Caledonia', 'New Zealand', 'Nicaragua', 'Niger', 'Nigeria', 'Niue', 'North Korea', 'North Macedonia', 'Northern Mariana Islands', 'Norway', 'Oman', 'Pakistan', 'Palestine', 'Panama', 'Papua New Guinea', 'Paraguay', 'Peru', 'Philippines', 'Poland', 'Portugal', 'Puerto Rico', 'Qatar', 'Reunion', 'Romania', 'Russia', 'Rwanda', 'Saint Helena', 'Saint Kitts and Nevis', 'Saint Lucia', 'Saint Pierre and Miquelon', 'Saint Vincent and the Grenadines', 'Samoa', 'Sao Tome and Principe', 'Saudi Arabia', 'Senegal', 'Serbia', 'Serbia and Montenegro', 'Seychelles', 'Sierra Leone', 'Singapore', 'Slovakia', 'Slovenia', 'Solomon Islands', 'Somalia', 'South Africa', 'South Korea', 'South Sudan', 'Spain', 'Sri Lanka', 'Sudan', 'Suriname', 'Sweden', 'Switzerland', 'Syria', 'Taiwan', 'Tajikistan', 'Tanzania', 'Thailand', 'Togo', 'Tonga', 'Trinidad and Tobago', 'Tunisia', 'Turkey', 'Turkmenistan', 'Turks and Caicos Islands', 'Tuvalu', 'Uganda', 'Ukraine', 'United Arab Emirates', 'United Kingdom', 'United States', 'United States Virgin Islands', 'Uruguay', 'Uzbekistan', 'Vanuatu', 'Venezuela', 'Vietnam', 'Yemen', 'Yugoslavia', 'Zambia', 'Zimbabwe']\n",
    "\n",
    "# Filtrer le dataset pour inclure seulement les pays sélectionnés\n",
    "selected_wec = wec[wec['country'].isin(selected_countries)]\n",
    "\n",
    "# Grouper par année et calculer la somme des valeurs pour chaque année\n",
    "world_values = selected_wec.groupby('year').sum().reset_index()\n",
    "\n",
    "# Remplacer les valeurs de \"country\", \"continent\", \"region\" par \"all_world\"\n",
    "world_values['country'] = 'all_world'\n",
    "world_values['continent'] = 'all_world'\n",
    "world_values['region'] = 'all_world'\n",
    "world_values['iso_code'] = 'all_world'\n",
    "\n",
    "# Ajouter les valeurs mondiales au dataset d'origine\n",
    "wec = pd.concat([wec, world_values], ignore_index=True)\n",
    "\n",
    "wec.head(5)"
   ],
   "metadata": {
    "collapsed": false,
    "ExecuteTime": {
     "end_time": "2024-03-21T00:04:42.034273Z",
     "start_time": "2024-03-21T00:04:41.977293Z"
    }
   },
   "id": "3057c30b6494d509",
   "execution_count": 158
  },
  {
   "cell_type": "code",
   "outputs": [
    {
     "data": {
      "text/plain": "         country      continent         region  year iso_code  population  \\\n0  ASEAN (Ember)  ASEAN (Ember)  ASEAN (Ember)  2000      NaN         NaN   \n1  ASEAN (Ember)  ASEAN (Ember)  ASEAN (Ember)  2001      NaN         NaN   \n2  ASEAN (Ember)  ASEAN (Ember)  ASEAN (Ember)  2002      NaN         NaN   \n3  ASEAN (Ember)  ASEAN (Ember)  ASEAN (Ember)  2003      NaN         NaN   \n4  ASEAN (Ember)  ASEAN (Ember)  ASEAN (Ember)  2004      NaN         NaN   \n\n   gdp_usd  biofuel_cons_change_pct  biofuel_cons_change_twh  \\\n0      NaN                      NaN                      NaN   \n1      NaN                      NaN                      NaN   \n2      NaN                      NaN                      NaN   \n3      NaN                      NaN                      NaN   \n4      NaN                      NaN                      NaN   \n\n   biofuel_cons_per_capita_kwh  ...  ECGTEN_TaxesEnergy_InclFuelTrans_PctGDP  \\\n0                          NaN  ...                                      NaN   \n1                          NaN  ...                                      NaN   \n2                          NaN  ...                                      NaN   \n3                          NaN  ...                                      NaN   \n4                          NaN  ...                                      NaN   \n\n   ECGTEP_TaxesPollution_DomCCY  ECGTEP_TaxesPollution_usd-eq  \\\n0                           NaN                           NaN   \n1                           NaN                           NaN   \n2                           NaN                           NaN   \n3                           NaN                           NaN   \n4                           NaN                           NaN   \n\n   ECGTEP_TaxesPollution_PctGDP  ECGTER_TaxesResources_DomCCY  \\\n0                           NaN                           NaN   \n1                           NaN                           NaN   \n2                           NaN                           NaN   \n3                           NaN                           NaN   \n4                           NaN                           NaN   \n\n   ECGTER_TaxesResources_usd-eq  ECGTER_TaxesResources_PctGDP  \\\n0                           NaN                           NaN   \n1                           NaN                           NaN   \n2                           NaN                           NaN   \n3                           NaN                           NaN   \n4                           NaN                           NaN   \n\n   ECGTET_TaxesTrans_ExclFuelTrans_DomCCY  \\\n0                                     NaN   \n1                                     NaN   \n2                                     NaN   \n3                                     NaN   \n4                                     NaN   \n\n   ECGTET_TaxesTrans_ExclFuelTrans_usd-eq  \\\n0                                     NaN   \n1                                     NaN   \n2                                     NaN   \n3                                     NaN   \n4                                     NaN   \n\n   ECGTET_TaxesTrans_ExclFuelTrans_PctGDP  \n0                                     NaN  \n1                                     NaN  \n2                                     NaN  \n3                                     NaN  \n4                                     NaN  \n\n[5 rows x 147 columns]",
      "text/html": "<div>\n<style scoped>\n    .dataframe tbody tr th:only-of-type {\n        vertical-align: middle;\n    }\n\n    .dataframe tbody tr th {\n        vertical-align: top;\n    }\n\n    .dataframe thead th {\n        text-align: right;\n    }\n</style>\n<table border=\"1\" class=\"dataframe\">\n  <thead>\n    <tr style=\"text-align: right;\">\n      <th></th>\n      <th>country</th>\n      <th>continent</th>\n      <th>region</th>\n      <th>year</th>\n      <th>iso_code</th>\n      <th>population</th>\n      <th>gdp_usd</th>\n      <th>biofuel_cons_change_pct</th>\n      <th>biofuel_cons_change_twh</th>\n      <th>biofuel_cons_per_capita_kwh</th>\n      <th>...</th>\n      <th>ECGTEN_TaxesEnergy_InclFuelTrans_PctGDP</th>\n      <th>ECGTEP_TaxesPollution_DomCCY</th>\n      <th>ECGTEP_TaxesPollution_usd-eq</th>\n      <th>ECGTEP_TaxesPollution_PctGDP</th>\n      <th>ECGTER_TaxesResources_DomCCY</th>\n      <th>ECGTER_TaxesResources_usd-eq</th>\n      <th>ECGTER_TaxesResources_PctGDP</th>\n      <th>ECGTET_TaxesTrans_ExclFuelTrans_DomCCY</th>\n      <th>ECGTET_TaxesTrans_ExclFuelTrans_usd-eq</th>\n      <th>ECGTET_TaxesTrans_ExclFuelTrans_PctGDP</th>\n    </tr>\n  </thead>\n  <tbody>\n    <tr>\n      <th>0</th>\n      <td>ASEAN (Ember)</td>\n      <td>ASEAN (Ember)</td>\n      <td>ASEAN (Ember)</td>\n      <td>2000</td>\n      <td>NaN</td>\n      <td>NaN</td>\n      <td>NaN</td>\n      <td>NaN</td>\n      <td>NaN</td>\n      <td>NaN</td>\n      <td>...</td>\n      <td>NaN</td>\n      <td>NaN</td>\n      <td>NaN</td>\n      <td>NaN</td>\n      <td>NaN</td>\n      <td>NaN</td>\n      <td>NaN</td>\n      <td>NaN</td>\n      <td>NaN</td>\n      <td>NaN</td>\n    </tr>\n    <tr>\n      <th>1</th>\n      <td>ASEAN (Ember)</td>\n      <td>ASEAN (Ember)</td>\n      <td>ASEAN (Ember)</td>\n      <td>2001</td>\n      <td>NaN</td>\n      <td>NaN</td>\n      <td>NaN</td>\n      <td>NaN</td>\n      <td>NaN</td>\n      <td>NaN</td>\n      <td>...</td>\n      <td>NaN</td>\n      <td>NaN</td>\n      <td>NaN</td>\n      <td>NaN</td>\n      <td>NaN</td>\n      <td>NaN</td>\n      <td>NaN</td>\n      <td>NaN</td>\n      <td>NaN</td>\n      <td>NaN</td>\n    </tr>\n    <tr>\n      <th>2</th>\n      <td>ASEAN (Ember)</td>\n      <td>ASEAN (Ember)</td>\n      <td>ASEAN (Ember)</td>\n      <td>2002</td>\n      <td>NaN</td>\n      <td>NaN</td>\n      <td>NaN</td>\n      <td>NaN</td>\n      <td>NaN</td>\n      <td>NaN</td>\n      <td>...</td>\n      <td>NaN</td>\n      <td>NaN</td>\n      <td>NaN</td>\n      <td>NaN</td>\n      <td>NaN</td>\n      <td>NaN</td>\n      <td>NaN</td>\n      <td>NaN</td>\n      <td>NaN</td>\n      <td>NaN</td>\n    </tr>\n    <tr>\n      <th>3</th>\n      <td>ASEAN (Ember)</td>\n      <td>ASEAN (Ember)</td>\n      <td>ASEAN (Ember)</td>\n      <td>2003</td>\n      <td>NaN</td>\n      <td>NaN</td>\n      <td>NaN</td>\n      <td>NaN</td>\n      <td>NaN</td>\n      <td>NaN</td>\n      <td>...</td>\n      <td>NaN</td>\n      <td>NaN</td>\n      <td>NaN</td>\n      <td>NaN</td>\n      <td>NaN</td>\n      <td>NaN</td>\n      <td>NaN</td>\n      <td>NaN</td>\n      <td>NaN</td>\n      <td>NaN</td>\n    </tr>\n    <tr>\n      <th>4</th>\n      <td>ASEAN (Ember)</td>\n      <td>ASEAN (Ember)</td>\n      <td>ASEAN (Ember)</td>\n      <td>2004</td>\n      <td>NaN</td>\n      <td>NaN</td>\n      <td>NaN</td>\n      <td>NaN</td>\n      <td>NaN</td>\n      <td>NaN</td>\n      <td>...</td>\n      <td>NaN</td>\n      <td>NaN</td>\n      <td>NaN</td>\n      <td>NaN</td>\n      <td>NaN</td>\n      <td>NaN</td>\n      <td>NaN</td>\n      <td>NaN</td>\n      <td>NaN</td>\n      <td>NaN</td>\n    </tr>\n  </tbody>\n</table>\n<p>5 rows × 147 columns</p>\n</div>"
     },
     "execution_count": 159,
     "metadata": {},
     "output_type": "execute_result"
    }
   ],
   "source": [
    "# Calculer les valeurs en USD pour chaque colonne et les insérer à côté des colonnes correspondantes\n",
    "wec.insert(wec.columns.get_loc('ECGTE_EnvTaxes_DomCCY') + 1, 'ECGTE_EnvTaxes_usd-eq', wec['ECGTE_EnvTaxes_PctGDP'] * wec['gdp_usd'])\n",
    "wec.insert(wec.columns.get_loc('ECGTEN_TaxesEnergy_InclFuelTrans_DomCCY') + 1, 'ECGTEN_TaxesEnergy_InclFuelTrans_usd-eq', wec['ECGTEN_TaxesEnergy_InclFuelTrans_PctGDP'] * wec['gdp_usd'])\n",
    "wec.insert(wec.columns.get_loc('ECGTEP_TaxesPollution_DomCCY') + 1, 'ECGTEP_TaxesPollution_usd-eq', wec['ECGTEP_TaxesPollution_PctGDP'] * wec['gdp_usd'])\n",
    "wec.insert(wec.columns.get_loc('ECGTER_TaxesResources_DomCCY') + 1, 'ECGTER_TaxesResources_usd-eq', wec['ECGTER_TaxesResources_PctGDP'] * wec['gdp_usd'])\n",
    "wec.insert(wec.columns.get_loc('ECGTET_TaxesTrans_ExclFuelTrans_DomCCY') + 1, 'ECGTET_TaxesTrans_ExclFuelTrans_usd-eq', wec['ECGTET_TaxesTrans_ExclFuelTrans_PctGDP'] * wec['gdp_usd'])\n",
    "\n",
    "# Valeurs enregistrés\n",
    "wec.to_csv('./output/World_Energy_Consumption_Full.csv', index=False)\n",
    "# Afficher les premières lignes pour vérifier\n",
    "wec.head(5)"
   ],
   "metadata": {
    "collapsed": false,
    "ExecuteTime": {
     "end_time": "2024-03-21T00:04:42.642151Z",
     "start_time": "2024-03-21T00:04:42.035282Z"
    }
   },
   "id": "d4dcf59234aa70aa",
   "execution_count": 159
  },
  {
   "cell_type": "code",
   "outputs": [
    {
     "data": {
      "text/plain": "   year  price_crude_oil_usd_per_bbl  price_coal_usd_per_mt  \\\n0  1960                         1.63                    0.0   \n1  1961                         1.57                    0.0   \n2  1962                         1.52                    0.0   \n3  1963                         1.50                    0.0   \n4  1964                         1.45                    0.0   \n5  1965                         1.42                    0.0   \n6  1966                         1.36                    0.0   \n7  1967                         1.33                    0.0   \n8  1968                         1.32                    0.0   \n9  1969                         1.27                    0.0   \n\n   price_natural_gas_usd_per_mmbtu  \n0                             0.14  \n1                             0.15  \n2                             0.16  \n3                             0.16  \n4                             0.15  \n5                             0.16  \n6                             0.16  \n7                             0.16  \n8                             0.16  \n9                             0.17  ",
      "text/html": "<div>\n<style scoped>\n    .dataframe tbody tr th:only-of-type {\n        vertical-align: middle;\n    }\n\n    .dataframe tbody tr th {\n        vertical-align: top;\n    }\n\n    .dataframe thead th {\n        text-align: right;\n    }\n</style>\n<table border=\"1\" class=\"dataframe\">\n  <thead>\n    <tr style=\"text-align: right;\">\n      <th></th>\n      <th>year</th>\n      <th>price_crude_oil_usd_per_bbl</th>\n      <th>price_coal_usd_per_mt</th>\n      <th>price_natural_gas_usd_per_mmbtu</th>\n    </tr>\n  </thead>\n  <tbody>\n    <tr>\n      <th>0</th>\n      <td>1960</td>\n      <td>1.63</td>\n      <td>0.0</td>\n      <td>0.14</td>\n    </tr>\n    <tr>\n      <th>1</th>\n      <td>1961</td>\n      <td>1.57</td>\n      <td>0.0</td>\n      <td>0.15</td>\n    </tr>\n    <tr>\n      <th>2</th>\n      <td>1962</td>\n      <td>1.52</td>\n      <td>0.0</td>\n      <td>0.16</td>\n    </tr>\n    <tr>\n      <th>3</th>\n      <td>1963</td>\n      <td>1.50</td>\n      <td>0.0</td>\n      <td>0.16</td>\n    </tr>\n    <tr>\n      <th>4</th>\n      <td>1964</td>\n      <td>1.45</td>\n      <td>0.0</td>\n      <td>0.15</td>\n    </tr>\n    <tr>\n      <th>5</th>\n      <td>1965</td>\n      <td>1.42</td>\n      <td>0.0</td>\n      <td>0.16</td>\n    </tr>\n    <tr>\n      <th>6</th>\n      <td>1966</td>\n      <td>1.36</td>\n      <td>0.0</td>\n      <td>0.16</td>\n    </tr>\n    <tr>\n      <th>7</th>\n      <td>1967</td>\n      <td>1.33</td>\n      <td>0.0</td>\n      <td>0.16</td>\n    </tr>\n    <tr>\n      <th>8</th>\n      <td>1968</td>\n      <td>1.32</td>\n      <td>0.0</td>\n      <td>0.16</td>\n    </tr>\n    <tr>\n      <th>9</th>\n      <td>1969</td>\n      <td>1.27</td>\n      <td>0.0</td>\n      <td>0.17</td>\n    </tr>\n  </tbody>\n</table>\n</div>"
     },
     "execution_count": 160,
     "metadata": {},
     "output_type": "execute_result"
    }
   ],
   "source": [
    "# Charger le fichier CSV dans un DataFrame\n",
    "df_price = pd.read_csv('./assets/energy_prices.csv')\n",
    "\n",
    "# Définir les nouveaux noms de colonnes\n",
    "nouveaux_noms = {\n",
    "    'Crude Oil': 'price_crude_oil_usd_per_bbl',\n",
    "    'Coal': 'price_coal_usd_per_mt',\n",
    "    'Natural Gas': 'price_natural_gas_usd_per_mmbtu',\n",
    "    'Year': 'year'\n",
    "}\n",
    "\n",
    "# Renommer les colonnes\n",
    "df_price.rename(columns=nouveaux_noms, inplace=True)\n",
    "\n",
    "df_price = df_price.fillna(0)\n",
    "\n",
    "df_price['price_crude_oil_usd_per_bbl'] = df_price['price_crude_oil_usd_per_bbl'].astype(float)\n",
    "df_price['price_coal_usd_per_mt'] = df_price['price_coal_usd_per_mt'].astype(float)\n",
    "df_price['price_natural_gas_usd_per_mmbtu'] = df_price['price_natural_gas_usd_per_mmbtu'].astype(float)\n",
    "df_price['year'] = df_price['year'].astype(int)\n",
    "\n",
    "df_price.head(10)\n",
    "\n"
   ],
   "metadata": {
    "collapsed": false,
    "ExecuteTime": {
     "end_time": "2024-03-21T00:04:42.652253Z",
     "start_time": "2024-03-21T00:04:42.643155Z"
    }
   },
   "id": "c88c7a5df390d2e0",
   "execution_count": 160
  },
  {
   "cell_type": "code",
   "outputs": [],
   "source": [
    "# Fusion des valeurs pour les prix des energies fossiles\n",
    "wec = pd.merge(wec, df_price, on=[\"year\"], how='left')\n",
    "# Valeurs enregistrés\n",
    "wec.to_csv('./output/World_Energy_Consumption_Full.csv', index=False)\n"
   ],
   "metadata": {
    "collapsed": false,
    "ExecuteTime": {
     "end_time": "2024-03-21T00:04:43.261855Z",
     "start_time": "2024-03-21T00:04:42.653257Z"
    }
   },
   "id": "eeabdbdb322246b1",
   "execution_count": 161
  },
  {
   "cell_type": "code",
   "outputs": [
    {
     "name": "stdout",
     "output_type": "stream",
     "text": [
      "<bound method DataFrame.count of          year  continent      country      region  \\\n",
      "23       1960       Asia  Afghanistan  South Asia   \n",
      "24       1961       Asia  Afghanistan  South Asia   \n",
      "25       1962       Asia  Afghanistan  South Asia   \n",
      "26       1963       Asia  Afghanistan  South Asia   \n",
      "27       1964       Asia  Afghanistan  South Asia   \n",
      "...       ...        ...          ...         ...   \n",
      "2174269  2017  all_world    all_world   all_world   \n",
      "2174270  2018  all_world    all_world   all_world   \n",
      "2174271  2019  all_world    all_world   all_world   \n",
      "2174272  2020  all_world    all_world   all_world   \n",
      "2174273  2021  all_world    all_world   all_world   \n",
      "\n",
      "                               type_data       value  \n",
      "23                            population  8622473.00  \n",
      "24                            population  8790140.00  \n",
      "25                            population  8969055.00  \n",
      "26                            population  9157463.00  \n",
      "27                            population  9355510.00  \n",
      "...                                  ...         ...  \n",
      "2174269  price_natural_gas_usd_per_mmbtu        2.96  \n",
      "2174270  price_natural_gas_usd_per_mmbtu        3.16  \n",
      "2174271  price_natural_gas_usd_per_mmbtu        2.57  \n",
      "2174272  price_natural_gas_usd_per_mmbtu        2.01  \n",
      "2174273  price_natural_gas_usd_per_mmbtu        3.85  \n",
      "\n",
      "[854223 rows x 6 columns]>\n"
     ]
    }
   ],
   "source": [
    "\n",
    "columns_to_keep = ['year', 'continent', 'country', 'region']\n",
    "wec = wec.drop(columns=['iso_code'])\n",
    "melted_df = pd.melt(wec, id_vars=columns_to_keep, var_name='type_data', value_name='value')\n",
    "melted_df = melted_df.dropna()\n",
    "\n",
    "print(melted_df.count)"
   ],
   "metadata": {
    "collapsed": false,
    "ExecuteTime": {
     "end_time": "2024-03-21T00:04:43.844414Z",
     "start_time": "2024-03-21T00:04:43.262862Z"
    }
   },
   "id": "75fcfbcb5dde6cc9",
   "execution_count": 162
  },
  {
   "cell_type": "code",
   "outputs": [],
   "source": [
    "melted_df.to_csv('./output/World_Energy_Consumption_Reordered.csv', index=False)"
   ],
   "metadata": {
    "collapsed": false,
    "ExecuteTime": {
     "end_time": "2024-03-21T00:04:45.199730Z",
     "start_time": "2024-03-21T00:04:43.846419Z"
    }
   },
   "id": "72f1ee922be3d09c",
   "execution_count": 163
  },
  {
   "cell_type": "code",
   "outputs": [],
   "source": [],
   "metadata": {
    "collapsed": false,
    "ExecuteTime": {
     "end_time": "2024-03-21T00:04:45.201890Z",
     "start_time": "2024-03-21T00:04:45.199730Z"
    }
   },
   "id": "5a3ee623fb7c3e2c",
   "execution_count": 163
  }
 ],
 "metadata": {
  "kernelspec": {
   "display_name": "Python 3",
   "language": "python",
   "name": "python3"
  },
  "language_info": {
   "codemirror_mode": {
    "name": "ipython",
    "version": 2
   },
   "file_extension": ".py",
   "mimetype": "text/x-python",
   "name": "python",
   "nbconvert_exporter": "python",
   "pygments_lexer": "ipython2",
   "version": "2.7.6"
  }
 },
 "nbformat": 4,
 "nbformat_minor": 5
}
