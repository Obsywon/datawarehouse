{
 "cells": [
  {
   "cell_type": "code",
   "execution_count": 7,
   "id": "initial_id",
   "metadata": {
    "collapsed": true,
    "ExecuteTime": {
     "end_time": "2024-02-26T18:14:24.607605200Z",
     "start_time": "2024-02-26T18:14:24.606097100Z"
    }
   },
   "outputs": [],
   "source": [
    "import pandas as pd\n",
    "import numpy as np\n",
    "from matplotlib import pyplot as plt"
   ]
  },
  {
   "cell_type": "code",
   "outputs": [
    {
     "data": {
      "text/plain": "         country  year iso_code  population  gdp  biofuel_cons_change_pct  \\\n0  ASEAN (Ember)  2000      NaN         NaN  NaN                      NaN   \n1  ASEAN (Ember)  2001      NaN         NaN  NaN                      NaN   \n2  ASEAN (Ember)  2002      NaN         NaN  NaN                      NaN   \n3  ASEAN (Ember)  2003      NaN         NaN  NaN                      NaN   \n4  ASEAN (Ember)  2004      NaN         NaN  NaN                      NaN   \n\n   biofuel_cons_change_twh  biofuel_cons_per_capita  biofuel_consumption  \\\n0                      NaN                      NaN                  NaN   \n1                      NaN                      NaN                  NaN   \n2                      NaN                      NaN                  NaN   \n3                      NaN                      NaN                  NaN   \n4                      NaN                      NaN                  NaN   \n\n   biofuel_elec_per_capita  ...  solar_share_elec  solar_share_energy  \\\n0                      NaN  ...               0.0                 NaN   \n1                      NaN  ...               0.0                 NaN   \n2                      NaN  ...               0.0                 NaN   \n3                      NaN  ...               0.0                 NaN   \n4                      NaN  ...               0.0                 NaN   \n\n   wind_cons_change_pct  wind_cons_change_twh  wind_consumption  \\\n0                   NaN                   NaN               NaN   \n1                   NaN                   NaN               NaN   \n2                   NaN                   NaN               NaN   \n3                   NaN                   NaN               NaN   \n4                   NaN                   NaN               NaN   \n\n   wind_elec_per_capita  wind_electricity  wind_energy_per_capita  \\\n0                   NaN               0.0                     NaN   \n1                   NaN               0.0                     NaN   \n2                   NaN               0.0                     NaN   \n3                   NaN               0.0                     NaN   \n4                   NaN               0.0                     NaN   \n\n   wind_share_elec  wind_share_energy  \n0              0.0                NaN  \n1              0.0                NaN  \n2              0.0                NaN  \n3              0.0                NaN  \n4              0.0                NaN  \n\n[5 rows x 129 columns]",
      "text/html": "<div>\n<style scoped>\n    .dataframe tbody tr th:only-of-type {\n        vertical-align: middle;\n    }\n\n    .dataframe tbody tr th {\n        vertical-align: top;\n    }\n\n    .dataframe thead th {\n        text-align: right;\n    }\n</style>\n<table border=\"1\" class=\"dataframe\">\n  <thead>\n    <tr style=\"text-align: right;\">\n      <th></th>\n      <th>country</th>\n      <th>year</th>\n      <th>iso_code</th>\n      <th>population</th>\n      <th>gdp</th>\n      <th>biofuel_cons_change_pct</th>\n      <th>biofuel_cons_change_twh</th>\n      <th>biofuel_cons_per_capita</th>\n      <th>biofuel_consumption</th>\n      <th>biofuel_elec_per_capita</th>\n      <th>...</th>\n      <th>solar_share_elec</th>\n      <th>solar_share_energy</th>\n      <th>wind_cons_change_pct</th>\n      <th>wind_cons_change_twh</th>\n      <th>wind_consumption</th>\n      <th>wind_elec_per_capita</th>\n      <th>wind_electricity</th>\n      <th>wind_energy_per_capita</th>\n      <th>wind_share_elec</th>\n      <th>wind_share_energy</th>\n    </tr>\n  </thead>\n  <tbody>\n    <tr>\n      <th>0</th>\n      <td>ASEAN (Ember)</td>\n      <td>2000</td>\n      <td>NaN</td>\n      <td>NaN</td>\n      <td>NaN</td>\n      <td>NaN</td>\n      <td>NaN</td>\n      <td>NaN</td>\n      <td>NaN</td>\n      <td>NaN</td>\n      <td>...</td>\n      <td>0.0</td>\n      <td>NaN</td>\n      <td>NaN</td>\n      <td>NaN</td>\n      <td>NaN</td>\n      <td>NaN</td>\n      <td>0.0</td>\n      <td>NaN</td>\n      <td>0.0</td>\n      <td>NaN</td>\n    </tr>\n    <tr>\n      <th>1</th>\n      <td>ASEAN (Ember)</td>\n      <td>2001</td>\n      <td>NaN</td>\n      <td>NaN</td>\n      <td>NaN</td>\n      <td>NaN</td>\n      <td>NaN</td>\n      <td>NaN</td>\n      <td>NaN</td>\n      <td>NaN</td>\n      <td>...</td>\n      <td>0.0</td>\n      <td>NaN</td>\n      <td>NaN</td>\n      <td>NaN</td>\n      <td>NaN</td>\n      <td>NaN</td>\n      <td>0.0</td>\n      <td>NaN</td>\n      <td>0.0</td>\n      <td>NaN</td>\n    </tr>\n    <tr>\n      <th>2</th>\n      <td>ASEAN (Ember)</td>\n      <td>2002</td>\n      <td>NaN</td>\n      <td>NaN</td>\n      <td>NaN</td>\n      <td>NaN</td>\n      <td>NaN</td>\n      <td>NaN</td>\n      <td>NaN</td>\n      <td>NaN</td>\n      <td>...</td>\n      <td>0.0</td>\n      <td>NaN</td>\n      <td>NaN</td>\n      <td>NaN</td>\n      <td>NaN</td>\n      <td>NaN</td>\n      <td>0.0</td>\n      <td>NaN</td>\n      <td>0.0</td>\n      <td>NaN</td>\n    </tr>\n    <tr>\n      <th>3</th>\n      <td>ASEAN (Ember)</td>\n      <td>2003</td>\n      <td>NaN</td>\n      <td>NaN</td>\n      <td>NaN</td>\n      <td>NaN</td>\n      <td>NaN</td>\n      <td>NaN</td>\n      <td>NaN</td>\n      <td>NaN</td>\n      <td>...</td>\n      <td>0.0</td>\n      <td>NaN</td>\n      <td>NaN</td>\n      <td>NaN</td>\n      <td>NaN</td>\n      <td>NaN</td>\n      <td>0.0</td>\n      <td>NaN</td>\n      <td>0.0</td>\n      <td>NaN</td>\n    </tr>\n    <tr>\n      <th>4</th>\n      <td>ASEAN (Ember)</td>\n      <td>2004</td>\n      <td>NaN</td>\n      <td>NaN</td>\n      <td>NaN</td>\n      <td>NaN</td>\n      <td>NaN</td>\n      <td>NaN</td>\n      <td>NaN</td>\n      <td>NaN</td>\n      <td>...</td>\n      <td>0.0</td>\n      <td>NaN</td>\n      <td>NaN</td>\n      <td>NaN</td>\n      <td>NaN</td>\n      <td>NaN</td>\n      <td>0.0</td>\n      <td>NaN</td>\n      <td>0.0</td>\n      <td>NaN</td>\n    </tr>\n  </tbody>\n</table>\n<p>5 rows × 129 columns</p>\n</div>"
     },
     "execution_count": 8,
     "metadata": {},
     "output_type": "execute_result"
    }
   ],
   "source": [
    "df = pd.read_csv('./assets/World Energy Consumption.csv')\n",
    "df.head(5)\n"
   ],
   "metadata": {
    "collapsed": false,
    "ExecuteTime": {
     "end_time": "2024-02-26T18:14:24.700364900Z",
     "start_time": "2024-02-26T18:14:24.610605100Z"
    }
   },
   "id": "ad551045be2dc47a",
   "execution_count": 8
  },
  {
   "cell_type": "code",
   "outputs": [
    {
     "data": {
      "text/plain": "Index(['country', 'year', 'iso_code', 'population', 'gdp',\n       'biofuel_cons_change_pct', 'biofuel_cons_change_twh',\n       'biofuel_cons_per_capita', 'biofuel_consumption',\n       'biofuel_elec_per_capita',\n       ...\n       'solar_share_elec', 'solar_share_energy', 'wind_cons_change_pct',\n       'wind_cons_change_twh', 'wind_consumption', 'wind_elec_per_capita',\n       'wind_electricity', 'wind_energy_per_capita', 'wind_share_elec',\n       'wind_share_energy'],\n      dtype='object', length=129)"
     },
     "execution_count": 9,
     "metadata": {},
     "output_type": "execute_result"
    }
   ],
   "source": [
    "df.columns"
   ],
   "metadata": {
    "collapsed": false,
    "ExecuteTime": {
     "end_time": "2024-02-26T18:14:24.702753700Z",
     "start_time": "2024-02-26T18:14:24.699366300Z"
    }
   },
   "id": "842f6e1f2757c864",
   "execution_count": 9
  },
  {
   "cell_type": "code",
   "outputs": [
    {
     "data": {
      "text/plain": "country                    object\nyear                        int64\niso_code                   object\npopulation                float64\ngdp                       float64\n                           ...   \nwind_elec_per_capita      float64\nwind_electricity          float64\nwind_energy_per_capita    float64\nwind_share_elec           float64\nwind_share_energy         float64\nLength: 129, dtype: object"
     },
     "execution_count": 10,
     "metadata": {},
     "output_type": "execute_result"
    }
   ],
   "source": [
    "df.dtypes"
   ],
   "metadata": {
    "collapsed": false,
    "ExecuteTime": {
     "end_time": "2024-02-26T18:14:24.708072200Z",
     "start_time": "2024-02-26T18:14:24.702753700Z"
    }
   },
   "id": "3b7fdd18c2095b05",
   "execution_count": 10
  },
  {
   "cell_type": "code",
   "outputs": [
    {
     "data": {
      "text/plain": "array(['ASEAN (Ember)', 'Afghanistan', 'Africa', 'Africa (EI)',\n       'Africa (Ember)', 'Africa (Shift)', 'Albania', 'Algeria',\n       'American Samoa', 'Angola', 'Antarctica', 'Antigua and Barbuda',\n       'Argentina', 'Armenia', 'Aruba', 'Asia', 'Asia & Oceania (EIA)',\n       'Asia (Ember)', 'Asia Pacific (EI)', 'Asia and Oceania (Shift)',\n       'Australia', 'Australia and New Zealand (EIA)', 'Austria',\n       'Azerbaijan', 'Bahamas', 'Bahrain', 'Bangladesh', 'Barbados',\n       'Belarus', 'Belgium', 'Belize', 'Benin', 'Bermuda', 'Bhutan',\n       'Bolivia', 'Bosnia and Herzegovina', 'Botswana', 'Brazil',\n       'British Virgin Islands', 'Brunei', 'Bulgaria', 'Burkina Faso',\n       'Burundi', 'CIS (EI)', 'Cambodia', 'Cameroon', 'Canada',\n       'Cape Verde', 'Cayman Islands', 'Central & South America (EIA)',\n       'Central African Republic', 'Central America (EI)',\n       'Central and South America (Shift)', 'Chad', 'Chile', 'China',\n       'Colombia', 'Comoros', 'Congo', 'Cook Islands', 'Costa Rica',\n       \"Cote d'Ivoire\", 'Croatia', 'Cuba', 'Cyprus', 'Czechia',\n       'Czechoslovakia', 'Democratic Republic of Congo', 'Denmark',\n       'Djibouti', 'Dominica', 'Dominican Republic', 'EU28 (Shift)',\n       'East Germany (EIA)', 'East Timor', 'Eastern Africa (EI)',\n       'Ecuador', 'Egypt', 'El Salvador', 'Equatorial Guinea', 'Eritrea',\n       'Estonia', 'Eswatini', 'Ethiopia', 'Eurasia (EIA)',\n       'Eurasia (Shift)', 'Europe', 'Europe (EI)', 'Europe (Ember)',\n       'Europe (Shift)', 'European Union (27)', 'European Union (EIA)',\n       'Falkland Islands', 'Faroe Islands', 'Fiji', 'Finland', 'France',\n       'French Guiana', 'French Polynesia', 'G20 (Ember)', 'G7 (Ember)',\n       'Gabon', 'Gambia', 'Georgia', 'Germany', 'Ghana', 'Gibraltar',\n       'Greece', 'Greenland', 'Grenada', 'Guadeloupe', 'Guam',\n       'Guatemala', 'Guinea', 'Guinea-Bissau', 'Guyana', 'Haiti',\n       'Hawaiian Trade Zone (EIA)', 'High-income countries', 'Honduras',\n       'Hong Kong', 'Hungary', 'IEO - Africa (EIA)',\n       'IEO - Middle East (EIA)', 'IEO OECD - Europe (EIA)', 'Iceland',\n       'India', 'Indonesia', 'Iran', 'Iraq', 'Ireland', 'Israel', 'Italy',\n       'Jamaica', 'Japan', 'Jordan', 'Kazakhstan', 'Kenya', 'Kiribati',\n       'Kosovo', 'Kuwait', 'Kyrgyzstan', 'Laos',\n       'Latin America and Caribbean (Ember)', 'Latvia', 'Lebanon',\n       'Lesotho', 'Liberia', 'Libya', 'Lithuania', 'Low-income countries',\n       'Lower-middle-income countries', 'Luxembourg', 'Macao',\n       'Madagascar', 'Malawi', 'Malaysia', 'Maldives', 'Mali', 'Malta',\n       'Martinique', 'Mauritania', 'Mauritius', 'Mexico',\n       'Mexico, Chile, and other OECD Americas (EIA)',\n       'Micronesia (country)', 'Middle Africa (EI)', 'Middle East (EI)',\n       'Middle East (EIA)', 'Middle East (Ember)', 'Middle East (Shift)',\n       'Moldova', 'Mongolia', 'Montenegro', 'Montserrat', 'Morocco',\n       'Mozambique', 'Myanmar', 'Namibia', 'Nauru', 'Nepal',\n       'Netherlands', 'Netherlands Antilles', 'New Caledonia',\n       'New Zealand', 'Nicaragua', 'Niger', 'Nigeria', 'Niue',\n       'Non-OECD (EI)', 'Non-OECD (EIA)', 'Non-OPEC (EI)',\n       'Non-OPEC (EIA)', 'North America', 'North America (EI)',\n       'North America (Ember)', 'North America (Shift)', 'North Korea',\n       'North Macedonia', 'Northern Mariana Islands', 'Norway',\n       'OECD (EI)', 'OECD (EIA)', 'OECD (Ember)', 'OECD (Shift)',\n       'OECD - Asia And Oceania (EIA)', 'OECD - Europe (EIA)',\n       'OECD - North America (EIA)', 'OPEC (EI)', 'OPEC (EIA)',\n       'OPEC (Shift)', 'OPEC - Africa (EIA)',\n       'OPEC - South America (EIA)', 'Oceania', 'Oceania (Ember)', 'Oman',\n       'Other Non-OECD - America (EIA)', 'Other Non-OECD - Asia (EIA)',\n       'Other Non-OECD - Europe and Eurasia (EIA)', 'Pakistan',\n       'Palestine', 'Panama', 'Papua New Guinea', 'Paraguay',\n       'Persian Gulf (EIA)', 'Persian Gulf (Shift)', 'Peru',\n       'Philippines', 'Poland', 'Portugal', 'Puerto Rico', 'Qatar',\n       'Reunion', 'Romania', 'Russia', 'Rwanda', 'Saint Helena',\n       'Saint Kitts and Nevis', 'Saint Lucia',\n       'Saint Pierre and Miquelon', 'Saint Vincent and the Grenadines',\n       'Samoa', 'Sao Tome and Principe', 'Saudi Arabia', 'Senegal',\n       'Serbia', 'Serbia and Montenegro', 'Seychelles', 'Sierra Leone',\n       'Singapore', 'Slovakia', 'Slovenia', 'Solomon Islands', 'Somalia',\n       'South Africa', 'South America', 'South Korea',\n       'South Korea and other OECD Asia (EIA)', 'South Sudan',\n       'South and Central America (EI)', 'Spain', 'Sri Lanka', 'Sudan',\n       'Suriname', 'Sweden', 'Switzerland', 'Syria', 'Taiwan',\n       'Tajikistan', 'Tanzania', 'Thailand', 'Togo', 'Tonga',\n       'Trinidad and Tobago', 'Tunisia', 'Turkey', 'Turkmenistan',\n       'Turks and Caicos Islands', 'Tuvalu', 'U.S. Pacific Islands (EIA)',\n       'U.S. Territories (EIA)', 'USSR', 'Uganda', 'Ukraine',\n       'United Arab Emirates', 'United Kingdom', 'United States',\n       'United States Pacific Islands (Shift)',\n       'United States Territories (Shift)',\n       'United States Virgin Islands', 'Upper-middle-income countries',\n       'Uruguay', 'Uzbekistan', 'Vanuatu', 'Venezuela', 'Vietnam',\n       'Wake Island (EIA)', 'Wake Island (Shift)', 'West Germany (EIA)',\n       'Western Africa (EI)', 'Western Sahara', 'World', 'Yemen',\n       'Yugoslavia', 'Zambia', 'Zimbabwe'], dtype=object)"
     },
     "execution_count": 11,
     "metadata": {},
     "output_type": "execute_result"
    }
   ],
   "source": [
    "pd.unique(df.country)"
   ],
   "metadata": {
    "collapsed": false,
    "ExecuteTime": {
     "end_time": "2024-02-26T18:14:24.713560200Z",
     "start_time": "2024-02-26T18:14:24.707072200Z"
    }
   },
   "id": "9331d2d300e0bd42",
   "execution_count": 11
  },
  {
   "cell_type": "code",
   "outputs": [
    {
     "data": {
      "text/plain": "array([2000, 2001, 2002, 2003, 2004, 2005, 2006, 2007, 2008, 2009, 2010,\n       2011, 2012, 2013, 2014, 2015, 2016, 2017, 2018, 2019, 2020, 2021,\n       2022, 1900, 1901, 1902, 1903, 1904, 1905, 1906, 1907, 1908, 1909,\n       1910, 1911, 1912, 1913, 1914, 1915, 1916, 1917, 1918, 1919, 1920,\n       1921, 1922, 1923, 1924, 1925, 1926, 1927, 1928, 1929, 1930, 1931,\n       1932, 1933, 1934, 1935, 1936, 1937, 1938, 1939, 1940, 1941, 1942,\n       1943, 1944, 1945, 1946, 1947, 1948, 1949, 1950, 1951, 1952, 1953,\n       1954, 1955, 1956, 1957, 1958, 1959, 1960, 1961, 1962, 1963, 1964,\n       1965, 1966, 1967, 1968, 1969, 1970, 1971, 1972, 1973, 1974, 1975,\n       1976, 1977, 1978, 1979, 1980, 1981, 1982, 1983, 1984, 1985, 1986,\n       1987, 1988, 1989, 1990, 1991, 1992, 1993, 1994, 1995, 1996, 1997,\n       1998, 1999], dtype=int64)"
     },
     "execution_count": 12,
     "metadata": {},
     "output_type": "execute_result"
    }
   ],
   "source": [
    "pd.unique(df.year)"
   ],
   "metadata": {
    "collapsed": false,
    "ExecuteTime": {
     "end_time": "2024-02-26T18:15:10.311384700Z",
     "start_time": "2024-02-26T18:15:10.302878800Z"
    }
   },
   "id": "c41cb075f2062110",
   "execution_count": 12
  },
  {
   "cell_type": "code",
   "outputs": [],
   "source": [],
   "metadata": {
    "collapsed": false
   },
   "id": "f78f977fec0a382b"
  }
 ],
 "metadata": {
  "kernelspec": {
   "display_name": "Python 3",
   "language": "python",
   "name": "python3"
  },
  "language_info": {
   "codemirror_mode": {
    "name": "ipython",
    "version": 2
   },
   "file_extension": ".py",
   "mimetype": "text/x-python",
   "name": "python",
   "nbconvert_exporter": "python",
   "pygments_lexer": "ipython2",
   "version": "2.7.6"
  }
 },
 "nbformat": 4,
 "nbformat_minor": 5
}
